{
 "cells": [
  {
   "cell_type": "code",
   "execution_count": 9,
   "id": "1cb4cb01-851f-4f0f-b13e-a10cd6026e09",
   "metadata": {},
   "outputs": [],
   "source": [
    "import pandas as pd\n",
    "import numpy as np\n",
    "import matplotlib.pyplot as plt\n",
    "import seaborn as sns"
   ]
  },
  {
   "cell_type": "code",
   "execution_count": 8,
   "id": "864fed80-7274-4786-b8ba-9f5b861b5cde",
   "metadata": {},
   "outputs": [
    {
     "name": "stdout",
     "output_type": "stream",
     "text": [
      "Collecting tqdm\n",
      "  Downloading tqdm-4.63.0-py2.py3-none-any.whl (76 kB)\n",
      "Requirement already satisfied: colorama in c:\\users\\sreed\\.conda\\envs\\jupyterlab\\lib\\site-packages (from tqdm) (0.4.4)\n",
      "Installing collected packages: tqdm\n",
      "Successfully installed tqdm-4.63.0\n"
     ]
    }
   ],
   "source": [
    "!pip install tqdm"
   ]
  },
  {
   "cell_type": "code",
   "execution_count": 118,
   "id": "5c898168-9fcd-4682-92c2-6c1f9f959482",
   "metadata": {},
   "outputs": [],
   "source": [
    "from tqdm import tqdm"
   ]
  },
  {
   "cell_type": "markdown",
   "id": "e4afac9d-f468-4de8-b1f6-e6508941e57a",
   "metadata": {
    "jp-MarkdownHeadingCollapsed": true,
    "tags": []
   },
   "source": [
    "## Import Data"
   ]
  },
  {
   "cell_type": "code",
   "execution_count": 3,
   "id": "f2bf938a-b80f-4af5-9b67-112e5ed9d5b0",
   "metadata": {},
   "outputs": [],
   "source": [
    "users = pd.read_csv('takehome_users.csv')"
   ]
  },
  {
   "cell_type": "code",
   "execution_count": 5,
   "id": "5905ac88-8bb6-43a8-85dd-718f639edf18",
   "metadata": {},
   "outputs": [],
   "source": [
    "engagement = pd.read_csv('takehome_user_engagement.csv')"
   ]
  },
  {
   "cell_type": "code",
   "execution_count": 6,
   "id": "3781c977-6612-4a35-8c19-c08a83b45fef",
   "metadata": {},
   "outputs": [
    {
     "data": {
      "text/html": [
       "<div>\n",
       "<style scoped>\n",
       "    .dataframe tbody tr th:only-of-type {\n",
       "        vertical-align: middle;\n",
       "    }\n",
       "\n",
       "    .dataframe tbody tr th {\n",
       "        vertical-align: top;\n",
       "    }\n",
       "\n",
       "    .dataframe thead th {\n",
       "        text-align: right;\n",
       "    }\n",
       "</style>\n",
       "<table border=\"1\" class=\"dataframe\">\n",
       "  <thead>\n",
       "    <tr style=\"text-align: right;\">\n",
       "      <th></th>\n",
       "      <th>time_stamp</th>\n",
       "      <th>user_id</th>\n",
       "      <th>visited</th>\n",
       "    </tr>\n",
       "  </thead>\n",
       "  <tbody>\n",
       "    <tr>\n",
       "      <th>0</th>\n",
       "      <td>2014-04-22 03:53:30</td>\n",
       "      <td>1</td>\n",
       "      <td>1</td>\n",
       "    </tr>\n",
       "    <tr>\n",
       "      <th>1</th>\n",
       "      <td>2013-11-15 03:45:04</td>\n",
       "      <td>2</td>\n",
       "      <td>1</td>\n",
       "    </tr>\n",
       "    <tr>\n",
       "      <th>2</th>\n",
       "      <td>2013-11-29 03:45:04</td>\n",
       "      <td>2</td>\n",
       "      <td>1</td>\n",
       "    </tr>\n",
       "    <tr>\n",
       "      <th>3</th>\n",
       "      <td>2013-12-09 03:45:04</td>\n",
       "      <td>2</td>\n",
       "      <td>1</td>\n",
       "    </tr>\n",
       "    <tr>\n",
       "      <th>4</th>\n",
       "      <td>2013-12-25 03:45:04</td>\n",
       "      <td>2</td>\n",
       "      <td>1</td>\n",
       "    </tr>\n",
       "  </tbody>\n",
       "</table>\n",
       "</div>"
      ],
      "text/plain": [
       "            time_stamp  user_id  visited\n",
       "0  2014-04-22 03:53:30        1        1\n",
       "1  2013-11-15 03:45:04        2        1\n",
       "2  2013-11-29 03:45:04        2        1\n",
       "3  2013-12-09 03:45:04        2        1\n",
       "4  2013-12-25 03:45:04        2        1"
      ]
     },
     "execution_count": 6,
     "metadata": {},
     "output_type": "execute_result"
    }
   ],
   "source": [
    "engagement.head()"
   ]
  },
  {
   "cell_type": "code",
   "execution_count": 47,
   "id": "e6fa72ec-8596-4a6f-be29-e0b141a60a30",
   "metadata": {},
   "outputs": [
    {
     "data": {
      "text/plain": [
       "time_stamp    207917\n",
       "user_id       207917\n",
       "visited       207917\n",
       "dtype: int64"
      ]
     },
     "execution_count": 47,
     "metadata": {},
     "output_type": "execute_result"
    }
   ],
   "source": [
    "engagement.count()"
   ]
  },
  {
   "cell_type": "code",
   "execution_count": 16,
   "id": "1803f707-6113-410e-840d-34124450f56f",
   "metadata": {},
   "outputs": [],
   "source": [
    "#merge dataframes on user_id\n",
    "data = pd.DataFrame.merge(users, engagement, how = 'left', left_on = 'object_id', right_on = 'user_id')"
   ]
  },
  {
   "cell_type": "code",
   "execution_count": 55,
   "id": "b21ce2cf-73ea-46ea-bc81-76fd7d5e3351",
   "metadata": {},
   "outputs": [
    {
     "data": {
      "text/html": [
       "<div>\n",
       "<style scoped>\n",
       "    .dataframe tbody tr th:only-of-type {\n",
       "        vertical-align: middle;\n",
       "    }\n",
       "\n",
       "    .dataframe tbody tr th {\n",
       "        vertical-align: top;\n",
       "    }\n",
       "\n",
       "    .dataframe thead th {\n",
       "        text-align: right;\n",
       "    }\n",
       "</style>\n",
       "<table border=\"1\" class=\"dataframe\">\n",
       "  <thead>\n",
       "    <tr style=\"text-align: right;\">\n",
       "      <th></th>\n",
       "      <th>user_id</th>\n",
       "      <th>creation_time</th>\n",
       "      <th>creation_source</th>\n",
       "      <th>last_session_creation_time</th>\n",
       "      <th>opted_in_to_mailing_list</th>\n",
       "      <th>enabled_for_marketing_drip</th>\n",
       "      <th>org_id</th>\n",
       "      <th>invited_by_user_id</th>\n",
       "      <th>time_stamp</th>\n",
       "      <th>visited</th>\n",
       "    </tr>\n",
       "  </thead>\n",
       "  <tbody>\n",
       "    <tr>\n",
       "      <th>0</th>\n",
       "      <td>1</td>\n",
       "      <td>4/22/2014 3:53</td>\n",
       "      <td>GUEST_INVITE</td>\n",
       "      <td>1.398139e+09</td>\n",
       "      <td>1</td>\n",
       "      <td>0</td>\n",
       "      <td>11</td>\n",
       "      <td>10803.0</td>\n",
       "      <td>2014-04-22</td>\n",
       "      <td>1.0</td>\n",
       "    </tr>\n",
       "    <tr>\n",
       "      <th>1</th>\n",
       "      <td>2</td>\n",
       "      <td>11/15/2013 3:45</td>\n",
       "      <td>ORG_INVITE</td>\n",
       "      <td>1.396238e+09</td>\n",
       "      <td>0</td>\n",
       "      <td>0</td>\n",
       "      <td>1</td>\n",
       "      <td>316.0</td>\n",
       "      <td>2013-11-15</td>\n",
       "      <td>1.0</td>\n",
       "    </tr>\n",
       "    <tr>\n",
       "      <th>2</th>\n",
       "      <td>2</td>\n",
       "      <td>11/15/2013 3:45</td>\n",
       "      <td>ORG_INVITE</td>\n",
       "      <td>1.396238e+09</td>\n",
       "      <td>0</td>\n",
       "      <td>0</td>\n",
       "      <td>1</td>\n",
       "      <td>316.0</td>\n",
       "      <td>2013-11-29</td>\n",
       "      <td>1.0</td>\n",
       "    </tr>\n",
       "    <tr>\n",
       "      <th>3</th>\n",
       "      <td>2</td>\n",
       "      <td>11/15/2013 3:45</td>\n",
       "      <td>ORG_INVITE</td>\n",
       "      <td>1.396238e+09</td>\n",
       "      <td>0</td>\n",
       "      <td>0</td>\n",
       "      <td>1</td>\n",
       "      <td>316.0</td>\n",
       "      <td>2013-12-09</td>\n",
       "      <td>1.0</td>\n",
       "    </tr>\n",
       "    <tr>\n",
       "      <th>4</th>\n",
       "      <td>2</td>\n",
       "      <td>11/15/2013 3:45</td>\n",
       "      <td>ORG_INVITE</td>\n",
       "      <td>1.396238e+09</td>\n",
       "      <td>0</td>\n",
       "      <td>0</td>\n",
       "      <td>1</td>\n",
       "      <td>316.0</td>\n",
       "      <td>2013-12-25</td>\n",
       "      <td>1.0</td>\n",
       "    </tr>\n",
       "  </tbody>\n",
       "</table>\n",
       "</div>"
      ],
      "text/plain": [
       "   user_id    creation_time creation_source  last_session_creation_time  \\\n",
       "0        1   4/22/2014 3:53    GUEST_INVITE                1.398139e+09   \n",
       "1        2  11/15/2013 3:45      ORG_INVITE                1.396238e+09   \n",
       "2        2  11/15/2013 3:45      ORG_INVITE                1.396238e+09   \n",
       "3        2  11/15/2013 3:45      ORG_INVITE                1.396238e+09   \n",
       "4        2  11/15/2013 3:45      ORG_INVITE                1.396238e+09   \n",
       "\n",
       "   opted_in_to_mailing_list  enabled_for_marketing_drip  org_id  \\\n",
       "0                         1                           0      11   \n",
       "1                         0                           0       1   \n",
       "2                         0                           0       1   \n",
       "3                         0                           0       1   \n",
       "4                         0                           0       1   \n",
       "\n",
       "   invited_by_user_id  time_stamp  visited  \n",
       "0             10803.0  2014-04-22      1.0  \n",
       "1               316.0  2013-11-15      1.0  \n",
       "2               316.0  2013-11-29      1.0  \n",
       "3               316.0  2013-12-09      1.0  \n",
       "4               316.0  2013-12-25      1.0  "
      ]
     },
     "execution_count": 55,
     "metadata": {},
     "output_type": "execute_result"
    }
   ],
   "source": [
    "data.head()"
   ]
  },
  {
   "cell_type": "markdown",
   "id": "a83907cf-5ef4-4e78-9f7f-be3b6a8c7188",
   "metadata": {
    "jp-MarkdownHeadingCollapsed": true,
    "tags": []
   },
   "source": [
    "## Data Cleanup"
   ]
  },
  {
   "cell_type": "code",
   "execution_count": 17,
   "id": "46919490-6547-4351-b9da-aeaf8a1b09d9",
   "metadata": {},
   "outputs": [],
   "source": [
    "#drop non-necessary columns\n",
    "data = data.drop(columns = ['user_id', 'email', 'name'])"
   ]
  },
  {
   "cell_type": "code",
   "execution_count": 24,
   "id": "a4dcafb8-9cf8-4fac-8921-fbd1b1d48b41",
   "metadata": {},
   "outputs": [],
   "source": [
    "#change object_id column to user_id for readability\n",
    "data.columns = ['user_id' if x=='object_id' else x for x in data.columns]"
   ]
  },
  {
   "cell_type": "code",
   "execution_count": 153,
   "id": "2a121c67-375f-44a4-87fa-327a5831b26c",
   "metadata": {},
   "outputs": [],
   "source": [
    "#convert time_stamp column datetime\n",
    "data['time_stamp'] = pd.to_datetime(data['time_stamp'])"
   ]
  },
  {
   "cell_type": "code",
   "execution_count": 157,
   "id": "7965dd66-3101-4849-b8fc-a5861e5ac87b",
   "metadata": {},
   "outputs": [],
   "source": [
    "#since we're interested in sign-ins per week, omit time of day\n",
    "data['time_stamp'] = data['time_stamp'].dt.date"
   ]
  },
  {
   "cell_type": "code",
   "execution_count": 155,
   "id": "eb6017da-4956-4457-a3d5-bcea47bf72ce",
   "metadata": {},
   "outputs": [],
   "source": [
    "#drop rows of users who signed up but never logged on\n",
    "data.dropna(subset = ['time_stamp', 'visited'], inplace = True)"
   ]
  },
  {
   "cell_type": "code",
   "execution_count": 72,
   "id": "a216e904-b288-4cf7-a6c9-4778dd22b2d5",
   "metadata": {},
   "outputs": [],
   "source": [
    "#create a running total of how many times a user has used the product\n",
    "data['total_visits'] = data.groupby('user_id')['visited'].cumsum() "
   ]
  },
  {
   "cell_type": "code",
   "execution_count": 162,
   "id": "edf1a2c4-59cb-4b5c-a53a-f467ddae0b7a",
   "metadata": {},
   "outputs": [],
   "source": [
    "#convert time of login to datetime format\n",
    "data['time_stamp'] = pd.to_datetime(data['time_stamp'])"
   ]
  },
  {
   "cell_type": "code",
   "execution_count": 193,
   "id": "19fe103f-e0a0-4435-8625-8c77cfb97e8d",
   "metadata": {},
   "outputs": [],
   "source": [
    "#set the login time as the index\n",
    "#this is so that we can create a rolling window to count the number of user visits in a 7 day window\n",
    "data3 = data.set_index('time_stamp')"
   ]
  },
  {
   "cell_type": "code",
   "execution_count": 194,
   "id": "095ebf3c-7a48-4356-96b7-ed15072f9942",
   "metadata": {},
   "outputs": [],
   "source": [
    "#create a function that sums the values within 7 days of each event\n",
    "#grouby user_id and then apply the function to visited column to get the total number of visits with the last 7 days of each login\n",
    "f = lambda x: x.rolling('7d').sum()\n",
    "data3['r_window'] = data3.groupby('user_id').visited.apply(f)"
   ]
  },
  {
   "cell_type": "code",
   "execution_count": 200,
   "id": "3b8843c3-01e4-43d9-b11a-0811213d8721",
   "metadata": {},
   "outputs": [
    {
     "data": {
      "text/html": [
       "<div>\n",
       "<style scoped>\n",
       "    .dataframe tbody tr th:only-of-type {\n",
       "        vertical-align: middle;\n",
       "    }\n",
       "\n",
       "    .dataframe tbody tr th {\n",
       "        vertical-align: top;\n",
       "    }\n",
       "\n",
       "    .dataframe thead th {\n",
       "        text-align: right;\n",
       "    }\n",
       "</style>\n",
       "<table border=\"1\" class=\"dataframe\">\n",
       "  <thead>\n",
       "    <tr style=\"text-align: right;\">\n",
       "      <th></th>\n",
       "      <th>user_id</th>\n",
       "      <th>creation_time</th>\n",
       "      <th>creation_source</th>\n",
       "      <th>last_session_creation_time</th>\n",
       "      <th>opted_in_to_mailing_list</th>\n",
       "      <th>enabled_for_marketing_drip</th>\n",
       "      <th>org_id</th>\n",
       "      <th>invited_by_user_id</th>\n",
       "      <th>visited</th>\n",
       "      <th>total_visits</th>\n",
       "      <th>r_window</th>\n",
       "    </tr>\n",
       "    <tr>\n",
       "      <th>time_stamp</th>\n",
       "      <th></th>\n",
       "      <th></th>\n",
       "      <th></th>\n",
       "      <th></th>\n",
       "      <th></th>\n",
       "      <th></th>\n",
       "      <th></th>\n",
       "      <th></th>\n",
       "      <th></th>\n",
       "      <th></th>\n",
       "      <th></th>\n",
       "    </tr>\n",
       "  </thead>\n",
       "  <tbody>\n",
       "    <tr>\n",
       "      <th>2014-04-22</th>\n",
       "      <td>1</td>\n",
       "      <td>4/22/2014 3:53</td>\n",
       "      <td>GUEST_INVITE</td>\n",
       "      <td>1.398139e+09</td>\n",
       "      <td>1</td>\n",
       "      <td>0</td>\n",
       "      <td>11</td>\n",
       "      <td>10803.0</td>\n",
       "      <td>1.0</td>\n",
       "      <td>1.0</td>\n",
       "      <td>1.0</td>\n",
       "    </tr>\n",
       "    <tr>\n",
       "      <th>2013-11-15</th>\n",
       "      <td>2</td>\n",
       "      <td>11/15/2013 3:45</td>\n",
       "      <td>ORG_INVITE</td>\n",
       "      <td>1.396238e+09</td>\n",
       "      <td>0</td>\n",
       "      <td>0</td>\n",
       "      <td>1</td>\n",
       "      <td>316.0</td>\n",
       "      <td>1.0</td>\n",
       "      <td>1.0</td>\n",
       "      <td>1.0</td>\n",
       "    </tr>\n",
       "    <tr>\n",
       "      <th>2013-11-29</th>\n",
       "      <td>2</td>\n",
       "      <td>11/15/2013 3:45</td>\n",
       "      <td>ORG_INVITE</td>\n",
       "      <td>1.396238e+09</td>\n",
       "      <td>0</td>\n",
       "      <td>0</td>\n",
       "      <td>1</td>\n",
       "      <td>316.0</td>\n",
       "      <td>1.0</td>\n",
       "      <td>2.0</td>\n",
       "      <td>1.0</td>\n",
       "    </tr>\n",
       "    <tr>\n",
       "      <th>2013-12-09</th>\n",
       "      <td>2</td>\n",
       "      <td>11/15/2013 3:45</td>\n",
       "      <td>ORG_INVITE</td>\n",
       "      <td>1.396238e+09</td>\n",
       "      <td>0</td>\n",
       "      <td>0</td>\n",
       "      <td>1</td>\n",
       "      <td>316.0</td>\n",
       "      <td>1.0</td>\n",
       "      <td>3.0</td>\n",
       "      <td>1.0</td>\n",
       "    </tr>\n",
       "    <tr>\n",
       "      <th>2013-12-25</th>\n",
       "      <td>2</td>\n",
       "      <td>11/15/2013 3:45</td>\n",
       "      <td>ORG_INVITE</td>\n",
       "      <td>1.396238e+09</td>\n",
       "      <td>0</td>\n",
       "      <td>0</td>\n",
       "      <td>1</td>\n",
       "      <td>316.0</td>\n",
       "      <td>1.0</td>\n",
       "      <td>4.0</td>\n",
       "      <td>1.0</td>\n",
       "    </tr>\n",
       "    <tr>\n",
       "      <th>2013-12-31</th>\n",
       "      <td>2</td>\n",
       "      <td>11/15/2013 3:45</td>\n",
       "      <td>ORG_INVITE</td>\n",
       "      <td>1.396238e+09</td>\n",
       "      <td>0</td>\n",
       "      <td>0</td>\n",
       "      <td>1</td>\n",
       "      <td>316.0</td>\n",
       "      <td>1.0</td>\n",
       "      <td>5.0</td>\n",
       "      <td>2.0</td>\n",
       "    </tr>\n",
       "    <tr>\n",
       "      <th>2014-01-08</th>\n",
       "      <td>2</td>\n",
       "      <td>11/15/2013 3:45</td>\n",
       "      <td>ORG_INVITE</td>\n",
       "      <td>1.396238e+09</td>\n",
       "      <td>0</td>\n",
       "      <td>0</td>\n",
       "      <td>1</td>\n",
       "      <td>316.0</td>\n",
       "      <td>1.0</td>\n",
       "      <td>6.0</td>\n",
       "      <td>1.0</td>\n",
       "    </tr>\n",
       "    <tr>\n",
       "      <th>2014-02-03</th>\n",
       "      <td>2</td>\n",
       "      <td>11/15/2013 3:45</td>\n",
       "      <td>ORG_INVITE</td>\n",
       "      <td>1.396238e+09</td>\n",
       "      <td>0</td>\n",
       "      <td>0</td>\n",
       "      <td>1</td>\n",
       "      <td>316.0</td>\n",
       "      <td>1.0</td>\n",
       "      <td>7.0</td>\n",
       "      <td>1.0</td>\n",
       "    </tr>\n",
       "    <tr>\n",
       "      <th>2014-02-08</th>\n",
       "      <td>2</td>\n",
       "      <td>11/15/2013 3:45</td>\n",
       "      <td>ORG_INVITE</td>\n",
       "      <td>1.396238e+09</td>\n",
       "      <td>0</td>\n",
       "      <td>0</td>\n",
       "      <td>1</td>\n",
       "      <td>316.0</td>\n",
       "      <td>1.0</td>\n",
       "      <td>8.0</td>\n",
       "      <td>2.0</td>\n",
       "    </tr>\n",
       "    <tr>\n",
       "      <th>2014-02-09</th>\n",
       "      <td>2</td>\n",
       "      <td>11/15/2013 3:45</td>\n",
       "      <td>ORG_INVITE</td>\n",
       "      <td>1.396238e+09</td>\n",
       "      <td>0</td>\n",
       "      <td>0</td>\n",
       "      <td>1</td>\n",
       "      <td>316.0</td>\n",
       "      <td>1.0</td>\n",
       "      <td>9.0</td>\n",
       "      <td>3.0</td>\n",
       "    </tr>\n",
       "  </tbody>\n",
       "</table>\n",
       "</div>"
      ],
      "text/plain": [
       "            user_id    creation_time creation_source  \\\n",
       "time_stamp                                             \n",
       "2014-04-22        1   4/22/2014 3:53    GUEST_INVITE   \n",
       "2013-11-15        2  11/15/2013 3:45      ORG_INVITE   \n",
       "2013-11-29        2  11/15/2013 3:45      ORG_INVITE   \n",
       "2013-12-09        2  11/15/2013 3:45      ORG_INVITE   \n",
       "2013-12-25        2  11/15/2013 3:45      ORG_INVITE   \n",
       "2013-12-31        2  11/15/2013 3:45      ORG_INVITE   \n",
       "2014-01-08        2  11/15/2013 3:45      ORG_INVITE   \n",
       "2014-02-03        2  11/15/2013 3:45      ORG_INVITE   \n",
       "2014-02-08        2  11/15/2013 3:45      ORG_INVITE   \n",
       "2014-02-09        2  11/15/2013 3:45      ORG_INVITE   \n",
       "\n",
       "            last_session_creation_time  opted_in_to_mailing_list  \\\n",
       "time_stamp                                                         \n",
       "2014-04-22                1.398139e+09                         1   \n",
       "2013-11-15                1.396238e+09                         0   \n",
       "2013-11-29                1.396238e+09                         0   \n",
       "2013-12-09                1.396238e+09                         0   \n",
       "2013-12-25                1.396238e+09                         0   \n",
       "2013-12-31                1.396238e+09                         0   \n",
       "2014-01-08                1.396238e+09                         0   \n",
       "2014-02-03                1.396238e+09                         0   \n",
       "2014-02-08                1.396238e+09                         0   \n",
       "2014-02-09                1.396238e+09                         0   \n",
       "\n",
       "            enabled_for_marketing_drip  org_id  invited_by_user_id  visited  \\\n",
       "time_stamp                                                                    \n",
       "2014-04-22                           0      11             10803.0      1.0   \n",
       "2013-11-15                           0       1               316.0      1.0   \n",
       "2013-11-29                           0       1               316.0      1.0   \n",
       "2013-12-09                           0       1               316.0      1.0   \n",
       "2013-12-25                           0       1               316.0      1.0   \n",
       "2013-12-31                           0       1               316.0      1.0   \n",
       "2014-01-08                           0       1               316.0      1.0   \n",
       "2014-02-03                           0       1               316.0      1.0   \n",
       "2014-02-08                           0       1               316.0      1.0   \n",
       "2014-02-09                           0       1               316.0      1.0   \n",
       "\n",
       "            total_visits  r_window  \n",
       "time_stamp                          \n",
       "2014-04-22           1.0       1.0  \n",
       "2013-11-15           1.0       1.0  \n",
       "2013-11-29           2.0       1.0  \n",
       "2013-12-09           3.0       1.0  \n",
       "2013-12-25           4.0       1.0  \n",
       "2013-12-31           5.0       2.0  \n",
       "2014-01-08           6.0       1.0  \n",
       "2014-02-03           7.0       1.0  \n",
       "2014-02-08           8.0       2.0  \n",
       "2014-02-09           9.0       3.0  "
      ]
     },
     "execution_count": 200,
     "metadata": {},
     "output_type": "execute_result"
    }
   ],
   "source": [
    "#verify window function is working correctly\n",
    "data3.head(10)"
   ]
  },
  {
   "cell_type": "code",
   "execution_count": 263,
   "id": "de039c82-c32b-4354-9695-774c522bf9ab",
   "metadata": {},
   "outputs": [
    {
     "name": "stderr",
     "output_type": "stream",
     "text": [
      "C:\\Users\\SReed\\AppData\\Local\\Temp/ipykernel_22832/1080147615.py:3: SettingWithCopyWarning: \n",
      "A value is trying to be set on a copy of a slice from a DataFrame\n",
      "\n",
      "See the caveats in the documentation: https://pandas.pydata.org/pandas-docs/stable/user_guide/indexing.html#returning-a-view-versus-a-copy\n",
      "  data3['adopted_user'][data3['r_window'] >2] = 1\n"
     ]
    }
   ],
   "source": [
    "#create our target variable. An 'adopted_user' is defined as a customer who logged in at least 3 times within any 7 day period\n",
    "data3['adopted_user'] = 0\n",
    "data3['adopted_user'][data3['r_window'] >2] = 1"
   ]
  },
  {
   "cell_type": "markdown",
   "id": "a518ed98-d173-4f0b-9040-99794e73f642",
   "metadata": {
    "jp-MarkdownHeadingCollapsed": true,
    "tags": []
   },
   "source": [
    "## Preprocesssing"
   ]
  },
  {
   "cell_type": "code",
   "execution_count": 214,
   "id": "16490e8e-f3eb-4533-8276-3a87d84265b9",
   "metadata": {},
   "outputs": [],
   "source": [
    "#convert creation_source from a categorical variable into a numerical one via dummy variables\n",
    "dummies = pd.get_dummies(data3['creation_source'])"
   ]
  },
  {
   "cell_type": "code",
   "execution_count": 218,
   "id": "a8d59062-9e23-44f9-acc3-77b711b3d990",
   "metadata": {},
   "outputs": [
    {
     "data": {
      "text/html": [
       "<div>\n",
       "<style scoped>\n",
       "    .dataframe tbody tr th:only-of-type {\n",
       "        vertical-align: middle;\n",
       "    }\n",
       "\n",
       "    .dataframe tbody tr th {\n",
       "        vertical-align: top;\n",
       "    }\n",
       "\n",
       "    .dataframe thead th {\n",
       "        text-align: right;\n",
       "    }\n",
       "</style>\n",
       "<table border=\"1\" class=\"dataframe\">\n",
       "  <thead>\n",
       "    <tr style=\"text-align: right;\">\n",
       "      <th></th>\n",
       "      <th>GUEST_INVITE</th>\n",
       "      <th>ORG_INVITE</th>\n",
       "      <th>PERSONAL_PROJECTS</th>\n",
       "      <th>SIGNUP</th>\n",
       "      <th>SIGNUP_GOOGLE_AUTH</th>\n",
       "    </tr>\n",
       "    <tr>\n",
       "      <th>time_stamp</th>\n",
       "      <th></th>\n",
       "      <th></th>\n",
       "      <th></th>\n",
       "      <th></th>\n",
       "      <th></th>\n",
       "    </tr>\n",
       "  </thead>\n",
       "  <tbody>\n",
       "    <tr>\n",
       "      <th>2014-04-22</th>\n",
       "      <td>1</td>\n",
       "      <td>0</td>\n",
       "      <td>0</td>\n",
       "      <td>0</td>\n",
       "      <td>0</td>\n",
       "    </tr>\n",
       "    <tr>\n",
       "      <th>2013-11-15</th>\n",
       "      <td>0</td>\n",
       "      <td>1</td>\n",
       "      <td>0</td>\n",
       "      <td>0</td>\n",
       "      <td>0</td>\n",
       "    </tr>\n",
       "    <tr>\n",
       "      <th>2013-11-29</th>\n",
       "      <td>0</td>\n",
       "      <td>1</td>\n",
       "      <td>0</td>\n",
       "      <td>0</td>\n",
       "      <td>0</td>\n",
       "    </tr>\n",
       "    <tr>\n",
       "      <th>2013-12-09</th>\n",
       "      <td>0</td>\n",
       "      <td>1</td>\n",
       "      <td>0</td>\n",
       "      <td>0</td>\n",
       "      <td>0</td>\n",
       "    </tr>\n",
       "    <tr>\n",
       "      <th>2013-12-25</th>\n",
       "      <td>0</td>\n",
       "      <td>1</td>\n",
       "      <td>0</td>\n",
       "      <td>0</td>\n",
       "      <td>0</td>\n",
       "    </tr>\n",
       "  </tbody>\n",
       "</table>\n",
       "</div>"
      ],
      "text/plain": [
       "            GUEST_INVITE  ORG_INVITE  PERSONAL_PROJECTS  SIGNUP  \\\n",
       "time_stamp                                                        \n",
       "2014-04-22             1           0                  0       0   \n",
       "2013-11-15             0           1                  0       0   \n",
       "2013-11-29             0           1                  0       0   \n",
       "2013-12-09             0           1                  0       0   \n",
       "2013-12-25             0           1                  0       0   \n",
       "\n",
       "            SIGNUP_GOOGLE_AUTH  \n",
       "time_stamp                      \n",
       "2014-04-22                   0  \n",
       "2013-11-15                   0  \n",
       "2013-11-29                   0  \n",
       "2013-12-09                   0  \n",
       "2013-12-25                   0  "
      ]
     },
     "execution_count": 218,
     "metadata": {},
     "output_type": "execute_result"
    }
   ],
   "source": [
    "dummies.head()"
   ]
  },
  {
   "cell_type": "code",
   "execution_count": 219,
   "id": "ae2ee26f-96a0-46f4-9544-4d5e0329af73",
   "metadata": {},
   "outputs": [],
   "source": [
    "df = pd.concat([data3, dummies], axis= 1)"
   ]
  },
  {
   "cell_type": "code",
   "execution_count": 221,
   "id": "3aec8041-026e-4d65-9187-6fe207698dd1",
   "metadata": {},
   "outputs": [],
   "source": [
    "#Convert creation_time into days since login to use as a numerical variable in our analysis and model training\n",
    "df['creation_time'] = pd.to_datetime(df['creation_time'])\n",
    "df['creation_time'] = df['creation_time'].dt.date"
   ]
  },
  {
   "cell_type": "code",
   "execution_count": 237,
   "id": "2fbf8fa8-4c2e-4b88-af43-48f970f0462b",
   "metadata": {},
   "outputs": [],
   "source": [
    "df['days_since_creation'] = (pd.Timestamp.today().date() - df['creation_time'])"
   ]
  },
  {
   "cell_type": "code",
   "execution_count": 238,
   "id": "719b8385-3745-4ae0-98de-2a3d5d2c524f",
   "metadata": {},
   "outputs": [],
   "source": [
    "d = lambda x: x.days\n",
    "df['days_since_creation'] = df['days_since_creation'].apply(d)"
   ]
  },
  {
   "cell_type": "code",
   "execution_count": 240,
   "id": "4362c831-bc88-4117-9d81-bff8af648f90",
   "metadata": {},
   "outputs": [],
   "source": [
    "#after replacing with numberical substitutes, drop categorical and time columns from the data frame\n",
    "df.drop(columns =  ['creation_time', 'creation_source'], inplace = True)"
   ]
  },
  {
   "cell_type": "markdown",
   "id": "f5a3966f-2e4b-4440-b3ac-bd0b2bc52a21",
   "metadata": {},
   "source": [
    "## Correlation"
   ]
  },
  {
   "cell_type": "code",
   "execution_count": 241,
   "id": "1c0733cb-db3e-4a78-97bc-410e50528fc8",
   "metadata": {},
   "outputs": [],
   "source": [
    "matrix = data3.corr()"
   ]
  },
  {
   "cell_type": "code",
   "execution_count": 242,
   "id": "9c1c4b62-b319-40e3-9b8a-7b5049f901cb",
   "metadata": {},
   "outputs": [
    {
     "data": {
      "text/plain": [
       "user_id                      -0.008956\n",
       "last_session_creation_time    0.370584\n",
       "opted_in_to_mailing_list     -0.005570\n",
       "enabled_for_marketing_drip   -0.012589\n",
       "org_id                        0.031526\n",
       "invited_by_user_id           -0.003762\n",
       "visited                            NaN\n",
       "total_visits                  0.454657\n",
       "r_window                      0.765048\n",
       "adopted_user                  1.000000\n",
       "Name: adopted_user, dtype: float64"
      ]
     },
     "execution_count": 242,
     "metadata": {},
     "output_type": "execute_result"
    }
   ],
   "source": [
    "#examine correlation of each column with target\n",
    "matrix.loc['adopted_user']"
   ]
  },
  {
   "cell_type": "code",
   "execution_count": 264,
   "id": "fec49c4d-9b37-4aa9-800c-06decd0960a8",
   "metadata": {},
   "outputs": [
    {
     "data": {
      "text/plain": [
       "<AxesSubplot:>"
      ]
     },
     "execution_count": 264,
     "metadata": {},
     "output_type": "execute_result"
    },
    {
     "data": {
      "image/png": "[encoded data removed]",
      "text/plain": [
       "<Figure size 432x288 with 2 Axes>"
      ]
     },
     "metadata": {
      "needs_background": "light"
     },
     "output_type": "display_data"
    }
   ],
   "source": [
    "sns.heatmap(matrix)"
   ]
  },
  {
   "cell_type": "markdown",
   "id": "9fac49b7-e5af-443b-bdeb-ca86a07655cb",
   "metadata": {
    "jp-MarkdownHeadingCollapsed": true,
    "tags": []
   },
   "source": [
    "## PCA"
   ]
  },
  {
   "cell_type": "code",
   "execution_count": 243,
   "id": "8db7b392-21c0-4cf2-9448-512f1a59356b",
   "metadata": {},
   "outputs": [],
   "source": [
    "from sklearn.decomposition import PCA\n",
    "from sklearn.preprocessing import StandardScaler"
   ]
  },
  {
   "cell_type": "code",
   "execution_count": 249,
   "id": "39e6e809-79e2-4a42-8d88-aee0fe083aa5",
   "metadata": {},
   "outputs": [],
   "source": [
    "y = df['adopted_user']\n",
    "X = df.drop(columns = ['adopted_user', 'invited_by_user_id'])"
   ]
  },
  {
   "cell_type": "code",
   "execution_count": 250,
   "id": "bc047ec8-10ec-4b9b-9ee7-16e1e42f4b1e",
   "metadata": {},
   "outputs": [],
   "source": [
    "scaled_X = StandardScaler().fit_transform(X)"
   ]
  },
  {
   "cell_type": "code",
   "execution_count": 251,
   "id": "0c23807d-f105-4be1-86e3-905deda51dbf",
   "metadata": {},
   "outputs": [],
   "source": [
    "X_pca = PCA().fit(scaled_X)"
   ]
  },
  {
   "cell_type": "code",
   "execution_count": 252,
   "id": "9c87a29b-1e54-4bc9-8d00-8d3288f76938",
   "metadata": {},
   "outputs": [
    {
     "data": {
      "text/plain": [
       "Text(0.5, 1.0, 'Cumulative variance explained by PCA components')"
      ]
     },
     "execution_count": 252,
     "metadata": {},
     "output_type": "execute_result"
    },
    {
     "data": {
      "image/png": "[encoded data removed]",
      "text/plain": [
       "<Figure size 720x432 with 1 Axes>"
      ]
     },
     "metadata": {
      "needs_background": "light"
     },
     "output_type": "display_data"
    }
   ],
   "source": [
    "plt.subplots(figsize=(10, 6))\n",
    "plt.plot(X_pca.explained_variance_ratio_.cumsum())\n",
    "plt.xlabel('Component #')\n",
    "plt.ylabel('Cumulative ratio variance')\n",
    "plt.title('Cumulative variance explained by PCA components')"
   ]
  },
  {
   "cell_type": "code",
   "execution_count": 253,
   "id": "4fe3fd44-56a5-4798-92a6-d8ab3502d0c9",
   "metadata": {},
   "outputs": [],
   "source": [
    "pca = PCA(n_components=2)\n",
    "principalComponents = pca.fit_transform(scaled_X)\n",
    "principalDf = pd.DataFrame(data = principalComponents\n",
    "             , columns = ['principal component 1', 'principal component 2'])"
   ]
  },
  {
   "cell_type": "code",
   "execution_count": 260,
   "id": "110ad63d-2d0e-4702-8c23-bf3185a0af5c",
   "metadata": {},
   "outputs": [],
   "source": [
    "df2 = df['adopted_user']\n",
    "df2 = df2.reset_index()\n"
   ]
  },
  {
   "cell_type": "code",
   "execution_count": 261,
   "id": "6f766852-a50b-4c70-bd55-6004b3862b37",
   "metadata": {},
   "outputs": [],
   "source": [
    "PCA_df = pd.concat([principalDf, df2['adopted_user']], axis = 1)"
   ]
  },
  {
   "cell_type": "code",
   "execution_count": 262,
   "id": "695723ae-3fea-4cd9-9399-7da134230060",
   "metadata": {},
   "outputs": [
    {
     "data": {
      "image/png": "[encoded data removed]",
      "text/plain": [
       "<Figure size 576x576 with 1 Axes>"
      ]
     },
     "metadata": {
      "needs_background": "light"
     },
     "output_type": "display_data"
    }
   ],
   "source": [
    "fig = plt.figure(figsize = (8,8))\n",
    "ax = fig.add_subplot(1,1,1) \n",
    "ax.set_xlabel('Principal Component 1', fontsize = 15)\n",
    "ax.set_ylabel('Principal Component 2', fontsize = 15)\n",
    "ax.set_title('2 component PCA', fontsize = 20)\n",
    "targets = [1.0, 0.0]\n",
    "colors = ['r', 'b']\n",
    "for target, color in zip(targets,colors):\n",
    "    indicesToKeep = PCA_df['adopted_user'] == target\n",
    "    ax.scatter(PCA_df.loc[indicesToKeep, 'principal component 1']\n",
    "               , PCA_df.loc[indicesToKeep, 'principal component 2']\n",
    "               , c = color\n",
    "               , s = 50\n",
    "               , alpha = .25)\n",
    "ax.legend(['Active', 'Inactive'])\n",
    "ax.grid()"
   ]
  },
  {
   "cell_type": "markdown",
   "id": "61414fc6-34a4-47d3-aa5b-4ba767cf183f",
   "metadata": {},
   "source": [
    "## Report"
   ]
  },
  {
   "cell_type": "markdown",
   "id": "e6db176a-3b8c-496e-8b38-b1840e2aaa6a",
   "metadata": {},
   "source": [
    "Two things stick out when we examine the data for Relax.\n",
    "\n",
    "1. Perhaps most importantly, there is nearly zero correlation between users receiving marketing content or opting into the mailing list and becoming an adopted user. This raises a red flag that the outreach and marketing efforts are ineffective and are likely in need of review.\n",
    "\n",
    "2. There is a slight positive correlation between the last session creation time and becoming an adopted user. Some further digging could be done to uncover whether it is the older or newer customers that are more likely to become adopted users. Then the question becomes, did something change in the product that caused new users to log in more or less frequently than old users?\n",
    "\n",
    "There is also a very slight correlation with what organization the user is a part of, so it may be worth putting a little extra resources into targeting individuals who are part of a particular organization."
   ]
  }
 ],
 "metadata": {
  "kernelspec": {
   "display_name": "Python 3 (ipykernel)",
   "language": "python",
   "name": "python3"
  },
  "language_info": {
   "codemirror_mode": {
    "name": "ipython",
    "version": 3
   },
   "file_extension": ".py",
   "mimetype": "text/x-python",
   "name": "python",
   "nbconvert_exporter": "python",
   "pygments_lexer": "ipython3",
   "version": "3.9.7"
  }
 },
 "nbformat": 4,
 "nbformat_minor": 5
}
