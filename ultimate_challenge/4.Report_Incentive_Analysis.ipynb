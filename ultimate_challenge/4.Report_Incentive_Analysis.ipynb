{
 "cells": [
  {
   "cell_type": "markdown",
   "id": "27ed4cf5-1b92-4396-bbc3-d30b8cbfc08d",
   "metadata": {},
   "source": [
    "1. As my key metric of measure I would chose the average number of bridge crossings performed by Ultimate drivers while they work. To constitute a success, I would aim to see a statistically significant increase in the number of bridge crossings.\n",
    "\n",
    "In other words, I want to verify that offering the incentive of toll reimbursement produces a significant increase in drivers servicing both cities rather than staying strictly in one or the other."
   ]
  },
  {
   "cell_type": "markdown",
   "id": "2844751d-bcb5-495b-bccb-db2ef4c5a92d",
   "metadata": {},
   "source": [
    "2. To test this I would set up an A/B test in one of two ways.\n",
    "\n",
    "One approach would be to take a sample of drivers with some historical record with the company and then offer them the incentive. The null hypothesis is that the average number of crossings will be the same, with and without the incentive. Since our incentive trial run may be short and provide we may not have a large number of data points (e.g. if we run the incentive trial for one week and take the average of each day that only give us seven data points). This means two things. 1. I want to do my best to ensure there are no confounding variables. For example, if there is a playoff sporting event in Gotham that might artificially drive up the average. My test window should take these kind of anamolous event into consideration. 2. I may want to bootstrap my samples to ensure a normal distribution of the mean and provide more information on the confidence interval of my sample mean. From there I would run my hypothesis tests of the average number of crossings before and after the incentive. If the p-value is below .05 I would reject the null hypothesis and state that the incentive is causing greater inter-city service patterns.\n",
    "\n",
    "Suppose, however, that we have reason to suspect that our drivers that have been with us long enough to have a historical record are not representative of our driver population. We might, for example, hypothesize that drivers that have been working for Ultimate for some time are more likely to stick with their established habits and less likely to respond to incentives than new drivers. Or alternatively, perhaps Ultimate was not collecting data on the number of bridge crossings. In this case, instead of comparing incentivized driver patterns with their own historical records, we could offer the incentive to some subset of the drivers and compare their activity to those who did not receive the incentive. From there the testing would run out the same. The null hypothesis is that the average number of crossings will be the same for the two groups. Only with a hypothesis test that yields a p-value less than .05 (we can, of course, set this higher or lower if need be) would we reject the null hypothesis and conclude that the incentive program was effective."
   ]
  }
 ],
 "metadata": {
  "kernelspec": {
   "display_name": "Python 3 (ipykernel)",
   "language": "python",
   "name": "python3"
  },
  "language_info": {
   "codemirror_mode": {
    "name": "ipython",
    "version": 3
   },
   "file_extension": ".py",
   "mimetype": "text/x-python",
   "name": "python",
   "nbconvert_exporter": "python",
   "pygments_lexer": "ipython3",
   "version": "3.9.7"
  }
 },
 "nbformat": 4,
 "nbformat_minor": 5
}
