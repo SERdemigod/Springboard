{
 "cells": [
  {
   "cell_type": "code",
   "execution_count": 75,
   "id": "ff112841-e9b7-43ef-8996-47d1040a9200",
   "metadata": {},
   "outputs": [],
   "source": [
    "import pandas as pd\n",
    "import numpy as np\n",
    "import matplotlib.pyplot as plt\n",
    "from sklearn.pipeline import make_pipeline\n",
    "from sklearn.preprocessing import StandardScaler\n",
    "from sklearn.ensemble import RandomForestClassifier\n",
    "from sklearn import metrics\n",
    "import seaborn as sns\n",
    "from io import StringIO  \n",
    "from IPython.display import Image  \n",
    "import pydotplus"
   ]
  },
  {
   "cell_type": "code",
   "execution_count": 76,
   "id": "ef92e827-b69c-4f9b-9119-bb6a4e893a6d",
   "metadata": {},
   "outputs": [],
   "source": [
    "df = pd.read_csv('clean_df.csv')"
   ]
  },
  {
   "cell_type": "code",
   "execution_count": 87,
   "id": "bc36bc0c-f1eb-4000-83c2-fdafac65d944",
   "metadata": {},
   "outputs": [],
   "source": [
    "matrix = df.corr()"
   ]
  },
  {
   "cell_type": "code",
   "execution_count": 93,
   "id": "e7e1cfe9-d380-4ad3-8019-ddbb83991c65",
   "metadata": {},
   "outputs": [
    {
     "data": {
      "text/plain": [
       "city                     -0.166180\n",
       "trips_in_first_30_days    0.210463\n",
       "avg_rating_of_driver     -0.041082\n",
       "avg_surge                -0.003333\n",
       "phone                    -0.225834\n",
       "surge_pct                 0.011797\n",
       "ultimate_black_user       0.205002\n",
       "weekday_pct               0.009693\n",
       "avg_dist                 -0.092780\n",
       "avg_rating_by_driver     -0.026748\n",
       "days_active               0.778522\n",
       "days_inactive            -0.780837\n",
       "Sixth_Month_User          1.000000\n",
       "Name: Sixth_Month_User, dtype: float64"
      ]
     },
     "execution_count": 93,
     "metadata": {},
     "output_type": "execute_result"
    }
   ],
   "source": [
    "matrix.loc['Sixth_Month_User']"
   ]
  },
  {
   "cell_type": "markdown",
   "id": "fd12953d-16c4-4f05-be7c-dc940fa70612",
   "metadata": {},
   "source": [
    "None of our variables are highly correlated with whether a customer is active in their sixth month. However, the highest correlations seem to be between what phone the user has (perhaps a UX issue?), how many trips they took in the first 30 days, and whether they are an ultimate black user.\n",
    "\n",
    "It might be worth considering how to incentive customers to ride more in the first 30 days or use ultimate black, though it seems unlikely the use of ultimate black or more rides in the first 30 days are what cause the person to stay active longer."
   ]
  },
  {
   "cell_type": "markdown",
   "id": "e58c4d7c-9ee8-4633-9c91-1d78218772de",
   "metadata": {
    "tags": []
   },
   "source": [
    "## Trees"
   ]
  },
  {
   "cell_type": "code",
   "execution_count": 41,
   "id": "331d8be1-f444-4508-8e8a-940141765870",
   "metadata": {},
   "outputs": [],
   "source": [
    "from sklearn.model_selection import train_test_split"
   ]
  },
  {
   "cell_type": "code",
   "execution_count": 77,
   "id": "177eea72-1c93-4766-9872-1ac74b32fb6c",
   "metadata": {},
   "outputs": [],
   "source": [
    "y = df['Sixth_Month_User']\n",
    "X = df.drop(columns = ['Sixth_Month_User', 'signup_date', 'last_trip_date','days_active','days_inactive']) "
   ]
  },
  {
   "cell_type": "code",
   "execution_count": 78,
   "id": "e45c943c-024e-4121-9522-b170f71710b8",
   "metadata": {},
   "outputs": [],
   "source": [
    "X_train, X_test, y_train, y_test = train_test_split(X, y, test_size = .25, random_state = 22)"
   ]
  },
  {
   "cell_type": "code",
   "execution_count": 45,
   "id": "98bf7a7c-5197-43dc-b7f4-0df450cba26c",
   "metadata": {},
   "outputs": [],
   "source": [
    "from sklearn.linear_model import LogisticRegression"
   ]
  },
  {
   "cell_type": "code",
   "execution_count": 150,
   "id": "9d08b4ed-e30b-4733-9a72-ec0dccd9eed1",
   "metadata": {},
   "outputs": [
    {
     "name": "stdout",
     "output_type": "stream",
     "text": [
      "Accuracy equals 0.69688\n",
      "F1 score equals 0.5130445958103071\n",
      "Precision: 64.39 percent\n",
      "Recall: 42.64 percent\n"
     ]
    }
   ],
   "source": [
    "#Logistic Regression Model\n",
    "pipe = make_pipeline(StandardScaler(), LogisticRegression())\n",
    "lr_model = pipe.fit(X_train, y_train)\n",
    "predictions = lr_model.predict(X_test)\n",
    "print(f\"Accuracy equals {metrics.accuracy_score(y_test, predictions)}\")\n",
    "print(f\"F1 score equals {metrics.f1_score(y_test, predictions)}\")\n",
    "print(f\"Precision: %.2f percent\" % (metrics.precision_score(y_test, predictions)*100) )\n",
    "print(f\"Recall: %.2f percent\" % (metrics.recall_score(y_test, predictions)*100) )"
   ]
  },
  {
   "cell_type": "code",
   "execution_count": 151,
   "id": "c6d888ce-ddbd-420a-b302-5696e31a4f45",
   "metadata": {},
   "outputs": [
    {
     "name": "stdout",
     "output_type": "stream",
     "text": [
      "Accuracy equals 0.76392\n",
      "Precision: 69.36 percent\n",
      "Recall: 66.20 percent\n"
     ]
    }
   ],
   "source": [
    "#Random Forest Model\n",
    "pipe2 = make_pipeline(StandardScaler(), RandomForestClassifier())\n",
    "rf_model = pipe2.fit(X_train, y_train)\n",
    "predictions = rf_model.predict(X_test)\n",
    "print(f\"Accuracy equals {metrics.accuracy_score(y_test, predictions)}\")\n",
    "print(f\"Precision: %.2f percent\" % (metrics.precision_score(y_test, predictions)*100) )\n",
    "print(f\"Recall: %.2f percent\" % (metrics.recall_score(y_test, predictions)*100) )"
   ]
  },
  {
   "cell_type": "markdown",
   "id": "ca7d4aa4-a1be-4672-8940-e806065c9995",
   "metadata": {
    "tags": []
   },
   "source": [
    "## PCA"
   ]
  },
  {
   "cell_type": "code",
   "execution_count": 100,
   "id": "b11612e0-07be-445c-bec0-ca5b2832e5f2",
   "metadata": {},
   "outputs": [],
   "source": [
    "from sklearn.decomposition import PCA"
   ]
  },
  {
   "cell_type": "code",
   "execution_count": 96,
   "id": "46eb91ee-6759-479c-8e7e-ab53bb56f0f2",
   "metadata": {},
   "outputs": [],
   "source": [
    "y = df['Sixth_Month_User']\n",
    "X = df.drop(columns = ['Sixth_Month_User', 'signup_date', 'last_trip_date','days_active','days_inactive']) "
   ]
  },
  {
   "cell_type": "code",
   "execution_count": 98,
   "id": "8101823d-c79f-4b0e-8d0c-96c27fb1fd39",
   "metadata": {},
   "outputs": [],
   "source": [
    "scaled_X = StandardScaler().fit_transform(X)"
   ]
  },
  {
   "cell_type": "code",
   "execution_count": 101,
   "id": "59495d26-80f7-4cdb-a536-0b15f7e7404c",
   "metadata": {},
   "outputs": [],
   "source": [
    "X_pca = PCA().fit(scaled_X)"
   ]
  },
  {
   "cell_type": "code",
   "execution_count": 103,
   "id": "ef397fba-4640-45c2-9212-ab4690ef33eb",
   "metadata": {},
   "outputs": [
    {
     "data": {
      "image/png": "[encoded data removed]",
      "text/plain": [
       "<Figure size 720x432 with 1 Axes>"
      ]
     },
     "metadata": {
      "needs_background": "light"
     },
     "output_type": "display_data"
    }
   ],
   "source": [
    "plt.subplots(figsize=(10, 6))\n",
    "plt.plot(X_pca.explained_variance_ratio_.cumsum())\n",
    "plt.xlabel('Component #')\n",
    "plt.ylabel('Cumulative ratio variance')\n",
    "plt.title('Cumulative variance explained by PCA components for state/resort summary statistics');"
   ]
  },
  {
   "cell_type": "code",
   "execution_count": 104,
   "id": "fbb68548-dee3-495a-a12c-b41aebe571a7",
   "metadata": {},
   "outputs": [],
   "source": [
    "pca = PCA(n_components=2)\n",
    "principalComponents = pca.fit_transform(scaled_X)\n",
    "principalDf = pd.DataFrame(data = principalComponents\n",
    "             , columns = ['principal component 1', 'principal component 2'])"
   ]
  },
  {
   "cell_type": "code",
   "execution_count": 106,
   "id": "c7407dba-e5a9-4464-b613-97881482b0d0",
   "metadata": {},
   "outputs": [],
   "source": [
    "PCA_df = pd.concat([principalDf, df['Sixth_Month_User']], axis = 1)"
   ]
  },
  {
   "cell_type": "code",
   "execution_count": 113,
   "id": "71099aa2-bca4-4d49-b743-1b384f32c10b",
   "metadata": {},
   "outputs": [
    {
     "data": {
      "text/html": [
       "<div>\n",
       "<style scoped>\n",
       "    .dataframe tbody tr th:only-of-type {\n",
       "        vertical-align: middle;\n",
       "    }\n",
       "\n",
       "    .dataframe tbody tr th {\n",
       "        vertical-align: top;\n",
       "    }\n",
       "\n",
       "    .dataframe thead th {\n",
       "        text-align: right;\n",
       "    }\n",
       "</style>\n",
       "<table border=\"1\" class=\"dataframe\">\n",
       "  <thead>\n",
       "    <tr style=\"text-align: right;\">\n",
       "      <th></th>\n",
       "      <th>principal component 1</th>\n",
       "      <th>principal component 2</th>\n",
       "      <th>Sixth_Month_User</th>\n",
       "    </tr>\n",
       "  </thead>\n",
       "  <tbody>\n",
       "    <tr>\n",
       "      <th>0</th>\n",
       "      <td>0.317575</td>\n",
       "      <td>-0.112864</td>\n",
       "      <td>1.0</td>\n",
       "    </tr>\n",
       "    <tr>\n",
       "      <th>1</th>\n",
       "      <td>-0.427801</td>\n",
       "      <td>-1.406749</td>\n",
       "      <td>0.0</td>\n",
       "    </tr>\n",
       "    <tr>\n",
       "      <th>2</th>\n",
       "      <td>-0.446085</td>\n",
       "      <td>0.362475</td>\n",
       "      <td>0.0</td>\n",
       "    </tr>\n",
       "    <tr>\n",
       "      <th>3</th>\n",
       "      <td>0.435916</td>\n",
       "      <td>0.674565</td>\n",
       "      <td>1.0</td>\n",
       "    </tr>\n",
       "    <tr>\n",
       "      <th>4</th>\n",
       "      <td>0.478187</td>\n",
       "      <td>1.491071</td>\n",
       "      <td>0.0</td>\n",
       "    </tr>\n",
       "  </tbody>\n",
       "</table>\n",
       "</div>"
      ],
      "text/plain": [
       "   principal component 1  principal component 2  Sixth_Month_User\n",
       "0               0.317575              -0.112864               1.0\n",
       "1              -0.427801              -1.406749               0.0\n",
       "2              -0.446085               0.362475               0.0\n",
       "3               0.435916               0.674565               1.0\n",
       "4               0.478187               1.491071               0.0"
      ]
     },
     "execution_count": 113,
     "metadata": {},
     "output_type": "execute_result"
    }
   ],
   "source": [
    "PCA_df.head()"
   ]
  },
  {
   "cell_type": "code",
   "execution_count": 129,
   "id": "5dc8286b-9417-4a60-8af6-470ebb100760",
   "metadata": {},
   "outputs": [
    {
     "data": {
      "image/png": "[encoded data removed]",
      "text/plain": [
       "<Figure size 576x576 with 1 Axes>"
      ]
     },
     "metadata": {
      "needs_background": "light"
     },
     "output_type": "display_data"
    }
   ],
   "source": [
    "fig = plt.figure(figsize = (8,8))\n",
    "ax = fig.add_subplot(1,1,1) \n",
    "ax.set_xlabel('Principal Component 1', fontsize = 15)\n",
    "ax.set_ylabel('Principal Component 2', fontsize = 15)\n",
    "ax.set_title('2 component PCA', fontsize = 20)\n",
    "targets = [1.0, 0.0]\n",
    "colors = ['r', 'b']\n",
    "for target, color in zip(targets,colors):\n",
    "    indicesToKeep = PCA_df['Sixth_Month_User'] == target\n",
    "    ax.scatter(PCA_df.loc[indicesToKeep, 'principal component 1']\n",
    "               , PCA_df.loc[indicesToKeep, 'principal component 2']\n",
    "               , c = color\n",
    "               , s = 50\n",
    "               , alpha = .25)\n",
    "ax.legend(['Active', 'Inactive'])\n",
    "ax.grid()"
   ]
  },
  {
   "cell_type": "markdown",
   "id": "cad6f3ef-5b49-418a-8d67-b714beb9c98f",
   "metadata": {},
   "source": [
    "## XGboost"
   ]
  },
  {
   "cell_type": "code",
   "execution_count": 131,
   "id": "08058b6e-dbb9-4bc5-a2e9-b5f89a86d701",
   "metadata": {},
   "outputs": [
    {
     "name": "stdout",
     "output_type": "stream",
     "text": [
      "Collecting xgboostNote: you may need to restart the kernel to use updated packages.\n",
      "\n",
      "  Downloading xgboost-1.5.2-py3-none-win_amd64.whl (106.6 MB)\n",
      "Requirement already satisfied: scipy in c:\\users\\sethe\\anaconda3\\lib\\site-packages (from xgboost) (1.7.1)\n",
      "Requirement already satisfied: numpy in c:\\users\\sethe\\anaconda3\\lib\\site-packages (from xgboost) (1.20.3)\n",
      "Installing collected packages: xgboost\n",
      "Successfully installed xgboost-1.5.2\n"
     ]
    }
   ],
   "source": [
    "pip install xgboost"
   ]
  },
  {
   "cell_type": "code",
   "execution_count": 132,
   "id": "bffd7d11-cdd8-4910-9c60-39b1b291cd51",
   "metadata": {},
   "outputs": [],
   "source": [
    "from xgboost import XGBClassifier"
   ]
  },
  {
   "cell_type": "code",
   "execution_count": 133,
   "id": "8c451e65-d660-4a88-9cd2-440966bfc10c",
   "metadata": {},
   "outputs": [
    {
     "name": "stderr",
     "output_type": "stream",
     "text": [
      "C:\\Users\\sethe\\anaconda3\\lib\\site-packages\\xgboost\\sklearn.py:1224: UserWarning: The use of label encoder in XGBClassifier is deprecated and will be removed in a future release. To remove this warning, do the following: 1) Pass option use_label_encoder=False when constructing XGBClassifier object; and 2) Encode your labels (y) as integers starting with 0, i.e. 0, 1, 2, ..., [num_class - 1].\n",
      "  warnings.warn(label_encoder_deprecation_msg, UserWarning)\n"
     ]
    },
    {
     "name": "stdout",
     "output_type": "stream",
     "text": [
      "[22:01:36] WARNING: C:/Users/Administrator/workspace/xgboost-win64_release_1.5.1/src/learner.cc:1115: Starting in XGBoost 1.3.0, the default evaluation metric used with the objective 'binary:logistic' was changed from 'error' to 'logloss'. Explicitly set eval_metric if you'd like to restore the old behavior.\n",
      "XGBClassifier(base_score=0.5, booster='gbtree', colsample_bylevel=1,\n",
      "              colsample_bynode=1, colsample_bytree=1, enable_categorical=False,\n",
      "              gamma=0, gpu_id=-1, importance_type=None,\n",
      "              interaction_constraints='', learning_rate=0.300000012,\n",
      "              max_delta_step=0, max_depth=6, min_child_weight=1, missing=nan,\n",
      "              monotone_constraints='()', n_estimators=100, n_jobs=2,\n",
      "              num_parallel_tree=1, predictor='auto', random_state=0,\n",
      "              reg_alpha=0, reg_lambda=1, scale_pos_weight=1, subsample=1,\n",
      "              tree_method='exact', validate_parameters=1, verbosity=None)\n"
     ]
    }
   ],
   "source": [
    "model = XGBClassifier()\n",
    "model.fit(X_train, y_train)\n",
    "print(model)"
   ]
  },
  {
   "cell_type": "code",
   "execution_count": 149,
   "id": "20c10518-a386-49c9-a71f-4577020e5f01",
   "metadata": {},
   "outputs": [
    {
     "name": "stdout",
     "output_type": "stream",
     "text": [
      "Accuracy: 79.01 percent\n",
      "Precision: 74.71 percent\n",
      "Recall: 66.44 percent\n"
     ]
    }
   ],
   "source": [
    "predictions = model.predict(X_test)\n",
    "print(f\"Accuracy: %.2f percent\" % (metrics.accuracy_score(y_test, predictions)*100) )\n",
    "print(f\"Precision: %.2f percent\" % (metrics.precision_score(y_test, predictions)*100) )\n",
    "print(f\"Recall: %.2f percent\" % (metrics.recall_score(y_test, predictions)*100) )"
   ]
  },
  {
   "cell_type": "code",
   "execution_count": 135,
   "id": "c60904d0-a379-4c1e-af39-cace672b88fe",
   "metadata": {},
   "outputs": [
    {
     "data": {
      "text/plain": [
       "0.7648579991786505"
      ]
     },
     "execution_count": 135,
     "metadata": {},
     "output_type": "execute_result"
    }
   ],
   "source": [
    "metrics.roc_auc_score(y_test, predictions)"
   ]
  },
  {
   "cell_type": "markdown",
   "id": "ffeaf12e-6689-4356-8f42-ff440086573f",
   "metadata": {},
   "source": [
    "## Conclusion"
   ]
  },
  {
   "cell_type": "markdown",
   "id": "4dd7f179-0bf1-431a-bb21-3768c413e595",
   "metadata": {},
   "source": [
    "Unfortunately, there are no easy and clear actions to be taken to improve retention. The correlation between any of the data features given and being active on a user's sixth month are fairly weak.\n",
    "\n",
    "A visualiztion of the PCA reveals that it is only as our feautures get towards 6+ that we can account for a significant amount of our variance.\n",
    "\n",
    "What we were able to produce was an XG Boost model that performed with 79% accuracy and nearly 75% precision. With further analysis using this model, perhaps we could work to identify or visualize a customer profiles that are more likely to stay."
   ]
  }
 ],
 "metadata": {
  "kernelspec": {
   "display_name": "Python 3 (ipykernel)",
   "language": "python",
   "name": "python3"
  },
  "language_info": {
   "codemirror_mode": {
    "name": "ipython",
    "version": 3
   },
   "file_extension": ".py",
   "mimetype": "text/x-python",
   "name": "python",
   "nbconvert_exporter": "python",
   "pygments_lexer": "ipython3",
   "version": "3.9.7"
  }
 },
 "nbformat": 4,
 "nbformat_minor": 5
}
