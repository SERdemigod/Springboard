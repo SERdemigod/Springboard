{
 "cells": [
  {
   "cell_type": "code",
   "execution_count": 87,
   "id": "6a39e166-d4c5-4746-8215-db0ee96f318d",
   "metadata": {},
   "outputs": [],
   "source": [
    "import json\n",
    " \n",
    "# Opening JSON file\n",
    "f = open('ultimate_data_challenge.json')\n",
    " \n",
    "# returns JSON object as\n",
    "# a dictionary\n",
    "data = json.load(f)\n",
    "\n",
    " \n",
    "# Closing file\n",
    "f.close()"
   ]
  },
  {
   "cell_type": "code",
   "execution_count": 88,
   "id": "80b25b23-7b34-4137-b83d-8be354225a70",
   "metadata": {},
   "outputs": [],
   "source": [
    "#import packages\n",
    "import pandas as pd\n",
    "import numpy as np\n",
    "import matplotlib.pyplot as plt\n",
    "import seaborn as sns"
   ]
  },
  {
   "cell_type": "markdown",
   "id": "29668c38-e219-419c-a0af-fea04f0cd6e4",
   "metadata": {
    "tags": []
   },
   "source": [
    "## Create Table"
   ]
  },
  {
   "cell_type": "code",
   "execution_count": 89,
   "id": "1c891425-1f76-40cc-8f28-b06c2d60711f",
   "metadata": {},
   "outputs": [
    {
     "data": {
      "text/plain": [
       "list"
      ]
     },
     "execution_count": 89,
     "metadata": {},
     "output_type": "execute_result"
    }
   ],
   "source": [
    "#investigate extracted data\n",
    "type(data)"
   ]
  },
  {
   "cell_type": "code",
   "execution_count": 90,
   "id": "eb675eb0-831a-44fe-a39d-e39a6fad6be4",
   "metadata": {},
   "outputs": [
    {
     "data": {
      "text/plain": [
       "dict_items([('city', \"King's Landing\"), ('trips_in_first_30_days', 4), ('signup_date', '2014-01-25'), ('avg_rating_of_driver', 4.7), ('avg_surge', 1.1), ('last_trip_date', '2014-06-17'), ('phone', 'iPhone'), ('surge_pct', 15.4), ('ultimate_black_user', True), ('weekday_pct', 46.2), ('avg_dist', 3.67), ('avg_rating_by_driver', 5.0)])"
      ]
     },
     "execution_count": 90,
     "metadata": {},
     "output_type": "execute_result"
    }
   ],
   "source": [
    "data[0].items()"
   ]
  },
  {
   "cell_type": "code",
   "execution_count": 91,
   "id": "448fd1de-3b2e-4dbf-a16f-b99c554f295d",
   "metadata": {},
   "outputs": [],
   "source": [
    "#create empty table to add values to\n",
    "table_data = []"
   ]
  },
  {
   "cell_type": "code",
   "execution_count": 92,
   "id": "34411524-1c0a-4fb1-8a18-cb38682b8ad0",
   "metadata": {},
   "outputs": [],
   "source": [
    "#iterate through each dictionary in the extracted data and add all the values in the key, value pairs into a single list\n",
    "for dictionary in data:\n",
    "    for k, v in dictionary.items():\n",
    "        table_data.append(v)"
   ]
  },
  {
   "cell_type": "code",
   "execution_count": 93,
   "id": "c6244439-c7be-450f-8c83-17ea7399b5ff",
   "metadata": {},
   "outputs": [],
   "source": [
    "#from the master list of all the values extract every twelth item to isolate the values for each future column of the dataframe\n",
    "city = table_data[::12]"
   ]
  },
  {
   "cell_type": "code",
   "execution_count": 94,
   "id": "a445d744-60a9-4f85-8bf2-58d71caae411",
   "metadata": {},
   "outputs": [],
   "source": [
    "trips_in_first_30_days = table_data[1::12]"
   ]
  },
  {
   "cell_type": "code",
   "execution_count": 95,
   "id": "e7b91334-996f-4a58-aea2-f9081a75375a",
   "metadata": {},
   "outputs": [],
   "source": [
    "signup_date = table_data[2::12]"
   ]
  },
  {
   "cell_type": "code",
   "execution_count": 96,
   "id": "5d0a777e-be44-45ba-bded-d165457bb750",
   "metadata": {},
   "outputs": [],
   "source": [
    "avg_rating_of_driver = table_data[3::12]"
   ]
  },
  {
   "cell_type": "code",
   "execution_count": 97,
   "id": "fe81e5d1-8139-4595-b58d-9625c33fbd09",
   "metadata": {},
   "outputs": [],
   "source": [
    "avg_surge = table_data[4::12]"
   ]
  },
  {
   "cell_type": "code",
   "execution_count": 98,
   "id": "13707361-ff6e-4df7-a99d-eb41e968385a",
   "metadata": {},
   "outputs": [],
   "source": [
    "last_trip_date = table_data[5::12]"
   ]
  },
  {
   "cell_type": "code",
   "execution_count": 99,
   "id": "e895c77d-1139-43e6-a633-3556bbc925b0",
   "metadata": {},
   "outputs": [],
   "source": [
    "phone = table_data[6::12]"
   ]
  },
  {
   "cell_type": "code",
   "execution_count": 100,
   "id": "9d0c5a13-82c2-46a9-af6a-60a989be9e60",
   "metadata": {},
   "outputs": [],
   "source": [
    "surge_pct = table_data[7::12]"
   ]
  },
  {
   "cell_type": "code",
   "execution_count": 101,
   "id": "0393c966-8cb4-41a2-a605-6a232adff333",
   "metadata": {},
   "outputs": [],
   "source": [
    "ultimate_black_user = table_data[8::12]"
   ]
  },
  {
   "cell_type": "code",
   "execution_count": 102,
   "id": "cda40db7-0111-4180-9962-b7462fa4577d",
   "metadata": {},
   "outputs": [],
   "source": [
    "weekday_pct = table_data[9::12]"
   ]
  },
  {
   "cell_type": "code",
   "execution_count": 103,
   "id": "bc0a19a9-af34-4254-a109-98f04f1f46b8",
   "metadata": {},
   "outputs": [],
   "source": [
    "avg_dist = table_data[10::12]"
   ]
  },
  {
   "cell_type": "code",
   "execution_count": 104,
   "id": "15b5d171-d590-4420-b412-76c0ff481b0b",
   "metadata": {},
   "outputs": [],
   "source": [
    "avg_rating_by_driver = table_data[11::12]"
   ]
  },
  {
   "cell_type": "code",
   "execution_count": 105,
   "id": "4cf0e71f-21c1-4711-b093-fc39f305233a",
   "metadata": {},
   "outputs": [],
   "source": [
    "#create empty list to store column names\n",
    "columns= []"
   ]
  },
  {
   "cell_type": "code",
   "execution_count": 106,
   "id": "40654404-ddcd-4540-b4a4-260d937c984a",
   "metadata": {},
   "outputs": [],
   "source": [
    "#append column names - i.e. the keys in each key, value pair- into a list\n",
    "for k, v in data[0].items():\n",
    "    columns.append(k)"
   ]
  },
  {
   "cell_type": "code",
   "execution_count": 107,
   "id": "d21200bb-7f17-4294-97a3-0a8a3e81ee56",
   "metadata": {},
   "outputs": [
    {
     "data": {
      "text/plain": [
       "['city',\n",
       " 'trips_in_first_30_days',\n",
       " 'signup_date',\n",
       " 'avg_rating_of_driver',\n",
       " 'avg_surge',\n",
       " 'last_trip_date',\n",
       " 'phone',\n",
       " 'surge_pct',\n",
       " 'ultimate_black_user',\n",
       " 'weekday_pct',\n",
       " 'avg_dist',\n",
       " 'avg_rating_by_driver']"
      ]
     },
     "execution_count": 107,
     "metadata": {},
     "output_type": "execute_result"
    }
   ],
   "source": [
    "#The original idea was to use pd.DataFrame(columns= columns), but instead I printed this list and extracted the column names\n",
    "columns"
   ]
  },
  {
   "cell_type": "code",
   "execution_count": 108,
   "id": "39118db1-f11f-47f4-a9b8-70601f44c633",
   "metadata": {},
   "outputs": [],
   "source": [
    "#create pandas dataframe for data analysis\n",
    "df = pd.DataFrame({'city' : city,\n",
    "                 'trips_in_first_30_days': trips_in_first_30_days,\n",
    "                  'signup_date': signup_date,\n",
    "                  'avg_rating_of_driver': avg_rating_of_driver,\n",
    "                  'avg_surge': avg_surge,\n",
    "                  'last_trip_date': last_trip_date,\n",
    "                  'phone':phone,\n",
    "                  'surge_pct':surge_pct,\n",
    "                  'ultimate_black_user':ultimate_black_user,\n",
    "                  'weekday_pct':weekday_pct,\n",
    "                  'avg_dist':avg_dist,\n",
    "                  'avg_rating_by_driver':avg_rating_by_driver})"
   ]
  },
  {
   "cell_type": "code",
   "execution_count": 109,
   "id": "17c45807-2518-459c-ab2a-82d785362820",
   "metadata": {},
   "outputs": [],
   "source": [
    "df.to_csv('../ultimate_challenge/clean_data.csv', index= False)"
   ]
  },
  {
   "cell_type": "code",
   "execution_count": 110,
   "id": "1fb77862-fa28-46f4-89f1-135745712b03",
   "metadata": {},
   "outputs": [
    {
     "data": {
      "text/plain": [
       "array([4.7, 5. , 4.3, 4.6, 4.4, 3.5, nan, 4.5, 4. , 3.9, 4.9, 4.8, 2.5,\n",
       "       3.7, 1. , 4.1, 4.2, 3. , 3.8, 2. , 2.7, 3.3, 2.8, 3.6, 3.4, 3.2,\n",
       "       2.6, 3.1, 2.9, 1.7, 1.8, 1.5, 2.3, 1.9, 2.1, 2.4, 1.6, 2.2])"
      ]
     },
     "execution_count": 110,
     "metadata": {},
     "output_type": "execute_result"
    }
   ],
   "source": [
    "df['avg_rating_of_driver'].unique()"
   ]
  },
  {
   "cell_type": "markdown",
   "id": "70f756d2-0e48-4d25-85af-fe28eb4a643f",
   "metadata": {
    "jp-MarkdownHeadingCollapsed": true,
    "tags": []
   },
   "source": [
    "## EDA"
   ]
  },
  {
   "cell_type": "code",
   "execution_count": 111,
   "id": "050076e3-848f-4b41-bf62-4ac77483d058",
   "metadata": {},
   "outputs": [
    {
     "data": {
      "text/html": [
       "<div>\n",
       "<style scoped>\n",
       "    .dataframe tbody tr th:only-of-type {\n",
       "        vertical-align: middle;\n",
       "    }\n",
       "\n",
       "    .dataframe tbody tr th {\n",
       "        vertical-align: top;\n",
       "    }\n",
       "\n",
       "    .dataframe thead th {\n",
       "        text-align: right;\n",
       "    }\n",
       "</style>\n",
       "<table border=\"1\" class=\"dataframe\">\n",
       "  <thead>\n",
       "    <tr style=\"text-align: right;\">\n",
       "      <th></th>\n",
       "      <th>city</th>\n",
       "      <th>trips_in_first_30_days</th>\n",
       "      <th>signup_date</th>\n",
       "      <th>avg_rating_of_driver</th>\n",
       "      <th>avg_surge</th>\n",
       "      <th>last_trip_date</th>\n",
       "      <th>phone</th>\n",
       "      <th>surge_pct</th>\n",
       "      <th>ultimate_black_user</th>\n",
       "      <th>weekday_pct</th>\n",
       "      <th>avg_dist</th>\n",
       "      <th>avg_rating_by_driver</th>\n",
       "    </tr>\n",
       "  </thead>\n",
       "  <tbody>\n",
       "    <tr>\n",
       "      <th>0</th>\n",
       "      <td>King's Landing</td>\n",
       "      <td>4</td>\n",
       "      <td>2014-01-25</td>\n",
       "      <td>4.7</td>\n",
       "      <td>1.10</td>\n",
       "      <td>2014-06-17</td>\n",
       "      <td>iPhone</td>\n",
       "      <td>15.4</td>\n",
       "      <td>True</td>\n",
       "      <td>46.2</td>\n",
       "      <td>3.67</td>\n",
       "      <td>5.0</td>\n",
       "    </tr>\n",
       "    <tr>\n",
       "      <th>1</th>\n",
       "      <td>Astapor</td>\n",
       "      <td>0</td>\n",
       "      <td>2014-01-29</td>\n",
       "      <td>5.0</td>\n",
       "      <td>1.00</td>\n",
       "      <td>2014-05-05</td>\n",
       "      <td>Android</td>\n",
       "      <td>0.0</td>\n",
       "      <td>False</td>\n",
       "      <td>50.0</td>\n",
       "      <td>8.26</td>\n",
       "      <td>5.0</td>\n",
       "    </tr>\n",
       "    <tr>\n",
       "      <th>2</th>\n",
       "      <td>Astapor</td>\n",
       "      <td>3</td>\n",
       "      <td>2014-01-06</td>\n",
       "      <td>4.3</td>\n",
       "      <td>1.00</td>\n",
       "      <td>2014-01-07</td>\n",
       "      <td>iPhone</td>\n",
       "      <td>0.0</td>\n",
       "      <td>False</td>\n",
       "      <td>100.0</td>\n",
       "      <td>0.77</td>\n",
       "      <td>5.0</td>\n",
       "    </tr>\n",
       "    <tr>\n",
       "      <th>3</th>\n",
       "      <td>King's Landing</td>\n",
       "      <td>9</td>\n",
       "      <td>2014-01-10</td>\n",
       "      <td>4.6</td>\n",
       "      <td>1.14</td>\n",
       "      <td>2014-06-29</td>\n",
       "      <td>iPhone</td>\n",
       "      <td>20.0</td>\n",
       "      <td>True</td>\n",
       "      <td>80.0</td>\n",
       "      <td>2.36</td>\n",
       "      <td>4.9</td>\n",
       "    </tr>\n",
       "    <tr>\n",
       "      <th>4</th>\n",
       "      <td>Winterfell</td>\n",
       "      <td>14</td>\n",
       "      <td>2014-01-27</td>\n",
       "      <td>4.4</td>\n",
       "      <td>1.19</td>\n",
       "      <td>2014-03-15</td>\n",
       "      <td>Android</td>\n",
       "      <td>11.8</td>\n",
       "      <td>False</td>\n",
       "      <td>82.4</td>\n",
       "      <td>3.13</td>\n",
       "      <td>4.9</td>\n",
       "    </tr>\n",
       "  </tbody>\n",
       "</table>\n",
       "</div>"
      ],
      "text/plain": [
       "             city  trips_in_first_30_days signup_date  avg_rating_of_driver  \\\n",
       "0  King's Landing                       4  2014-01-25                   4.7   \n",
       "1         Astapor                       0  2014-01-29                   5.0   \n",
       "2         Astapor                       3  2014-01-06                   4.3   \n",
       "3  King's Landing                       9  2014-01-10                   4.6   \n",
       "4      Winterfell                      14  2014-01-27                   4.4   \n",
       "\n",
       "   avg_surge last_trip_date    phone  surge_pct  ultimate_black_user  \\\n",
       "0       1.10     2014-06-17   iPhone       15.4                 True   \n",
       "1       1.00     2014-05-05  Android        0.0                False   \n",
       "2       1.00     2014-01-07   iPhone        0.0                False   \n",
       "3       1.14     2014-06-29   iPhone       20.0                 True   \n",
       "4       1.19     2014-03-15  Android       11.8                False   \n",
       "\n",
       "   weekday_pct  avg_dist  avg_rating_by_driver  \n",
       "0         46.2      3.67                   5.0  \n",
       "1         50.0      8.26                   5.0  \n",
       "2        100.0      0.77                   5.0  \n",
       "3         80.0      2.36                   4.9  \n",
       "4         82.4      3.13                   4.9  "
      ]
     },
     "execution_count": 111,
     "metadata": {},
     "output_type": "execute_result"
    }
   ],
   "source": [
    "#ensure dataframe was created properly\n",
    "df.head()"
   ]
  },
  {
   "cell_type": "code",
   "execution_count": 112,
   "id": "7942580e-de4b-4cd3-ad29-4df7e17fa67b",
   "metadata": {},
   "outputs": [
    {
     "data": {
      "text/html": [
       "<div>\n",
       "<style scoped>\n",
       "    .dataframe tbody tr th:only-of-type {\n",
       "        vertical-align: middle;\n",
       "    }\n",
       "\n",
       "    .dataframe tbody tr th {\n",
       "        vertical-align: top;\n",
       "    }\n",
       "\n",
       "    .dataframe thead th {\n",
       "        text-align: right;\n",
       "    }\n",
       "</style>\n",
       "<table border=\"1\" class=\"dataframe\">\n",
       "  <thead>\n",
       "    <tr style=\"text-align: right;\">\n",
       "      <th></th>\n",
       "      <th>trips_in_first_30_days</th>\n",
       "      <th>avg_rating_of_driver</th>\n",
       "      <th>avg_surge</th>\n",
       "      <th>surge_pct</th>\n",
       "      <th>weekday_pct</th>\n",
       "      <th>avg_dist</th>\n",
       "      <th>avg_rating_by_driver</th>\n",
       "    </tr>\n",
       "  </thead>\n",
       "  <tbody>\n",
       "    <tr>\n",
       "      <th>count</th>\n",
       "      <td>50000.000000</td>\n",
       "      <td>41878.000000</td>\n",
       "      <td>50000.000000</td>\n",
       "      <td>50000.000000</td>\n",
       "      <td>50000.000000</td>\n",
       "      <td>50000.000000</td>\n",
       "      <td>49799.000000</td>\n",
       "    </tr>\n",
       "    <tr>\n",
       "      <th>mean</th>\n",
       "      <td>2.278200</td>\n",
       "      <td>4.601559</td>\n",
       "      <td>1.074764</td>\n",
       "      <td>8.849536</td>\n",
       "      <td>60.926084</td>\n",
       "      <td>5.796827</td>\n",
       "      <td>4.778158</td>\n",
       "    </tr>\n",
       "    <tr>\n",
       "      <th>std</th>\n",
       "      <td>3.792684</td>\n",
       "      <td>0.617338</td>\n",
       "      <td>0.222336</td>\n",
       "      <td>19.958811</td>\n",
       "      <td>37.081503</td>\n",
       "      <td>5.707357</td>\n",
       "      <td>0.446652</td>\n",
       "    </tr>\n",
       "    <tr>\n",
       "      <th>min</th>\n",
       "      <td>0.000000</td>\n",
       "      <td>1.000000</td>\n",
       "      <td>1.000000</td>\n",
       "      <td>0.000000</td>\n",
       "      <td>0.000000</td>\n",
       "      <td>0.000000</td>\n",
       "      <td>1.000000</td>\n",
       "    </tr>\n",
       "    <tr>\n",
       "      <th>25%</th>\n",
       "      <td>0.000000</td>\n",
       "      <td>4.300000</td>\n",
       "      <td>1.000000</td>\n",
       "      <td>0.000000</td>\n",
       "      <td>33.300000</td>\n",
       "      <td>2.420000</td>\n",
       "      <td>4.700000</td>\n",
       "    </tr>\n",
       "    <tr>\n",
       "      <th>50%</th>\n",
       "      <td>1.000000</td>\n",
       "      <td>4.900000</td>\n",
       "      <td>1.000000</td>\n",
       "      <td>0.000000</td>\n",
       "      <td>66.700000</td>\n",
       "      <td>3.880000</td>\n",
       "      <td>5.000000</td>\n",
       "    </tr>\n",
       "    <tr>\n",
       "      <th>75%</th>\n",
       "      <td>3.000000</td>\n",
       "      <td>5.000000</td>\n",
       "      <td>1.050000</td>\n",
       "      <td>8.600000</td>\n",
       "      <td>100.000000</td>\n",
       "      <td>6.940000</td>\n",
       "      <td>5.000000</td>\n",
       "    </tr>\n",
       "    <tr>\n",
       "      <th>max</th>\n",
       "      <td>125.000000</td>\n",
       "      <td>5.000000</td>\n",
       "      <td>8.000000</td>\n",
       "      <td>100.000000</td>\n",
       "      <td>100.000000</td>\n",
       "      <td>160.960000</td>\n",
       "      <td>5.000000</td>\n",
       "    </tr>\n",
       "  </tbody>\n",
       "</table>\n",
       "</div>"
      ],
      "text/plain": [
       "       trips_in_first_30_days  avg_rating_of_driver     avg_surge  \\\n",
       "count            50000.000000          41878.000000  50000.000000   \n",
       "mean                 2.278200              4.601559      1.074764   \n",
       "std                  3.792684              0.617338      0.222336   \n",
       "min                  0.000000              1.000000      1.000000   \n",
       "25%                  0.000000              4.300000      1.000000   \n",
       "50%                  1.000000              4.900000      1.000000   \n",
       "75%                  3.000000              5.000000      1.050000   \n",
       "max                125.000000              5.000000      8.000000   \n",
       "\n",
       "          surge_pct   weekday_pct      avg_dist  avg_rating_by_driver  \n",
       "count  50000.000000  50000.000000  50000.000000          49799.000000  \n",
       "mean       8.849536     60.926084      5.796827              4.778158  \n",
       "std       19.958811     37.081503      5.707357              0.446652  \n",
       "min        0.000000      0.000000      0.000000              1.000000  \n",
       "25%        0.000000     33.300000      2.420000              4.700000  \n",
       "50%        0.000000     66.700000      3.880000              5.000000  \n",
       "75%        8.600000    100.000000      6.940000              5.000000  \n",
       "max      100.000000    100.000000    160.960000              5.000000  "
      ]
     },
     "execution_count": 112,
     "metadata": {},
     "output_type": "execute_result"
    }
   ],
   "source": [
    "#begin EDA\n",
    "df.describe()"
   ]
  },
  {
   "cell_type": "code",
   "execution_count": 113,
   "id": "bc27922c-18d9-400f-863f-30f8b5d7e2f9",
   "metadata": {},
   "outputs": [
    {
     "data": {
      "text/plain": [
       "<bound method DataFrame.info of                  city  trips_in_first_30_days signup_date  \\\n",
       "0      King's Landing                       4  2014-01-25   \n",
       "1             Astapor                       0  2014-01-29   \n",
       "2             Astapor                       3  2014-01-06   \n",
       "3      King's Landing                       9  2014-01-10   \n",
       "4          Winterfell                      14  2014-01-27   \n",
       "...               ...                     ...         ...   \n",
       "49995  King's Landing                       0  2014-01-25   \n",
       "49996         Astapor                       1  2014-01-24   \n",
       "49997      Winterfell                       0  2014-01-31   \n",
       "49998         Astapor                       2  2014-01-14   \n",
       "49999         Astapor                       0  2014-01-18   \n",
       "\n",
       "       avg_rating_of_driver  avg_surge last_trip_date    phone  surge_pct  \\\n",
       "0                       4.7       1.10     2014-06-17   iPhone       15.4   \n",
       "1                       5.0       1.00     2014-05-05  Android        0.0   \n",
       "2                       4.3       1.00     2014-01-07   iPhone        0.0   \n",
       "3                       4.6       1.14     2014-06-29   iPhone       20.0   \n",
       "4                       4.4       1.19     2014-03-15  Android       11.8   \n",
       "...                     ...        ...            ...      ...        ...   \n",
       "49995                   5.0       1.00     2014-06-05   iPhone        0.0   \n",
       "49996                   NaN       1.00     2014-01-25   iPhone        0.0   \n",
       "49997                   5.0       1.00     2014-05-22  Android        0.0   \n",
       "49998                   3.0       1.00     2014-01-15   iPhone        0.0   \n",
       "49999                   NaN       1.00     2014-04-20  Android        0.0   \n",
       "\n",
       "       ultimate_black_user  weekday_pct  avg_dist  avg_rating_by_driver  \n",
       "0                     True         46.2      3.67                   5.0  \n",
       "1                    False         50.0      8.26                   5.0  \n",
       "2                    False        100.0      0.77                   5.0  \n",
       "3                     True         80.0      2.36                   4.9  \n",
       "4                    False         82.4      3.13                   4.9  \n",
       "...                    ...          ...       ...                   ...  \n",
       "49995                False        100.0      5.63                   4.2  \n",
       "49996                False          0.0      0.00                   4.0  \n",
       "49997                 True        100.0      3.86                   5.0  \n",
       "49998                False        100.0      4.58                   3.5  \n",
       "49999                False          0.0      3.49                   5.0  \n",
       "\n",
       "[50000 rows x 12 columns]>"
      ]
     },
     "execution_count": 113,
     "metadata": {},
     "output_type": "execute_result"
    }
   ],
   "source": [
    "df.info"
   ]
  },
  {
   "cell_type": "code",
   "execution_count": 114,
   "id": "022ab9bd-db8e-4d4a-a7c5-a81c5523a8c3",
   "metadata": {},
   "outputs": [
    {
     "data": {
      "text/plain": [
       "city                         0\n",
       "trips_in_first_30_days       0\n",
       "signup_date                  0\n",
       "avg_rating_of_driver      8122\n",
       "avg_surge                    0\n",
       "last_trip_date               0\n",
       "phone                      396\n",
       "surge_pct                    0\n",
       "ultimate_black_user          0\n",
       "weekday_pct                  0\n",
       "avg_dist                     0\n",
       "avg_rating_by_driver       201\n",
       "dtype: int64"
      ]
     },
     "execution_count": 114,
     "metadata": {},
     "output_type": "execute_result"
    }
   ],
   "source": [
    "df.isnull().sum()"
   ]
  },
  {
   "cell_type": "markdown",
   "id": "240bd00d-8446-4d49-95d9-8b2585ad9af6",
   "metadata": {
    "tags": []
   },
   "source": [
    "## Data Cleaning"
   ]
  },
  {
   "cell_type": "code",
   "execution_count": 115,
   "id": "c57f19d0-b647-425c-99ab-92fe224872c9",
   "metadata": {},
   "outputs": [],
   "source": [
    "null_driver_rating = df[df['avg_rating_of_driver'].isnull()]"
   ]
  },
  {
   "cell_type": "code",
   "execution_count": 116,
   "id": "874c3197-0f72-4648-8de8-1fa58cd76998",
   "metadata": {},
   "outputs": [
    {
     "data": {
      "text/html": [
       "<div>\n",
       "<style scoped>\n",
       "    .dataframe tbody tr th:only-of-type {\n",
       "        vertical-align: middle;\n",
       "    }\n",
       "\n",
       "    .dataframe tbody tr th {\n",
       "        vertical-align: top;\n",
       "    }\n",
       "\n",
       "    .dataframe thead th {\n",
       "        text-align: right;\n",
       "    }\n",
       "</style>\n",
       "<table border=\"1\" class=\"dataframe\">\n",
       "  <thead>\n",
       "    <tr style=\"text-align: right;\">\n",
       "      <th></th>\n",
       "      <th>trips_in_first_30_days</th>\n",
       "      <th>avg_rating_of_driver</th>\n",
       "      <th>avg_surge</th>\n",
       "      <th>surge_pct</th>\n",
       "      <th>weekday_pct</th>\n",
       "      <th>avg_dist</th>\n",
       "      <th>avg_rating_by_driver</th>\n",
       "    </tr>\n",
       "  </thead>\n",
       "  <tbody>\n",
       "    <tr>\n",
       "      <th>count</th>\n",
       "      <td>8122.000000</td>\n",
       "      <td>0.0</td>\n",
       "      <td>8122.000000</td>\n",
       "      <td>8122.000000</td>\n",
       "      <td>8122.000000</td>\n",
       "      <td>8122.000000</td>\n",
       "      <td>8055.000000</td>\n",
       "    </tr>\n",
       "    <tr>\n",
       "      <th>mean</th>\n",
       "      <td>0.593327</td>\n",
       "      <td>NaN</td>\n",
       "      <td>1.078210</td>\n",
       "      <td>8.548067</td>\n",
       "      <td>59.050948</td>\n",
       "      <td>7.506267</td>\n",
       "      <td>4.785984</td>\n",
       "    </tr>\n",
       "    <tr>\n",
       "      <th>std</th>\n",
       "      <td>0.606755</td>\n",
       "      <td>NaN</td>\n",
       "      <td>0.310306</td>\n",
       "      <td>26.578461</td>\n",
       "      <td>46.859739</td>\n",
       "      <td>7.758616</td>\n",
       "      <td>0.622122</td>\n",
       "    </tr>\n",
       "    <tr>\n",
       "      <th>min</th>\n",
       "      <td>0.000000</td>\n",
       "      <td>NaN</td>\n",
       "      <td>1.000000</td>\n",
       "      <td>0.000000</td>\n",
       "      <td>0.000000</td>\n",
       "      <td>0.000000</td>\n",
       "      <td>1.000000</td>\n",
       "    </tr>\n",
       "    <tr>\n",
       "      <th>25%</th>\n",
       "      <td>0.000000</td>\n",
       "      <td>NaN</td>\n",
       "      <td>1.000000</td>\n",
       "      <td>0.000000</td>\n",
       "      <td>0.000000</td>\n",
       "      <td>2.410000</td>\n",
       "      <td>5.000000</td>\n",
       "    </tr>\n",
       "    <tr>\n",
       "      <th>50%</th>\n",
       "      <td>1.000000</td>\n",
       "      <td>NaN</td>\n",
       "      <td>1.000000</td>\n",
       "      <td>0.000000</td>\n",
       "      <td>100.000000</td>\n",
       "      <td>4.715000</td>\n",
       "      <td>5.000000</td>\n",
       "    </tr>\n",
       "    <tr>\n",
       "      <th>75%</th>\n",
       "      <td>1.000000</td>\n",
       "      <td>NaN</td>\n",
       "      <td>1.000000</td>\n",
       "      <td>0.000000</td>\n",
       "      <td>100.000000</td>\n",
       "      <td>10.720000</td>\n",
       "      <td>5.000000</td>\n",
       "    </tr>\n",
       "    <tr>\n",
       "      <th>max</th>\n",
       "      <td>5.000000</td>\n",
       "      <td>NaN</td>\n",
       "      <td>5.000000</td>\n",
       "      <td>100.000000</td>\n",
       "      <td>100.000000</td>\n",
       "      <td>160.960000</td>\n",
       "      <td>5.000000</td>\n",
       "    </tr>\n",
       "  </tbody>\n",
       "</table>\n",
       "</div>"
      ],
      "text/plain": [
       "       trips_in_first_30_days  avg_rating_of_driver    avg_surge    surge_pct  \\\n",
       "count             8122.000000                   0.0  8122.000000  8122.000000   \n",
       "mean                 0.593327                   NaN     1.078210     8.548067   \n",
       "std                  0.606755                   NaN     0.310306    26.578461   \n",
       "min                  0.000000                   NaN     1.000000     0.000000   \n",
       "25%                  0.000000                   NaN     1.000000     0.000000   \n",
       "50%                  1.000000                   NaN     1.000000     0.000000   \n",
       "75%                  1.000000                   NaN     1.000000     0.000000   \n",
       "max                  5.000000                   NaN     5.000000   100.000000   \n",
       "\n",
       "       weekday_pct     avg_dist  avg_rating_by_driver  \n",
       "count  8122.000000  8122.000000           8055.000000  \n",
       "mean     59.050948     7.506267              4.785984  \n",
       "std      46.859739     7.758616              0.622122  \n",
       "min       0.000000     0.000000              1.000000  \n",
       "25%       0.000000     2.410000              5.000000  \n",
       "50%     100.000000     4.715000              5.000000  \n",
       "75%     100.000000    10.720000              5.000000  \n",
       "max     100.000000   160.960000              5.000000  "
      ]
     },
     "execution_count": 116,
     "metadata": {},
     "output_type": "execute_result"
    }
   ],
   "source": [
    "null_driver_rating.describe()"
   ]
  },
  {
   "cell_type": "code",
   "execution_count": 117,
   "id": "07dba3a7-622a-4533-acee-61c9d86b24a8",
   "metadata": {},
   "outputs": [
    {
     "data": {
      "text/html": [
       "<div>\n",
       "<style scoped>\n",
       "    .dataframe tbody tr th:only-of-type {\n",
       "        vertical-align: middle;\n",
       "    }\n",
       "\n",
       "    .dataframe tbody tr th {\n",
       "        vertical-align: top;\n",
       "    }\n",
       "\n",
       "    .dataframe thead th {\n",
       "        text-align: right;\n",
       "    }\n",
       "</style>\n",
       "<table border=\"1\" class=\"dataframe\">\n",
       "  <thead>\n",
       "    <tr style=\"text-align: right;\">\n",
       "      <th></th>\n",
       "      <th>trips_in_first_30_days</th>\n",
       "      <th>avg_rating_of_driver</th>\n",
       "      <th>avg_surge</th>\n",
       "      <th>surge_pct</th>\n",
       "      <th>weekday_pct</th>\n",
       "      <th>avg_dist</th>\n",
       "      <th>avg_rating_by_driver</th>\n",
       "    </tr>\n",
       "  </thead>\n",
       "  <tbody>\n",
       "    <tr>\n",
       "      <th>count</th>\n",
       "      <td>50000.000000</td>\n",
       "      <td>41878.000000</td>\n",
       "      <td>50000.000000</td>\n",
       "      <td>50000.000000</td>\n",
       "      <td>50000.000000</td>\n",
       "      <td>50000.000000</td>\n",
       "      <td>49799.000000</td>\n",
       "    </tr>\n",
       "    <tr>\n",
       "      <th>mean</th>\n",
       "      <td>2.278200</td>\n",
       "      <td>4.601559</td>\n",
       "      <td>1.074764</td>\n",
       "      <td>8.849536</td>\n",
       "      <td>60.926084</td>\n",
       "      <td>5.796827</td>\n",
       "      <td>4.778158</td>\n",
       "    </tr>\n",
       "    <tr>\n",
       "      <th>std</th>\n",
       "      <td>3.792684</td>\n",
       "      <td>0.617338</td>\n",
       "      <td>0.222336</td>\n",
       "      <td>19.958811</td>\n",
       "      <td>37.081503</td>\n",
       "      <td>5.707357</td>\n",
       "      <td>0.446652</td>\n",
       "    </tr>\n",
       "    <tr>\n",
       "      <th>min</th>\n",
       "      <td>0.000000</td>\n",
       "      <td>1.000000</td>\n",
       "      <td>1.000000</td>\n",
       "      <td>0.000000</td>\n",
       "      <td>0.000000</td>\n",
       "      <td>0.000000</td>\n",
       "      <td>1.000000</td>\n",
       "    </tr>\n",
       "    <tr>\n",
       "      <th>25%</th>\n",
       "      <td>0.000000</td>\n",
       "      <td>4.300000</td>\n",
       "      <td>1.000000</td>\n",
       "      <td>0.000000</td>\n",
       "      <td>33.300000</td>\n",
       "      <td>2.420000</td>\n",
       "      <td>4.700000</td>\n",
       "    </tr>\n",
       "    <tr>\n",
       "      <th>50%</th>\n",
       "      <td>1.000000</td>\n",
       "      <td>4.900000</td>\n",
       "      <td>1.000000</td>\n",
       "      <td>0.000000</td>\n",
       "      <td>66.700000</td>\n",
       "      <td>3.880000</td>\n",
       "      <td>5.000000</td>\n",
       "    </tr>\n",
       "    <tr>\n",
       "      <th>75%</th>\n",
       "      <td>3.000000</td>\n",
       "      <td>5.000000</td>\n",
       "      <td>1.050000</td>\n",
       "      <td>8.600000</td>\n",
       "      <td>100.000000</td>\n",
       "      <td>6.940000</td>\n",
       "      <td>5.000000</td>\n",
       "    </tr>\n",
       "    <tr>\n",
       "      <th>max</th>\n",
       "      <td>125.000000</td>\n",
       "      <td>5.000000</td>\n",
       "      <td>8.000000</td>\n",
       "      <td>100.000000</td>\n",
       "      <td>100.000000</td>\n",
       "      <td>160.960000</td>\n",
       "      <td>5.000000</td>\n",
       "    </tr>\n",
       "  </tbody>\n",
       "</table>\n",
       "</div>"
      ],
      "text/plain": [
       "       trips_in_first_30_days  avg_rating_of_driver     avg_surge  \\\n",
       "count            50000.000000          41878.000000  50000.000000   \n",
       "mean                 2.278200              4.601559      1.074764   \n",
       "std                  3.792684              0.617338      0.222336   \n",
       "min                  0.000000              1.000000      1.000000   \n",
       "25%                  0.000000              4.300000      1.000000   \n",
       "50%                  1.000000              4.900000      1.000000   \n",
       "75%                  3.000000              5.000000      1.050000   \n",
       "max                125.000000              5.000000      8.000000   \n",
       "\n",
       "          surge_pct   weekday_pct      avg_dist  avg_rating_by_driver  \n",
       "count  50000.000000  50000.000000  50000.000000          49799.000000  \n",
       "mean       8.849536     60.926084      5.796827              4.778158  \n",
       "std       19.958811     37.081503      5.707357              0.446652  \n",
       "min        0.000000      0.000000      0.000000              1.000000  \n",
       "25%        0.000000     33.300000      2.420000              4.700000  \n",
       "50%        0.000000     66.700000      3.880000              5.000000  \n",
       "75%        8.600000    100.000000      6.940000              5.000000  \n",
       "max      100.000000    100.000000    160.960000              5.000000  "
      ]
     },
     "execution_count": 117,
     "metadata": {},
     "output_type": "execute_result"
    }
   ],
   "source": [
    "df.describe()"
   ]
  },
  {
   "cell_type": "code",
   "execution_count": 118,
   "id": "c38c4e1d-790d-4a39-9913-31b4c0cd95c0",
   "metadata": {},
   "outputs": [
    {
     "data": {
      "text/plain": [
       "city                      20771\n",
       "trips_in_first_30_days    20771\n",
       "signup_date               20771\n",
       "avg_rating_of_driver      20771\n",
       "avg_surge                 20771\n",
       "last_trip_date            20771\n",
       "phone                     20625\n",
       "surge_pct                 20771\n",
       "ultimate_black_user       20771\n",
       "weekday_pct               20771\n",
       "avg_dist                  20771\n",
       "avg_rating_by_driver      20674\n",
       "dtype: int64"
      ]
     },
     "execution_count": 118,
     "metadata": {},
     "output_type": "execute_result"
    }
   ],
   "source": [
    "df[df['avg_rating_of_driver']== 5.0].count()"
   ]
  },
  {
   "cell_type": "markdown",
   "id": "c08cbb8f-dad6-40ec-b9e7-f3301d888d09",
   "metadata": {},
   "source": [
    "There are 8122 missing values for avg_rating_of_driver. Displayed above are the statistics of the whole dataset and the statistics for columns where avg_rating_of_driver are missing. The two sets are very similar aside from the number of trips in the first 30 days, which is noticeably lower, and the avg_dist which is slightly lower among the dataset with the missing values.\n",
    "\n",
    "I would also guess that drivers who were exceptionally good or exceptionally bad would be more likely to elicit reviews from drivers.\n",
    "\n",
    "Given that, 1. I take the riders who did not rate their driver to be similar to the larger population in the dataset aside from using the service less frequently, for slightly shorter distances and 2. missing ratings are more likely to fall in the middle of the spectrum, I believe we can safely fill in null values with either the mean, median or mode.\n",
    "\n",
    "My first inclination was the mode, since I'm assuming these riders to be generally similar to other ones. However, the mode is 5.0. I have already stated that I find it more likely that the best drivers would be less likely to get a rating, and while about 25% of the data does fall into this category, it seems unreasonable to lump all 8,122 missing values into the highest possible rating.\n",
    "\n",
    "The mean is 4.6 which seems like a good candidate at first glance. However, the median is 4.9, meaning most drivers fall in the 4.9-5.0 range. The lower mean is likely the result of a relative few disgruntled riders who give their drivers extremely low ratings.\n",
    "\n",
    "Therefore, I believe the median to be the most reasonable fill for the missing values."
   ]
  },
  {
   "cell_type": "code",
   "execution_count": 119,
   "id": "13bbef6a-5d3f-4ad4-8cad-5b5170b6593e",
   "metadata": {},
   "outputs": [],
   "source": [
    "df['avg_rating_of_driver'].fillna(df['avg_rating_of_driver'].median(), inplace=True)"
   ]
  },
  {
   "cell_type": "code",
   "execution_count": 120,
   "id": "c613bce9-43aa-4e80-a700-2ff4bfedb7c6",
   "metadata": {},
   "outputs": [
    {
     "data": {
      "text/plain": [
       "4.778158195947439"
      ]
     },
     "execution_count": 120,
     "metadata": {},
     "output_type": "execute_result"
    }
   ],
   "source": [
    "#Examine the rating by driver column\n",
    "df['avg_rating_by_driver'].mean()"
   ]
  },
  {
   "cell_type": "code",
   "execution_count": 121,
   "id": "4ef96772-7625-4034-afc8-0efa35d66366",
   "metadata": {},
   "outputs": [
    {
     "data": {
      "text/plain": [
       "5.0"
      ]
     },
     "execution_count": 121,
     "metadata": {},
     "output_type": "execute_result"
    }
   ],
   "source": [
    "df['avg_rating_by_driver'].median()"
   ]
  },
  {
   "cell_type": "code",
   "execution_count": 122,
   "id": "294d1f54-bd4c-44f3-bec8-29e7edb4558e",
   "metadata": {},
   "outputs": [
    {
     "data": {
      "text/plain": [
       "5.0    28508\n",
       "4.8     4537\n",
       "4.7     3330\n",
       "4.9     3094\n",
       "4.5     2424\n",
       "4.6     2078\n",
       "4.0     1914\n",
       "4.3     1018\n",
       "4.4      860\n",
       "3.0      602\n",
       "4.2      342\n",
       "3.5      199\n",
       "3.7      195\n",
       "1.0      181\n",
       "2.0      126\n",
       "4.1      125\n",
       "3.8      111\n",
       "3.3       47\n",
       "3.9       41\n",
       "2.5       31\n",
       "3.6       19\n",
       "3.4        5\n",
       "1.5        4\n",
       "2.8        3\n",
       "3.2        2\n",
       "2.7        2\n",
       "2.3        1\n",
       "Name: avg_rating_by_driver, dtype: int64"
      ]
     },
     "execution_count": 122,
     "metadata": {},
     "output_type": "execute_result"
    }
   ],
   "source": [
    "df['avg_rating_by_driver'].value_counts()"
   ]
  },
  {
   "cell_type": "markdown",
   "id": "436d5935-e3b3-42b9-a35f-a02f8dcaf1cb",
   "metadata": {},
   "source": [
    "The column avg_rating_by_driver has a median of 5.0 and a mean of 4.8. Because I assume similar assumptions hold, namely, that exceptionally good or poor riders would be more likely to elicit a rating. Therefore, in this case I will fill the null values in this column with the mean instead of the median."
   ]
  },
  {
   "cell_type": "code",
   "execution_count": 123,
   "id": "8fafcb43-d942-4b14-ab7c-8b92d458b3dd",
   "metadata": {},
   "outputs": [],
   "source": [
    "#fill rating by driver with mean value of the column\n",
    "df['avg_rating_by_driver'].fillna(df['avg_rating_by_driver'].mean(), inplace= True)"
   ]
  },
  {
   "cell_type": "code",
   "execution_count": 124,
   "id": "a5efecc5-6f75-4dd3-a341-1d7f151a4452",
   "metadata": {},
   "outputs": [
    {
     "data": {
      "text/plain": [
       "'2014-07-01'"
      ]
     },
     "execution_count": 124,
     "metadata": {},
     "output_type": "execute_result"
    }
   ],
   "source": [
    "df['last_trip_date'].max()"
   ]
  },
  {
   "cell_type": "code",
   "execution_count": 125,
   "id": "a6bacca4-8c3a-4f3a-96b0-1a0216936671",
   "metadata": {},
   "outputs": [
    {
     "data": {
      "text/plain": [
       "'2014-01-01'"
      ]
     },
     "execution_count": 125,
     "metadata": {},
     "output_type": "execute_result"
    }
   ],
   "source": [
    "df['last_trip_date'].min()"
   ]
  },
  {
   "cell_type": "code",
   "execution_count": 126,
   "id": "823efdb0-d71d-41a6-9139-582c775ba53a",
   "metadata": {},
   "outputs": [
    {
     "name": "stdout",
     "output_type": "stream",
     "text": [
      "'Phones count for all users' iPhone     34582\n",
      "Android    15022\n",
      "Name: phone, dtype: int64\n",
      "'Phones of those who rode in the last month ' iPhone     15525\n",
      "Android     3146\n",
      "Name: phone, dtype: int64\n"
     ]
    }
   ],
   "source": [
    "print(f\"'Phones count for all users' {df['phone'].value_counts()}\")\n",
    "print(f\"'Phones of those who rode in the last month ' {df['phone'][df['last_trip_date'] >= '2014-06-01'].value_counts()}\")\n"
   ]
  },
  {
   "cell_type": "markdown",
   "id": "845fe351-657e-465b-bd50-8ff0075ce2b1",
   "metadata": {},
   "source": [
    "Since the proportions of iPhone/Android differ among all users and those in the last month, I do not want to initially assume that phone type is arbitrary. Perhaps one has a better interface with the application, for example.\n",
    "\n",
    "I would ideally like to ask those who know about the data collection processif the missing values might all be tied to one phone type. However, without access to this information, I am going to assume that the values present are roughly proportional to the missing values and fill accordingly."
   ]
  },
  {
   "cell_type": "code",
   "execution_count": 127,
   "id": "a223bbe9-cd69-44e0-a78d-e866f05bccc0",
   "metadata": {},
   "outputs": [],
   "source": [
    "#Caculate phone type percentages\n",
    "phone_total = 34582 + 15022\n",
    "android_perc = 15022/ phone_total\n",
    "iPhone_perc = 34582/ phone_total"
   ]
  },
  {
   "cell_type": "code",
   "execution_count": 128,
   "id": "82b86f39-4c25-4630-8d51-606cbd88520c",
   "metadata": {},
   "outputs": [],
   "source": [
    "#fill missing phone values proportionally to the non-missing values\n",
    "df['phone'] = df['phone'].fillna(pd.Series(np.random.choice(['Android', 'iPhone'], \n",
    "                                                      p=[android_perc, iPhone_perc], size=len(df))))"
   ]
  },
  {
   "cell_type": "code",
   "execution_count": 129,
   "id": "a5c08184-6f0b-4dd1-b0fe-4920ccc7b2c4",
   "metadata": {},
   "outputs": [
    {
     "data": {
      "text/plain": [
       "city                      0\n",
       "trips_in_first_30_days    0\n",
       "signup_date               0\n",
       "avg_rating_of_driver      0\n",
       "avg_surge                 0\n",
       "last_trip_date            0\n",
       "phone                     0\n",
       "surge_pct                 0\n",
       "ultimate_black_user       0\n",
       "weekday_pct               0\n",
       "avg_dist                  0\n",
       "avg_rating_by_driver      0\n",
       "dtype: int64"
      ]
     },
     "execution_count": 129,
     "metadata": {},
     "output_type": "execute_result"
    }
   ],
   "source": [
    "#Ensure we no longer have any missing values\n",
    "df.isnull().sum()"
   ]
  },
  {
   "cell_type": "markdown",
   "id": "03666293-079c-4ba4-85f1-6943af896555",
   "metadata": {
    "tags": []
   },
   "source": [
    "## Feature Engineering"
   ]
  },
  {
   "cell_type": "code",
   "execution_count": 130,
   "id": "c506cbbf-2547-4185-88bc-f82248289532",
   "metadata": {},
   "outputs": [],
   "source": [
    "#Convert columns with dates to datetime\n",
    "df['last_trip_date'] = pd.to_datetime(df['last_trip_date'])"
   ]
  },
  {
   "cell_type": "code",
   "execution_count": 131,
   "id": "7fc148fb-4320-406b-80fa-c289767a638e",
   "metadata": {},
   "outputs": [],
   "source": [
    "df['signup_date'] = pd.to_datetime(df['signup_date'])"
   ]
  },
  {
   "cell_type": "code",
   "execution_count": 132,
   "id": "752e6f3e-cbfa-4933-ae6a-d4d71b4f91a8",
   "metadata": {},
   "outputs": [],
   "source": [
    "#Ultimate wants to know if a new customer will be active 6 months later.\n",
    "#To start to classify into those that were and those that were not active 6 months later, create columns that indicate how long the rider has been active and inactive\n",
    "#Then convert the timedelta to integers\n",
    "df['days_active'] = df['last_trip_date'] - df['signup_date']"
   ]
  },
  {
   "cell_type": "code",
   "execution_count": 133,
   "id": "2fc1d9ee-1559-4ae0-b265-bd180e0e0100",
   "metadata": {},
   "outputs": [],
   "source": [
    "df['days_active']= df['days_active'].dt.days"
   ]
  },
  {
   "cell_type": "code",
   "execution_count": 134,
   "id": "3982c2eb-aa22-4e68-9ff9-d519575af813",
   "metadata": {},
   "outputs": [],
   "source": [
    "df['days_inactive'] = df['last_trip_date'].max() - df['last_trip_date']"
   ]
  },
  {
   "cell_type": "code",
   "execution_count": 135,
   "id": "5c0d5133-2d42-44d3-899b-e3f20853dd98",
   "metadata": {},
   "outputs": [
    {
     "data": {
      "text/plain": [
       "0    14 days\n",
       "1    57 days\n",
       "2   175 days\n",
       "3     2 days\n",
       "4   108 days\n",
       "5    25 days\n",
       "6   157 days\n",
       "7   153 days\n",
       "8   150 days\n",
       "9   177 days\n",
       "Name: days_inactive, dtype: timedelta64[ns]"
      ]
     },
     "execution_count": 135,
     "metadata": {},
     "output_type": "execute_result"
    }
   ],
   "source": [
    "df['days_inactive'].head(10)"
   ]
  },
  {
   "cell_type": "code",
   "execution_count": 136,
   "id": "fb5343b6-2b78-4976-bffb-0590677d2e98",
   "metadata": {},
   "outputs": [],
   "source": [
    "df['days_inactive']= df['days_inactive'].dt.days"
   ]
  },
  {
   "cell_type": "code",
   "execution_count": 137,
   "id": "92bc5e13-5b3b-4688-92fc-c74ed7b07d79",
   "metadata": {},
   "outputs": [
    {
     "data": {
      "text/plain": [
       "Text(0, 0.5, 'Value Counts')"
      ]
     },
     "execution_count": 137,
     "metadata": {},
     "output_type": "execute_result"
    },
    {
     "data": {
      "image/png": "[encoded data removed]",
      "text/plain": [
       "<Figure size 432x288 with 1 Axes>"
      ]
     },
     "metadata": {
      "needs_background": "light"
     },
     "output_type": "display_data"
    }
   ],
   "source": [
    "#Visualization of spread of last trip date binned by month\n",
    "plt.hist(df['last_trip_date'], bins = 6)\n",
    "plt.xticks([df['last_trip_date'].min(), df['last_trip_date'].max()], visible=True, rotation=\"horizontal\")\n",
    "plt.xlabel('Date of Last Trip')\n",
    "plt.ylabel('Value Counts')"
   ]
  },
  {
   "cell_type": "code",
   "execution_count": 138,
   "id": "af97941b-a61c-417f-8dac-4caa8b0db3e6",
   "metadata": {},
   "outputs": [
    {
     "data": {
      "text/plain": [
       "Text(0, 0.5, 'Value Counts')"
      ]
     },
     "execution_count": 138,
     "metadata": {},
     "output_type": "execute_result"
    },
    {
     "data": {
      "image/png": "[encoded data removed]",
      "text/plain": [
       "<Figure size 432x288 with 1 Axes>"
      ]
     },
     "metadata": {
      "needs_background": "light"
     },
     "output_type": "display_data"
    }
   ],
   "source": [
    "#Visualization of signup date\n",
    "plt.hist(df['signup_date'], bins = 4)\n",
    "plt.xticks([df['signup_date'].min(), df['signup_date'].max()], visible=True, rotation=\"horizontal\")\n",
    "plt.xlabel('Date of Signup')\n",
    "plt.ylabel('Value Counts')"
   ]
  },
  {
   "cell_type": "code",
   "execution_count": 139,
   "id": "1e0abba6-2f03-4b52-babe-9dbc5e95b115",
   "metadata": {},
   "outputs": [
    {
     "data": {
      "text/plain": [
       "(array([11381.,  2404.,  2383.,  2705.,  2632.,  3266.,  4170.,  5864.,\n",
       "         9638.,  5557.]),\n",
       " array([  0. ,  18.1,  36.2,  54.3,  72.4,  90.5, 108.6, 126.7, 144.8,\n",
       "        162.9, 181. ]),\n",
       " <BarContainer object of 10 artists>)"
      ]
     },
     "execution_count": 139,
     "metadata": {},
     "output_type": "execute_result"
    },
    {
     "data": {
      "image/png": "[encoded data removed]",
      "text/plain": [
       "<Figure size 432x288 with 1 Axes>"
      ]
     },
     "metadata": {
      "needs_background": "light"
     },
     "output_type": "display_data"
    }
   ],
   "source": [
    "plt.hist(df['days_active'])"
   ]
  },
  {
   "cell_type": "code",
   "execution_count": 146,
   "id": "84a74d01-f77c-4013-a084-d6b54908f2d6",
   "metadata": {},
   "outputs": [],
   "source": [
    "#set up our y variable - will the rider still be active in their sixth month\n",
    "df['Sixth_Month_User'] = np.where(df['days_inactive'] <= 30, 1.0, 0.0)"
   ]
  },
  {
   "cell_type": "markdown",
   "id": "4e89f8b8-9543-40be-95f7-f770f424c9f6",
   "metadata": {},
   "source": [
    "Ultimate considers user 'active' if they have taken a ride in the last 30 days."
   ]
  },
  {
   "cell_type": "code",
   "execution_count": 147,
   "id": "4f7f304f-99a9-46ef-8c0c-f34e6e38d319",
   "metadata": {},
   "outputs": [
    {
     "data": {
      "text/html": [
       "<div>\n",
       "<style scoped>\n",
       "    .dataframe tbody tr th:only-of-type {\n",
       "        vertical-align: middle;\n",
       "    }\n",
       "\n",
       "    .dataframe tbody tr th {\n",
       "        vertical-align: top;\n",
       "    }\n",
       "\n",
       "    .dataframe thead th {\n",
       "        text-align: right;\n",
       "    }\n",
       "</style>\n",
       "<table border=\"1\" class=\"dataframe\">\n",
       "  <thead>\n",
       "    <tr style=\"text-align: right;\">\n",
       "      <th></th>\n",
       "      <th>city</th>\n",
       "      <th>trips_in_first_30_days</th>\n",
       "      <th>signup_date</th>\n",
       "      <th>avg_rating_of_driver</th>\n",
       "      <th>avg_surge</th>\n",
       "      <th>last_trip_date</th>\n",
       "      <th>phone</th>\n",
       "      <th>surge_pct</th>\n",
       "      <th>ultimate_black_user</th>\n",
       "      <th>weekday_pct</th>\n",
       "      <th>avg_dist</th>\n",
       "      <th>avg_rating_by_driver</th>\n",
       "      <th>days_active</th>\n",
       "      <th>days_inactive</th>\n",
       "      <th>Sixth_Month_User</th>\n",
       "    </tr>\n",
       "  </thead>\n",
       "  <tbody>\n",
       "    <tr>\n",
       "      <th>0</th>\n",
       "      <td>King's Landing</td>\n",
       "      <td>4</td>\n",
       "      <td>2014-01-25</td>\n",
       "      <td>4.7</td>\n",
       "      <td>1.10</td>\n",
       "      <td>2014-06-17</td>\n",
       "      <td>iPhone</td>\n",
       "      <td>15.4</td>\n",
       "      <td>True</td>\n",
       "      <td>46.2</td>\n",
       "      <td>3.67</td>\n",
       "      <td>5.0</td>\n",
       "      <td>143</td>\n",
       "      <td>14</td>\n",
       "      <td>1.0</td>\n",
       "    </tr>\n",
       "    <tr>\n",
       "      <th>1</th>\n",
       "      <td>Astapor</td>\n",
       "      <td>0</td>\n",
       "      <td>2014-01-29</td>\n",
       "      <td>5.0</td>\n",
       "      <td>1.00</td>\n",
       "      <td>2014-05-05</td>\n",
       "      <td>Android</td>\n",
       "      <td>0.0</td>\n",
       "      <td>False</td>\n",
       "      <td>50.0</td>\n",
       "      <td>8.26</td>\n",
       "      <td>5.0</td>\n",
       "      <td>96</td>\n",
       "      <td>57</td>\n",
       "      <td>0.0</td>\n",
       "    </tr>\n",
       "    <tr>\n",
       "      <th>2</th>\n",
       "      <td>Astapor</td>\n",
       "      <td>3</td>\n",
       "      <td>2014-01-06</td>\n",
       "      <td>4.3</td>\n",
       "      <td>1.00</td>\n",
       "      <td>2014-01-07</td>\n",
       "      <td>iPhone</td>\n",
       "      <td>0.0</td>\n",
       "      <td>False</td>\n",
       "      <td>100.0</td>\n",
       "      <td>0.77</td>\n",
       "      <td>5.0</td>\n",
       "      <td>1</td>\n",
       "      <td>175</td>\n",
       "      <td>0.0</td>\n",
       "    </tr>\n",
       "    <tr>\n",
       "      <th>3</th>\n",
       "      <td>King's Landing</td>\n",
       "      <td>9</td>\n",
       "      <td>2014-01-10</td>\n",
       "      <td>4.6</td>\n",
       "      <td>1.14</td>\n",
       "      <td>2014-06-29</td>\n",
       "      <td>iPhone</td>\n",
       "      <td>20.0</td>\n",
       "      <td>True</td>\n",
       "      <td>80.0</td>\n",
       "      <td>2.36</td>\n",
       "      <td>4.9</td>\n",
       "      <td>170</td>\n",
       "      <td>2</td>\n",
       "      <td>1.0</td>\n",
       "    </tr>\n",
       "    <tr>\n",
       "      <th>4</th>\n",
       "      <td>Winterfell</td>\n",
       "      <td>14</td>\n",
       "      <td>2014-01-27</td>\n",
       "      <td>4.4</td>\n",
       "      <td>1.19</td>\n",
       "      <td>2014-03-15</td>\n",
       "      <td>Android</td>\n",
       "      <td>11.8</td>\n",
       "      <td>False</td>\n",
       "      <td>82.4</td>\n",
       "      <td>3.13</td>\n",
       "      <td>4.9</td>\n",
       "      <td>47</td>\n",
       "      <td>108</td>\n",
       "      <td>0.0</td>\n",
       "    </tr>\n",
       "  </tbody>\n",
       "</table>\n",
       "</div>"
      ],
      "text/plain": [
       "             city  trips_in_first_30_days signup_date  avg_rating_of_driver  \\\n",
       "0  King's Landing                       4  2014-01-25                   4.7   \n",
       "1         Astapor                       0  2014-01-29                   5.0   \n",
       "2         Astapor                       3  2014-01-06                   4.3   \n",
       "3  King's Landing                       9  2014-01-10                   4.6   \n",
       "4      Winterfell                      14  2014-01-27                   4.4   \n",
       "\n",
       "   avg_surge last_trip_date    phone  surge_pct  ultimate_black_user  \\\n",
       "0       1.10     2014-06-17   iPhone       15.4                 True   \n",
       "1       1.00     2014-05-05  Android        0.0                False   \n",
       "2       1.00     2014-01-07   iPhone        0.0                False   \n",
       "3       1.14     2014-06-29   iPhone       20.0                 True   \n",
       "4       1.19     2014-03-15  Android       11.8                False   \n",
       "\n",
       "   weekday_pct  avg_dist  avg_rating_by_driver  days_active  days_inactive  \\\n",
       "0         46.2      3.67                   5.0          143             14   \n",
       "1         50.0      8.26                   5.0           96             57   \n",
       "2        100.0      0.77                   5.0            1            175   \n",
       "3         80.0      2.36                   4.9          170              2   \n",
       "4         82.4      3.13                   4.9           47            108   \n",
       "\n",
       "   Sixth_Month_User  \n",
       "0               1.0  \n",
       "1               0.0  \n",
       "2               0.0  \n",
       "3               1.0  \n",
       "4               0.0  "
      ]
     },
     "execution_count": 147,
     "metadata": {},
     "output_type": "execute_result"
    }
   ],
   "source": [
    "df.head()"
   ]
  },
  {
   "cell_type": "markdown",
   "id": "3dfdfadb-56dd-41a2-a16e-4725bdd4b931",
   "metadata": {},
   "source": [
    "## Convert DF to Numeric"
   ]
  },
  {
   "cell_type": "code",
   "execution_count": 148,
   "id": "47e4086b-7a71-4bce-9741-bb004e5db426",
   "metadata": {},
   "outputs": [],
   "source": [
    "numeric_df = df.copy(deep=True)"
   ]
  },
  {
   "cell_type": "code",
   "execution_count": 149,
   "id": "33a0ed7e-9068-44db-9d06-2f32abefdfc9",
   "metadata": {},
   "outputs": [
    {
     "data": {
      "text/html": [
       "<div>\n",
       "<style scoped>\n",
       "    .dataframe tbody tr th:only-of-type {\n",
       "        vertical-align: middle;\n",
       "    }\n",
       "\n",
       "    .dataframe tbody tr th {\n",
       "        vertical-align: top;\n",
       "    }\n",
       "\n",
       "    .dataframe thead th {\n",
       "        text-align: right;\n",
       "    }\n",
       "</style>\n",
       "<table border=\"1\" class=\"dataframe\">\n",
       "  <thead>\n",
       "    <tr style=\"text-align: right;\">\n",
       "      <th></th>\n",
       "      <th>city</th>\n",
       "      <th>trips_in_first_30_days</th>\n",
       "      <th>signup_date</th>\n",
       "      <th>avg_rating_of_driver</th>\n",
       "      <th>avg_surge</th>\n",
       "      <th>last_trip_date</th>\n",
       "      <th>phone</th>\n",
       "      <th>surge_pct</th>\n",
       "      <th>ultimate_black_user</th>\n",
       "      <th>weekday_pct</th>\n",
       "      <th>avg_dist</th>\n",
       "      <th>avg_rating_by_driver</th>\n",
       "      <th>days_active</th>\n",
       "      <th>days_inactive</th>\n",
       "      <th>Sixth_Month_User</th>\n",
       "    </tr>\n",
       "  </thead>\n",
       "  <tbody>\n",
       "    <tr>\n",
       "      <th>0</th>\n",
       "      <td>King's Landing</td>\n",
       "      <td>4</td>\n",
       "      <td>2014-01-25</td>\n",
       "      <td>4.7</td>\n",
       "      <td>1.10</td>\n",
       "      <td>2014-06-17</td>\n",
       "      <td>iPhone</td>\n",
       "      <td>15.4</td>\n",
       "      <td>True</td>\n",
       "      <td>46.2</td>\n",
       "      <td>3.67</td>\n",
       "      <td>5.0</td>\n",
       "      <td>143</td>\n",
       "      <td>14</td>\n",
       "      <td>1.0</td>\n",
       "    </tr>\n",
       "    <tr>\n",
       "      <th>1</th>\n",
       "      <td>Astapor</td>\n",
       "      <td>0</td>\n",
       "      <td>2014-01-29</td>\n",
       "      <td>5.0</td>\n",
       "      <td>1.00</td>\n",
       "      <td>2014-05-05</td>\n",
       "      <td>Android</td>\n",
       "      <td>0.0</td>\n",
       "      <td>False</td>\n",
       "      <td>50.0</td>\n",
       "      <td>8.26</td>\n",
       "      <td>5.0</td>\n",
       "      <td>96</td>\n",
       "      <td>57</td>\n",
       "      <td>0.0</td>\n",
       "    </tr>\n",
       "    <tr>\n",
       "      <th>2</th>\n",
       "      <td>Astapor</td>\n",
       "      <td>3</td>\n",
       "      <td>2014-01-06</td>\n",
       "      <td>4.3</td>\n",
       "      <td>1.00</td>\n",
       "      <td>2014-01-07</td>\n",
       "      <td>iPhone</td>\n",
       "      <td>0.0</td>\n",
       "      <td>False</td>\n",
       "      <td>100.0</td>\n",
       "      <td>0.77</td>\n",
       "      <td>5.0</td>\n",
       "      <td>1</td>\n",
       "      <td>175</td>\n",
       "      <td>0.0</td>\n",
       "    </tr>\n",
       "    <tr>\n",
       "      <th>3</th>\n",
       "      <td>King's Landing</td>\n",
       "      <td>9</td>\n",
       "      <td>2014-01-10</td>\n",
       "      <td>4.6</td>\n",
       "      <td>1.14</td>\n",
       "      <td>2014-06-29</td>\n",
       "      <td>iPhone</td>\n",
       "      <td>20.0</td>\n",
       "      <td>True</td>\n",
       "      <td>80.0</td>\n",
       "      <td>2.36</td>\n",
       "      <td>4.9</td>\n",
       "      <td>170</td>\n",
       "      <td>2</td>\n",
       "      <td>1.0</td>\n",
       "    </tr>\n",
       "    <tr>\n",
       "      <th>4</th>\n",
       "      <td>Winterfell</td>\n",
       "      <td>14</td>\n",
       "      <td>2014-01-27</td>\n",
       "      <td>4.4</td>\n",
       "      <td>1.19</td>\n",
       "      <td>2014-03-15</td>\n",
       "      <td>Android</td>\n",
       "      <td>11.8</td>\n",
       "      <td>False</td>\n",
       "      <td>82.4</td>\n",
       "      <td>3.13</td>\n",
       "      <td>4.9</td>\n",
       "      <td>47</td>\n",
       "      <td>108</td>\n",
       "      <td>0.0</td>\n",
       "    </tr>\n",
       "  </tbody>\n",
       "</table>\n",
       "</div>"
      ],
      "text/plain": [
       "             city  trips_in_first_30_days signup_date  avg_rating_of_driver  \\\n",
       "0  King's Landing                       4  2014-01-25                   4.7   \n",
       "1         Astapor                       0  2014-01-29                   5.0   \n",
       "2         Astapor                       3  2014-01-06                   4.3   \n",
       "3  King's Landing                       9  2014-01-10                   4.6   \n",
       "4      Winterfell                      14  2014-01-27                   4.4   \n",
       "\n",
       "   avg_surge last_trip_date    phone  surge_pct  ultimate_black_user  \\\n",
       "0       1.10     2014-06-17   iPhone       15.4                 True   \n",
       "1       1.00     2014-05-05  Android        0.0                False   \n",
       "2       1.00     2014-01-07   iPhone        0.0                False   \n",
       "3       1.14     2014-06-29   iPhone       20.0                 True   \n",
       "4       1.19     2014-03-15  Android       11.8                False   \n",
       "\n",
       "   weekday_pct  avg_dist  avg_rating_by_driver  days_active  days_inactive  \\\n",
       "0         46.2      3.67                   5.0          143             14   \n",
       "1         50.0      8.26                   5.0           96             57   \n",
       "2        100.0      0.77                   5.0            1            175   \n",
       "3         80.0      2.36                   4.9          170              2   \n",
       "4         82.4      3.13                   4.9           47            108   \n",
       "\n",
       "   Sixth_Month_User  \n",
       "0               1.0  \n",
       "1               0.0  \n",
       "2               0.0  \n",
       "3               1.0  \n",
       "4               0.0  "
      ]
     },
     "execution_count": 149,
     "metadata": {},
     "output_type": "execute_result"
    }
   ],
   "source": [
    "numeric_df.head()"
   ]
  },
  {
   "cell_type": "code",
   "execution_count": 150,
   "id": "056e414e-5986-49e4-a57e-daacf5d2f365",
   "metadata": {},
   "outputs": [
    {
     "data": {
      "text/html": [
       "<div>\n",
       "<style scoped>\n",
       "    .dataframe tbody tr th:only-of-type {\n",
       "        vertical-align: middle;\n",
       "    }\n",
       "\n",
       "    .dataframe tbody tr th {\n",
       "        vertical-align: top;\n",
       "    }\n",
       "\n",
       "    .dataframe thead th {\n",
       "        text-align: right;\n",
       "    }\n",
       "</style>\n",
       "<table border=\"1\" class=\"dataframe\">\n",
       "  <thead>\n",
       "    <tr style=\"text-align: right;\">\n",
       "      <th></th>\n",
       "      <th>city</th>\n",
       "      <th>trips_in_first_30_days</th>\n",
       "      <th>signup_date</th>\n",
       "      <th>avg_rating_of_driver</th>\n",
       "      <th>avg_surge</th>\n",
       "      <th>last_trip_date</th>\n",
       "      <th>phone</th>\n",
       "      <th>surge_pct</th>\n",
       "      <th>ultimate_black_user</th>\n",
       "      <th>weekday_pct</th>\n",
       "      <th>avg_dist</th>\n",
       "      <th>avg_rating_by_driver</th>\n",
       "      <th>days_active</th>\n",
       "      <th>days_inactive</th>\n",
       "      <th>Sixth_Month_User</th>\n",
       "    </tr>\n",
       "  </thead>\n",
       "  <tbody>\n",
       "    <tr>\n",
       "      <th>0</th>\n",
       "      <td>1</td>\n",
       "      <td>4</td>\n",
       "      <td>2014-01-25</td>\n",
       "      <td>4.7</td>\n",
       "      <td>1.10</td>\n",
       "      <td>2014-06-17</td>\n",
       "      <td>iPhone</td>\n",
       "      <td>15.4</td>\n",
       "      <td>True</td>\n",
       "      <td>46.2</td>\n",
       "      <td>3.67</td>\n",
       "      <td>5.0</td>\n",
       "      <td>143</td>\n",
       "      <td>14</td>\n",
       "      <td>1.0</td>\n",
       "    </tr>\n",
       "    <tr>\n",
       "      <th>1</th>\n",
       "      <td>2</td>\n",
       "      <td>0</td>\n",
       "      <td>2014-01-29</td>\n",
       "      <td>5.0</td>\n",
       "      <td>1.00</td>\n",
       "      <td>2014-05-05</td>\n",
       "      <td>Android</td>\n",
       "      <td>0.0</td>\n",
       "      <td>False</td>\n",
       "      <td>50.0</td>\n",
       "      <td>8.26</td>\n",
       "      <td>5.0</td>\n",
       "      <td>96</td>\n",
       "      <td>57</td>\n",
       "      <td>0.0</td>\n",
       "    </tr>\n",
       "    <tr>\n",
       "      <th>2</th>\n",
       "      <td>2</td>\n",
       "      <td>3</td>\n",
       "      <td>2014-01-06</td>\n",
       "      <td>4.3</td>\n",
       "      <td>1.00</td>\n",
       "      <td>2014-01-07</td>\n",
       "      <td>iPhone</td>\n",
       "      <td>0.0</td>\n",
       "      <td>False</td>\n",
       "      <td>100.0</td>\n",
       "      <td>0.77</td>\n",
       "      <td>5.0</td>\n",
       "      <td>1</td>\n",
       "      <td>175</td>\n",
       "      <td>0.0</td>\n",
       "    </tr>\n",
       "    <tr>\n",
       "      <th>3</th>\n",
       "      <td>1</td>\n",
       "      <td>9</td>\n",
       "      <td>2014-01-10</td>\n",
       "      <td>4.6</td>\n",
       "      <td>1.14</td>\n",
       "      <td>2014-06-29</td>\n",
       "      <td>iPhone</td>\n",
       "      <td>20.0</td>\n",
       "      <td>True</td>\n",
       "      <td>80.0</td>\n",
       "      <td>2.36</td>\n",
       "      <td>4.9</td>\n",
       "      <td>170</td>\n",
       "      <td>2</td>\n",
       "      <td>1.0</td>\n",
       "    </tr>\n",
       "    <tr>\n",
       "      <th>4</th>\n",
       "      <td>3</td>\n",
       "      <td>14</td>\n",
       "      <td>2014-01-27</td>\n",
       "      <td>4.4</td>\n",
       "      <td>1.19</td>\n",
       "      <td>2014-03-15</td>\n",
       "      <td>Android</td>\n",
       "      <td>11.8</td>\n",
       "      <td>False</td>\n",
       "      <td>82.4</td>\n",
       "      <td>3.13</td>\n",
       "      <td>4.9</td>\n",
       "      <td>47</td>\n",
       "      <td>108</td>\n",
       "      <td>0.0</td>\n",
       "    </tr>\n",
       "  </tbody>\n",
       "</table>\n",
       "</div>"
      ],
      "text/plain": [
       "   city  trips_in_first_30_days signup_date  avg_rating_of_driver  avg_surge  \\\n",
       "0     1                       4  2014-01-25                   4.7       1.10   \n",
       "1     2                       0  2014-01-29                   5.0       1.00   \n",
       "2     2                       3  2014-01-06                   4.3       1.00   \n",
       "3     1                       9  2014-01-10                   4.6       1.14   \n",
       "4     3                      14  2014-01-27                   4.4       1.19   \n",
       "\n",
       "  last_trip_date    phone  surge_pct  ultimate_black_user  weekday_pct  \\\n",
       "0     2014-06-17   iPhone       15.4                 True         46.2   \n",
       "1     2014-05-05  Android        0.0                False         50.0   \n",
       "2     2014-01-07   iPhone        0.0                False        100.0   \n",
       "3     2014-06-29   iPhone       20.0                 True         80.0   \n",
       "4     2014-03-15  Android       11.8                False         82.4   \n",
       "\n",
       "   avg_dist  avg_rating_by_driver  days_active  days_inactive  \\\n",
       "0      3.67                   5.0          143             14   \n",
       "1      8.26                   5.0           96             57   \n",
       "2      0.77                   5.0            1            175   \n",
       "3      2.36                   4.9          170              2   \n",
       "4      3.13                   4.9           47            108   \n",
       "\n",
       "   Sixth_Month_User  \n",
       "0               1.0  \n",
       "1               0.0  \n",
       "2               0.0  \n",
       "3               1.0  \n",
       "4               0.0  "
      ]
     },
     "execution_count": 150,
     "metadata": {},
     "output_type": "execute_result"
    }
   ],
   "source": [
    "numeric_df['city'].replace(to_replace = \"King's Landing\", value = 1, inplace = True)\n",
    "numeric_df['city'].replace(to_replace = \"Astapor\", value = 2, inplace = True)\n",
    "numeric_df['city'].replace(to_replace = \"Winterfell\", value = 3, inplace = True)\n",
    "numeric_df.head()"
   ]
  },
  {
   "cell_type": "code",
   "execution_count": 151,
   "id": "7efcb2e3-0891-4e4e-9788-22eddfe91746",
   "metadata": {},
   "outputs": [
    {
     "data": {
      "text/html": [
       "<div>\n",
       "<style scoped>\n",
       "    .dataframe tbody tr th:only-of-type {\n",
       "        vertical-align: middle;\n",
       "    }\n",
       "\n",
       "    .dataframe tbody tr th {\n",
       "        vertical-align: top;\n",
       "    }\n",
       "\n",
       "    .dataframe thead th {\n",
       "        text-align: right;\n",
       "    }\n",
       "</style>\n",
       "<table border=\"1\" class=\"dataframe\">\n",
       "  <thead>\n",
       "    <tr style=\"text-align: right;\">\n",
       "      <th></th>\n",
       "      <th>city</th>\n",
       "      <th>trips_in_first_30_days</th>\n",
       "      <th>signup_date</th>\n",
       "      <th>avg_rating_of_driver</th>\n",
       "      <th>avg_surge</th>\n",
       "      <th>last_trip_date</th>\n",
       "      <th>phone</th>\n",
       "      <th>surge_pct</th>\n",
       "      <th>ultimate_black_user</th>\n",
       "      <th>weekday_pct</th>\n",
       "      <th>avg_dist</th>\n",
       "      <th>avg_rating_by_driver</th>\n",
       "      <th>days_active</th>\n",
       "      <th>days_inactive</th>\n",
       "      <th>Sixth_Month_User</th>\n",
       "    </tr>\n",
       "  </thead>\n",
       "  <tbody>\n",
       "    <tr>\n",
       "      <th>0</th>\n",
       "      <td>1</td>\n",
       "      <td>4</td>\n",
       "      <td>2014-01-25</td>\n",
       "      <td>4.7</td>\n",
       "      <td>1.10</td>\n",
       "      <td>2014-06-17</td>\n",
       "      <td>1</td>\n",
       "      <td>15.4</td>\n",
       "      <td>True</td>\n",
       "      <td>46.2</td>\n",
       "      <td>3.67</td>\n",
       "      <td>5.0</td>\n",
       "      <td>143</td>\n",
       "      <td>14</td>\n",
       "      <td>1.0</td>\n",
       "    </tr>\n",
       "    <tr>\n",
       "      <th>1</th>\n",
       "      <td>2</td>\n",
       "      <td>0</td>\n",
       "      <td>2014-01-29</td>\n",
       "      <td>5.0</td>\n",
       "      <td>1.00</td>\n",
       "      <td>2014-05-05</td>\n",
       "      <td>2</td>\n",
       "      <td>0.0</td>\n",
       "      <td>False</td>\n",
       "      <td>50.0</td>\n",
       "      <td>8.26</td>\n",
       "      <td>5.0</td>\n",
       "      <td>96</td>\n",
       "      <td>57</td>\n",
       "      <td>0.0</td>\n",
       "    </tr>\n",
       "    <tr>\n",
       "      <th>2</th>\n",
       "      <td>2</td>\n",
       "      <td>3</td>\n",
       "      <td>2014-01-06</td>\n",
       "      <td>4.3</td>\n",
       "      <td>1.00</td>\n",
       "      <td>2014-01-07</td>\n",
       "      <td>1</td>\n",
       "      <td>0.0</td>\n",
       "      <td>False</td>\n",
       "      <td>100.0</td>\n",
       "      <td>0.77</td>\n",
       "      <td>5.0</td>\n",
       "      <td>1</td>\n",
       "      <td>175</td>\n",
       "      <td>0.0</td>\n",
       "    </tr>\n",
       "    <tr>\n",
       "      <th>3</th>\n",
       "      <td>1</td>\n",
       "      <td>9</td>\n",
       "      <td>2014-01-10</td>\n",
       "      <td>4.6</td>\n",
       "      <td>1.14</td>\n",
       "      <td>2014-06-29</td>\n",
       "      <td>1</td>\n",
       "      <td>20.0</td>\n",
       "      <td>True</td>\n",
       "      <td>80.0</td>\n",
       "      <td>2.36</td>\n",
       "      <td>4.9</td>\n",
       "      <td>170</td>\n",
       "      <td>2</td>\n",
       "      <td>1.0</td>\n",
       "    </tr>\n",
       "    <tr>\n",
       "      <th>4</th>\n",
       "      <td>3</td>\n",
       "      <td>14</td>\n",
       "      <td>2014-01-27</td>\n",
       "      <td>4.4</td>\n",
       "      <td>1.19</td>\n",
       "      <td>2014-03-15</td>\n",
       "      <td>2</td>\n",
       "      <td>11.8</td>\n",
       "      <td>False</td>\n",
       "      <td>82.4</td>\n",
       "      <td>3.13</td>\n",
       "      <td>4.9</td>\n",
       "      <td>47</td>\n",
       "      <td>108</td>\n",
       "      <td>0.0</td>\n",
       "    </tr>\n",
       "  </tbody>\n",
       "</table>\n",
       "</div>"
      ],
      "text/plain": [
       "   city  trips_in_first_30_days signup_date  avg_rating_of_driver  avg_surge  \\\n",
       "0     1                       4  2014-01-25                   4.7       1.10   \n",
       "1     2                       0  2014-01-29                   5.0       1.00   \n",
       "2     2                       3  2014-01-06                   4.3       1.00   \n",
       "3     1                       9  2014-01-10                   4.6       1.14   \n",
       "4     3                      14  2014-01-27                   4.4       1.19   \n",
       "\n",
       "  last_trip_date  phone  surge_pct  ultimate_black_user  weekday_pct  \\\n",
       "0     2014-06-17      1       15.4                 True         46.2   \n",
       "1     2014-05-05      2        0.0                False         50.0   \n",
       "2     2014-01-07      1        0.0                False        100.0   \n",
       "3     2014-06-29      1       20.0                 True         80.0   \n",
       "4     2014-03-15      2       11.8                False         82.4   \n",
       "\n",
       "   avg_dist  avg_rating_by_driver  days_active  days_inactive  \\\n",
       "0      3.67                   5.0          143             14   \n",
       "1      8.26                   5.0           96             57   \n",
       "2      0.77                   5.0            1            175   \n",
       "3      2.36                   4.9          170              2   \n",
       "4      3.13                   4.9           47            108   \n",
       "\n",
       "   Sixth_Month_User  \n",
       "0               1.0  \n",
       "1               0.0  \n",
       "2               0.0  \n",
       "3               1.0  \n",
       "4               0.0  "
      ]
     },
     "execution_count": 151,
     "metadata": {},
     "output_type": "execute_result"
    }
   ],
   "source": [
    "numeric_df['phone'].replace(to_replace = \"iPhone\", value = 1, inplace = True)\n",
    "numeric_df['phone'].replace(to_replace = \"Android\", value = 2, inplace = True)\n",
    "numeric_df.head()"
   ]
  },
  {
   "cell_type": "code",
   "execution_count": 152,
   "id": "be193fa8-9667-48b1-abf6-9065bcdb858c",
   "metadata": {},
   "outputs": [],
   "source": [
    "numeric_df.to_csv('../ultimate_challenge/clean_df.csv', index= False)"
   ]
  }
 ],
 "metadata": {
  "kernelspec": {
   "display_name": "Python 3 (ipykernel)",
   "language": "python",
   "name": "python3"
  },
  "language_info": {
   "codemirror_mode": {
    "name": "ipython",
    "version": 3
   },
   "file_extension": ".py",
   "mimetype": "text/x-python",
   "name": "python",
   "nbconvert_exporter": "python",
   "pygments_lexer": "ipython3",
   "version": "3.9.7"
  }
 },
 "nbformat": 4,
 "nbformat_minor": 5
}
