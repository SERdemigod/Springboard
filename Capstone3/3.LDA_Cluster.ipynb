{
 "cells": [
  {
   "cell_type": "markdown",
   "id": "5aaf366c-9a89-43b1-b5f4-42a299490f6d",
   "metadata": {},
   "source": [
    "## Description Clustering"
   ]
  },
  {
   "cell_type": "code",
   "execution_count": 1,
   "id": "f35eae75-1921-4f53-9099-ace00248095c",
   "metadata": {},
   "outputs": [
    {
     "name": "stdout",
     "output_type": "stream",
     "text": [
      "Requirement already satisfied: corextopic in c:\\users\\sreed\\.conda\\envs\\cluster\\lib\\site-packages (1.1)\n",
      "Note: you may need to restart the kernel to use updated packages.\n"
     ]
    }
   ],
   "source": [
    "pip install corextopic"
   ]
  },
  {
   "cell_type": "code",
   "execution_count": 2,
   "id": "eb352ae1-8d9a-46e8-aa5a-8b9078dbfc8f",
   "metadata": {},
   "outputs": [
    {
     "name": "stdout",
     "output_type": "stream",
     "text": [
      "Collecting pyLDAvis\n",
      "  Downloading pyLDAvis-3.3.1.tar.gz (1.7 MB)\n",
      "  Installing build dependencies: started\n",
      "  Installing build dependencies: finished with status 'done'\n",
      "  Getting requirements to build wheel: started\n",
      "  Getting requirements to build wheel: finished with status 'done'\n",
      "  Installing backend dependencies: started\n",
      "  Installing backend dependencies: finished with status 'done'\n",
      "    Preparing wheel metadata: started\n",
      "    Preparing wheel metadata: finished with status 'done'\n",
      "Requirement already satisfied: pandas>=1.2.0 in c:\\users\\sreed\\anaconda3\\lib\\site-packages (from pyLDAvis) (1.4.2)\n",
      "Requirement already satisfied: setuptools in c:\\users\\sreed\\anaconda3\\lib\\site-packages (from pyLDAvis) (61.2.0)\n",
      "Requirement already satisfied: joblib in c:\\users\\sreed\\anaconda3\\lib\\site-packages (from pyLDAvis) (1.1.0)\n",
      "Requirement already satisfied: scikit-learn in c:\\users\\sreed\\anaconda3\\lib\\site-packages (from pyLDAvis) (1.0.2)\n",
      "Requirement already satisfied: jinja2 in c:\\users\\sreed\\anaconda3\\lib\\site-packages (from pyLDAvis) (2.11.3)\n",
      "Requirement already satisfied: scipy in c:\\users\\sreed\\anaconda3\\lib\\site-packages (from pyLDAvis) (1.7.3)\n",
      "Requirement already satisfied: future in c:\\users\\sreed\\anaconda3\\lib\\site-packages (from pyLDAvis) (0.18.2)\n",
      "Requirement already satisfied: numpy>=1.20.0 in c:\\users\\sreed\\anaconda3\\lib\\site-packages (from pyLDAvis) (1.21.5)\n",
      "Collecting sklearn\n",
      "  Downloading sklearn-0.0.tar.gz (1.1 kB)\n",
      "Requirement already satisfied: gensim in c:\\users\\sreed\\anaconda3\\lib\\site-packages (from pyLDAvis) (4.1.2)\n",
      "Requirement already satisfied: numexpr in c:\\users\\sreed\\anaconda3\\lib\\site-packages (from pyLDAvis) (2.8.1)\n",
      "Collecting funcy\n",
      "  Downloading funcy-1.17-py2.py3-none-any.whl (33 kB)\n",
      "Requirement already satisfied: pytz>=2020.1 in c:\\users\\sreed\\anaconda3\\lib\\site-packages (from pandas>=1.2.0->pyLDAvis) (2021.3)\n",
      "Requirement already satisfied: python-dateutil>=2.8.1 in c:\\users\\sreed\\anaconda3\\lib\\site-packages (from pandas>=1.2.0->pyLDAvis) (2.8.2)\n",
      "Requirement already satisfied: six>=1.5 in c:\\users\\sreed\\anaconda3\\lib\\site-packages (from python-dateutil>=2.8.1->pandas>=1.2.0->pyLDAvis) (1.16.0)\n",
      "Requirement already satisfied: smart-open>=1.8.1 in c:\\users\\sreed\\anaconda3\\lib\\site-packages (from gensim->pyLDAvis) (5.1.0)\n",
      "Requirement already satisfied: MarkupSafe>=0.23 in c:\\users\\sreed\\anaconda3\\lib\\site-packages (from jinja2->pyLDAvis) (2.0.1)\n",
      "Requirement already satisfied: packaging in c:\\users\\sreed\\anaconda3\\lib\\site-packages (from numexpr->pyLDAvis) (21.3)\n",
      "Requirement already satisfied: pyparsing!=3.0.5,>=2.0.2 in c:\\users\\sreed\\anaconda3\\lib\\site-packages (from packaging->numexpr->pyLDAvis) (3.0.4)\n",
      "Requirement already satisfied: threadpoolctl>=2.0.0 in c:\\users\\sreed\\anaconda3\\lib\\site-packages (from scikit-learn->pyLDAvis) (2.2.0)\n",
      "Building wheels for collected packages: pyLDAvis, sklearn\n",
      "  Building wheel for pyLDAvis (PEP 517): started\n",
      "  Building wheel for pyLDAvis (PEP 517): finished with status 'done'\n",
      "  Created wheel for pyLDAvis: filename=pyLDAvis-3.3.1-py2.py3-none-any.whl size=136882 sha256=6042a5825aab018cdf76b69c228c6dafb14889664069ecae49c81a763682dcd0\n",
      "  Stored in directory: c:\\users\\sreed\\appdata\\local\\pip\\cache\\wheels\\57\\a4\\86\\d10c6c2e0bf149fbc0afb0aa5a6528ac35b30a133a0270c477\n",
      "  Building wheel for sklearn (setup.py): started\n",
      "  Building wheel for sklearn (setup.py): finished with status 'done'\n",
      "  Created wheel for sklearn: filename=sklearn-0.0-py2.py3-none-any.whl size=1310 sha256=6f36f6cc9043db70789e5d8a91c319c8bced1eb9bff827369129460eecadce0a\n",
      "  Stored in directory: c:\\users\\sreed\\appdata\\local\\pip\\cache\\wheels\\e4\\7b\\98\\b6466d71b8d738a0c547008b9eb39bf8676d1ff6ca4b22af1c\n",
      "Successfully built pyLDAvis sklearn\n",
      "Installing collected packages: sklearn, funcy, pyLDAvis\n",
      "Successfully installed funcy-1.17 pyLDAvis-3.3.1 sklearn-0.0\n",
      "Note: you may need to restart the kernel to use updated packages.\n"
     ]
    }
   ],
   "source": [
    "pip install pyLDAvis"
   ]
  },
  {
   "cell_type": "code",
   "execution_count": 3,
   "id": "9162e61b-1caa-4ada-881c-a89a69ec8e17",
   "metadata": {},
   "outputs": [],
   "source": [
    "import numpy as np\n",
    "import pandas as pd\n",
    "import matplotlib.pyplot as plt\n",
    "%matplotlib inline\n",
    "\n",
    "from sklearn import metrics\n",
    "from sklearn.feature_extraction.text import CountVectorizer\n",
    "from sklearn.feature_extraction.text import TfidfVectorizer\n",
    "from sklearn.decomposition import LatentDirichletAllocation\n",
    "from sklearn.manifold import TSNE\n",
    "from sklearn.cluster import AffinityPropagation\n",
    "\n",
    "import gensim\n",
    "from gensim.corpora.dictionary import Dictionary\n",
    "from gensim.models.phrases import Phrases, Phraser\n",
    "from gensim.models import CoherenceModel\n",
    "import pyLDAvis\n",
    "import pyLDAvis.gensim_models"
   ]
  },
  {
   "cell_type": "code",
   "execution_count": 4,
   "id": "a69d826e-61f3-495d-9928-0083fd196ed7",
   "metadata": {},
   "outputs": [],
   "source": [
    "df = pd.read_csv('tidy_df.csv')"
   ]
  },
  {
   "cell_type": "code",
   "execution_count": 4,
   "id": "4a7f7bb1-6905-4a71-87f3-080230f2c2ee",
   "metadata": {},
   "outputs": [
    {
     "data": {
      "text/html": [
       "<div>\n",
       "<style scoped>\n",
       "    .dataframe tbody tr th:only-of-type {\n",
       "        vertical-align: middle;\n",
       "    }\n",
       "\n",
       "    .dataframe tbody tr th {\n",
       "        vertical-align: top;\n",
       "    }\n",
       "\n",
       "    .dataframe thead th {\n",
       "        text-align: right;\n",
       "    }\n",
       "</style>\n",
       "<table border=\"1\" class=\"dataframe\">\n",
       "  <thead>\n",
       "    <tr style=\"text-align: right;\">\n",
       "      <th></th>\n",
       "      <th>InvoiceNo</th>\n",
       "      <th>StockCode</th>\n",
       "      <th>Quantity</th>\n",
       "      <th>UnitPrice</th>\n",
       "      <th>CustomerID</th>\n",
       "      <th>Country</th>\n",
       "      <th>Sale_Total</th>\n",
       "      <th>cleaned_description</th>\n",
       "    </tr>\n",
       "  </thead>\n",
       "  <tbody>\n",
       "    <tr>\n",
       "      <th>0</th>\n",
       "      <td>536365.0</td>\n",
       "      <td>85123A</td>\n",
       "      <td>6.0</td>\n",
       "      <td>2.55</td>\n",
       "      <td>17850.0</td>\n",
       "      <td>United Kingdom</td>\n",
       "      <td>15.30</td>\n",
       "      <td>hanging heart tlight holder</td>\n",
       "    </tr>\n",
       "    <tr>\n",
       "      <th>1</th>\n",
       "      <td>536365.0</td>\n",
       "      <td>71053.0</td>\n",
       "      <td>6.0</td>\n",
       "      <td>3.39</td>\n",
       "      <td>17850.0</td>\n",
       "      <td>United Kingdom</td>\n",
       "      <td>20.34</td>\n",
       "      <td>metal lantern</td>\n",
       "    </tr>\n",
       "    <tr>\n",
       "      <th>2</th>\n",
       "      <td>536365.0</td>\n",
       "      <td>84406B</td>\n",
       "      <td>8.0</td>\n",
       "      <td>2.75</td>\n",
       "      <td>17850.0</td>\n",
       "      <td>United Kingdom</td>\n",
       "      <td>22.00</td>\n",
       "      <td>cream cupid heart coat hanger</td>\n",
       "    </tr>\n",
       "    <tr>\n",
       "      <th>3</th>\n",
       "      <td>536365.0</td>\n",
       "      <td>84029G</td>\n",
       "      <td>6.0</td>\n",
       "      <td>3.39</td>\n",
       "      <td>17850.0</td>\n",
       "      <td>United Kingdom</td>\n",
       "      <td>20.34</td>\n",
       "      <td>knitted union flag hot water bottle</td>\n",
       "    </tr>\n",
       "    <tr>\n",
       "      <th>4</th>\n",
       "      <td>536365.0</td>\n",
       "      <td>84029E</td>\n",
       "      <td>6.0</td>\n",
       "      <td>3.39</td>\n",
       "      <td>17850.0</td>\n",
       "      <td>United Kingdom</td>\n",
       "      <td>20.34</td>\n",
       "      <td>woolly hottie heart</td>\n",
       "    </tr>\n",
       "  </tbody>\n",
       "</table>\n",
       "</div>"
      ],
      "text/plain": [
       "   InvoiceNo StockCode  Quantity  UnitPrice  CustomerID         Country  \\\n",
       "0   536365.0    85123A       6.0       2.55     17850.0  United Kingdom   \n",
       "1   536365.0   71053.0       6.0       3.39     17850.0  United Kingdom   \n",
       "2   536365.0    84406B       8.0       2.75     17850.0  United Kingdom   \n",
       "3   536365.0    84029G       6.0       3.39     17850.0  United Kingdom   \n",
       "4   536365.0    84029E       6.0       3.39     17850.0  United Kingdom   \n",
       "\n",
       "   Sale_Total                  cleaned_description  \n",
       "0       15.30          hanging heart tlight holder  \n",
       "1       20.34                        metal lantern  \n",
       "2       22.00        cream cupid heart coat hanger  \n",
       "3       20.34  knitted union flag hot water bottle  \n",
       "4       20.34                  woolly hottie heart  "
      ]
     },
     "execution_count": 4,
     "metadata": {},
     "output_type": "execute_result"
    }
   ],
   "source": [
    "df.head()"
   ]
  },
  {
   "cell_type": "code",
   "execution_count": 5,
   "id": "00b73463-861f-4b99-96f3-10954f357061",
   "metadata": {},
   "outputs": [
    {
     "data": {
      "text/plain": [
       "0            hanging heart tlight holder\n",
       "1                          metal lantern\n",
       "2          cream cupid heart coat hanger\n",
       "3    knitted union flag hot water bottle\n",
       "4                    woolly hottie heart\n",
       "Name: cleaned_description, dtype: object"
      ]
     },
     "execution_count": 5,
     "metadata": {},
     "output_type": "execute_result"
    }
   ],
   "source": [
    "X = df['cleaned_description']\n",
    "X.head()"
   ]
  },
  {
   "cell_type": "code",
   "execution_count": 8,
   "id": "38649b97-3148-4128-93f3-fcb21f388bf7",
   "metadata": {},
   "outputs": [
    {
     "data": {
      "text/plain": [
       "523695"
      ]
     },
     "execution_count": 8,
     "metadata": {},
     "output_type": "execute_result"
    }
   ],
   "source": [
    "len(X)"
   ]
  },
  {
   "cell_type": "markdown",
   "id": "05c54776-2eb3-4a6c-b9a8-57733acb931c",
   "metadata": {},
   "source": [
    "I am going to create a count vectorizer. Many of my descriptions contain bigrams like \"lunch box\" so I am going to include uni and bigrams. I scanned the entire description list to identify stopwords so no need to set a max_df. I will set a conservative min_df to exclude any odd off descriptions I might have missed."
   ]
  },
  {
   "cell_type": "code",
   "execution_count": 6,
   "id": "028450c7-7a9e-4df9-a54e-274bf9a7a129",
   "metadata": {},
   "outputs": [
    {
     "data": {
      "text/plain": [
       "(523695, 6845)"
      ]
     },
     "execution_count": 6,
     "metadata": {},
     "output_type": "execute_result"
    }
   ],
   "source": [
    "count_vectorizer = CountVectorizer(ngram_range = (1, 2), min_df = 5)\n",
    "\n",
    "transformed_vector = count_vectorizer.fit_transform(X)\n",
    "transformed_vector.shape"
   ]
  },
  {
   "cell_type": "code",
   "execution_count": 26,
   "id": "623e7031-f2b4-44fc-ada8-684c26709392",
   "metadata": {},
   "outputs": [],
   "source": [
    "lda_model = LatentDirichletAllocation(n_components = 2, max_iter=10)\n",
    "lda = lda_model.fit_transform(transformed_vector)"
   ]
  },
  {
   "cell_type": "code",
   "execution_count": 29,
   "id": "237e1329-7e6b-4149-90eb-638b7e6d35ac",
   "metadata": {},
   "outputs": [
    {
     "name": "stdout",
     "output_type": "stream",
     "text": [
      "56.2 s ± 2.22 s per loop (mean ± std. dev. of 7 runs, 1 loop each)\n"
     ]
    }
   ],
   "source": [
    "%%timeit\n",
    "\n",
    "lda_model.perplexity(transformed_vector)"
   ]
  },
  {
   "cell_type": "code",
   "execution_count": 30,
   "id": "1052f1c3-cc10-4f8d-9db8-2578b2a17acf",
   "metadata": {},
   "outputs": [
    {
     "data": {
      "text/plain": [
       "array(['abc', 'abc painted', 'abc treasure', 'abstract',\n",
       "       'abstract circle', 'acapulco', 'acapulco mat', 'account',\n",
       "       'account greeting', 'acrylic'], dtype=object)"
      ]
     },
     "execution_count": 30,
     "metadata": {},
     "output_type": "execute_result"
    }
   ],
   "source": [
    "feature_names = count_vectorizer.get_feature_names_out()\n",
    "feature_names[0:10]"
   ]
  },
  {
   "cell_type": "code",
   "execution_count": 12,
   "id": "32a2e912-6f76-4634-a201-43a6eab42940",
   "metadata": {},
   "outputs": [],
   "source": [
    "from IPython.display import clear_output"
   ]
  },
  {
   "cell_type": "code",
   "execution_count": 11,
   "id": "edd11060-dee3-43f2-8c03-fb36012ca420",
   "metadata": {},
   "outputs": [],
   "source": [
    "import timeit"
   ]
  },
  {
   "cell_type": "markdown",
   "id": "25d0d212-17ac-42bd-ae7a-7ab987833d07",
   "metadata": {},
   "source": [
    "<strong>How Many Clusters?</strong>\n",
    "\n",
    "For this problem I don't know in advance how many segments to break the business down into. My initial thought is to try to break it down into a few core segments(3-5) but I will try to explore some other options along the way."
   ]
  },
  {
   "cell_type": "markdown",
   "id": "3bb27a10-1ad1-4e6e-b2fa-e57232f5284a",
   "metadata": {},
   "source": [
    "### LDA with Scikit Learn"
   ]
  },
  {
   "cell_type": "code",
   "execution_count": 41,
   "id": "74b31b08-3273-41dd-8ba9-c4710c7bedfb",
   "metadata": {},
   "outputs": [
    {
     "name": "stdout",
     "output_type": "stream",
     "text": [
      "Current progress: 150.0 %\n"
     ]
    }
   ],
   "source": [
    "perplexities = []\n",
    "for NUM_TOPICS in range(2,4):\n",
    "    \n",
    "    clear_output(wait=True)\n",
    "    \n",
    "    lda_model = LatentDirichletAllocation(n_components = NUM_TOPICS, max_iter=10)\n",
    "    lda = lda_model.fit_transform(transformed_vector)\n",
    "    perplexities.append(lda_model.perplexity(transformed_vector))\n",
    "    \n",
    "    print(\"Current progress:\", np.round((NUM_TOPICS-1)/2 *100, 2),\"%\")"
   ]
  },
  {
   "cell_type": "code",
   "execution_count": 49,
   "id": "11b456a1-54de-4bda-881e-b03d0cba0c43",
   "metadata": {},
   "outputs": [
    {
     "name": "stdout",
     "output_type": "stream",
     "text": [
      "Current progress: 50.0 %\n",
      "Current run time: 26.72 minutes\n",
      "Expected Run Time: 53.44 minutes\n"
     ]
    }
   ],
   "source": [
    "start = timeit.default_timer()\n",
    "for NUM_TOPICS in range(4,6):\n",
    "    clear_output(wait=True)\n",
    "    \n",
    "    lda_model = LatentDirichletAllocation(n_components = NUM_TOPICS, max_iter=10)\n",
    "    lda = lda_model.fit_transform(transformed_vector)\n",
    "    perplexities.append(lda_model.perplexity(transformed_vector))\n",
    "    \n",
    "    stop = timeit.default_timer()\n",
    "    \n",
    "    time_perc = timeit.default_timer()\n",
    "    expected_time = np.round( ( (time_perc - start) / ((NUM_TOPICS-3)/2) )  / 60, 2)\n",
    "    \n",
    "    print(\"Current progress:\", np.round((NUM_TOPICS-3)/2 *100, 2),\"%\")\n",
    "    print(\"Current run time:\", np.round((stop - start)/60,2), \"minutes\")\n",
    "    print(\"Expected Run Time:\", expected_time, \"minutes\")"
   ]
  },
  {
   "cell_type": "code",
   "execution_count": 52,
   "id": "03dd218c-751b-4fd2-af4a-47baef022fdf",
   "metadata": {},
   "outputs": [
    {
     "name": "stdout",
     "output_type": "stream",
     "text": [
      "Current progress: 100.0 %\n",
      "Current run time: 36.69 minutes\n",
      "Expected Run Time: 36.69 minutes\n"
     ]
    }
   ],
   "source": [
    "start = timeit.default_timer()\n",
    "for NUM_TOPICS in range(6,9):\n",
    "    clear_output(wait=True)\n",
    "    \n",
    "    lda_model = LatentDirichletAllocation(n_components = NUM_TOPICS, max_iter=10)\n",
    "    lda = lda_model.fit_transform(transformed_vector)\n",
    "    perplexities.append(lda_model.perplexity(transformed_vector))\n",
    "    \n",
    "    stop = timeit.default_timer()\n",
    "    \n",
    "    time_perc = timeit.default_timer()\n",
    "    expected_time = np.round( ( (time_perc - start) / ((NUM_TOPICS-5)/3 ) ) / 60, 2)\n",
    "    \n",
    "    print(\"Current progress:\", np.round((NUM_TOPICS-5)/3 *100, 2),\"%\")\n",
    "    print(\"Current run time:\", np.round((stop - start)/60,2), \"minutes\")\n",
    "    print(\"Expected Run Time:\", expected_time, \"minutes\")"
   ]
  },
  {
   "cell_type": "code",
   "execution_count": 55,
   "id": "c347c6ee-580c-4569-a277-0d37a7ec44fb",
   "metadata": {},
   "outputs": [
    {
     "name": "stdout",
     "output_type": "stream",
     "text": [
      "Current progress: 100.0 %\n",
      "Current run time: 36.04 minutes\n",
      "Expected Run Time: 36.04 minutes\n"
     ]
    }
   ],
   "source": [
    "start = timeit.default_timer()\n",
    "for NUM_TOPICS in range(9,12):\n",
    "    clear_output(wait=True)\n",
    "    \n",
    "    lda_model = LatentDirichletAllocation(n_components = NUM_TOPICS, max_iter=10)\n",
    "    lda = lda_model.fit_transform(transformed_vector)\n",
    "    perplexities.append(lda_model.perplexity(transformed_vector))\n",
    "    \n",
    "    stop = timeit.default_timer()\n",
    "    \n",
    "    time_perc = timeit.default_timer()\n",
    "    expected_time = np.round( ( (time_perc - start) / ((NUM_TOPICS-8)/3 ) ) / 60, 2)\n",
    "    \n",
    "    print(\"Current progress:\", np.round((NUM_TOPICS-8)/3 *100, 2),\"%\")\n",
    "    print(\"Current run time:\", np.round((stop - start)/60,2), \"minutes\")\n",
    "    print(\"Expected Run Time:\", expected_time, \"minutes\")"
   ]
  },
  {
   "cell_type": "code",
   "execution_count": 56,
   "id": "27948999-19cc-4ae1-bafb-598a1dc7ce0d",
   "metadata": {},
   "outputs": [
    {
     "data": {
      "image/png": "[encoded data removed]",
      "text/plain": [
       "<Figure size 576x432 with 1 Axes>"
      ]
     },
     "metadata": {
      "needs_background": "light"
     },
     "output_type": "display_data"
    }
   ],
   "source": [
    "x = range(2, 12)\n",
    "y = perplexities\n",
    "\n",
    "fig, ax = plt.subplots(figsize=(8,6))\n",
    "ax.plot(x, y)\n",
    "\n",
    "ax.set(xlabel = 'num topics', ylabel = 'perplexity', title = 'LDA')\n",
    "ax.grid()\n",
    "\n",
    "plt.show()"
   ]
  },
  {
   "cell_type": "markdown",
   "id": "b1df5e76-b0d7-4aea-b6d4-bdedb1cae5c5",
   "metadata": {},
   "source": [
    "It looks like we get the greatest 'elbow' shape at 5 topics. Perplexity is still quite high though."
   ]
  },
  {
   "cell_type": "code",
   "execution_count": 21,
   "id": "1ad7f594-c3f0-4785-b023-606ecf233f27",
   "metadata": {},
   "outputs": [
    {
     "name": "stdout",
     "output_type": "stream",
     "text": [
      "Current progress: 100.0 %\n",
      "Current run time: 64.51 minutes\n",
      "Expected Run Time: 64.51 minutes\n"
     ]
    }
   ],
   "source": [
    "start = timeit.default_timer()\n",
    "perplexities = []\n",
    "for NUM_TOPICS in range(12,15):\n",
    "    clear_output(wait=True)\n",
    "    \n",
    "    lda_model = LatentDirichletAllocation(n_components = NUM_TOPICS, max_iter=10)\n",
    "    lda = lda_model.fit_transform(transformed_vector)\n",
    "    perplexities.append(lda_model.perplexity(transformed_vector))\n",
    "    \n",
    "    stop = timeit.default_timer()\n",
    "    \n",
    "    time_perc = timeit.default_timer()\n",
    "    expected_time = np.round( ( (time_perc - start) / ((NUM_TOPICS-11)/3 ) ) / 60, 2)\n",
    "    \n",
    "    print(\"Current progress:\", np.round((NUM_TOPICS-11)/3 *100, 2),\"%\")\n",
    "    print(\"Current run time:\", np.round((stop - start)/60,2), \"minutes\")\n",
    "    print(\"Expected Run Time:\", expected_time, \"minutes\")"
   ]
  },
  {
   "cell_type": "code",
   "execution_count": null,
   "id": "43c3af6d-b6fb-4a72-ab4e-99d004bd86aa",
   "metadata": {},
   "outputs": [
    {
     "name": "stdout",
     "output_type": "stream",
     "text": [
      "Current progress: 100.0 %\n",
      "Current run time: 34.2 minutes\n",
      "Expected Run Time: 34.2 minutes\n"
     ]
    }
   ],
   "source": [
    "start = timeit.default_timer()\n",
    "for NUM_TOPICS in range(15,18):\n",
    "    clear_output(wait=True)\n",
    "    \n",
    "    lda_model = LatentDirichletAllocation(n_components = NUM_TOPICS, max_iter=10)\n",
    "    lda = lda_model.fit_transform(transformed_vector)\n",
    "    perplexities.append(lda_model.perplexity(transformed_vector))\n",
    "    \n",
    "    stop = timeit.default_timer()\n",
    "    \n",
    "    time_perc = timeit.default_timer()\n",
    "    expected_time = np.round( ( (time_perc - start) / ((NUM_TOPICS-14)/3 ) ) / 60, 2)\n",
    "    \n",
    "    print(\"Current progress:\", np.round((NUM_TOPICS-14)/3 *100, 2),\"%\")\n",
    "    print(\"Current run time:\", np.round((stop - start)/60,2), \"minutes\")\n",
    "    print(\"Expected Run Time:\", expected_time, \"minutes\")"
   ]
  },
  {
   "cell_type": "code",
   "execution_count": 24,
   "id": "2f48d2be-cdef-437e-92e0-1f50e53935e2",
   "metadata": {},
   "outputs": [
    {
     "data": {
      "image/png": "[encoded data removed]",
      "text/plain": [
       "<Figure size 576x432 with 1 Axes>"
      ]
     },
     "metadata": {
      "needs_background": "light"
     },
     "output_type": "display_data"
    }
   ],
   "source": [
    "x = range(12, 18)\n",
    "y = perplexities\n",
    "\n",
    "fig, ax = plt.subplots(figsize=(8,6))\n",
    "ax.plot(x, y)\n",
    "\n",
    "ax.set(xlabel = 'num topics', ylabel = 'perplexity', title = 'LDA')\n",
    "ax.grid()\n",
    "\n",
    "plt.show()"
   ]
  },
  {
   "cell_type": "code",
   "execution_count": 57,
   "id": "48faa413-0694-4d8d-b601-30d584ba2fbd",
   "metadata": {},
   "outputs": [
    {
     "name": "stdout",
     "output_type": "stream",
     "text": [
      "Current progress: 10.0 %\n",
      "Current run time: 15.02 minutes\n",
      "Expected Run Time: 150.22 minutes\n",
      "Current progress: 20.0 %\n",
      "Current run time: 29.66 minutes\n",
      "Expected Run Time: 148.3 minutes\n",
      "Current progress: 30.0 %\n",
      "Current run time: 44.76 minutes\n",
      "Expected Run Time: 149.21 minutes\n",
      "Current progress: 40.0 %\n",
      "Current run time: 57.41 minutes\n",
      "Expected Run Time: 143.53 minutes\n",
      "Current progress: 50.0 %\n",
      "Current run time: 69.16 minutes\n",
      "Expected Run Time: 138.32 minutes\n",
      "Current progress: 60.0 %\n",
      "Current run time: 80.46 minutes\n",
      "Expected Run Time: 134.11 minutes\n",
      "Current progress: 70.0 %\n",
      "Current run time: 91.87 minutes\n",
      "Expected Run Time: 131.24 minutes\n",
      "Current progress: 80.0 %\n",
      "Current run time: 102.82 minutes\n",
      "Expected Run Time: 128.53 minutes\n",
      "Current progress: 90.0 %\n",
      "Current run time: 113.89 minutes\n",
      "Expected Run Time: 126.55 minutes\n",
      "Current progress: 100.0 %\n",
      "Current run time: 124.78 minutes\n",
      "Expected Run Time: 124.78 minutes\n"
     ]
    }
   ],
   "source": [
    "start = timeit.default_timer()\n",
    "\n",
    "scores = []\n",
    "for NUM_TOPICS in range(2,12):\n",
    "    lda_model = LatentDirichletAllocation(n_components = NUM_TOPICS, max_iter=10)\n",
    "    lda = lda_model.fit_transform(transformed_vector)\n",
    "    scores.append(lda_model.score(transformed_vector))\n",
    "    \n",
    "    stop = timeit.default_timer()\n",
    "    \n",
    "    time_perc = timeit.default_timer()\n",
    "    expected_time = np.round( ( (time_perc - start) / ((NUM_TOPICS-1)/10 ) ) / 60, 2)\n",
    "    \n",
    "    print(\"Current progress:\", np.round((NUM_TOPICS-1)/10 *100, 2),\"%\")\n",
    "    print(\"Current run time:\", np.round((stop - start)/60,2), \"minutes\")\n",
    "    print(\"Expected Run Time:\", expected_time, \"minutes\")"
   ]
  },
  {
   "cell_type": "code",
   "execution_count": 58,
   "id": "dd352929-a40e-4068-b2ff-2ae2bdfb9be6",
   "metadata": {},
   "outputs": [
    {
     "data": {
      "image/png": "[encoded data removed]",
      "text/plain": [
       "<Figure size 576x432 with 1 Axes>"
      ]
     },
     "metadata": {
      "needs_background": "light"
     },
     "output_type": "display_data"
    }
   ],
   "source": [
    "x = range(2, 12)\n",
    "y = scores\n",
    "\n",
    "fig, ax = plt.subplots(figsize=(8,6))\n",
    "ax.plot(x, y)\n",
    "\n",
    "ax.set(xlabel = 'num topics', ylabel = 'score', title = 'LDA')\n",
    "ax.grid()\n",
    "\n",
    "plt.show()"
   ]
  },
  {
   "cell_type": "code",
   "execution_count": 59,
   "id": "7ea652fa-f2a7-42db-a779-9d98eb900808",
   "metadata": {},
   "outputs": [
    {
     "data": {
      "text/plain": [
       "(523695, 5)"
      ]
     },
     "execution_count": 59,
     "metadata": {},
     "output_type": "execute_result"
    }
   ],
   "source": [
    "NUM_TOPICS = 5\n",
    "\n",
    "lda_model = LatentDirichletAllocation(n_components = NUM_TOPICS, max_iter=10)\n",
    "\n",
    "lda = lda_model.fit_transform(transformed_vector)\n",
    "lda.shape"
   ]
  },
  {
   "cell_type": "code",
   "execution_count": 28,
   "id": "8ed18b0e-4075-485e-b0e2-e89ad1b85329",
   "metadata": {},
   "outputs": [],
   "source": [
    "def print_topic(identifier, top_words=10):\n",
    "    for topic_id, topic_word_probs in enumerate(lda_model.components_):\n",
    "        if topic_id == identifier:\n",
    "            print(f\"Topic {topic_id}: \")\n",
    "            \n",
    "            top_feature_names = [feature_names[i] + \",\" for i in topic_word_probs.argsort()[: -top_words - 1: -1]]\n",
    "            \n",
    "            print(\" \".join(top_feature_names))"
   ]
  },
  {
   "cell_type": "code",
   "execution_count": 93,
   "id": "717ee719-ed1b-48d4-aacd-811b215a75a2",
   "metadata": {},
   "outputs": [
    {
     "name": "stdout",
     "output_type": "stream",
     "text": [
      "Topic 0: \n",
      "vintage, card, paper, metal, christmas, sign, clock, retrospot, birthday, bunting,\n",
      "Topic 1: \n",
      "bag, design, lunch, lunch bag, box, retrospot, polkadot, spaceboy, suki, jam,\n",
      "Topic 2: \n",
      "tin, home, cake, pantry, design, candle, tea, cover, pantry design, vintage,\n",
      "Topic 3: \n",
      "heart, hanging, tlight, holder, decoration, christmas, tlight holder, hot, bottle, water,\n",
      "Topic 4: \n",
      "cake, retrospot, case, bag, box, cake case, dolly, design, girl, dolly girl,\n"
     ]
    }
   ],
   "source": [
    "for i in range(NUM_TOPICS):\n",
    "    print_topic(i, top_words=10)"
   ]
  },
  {
   "cell_type": "markdown",
   "id": "1045ff86-7a09-4912-b119-8210bc247487",
   "metadata": {},
   "source": [
    "Descriptions containing the same words are being placed into multiple topics (e.g. 'christmas' is in topic 0 and 3, and 'box' is in 1 and 4). This might be okay. For example we meaningfully could group 'christmas card' and 'thanksgiving card' together, then group 'christmas decoration' and 'thanksgiving decoration'. That said, this could also be a sign that our groupings are just too loose make meaningful distinctions."
   ]
  },
  {
   "cell_type": "code",
   "execution_count": 62,
   "id": "41e140a4-37c1-4f35-bf87-3aa5293ccd4a",
   "metadata": {},
   "outputs": [],
   "source": [
    "topics = []\n",
    "\n",
    "for i in range(len(X)):\n",
    "    topics.append(lda[i].argmax())"
   ]
  },
  {
   "cell_type": "code",
   "execution_count": 63,
   "id": "81a8fcb3-d7fd-4918-afd6-452f1e60078f",
   "metadata": {},
   "outputs": [
    {
     "name": "stderr",
     "output_type": "stream",
     "text": [
      "C:\\Users\\SReed\\.conda\\envs\\cluster\\lib\\site-packages\\sklearn\\manifold\\_t_sne.py:790: FutureWarning: The default learning rate in TSNE will change from 200.0 to 'auto' in 1.2.\n",
      "  warnings.warn(\n",
      "C:\\Users\\SReed\\.conda\\envs\\cluster\\lib\\site-packages\\sklearn\\manifold\\_t_sne.py:982: FutureWarning: The PCA initialization in TSNE will change to have the standard deviation of PC1 equal to 1e-4 in 1.2. This will ensure better convergence.\n",
      "  warnings.warn(\n"
     ]
    },
    {
     "data": {
      "text/plain": [
       "(523695, 2)"
      ]
     },
     "execution_count": 63,
     "metadata": {},
     "output_type": "execute_result"
    }
   ],
   "source": [
    "tsne = TSNE(n_components = 2, init = 'pca', random_state = 0)\n",
    "lda_2d_tsne = tsne.fit_transform(lda)\n",
    "lda_df_tsne = pd.DataFrame(lda_2d_tsne)\n",
    "lda_df_tsne.shape"
   ]
  },
  {
   "cell_type": "code",
   "execution_count": 65,
   "id": "2faec2ab-4b62-44dd-bb30-3d5b7b20ec49",
   "metadata": {},
   "outputs": [
    {
     "data": {
      "text/html": [
       "<div>\n",
       "<style scoped>\n",
       "    .dataframe tbody tr th:only-of-type {\n",
       "        vertical-align: middle;\n",
       "    }\n",
       "\n",
       "    .dataframe tbody tr th {\n",
       "        vertical-align: top;\n",
       "    }\n",
       "\n",
       "    .dataframe thead th {\n",
       "        text-align: right;\n",
       "    }\n",
       "</style>\n",
       "<table border=\"1\" class=\"dataframe\">\n",
       "  <thead>\n",
       "    <tr style=\"text-align: right;\">\n",
       "      <th></th>\n",
       "      <th>InvoiceNo</th>\n",
       "      <th>StockCode</th>\n",
       "      <th>Quantity</th>\n",
       "      <th>UnitPrice</th>\n",
       "      <th>CustomerID</th>\n",
       "      <th>Country</th>\n",
       "      <th>Sale_Total</th>\n",
       "      <th>cleaned_description</th>\n",
       "      <th>topic</th>\n",
       "    </tr>\n",
       "  </thead>\n",
       "  <tbody>\n",
       "    <tr>\n",
       "      <th>0</th>\n",
       "      <td>536365.0</td>\n",
       "      <td>85123A</td>\n",
       "      <td>6.0</td>\n",
       "      <td>2.55</td>\n",
       "      <td>17850.0</td>\n",
       "      <td>United Kingdom</td>\n",
       "      <td>15.30</td>\n",
       "      <td>hanging heart tlight holder</td>\n",
       "      <td>3</td>\n",
       "    </tr>\n",
       "    <tr>\n",
       "      <th>1</th>\n",
       "      <td>536365.0</td>\n",
       "      <td>71053.0</td>\n",
       "      <td>6.0</td>\n",
       "      <td>3.39</td>\n",
       "      <td>17850.0</td>\n",
       "      <td>United Kingdom</td>\n",
       "      <td>20.34</td>\n",
       "      <td>metal lantern</td>\n",
       "      <td>0</td>\n",
       "    </tr>\n",
       "    <tr>\n",
       "      <th>2</th>\n",
       "      <td>536365.0</td>\n",
       "      <td>84406B</td>\n",
       "      <td>8.0</td>\n",
       "      <td>2.75</td>\n",
       "      <td>17850.0</td>\n",
       "      <td>United Kingdom</td>\n",
       "      <td>22.00</td>\n",
       "      <td>cream cupid heart coat hanger</td>\n",
       "      <td>3</td>\n",
       "    </tr>\n",
       "    <tr>\n",
       "      <th>3</th>\n",
       "      <td>536365.0</td>\n",
       "      <td>84029G</td>\n",
       "      <td>6.0</td>\n",
       "      <td>3.39</td>\n",
       "      <td>17850.0</td>\n",
       "      <td>United Kingdom</td>\n",
       "      <td>20.34</td>\n",
       "      <td>knitted union flag hot water bottle</td>\n",
       "      <td>3</td>\n",
       "    </tr>\n",
       "    <tr>\n",
       "      <th>4</th>\n",
       "      <td>536365.0</td>\n",
       "      <td>84029E</td>\n",
       "      <td>6.0</td>\n",
       "      <td>3.39</td>\n",
       "      <td>17850.0</td>\n",
       "      <td>United Kingdom</td>\n",
       "      <td>20.34</td>\n",
       "      <td>woolly hottie heart</td>\n",
       "      <td>2</td>\n",
       "    </tr>\n",
       "  </tbody>\n",
       "</table>\n",
       "</div>"
      ],
      "text/plain": [
       "   InvoiceNo StockCode  Quantity  UnitPrice  CustomerID         Country  \\\n",
       "0   536365.0    85123A       6.0       2.55     17850.0  United Kingdom   \n",
       "1   536365.0   71053.0       6.0       3.39     17850.0  United Kingdom   \n",
       "2   536365.0    84406B       8.0       2.75     17850.0  United Kingdom   \n",
       "3   536365.0    84029G       6.0       3.39     17850.0  United Kingdom   \n",
       "4   536365.0    84029E       6.0       3.39     17850.0  United Kingdom   \n",
       "\n",
       "   Sale_Total                  cleaned_description  topic  \n",
       "0       15.30          hanging heart tlight holder      3  \n",
       "1       20.34                        metal lantern      0  \n",
       "2       22.00        cream cupid heart coat hanger      3  \n",
       "3       20.34  knitted union flag hot water bottle      3  \n",
       "4       20.34                  woolly hottie heart      2  "
      ]
     },
     "execution_count": 65,
     "metadata": {},
     "output_type": "execute_result"
    }
   ],
   "source": [
    "df['topic'] = topics\n",
    "\n",
    "df.head()"
   ]
  },
  {
   "cell_type": "code",
   "execution_count": 67,
   "id": "04e85020-ade4-4796-83cf-2cf83f6031c5",
   "metadata": {},
   "outputs": [
    {
     "data": {
      "text/plain": [
       "<matplotlib.collections.PathCollection at 0x1a59d9b4d60>"
      ]
     },
     "execution_count": 67,
     "metadata": {},
     "output_type": "execute_result"
    },
    {
     "data": {
      "image/png": "[encoded data removed]",
      "text/plain": [
       "<Figure size 864x720 with 1 Axes>"
      ]
     },
     "metadata": {
      "needs_background": "light"
     },
     "output_type": "display_data"
    }
   ],
   "source": [
    "plt.subplots(figsize=(12, 10))\n",
    "plt.axis('equal')\n",
    "\n",
    "plt.scatter(lda_df_tsne[0], lda_df_tsne[1], c=df['topic'], cmap = plt.cm.Spectral)"
   ]
  },
  {
   "cell_type": "markdown",
   "id": "367d6c78-7f3c-4e06-8580-9d5d06c03f15",
   "metadata": {},
   "source": [
    "With so many data points converging to the center it makes some sense why topics would be overlapping. It looks like the partitions aren't horrible but the left most section of the orange looks questionable and the disconnected red seem to clearly be misclassified."
   ]
  },
  {
   "cell_type": "code",
   "execution_count": 37,
   "id": "da4693ae-6270-4a8b-a71c-b9e690ea5011",
   "metadata": {},
   "outputs": [],
   "source": [
    "from mpl_toolkits import mplot3d"
   ]
  },
  {
   "cell_type": "markdown",
   "id": "59a903d4-f02b-4292-9e91-fa80e291df9e",
   "metadata": {},
   "source": [
    "## LDA with Gensim"
   ]
  },
  {
   "cell_type": "code",
   "execution_count": 55,
   "id": "5d896535-f017-449c-9cec-f82725846952",
   "metadata": {},
   "outputs": [],
   "source": [
    "all_descriptions = df['cleaned_description'].values.tolist()\n",
    "all_tokens = [description.split(' ') for description in all_descriptions]"
   ]
  },
  {
   "cell_type": "code",
   "execution_count": 56,
   "id": "39d8e030-2a12-4c5d-80ef-6ecfd81f4958",
   "metadata": {},
   "outputs": [],
   "source": [
    "# Add bigrams to docs\n",
    "bigram_phrases = Phrases(all_tokens)\n",
    "bigram = Phraser(bigram_phrases)\n",
    "\n",
    "for idx in range(len(all_tokens)):\n",
    "    for token in bigram[all_tokens[idx]]:\n",
    "        if '_' in token:\n",
    "            # Token is a bigram, add to document.\n",
    "            all_tokens[idx].append(token)"
   ]
  },
  {
   "cell_type": "code",
   "execution_count": 57,
   "id": "42ce719e-d55b-4972-9935-5948769fa8e3",
   "metadata": {},
   "outputs": [
    {
     "data": {
      "text/plain": [
       "{'woolly_hottie': 18.90197083800673,\n",
       " 'paris_fashion': 16.5761231884058,\n",
       " 'inflatable_political': 75.58564288959563,\n",
       " 'political_globe': 99.00654632017456,\n",
       " 'polka_dot': 34.177383988902314,\n",
       " 'save_planet': 13.288937930687592,\n",
       " 'personal_doorsign': 30.47902589374926,\n",
       " 'youre_confusing': 16.156235276555844,\n",
       " 'willie_winkie': 13.59959947431003,\n",
       " 'le_enfants': 21.27144866385373,\n",
       " 'flying_duck': 12.416340257171116,\n",
       " 'rain_hat': 10.740611180370777,\n",
       " 'skipping_rope': 13.863849085733584,\n",
       " 'embroidered_quilt': 10.34636636320581,\n",
       " 'sew_crochet': 11.098825831702543,\n",
       " 'rotator_battery': 69.81857985912812,\n",
       " 'battery_operated': 69.85352059572062,\n",
       " 'take_leave': 17.95940042529586,\n",
       " 'im_holiday': 11.117040052665802,\n",
       " 'snowflake_portable': 22.78854846810648,\n",
       " 'football_celebration': 12.7001563071602,\n",
       " 'bright_blue': 63.95927637246456,\n",
       " 'invite_spaceman': 12.83248484848485,\n",
       " 'transfer_tattoo': 41.745286673553714,\n",
       " 'funny_face': 33.8924753808602,\n",
       " 'swirly_marble': 10.253850713305564,\n",
       " 'faceted_bangle': 185.19183673469388,\n",
       " 'bfly_ccover': 82.19565217391305,\n",
       " 'shimmering_pink': 17.067013888888887,\n",
       " 'slipper_shoe': 27.36874476987448,\n",
       " 'valentine_decoupage': 12.79861111111111,\n",
       " 'go_fair': 23.65888888888889,\n",
       " 'beach_spade': 12.869066265060242,\n",
       " 'namaste_swagat': 121.02923976608187,\n",
       " 'swagat_incense': 12.799010513296228,\n",
       " 'hyacinth_bulb': 131.03328773369813,\n",
       " 'hour_cigar': 15.84188764540493,\n",
       " 'hair_grip': 16.872738863654472,\n",
       " 'grip_dia': 37.76279650436954,\n",
       " 'grip_montana': 13.594606741573035,\n",
       " 'first_aid': 10.231387804537617,\n",
       " 'make_monsoon': 12.38776198506384,\n",
       " 'circular_rubber': 10.562565886569681,\n",
       " 'sock_mitten': 11.001272958719767,\n",
       " 'three_canvas': 10.259544393260553,\n",
       " 'de_provence': 11.574305256612618,\n",
       " 'make_playtime': 12.139025813983656,\n",
       " 'longboard_ironing': 67.97454610181559,\n",
       " 'gentleman_shirt': 11.2743290864733,\n",
       " 'shirt_repair': 24.964585834333732,\n",
       " 'world_champion': 10.679516250944822,\n",
       " 'hi_tec': 65.05738170603036,\n",
       " 'tec_alpine': 65.05738170603036,\n",
       " 'polyester_filler': 19.141157133464827,\n",
       " 'rainy_lady': 10.130751381357127,\n",
       " 'market_crate': 11.862469952861112,\n",
       " 'licorice_de': 11.469160768452983,\n",
       " 'spirit_level': 46.06415885447569,\n",
       " 'sporting_fun': 12.00864675936479,\n",
       " 'col_sand': 36.066772655007945,\n",
       " 'sand_gecko': 102.1891891891892,\n",
       " 'gecko_pweight': 222.41176470588235,\n",
       " 'lizard_suction': 48.41124131944444,\n",
       " 'fire_enginecar': 33.75892857142857,\n",
       " 'enginecar_patch': 10.091637010676157,\n",
       " 'enchanted_forest': 10.0585262037776,\n",
       " 'forest_placemat': 18.516832329681492,\n",
       " 'make_flowerpower': 12.448486308520035,\n",
       " 'life_beautiful': 21.87992371933978,\n",
       " 'junk_mail': 27.094917150620706,\n",
       " 'screen_print': 16.456440856440857,\n",
       " 'peace_earth': 38.2062125748503,\n",
       " 'booze_woman': 119.1397146254459,\n",
       " 'emergency_first': 10.103356521935215,\n",
       " 'grand_chocolatecandle': 19.56156462585034,\n",
       " 'charlielolaextremely_busy': 67.97454610181559,\n",
       " 'let_go': 37.24871794871795,\n",
       " 'dragonfly_helicopter': 33.73061380099123,\n",
       " 'shark_helicopter': 33.28112028007001,\n",
       " 'rain_poncho': 11.079163404275512,\n",
       " 'fringe_hammock': 27.040118611547182,\n",
       " 'choc_truffle': 17.769851290684624,\n",
       " 'flora_fauna': 28.255758184150356,\n",
       " 'local_cafe': 12.903453844630315,\n",
       " 'pig_keyring': 27.175019425019425,\n",
       " 'air_hostess': 67.97454610181559,\n",
       " 'fun_ludo': 12.011306835290576,\n",
       " 'modelling_clay': 19.141157133464827,\n",
       " 'motorbike_santa': 10.09861184326129,\n",
       " 'jewel_icicle': 38.42913608130999,\n",
       " 'halloween_ghost': 85.61997387138916,\n",
       " 'ocean_scent': 12.254387477157534,\n",
       " 'laundry_c': 13.689868281415817,\n",
       " 'susan_needle': 42.68706057328286,\n",
       " 'hair_slide': 10.242070527974784,\n",
       " 'mop_orbit': 36.96204715353652,\n",
       " 'necklacebracelet_hibiscus': 79.98269230769232,\n",
       " 'murano_twist': 54.469193262411345,\n",
       " 'copper_boudicca': 10.384224547526847,\n",
       " 'silveramethyst_drop': 10.376163873370578,\n",
       " 'lariat_stone': 38.58163265306122,\n",
       " 'enamelglass_hair': 16.872738863654472,\n",
       " 'hair_comb': 17.132190701339635,\n",
       " 'h_bling': 11.094483568075116,\n",
       " 'j_bling': 11.689797320508417,\n",
       " 'r_bling': 10.650704225352113,\n",
       " 'crochet_skirt': 10.694666907859034,\n",
       " 'denim_patch': 12.334223013048636,\n",
       " 'origami_sandlewood': 15.325466022081953,\n",
       " 'sandlewood_incenseflower': 21.39179632248939,\n",
       " 'origami_jasmine': 13.297870001978326,\n",
       " 'jasmine_incensecandle': 23.89540624876565,\n",
       " 'sandlewood_incensecand': 70.888771855909,\n",
       " 'oil_burner': 67.94249775381851,\n",
       " 'abstract_circle': 20.641713828388497,\n",
       " 'du_sud': 23.33377227031967,\n",
       " 'height_chart': 44.44150596877869,\n",
       " 'eucalyptus_pinecone': 92.95394736842105,\n",
       " 'tutti_frutti': 12.395874598729595,\n",
       " 'cordon_barrier': 52.44593965115677,\n",
       " 'faux_fur': 136.11599999999999,\n",
       " 'childhood_memory': 56.34805600624962,\n",
       " 'lightsfunk_monkey': 18.32063492063492,\n",
       " 'nursery_abc': 21.18556361239288,\n",
       " 'dutch_cheese': 50.27925531914894,\n",
       " 'swiss_chalet': 24.101666531615482,\n",
       " 'lamp_shade': 13.6868778280543,\n",
       " 'cowboy_indian': 13.070435386038861,\n",
       " 'ear_muff': 82.81800973499189,\n",
       " 'muff_headphone': 82.81800973499189,\n",
       " 'dragon_blood': 48.47435897435897,\n",
       " 'blood_incense': 12.231007088149944,\n",
       " 'mousey_long': 69.16463414634146,\n",
       " 'long_leg': 69.16463414634146,\n",
       " 'sud_drawstring': 21.909470884392515,\n",
       " 'fishing_gnome': 61.60921477735637,\n",
       " 'salle_de': 11.618549542761748,\n",
       " 'de_bain': 11.618549542761748,\n",
       " 'print_seafood': 11.944190944190943,\n",
       " 'crested_tit': 257.3081285444234,\n",
       " 'posy_vase': 17.892175088727395,\n",
       " 'medina_stamped': 20.23392290249433,\n",
       " 'mock_lobster': 149.37283950617282,\n",
       " 'lobster_fridge': 10.453775704164507,\n",
       " 'rain_mac': 10.994600864188454,\n",
       " 'creepy_crawlies': 69.11195734958112,\n",
       " 'pharmacie_first': 10.016609029474285,\n",
       " 'ping_microwave': 28.10144054178145,\n",
       " 'family_album': 10.264618910469627,\n",
       " 'cast_iron': 18.869893221912722,\n",
       " 'curtain_pole': 26.70905077262693,\n",
       " 'woven_berry': 18.538100102145044,\n",
       " 'corona_mexican': 172.81578947368422,\n",
       " 'area_patrolled': 12.357137490608565,\n",
       " 'fanny_rest': 28.958707958707958,\n",
       " 'rest_stopmetal': 28.958707958707958,\n",
       " 'midnight_glamour': 41.378932968536255,\n",
       " 'glamour_scarf': 26.756302521008404,\n",
       " 'mixed_nut': 93.41294117647058,\n",
       " 'grass_hopper': 104.03130929791271,\n",
       " 'jungle_popsicle': 39.35725928679688,\n",
       " 'coney_island': 10.200539568345324,\n",
       " 'copper_turq': 18.11799940101827,\n",
       " 'turq_boudicca': 12.57974630900395,\n",
       " 'amethyst_glassshellpearl': 28.643939393939394,\n",
       " 'la_vega': 30.388747884940777,\n",
       " 'e_bling': 11.094483568075116,\n",
       " 'ladybird_bee': 71.86931986931987,\n",
       " 'wake_cockerel': 82.81800973499189,\n",
       " 'bamboo_rib': 81.737962659679,\n",
       " 'rib_lampshade': 60.08089563019141,\n",
       " 'cute_creature': 49.365574207300824,\n",
       " 'stack_present': 21.633628645256554,\n",
       " 'world_war': 10.952039117769454,\n",
       " 'war_glider': 14.028454600288965,\n",
       " 'lovely_bonbon': 52.038740920096856,\n",
       " 'penny_farthing': 28.10144054178145,\n",
       " 'la_vie': 36.045190045809086,\n",
       " 'vie_en': 86.59637120761451,\n",
       " 'flying_disc': 23.650699588477366,\n",
       " 'dairy_maid': 15.325617005944876,\n",
       " 'touch_stuff': 33.566752507454595,\n",
       " 'hen_nest': 10.580576131687243,\n",
       " 'best_wish': 10.366378066378067,\n",
       " 'chinese_dragon': 21.314460784313724,\n",
       " 'shoe_shine': 28.044693799923927,\n",
       " 'chunky_glassbead': 17.3241695303551,\n",
       " 'fooddrink_sponge': 10.464172972972973,\n",
       " 'bow_brooch': 17.99232481387674,\n",
       " 'clam_shell': 29.460709549071616,\n",
       " 'cockle_shell': 30.198149087221097,\n",
       " 'sock_puppet': 10.75767859591389,\n",
       " 'space_cadet': 32.5221408091749,\n",
       " 'feng_shui': 105.89577594123048,\n",
       " 'shui_pillar': 27.19502417167787,\n",
       " 'maid_toastrack': 14.73629861780778,\n",
       " 'lush_green': 336.0888888888889,\n",
       " 'neighbourhood_witch': 30.356725342649828,\n",
       " 'doggy_rubber': 50.81989247311828,\n",
       " 'la_palmiera': 35.186971235194584,\n",
       " 'mosaic_goblet': 19.007075032582385,\n",
       " 'teddy_bear': 24.046628315755832,\n",
       " 'chime_bamboo': 58.62015503875969,\n",
       " 'plastic_polka': 11.730851270118286,\n",
       " 'bubble_gum': 39.874952919020714,\n",
       " 'fly_swat': 65.6206611570248,\n",
       " 'beach_hut': 22.03454391891892,\n",
       " 'eau_de': 11.836990257199147,\n",
       " 'de_nile': 11.354354354354355,\n",
       " 'fire_polished': 38.392507002801125,\n",
       " 'b_bling': 10.287612035851472,\n",
       " 'rattle_snake': 12.200749674054759,\n",
       " 'summer_bdraw': 36.00952380952381,\n",
       " 'bdraw_liner': 128.7148936170213,\n",
       " 'salt_pepper': 22.33354868481772,\n",
       " 'hello_sailor': 112.13163371488034,\n",
       " 'bone_china': 39.35725928679688,\n",
       " 'frappucino_scarf': 26.55827067669173,\n",
       " 'footprint_sand': 153.2837837837838,\n",
       " 'velvet_lounge': 122.75974025974025,\n",
       " 'midnight_glasssilver': 11.569767441860465,\n",
       " 'blackwhite_glasssilver': 24.875,\n",
       " 'lime_boudicca': 30.223373547479834,\n",
       " 'forked_cactus': 14.144607843137255,\n",
       " 'pop_boxfunky': 40.56566777654458,\n",
       " 'boxfunky_monkey': 16.973529411764705,\n",
       " 'leap_frog': 22.637521534073258,\n",
       " 'padded_seat': 17.98774053856241,\n",
       " 'hearticecream_patch': 12.775944498364428,\n",
       " 'glowing_tiara': 228.20850480109738,\n",
       " 'embroidery_cosmetic': 28.469067969067968,\n",
       " 'shower_cap': 194.43158861340677,\n",
       " 'sunset_check': 12.493739130434783,\n",
       " 'sage_incense': 12.982693212970398,\n",
       " 'afghan_slipper': 29.216818181818184,\n",
       " 'lattice_charger': 29.64936519790889,\n",
       " 'carnival_pouffe': 30.538846153846155,\n",
       " 'mosaic_hurricane': 25.72535678725523,\n",
       " 'hurricane_lamp': 15.248967145386581,\n",
       " 'woven_frost': 17.977019590578912,\n",
       " 'stiletto_phone': 30.739837398373986,\n",
       " 'st_tropez': 122.29649595687331,\n",
       " 'wedding_day': 10.137309235962954,\n",
       " 'amber_glasssilver': 19.20175438596491,\n",
       " 'brooch_olive': 37.43564356435644,\n",
       " 'turq_stonecrystal': 44.162623539982036,\n",
       " 'essential_balm': 204.59105098855358,\n",
       " 'clean_bullet': 189.70415224913495,\n",
       " 'toxic_area': 12.120410718757826,\n",
       " 'plasmatronic_lamp': 13.389337005705292,\n",
       " 'wireless_doorbell': 129.21893912424352,\n",
       " 'badge_beetle': 15.030851063829788,\n",
       " 'pinkblue_discmirror': 252.06666666666666,\n",
       " 'frangipani_hairclip': 40.56245210727969,\n",
       " 'turqred_boudicca': 26.671481357070878,\n",
       " 'cluster_slide': 23.256150793650793,\n",
       " 'flytrap_sunflower': 21.557143540441,\n",
       " 'freestyle_canvas': 18.265700483091788,\n",
       " 'porcelain_budah': 18.271788035327443,\n",
       " 'budah_incense': 11.966495689184764,\n",
       " 'potion_masala': 189.05,\n",
       " 'family_favourite': 10.193155437957115,\n",
       " 'push_rubber': 40.655913978494624,\n",
       " 'lightbulb_rainbow': 35.66981132075472,\n",
       " 'de_nil': 11.597270147994784,\n",
       " 'hair_tie': 15.933908932058792,\n",
       " 'frog_prince': 22.34295391489208,\n",
       " 'tigris_eye': 283.575,\n",
       " 'eye_chunky': 29.23453608247423,\n",
       " 'sticky_gordon': 30.109623856319892,\n",
       " 'hair_band': 16.251880507199655,\n",
       " 'k_bling': 11.56161971830986,\n",
       " 'fuschia_voile': 12.548954530368404,\n",
       " 'voile_pointy': 219.18840579710144,\n",
       " 'pointy_shoe': 21.09344490934449,\n",
       " 'sculpted_rnd': 308.65306122448976,\n",
       " 'frosted_base': 13.391971664698938,\n",
       " 'overcrowded_pool': 129.21893912424352,\n",
       " 'grip_peridot': 61.364544319600505,\n",
       " 'laquered_incense': 11.106833642547928,\n",
       " 'triangular_pouffe': 80.2030303030303,\n",
       " 'sheep_wool': 13.553296184051879,\n",
       " 'wool_growing': 18.738905158819552,\n",
       " 'kukui_coconut': 180.88117283950615,\n",
       " 'coconut_seed': 36.78939108600125,\n",
       " 'copper_lime': 36.27438439398785,\n",
       " 'scissorpointed_edge': 100.31224489795918,\n",
       " 'hairclips_forty': 110.50541698160747,\n",
       " 'forty_fabric': 10.238001867413631,\n",
       " 'standing_gnome': 25.520473976301187,\n",
       " 'pompom_curtain': 47.06263464453841,\n",
       " 'hawaiian_grass': 33.79828993392926,\n",
       " 'grass_skirt': 23.573597180807806,\n",
       " 'pastel_flowe': 39.86119042389633,\n",
       " 'colourful_mixing': 117.03095238095239,\n",
       " 'popart_rect': 38.441539578794476,\n",
       " 'bili_nut': 28.80761904761905,\n",
       " 'aqua_bertie': 73.51944444444445,\n",
       " 'mum_dad': 22.990530303030305,\n",
       " 'dad_room': 39.930921052631575,\n",
       " 'garld_necklamethyst': 257.7954545454545,\n",
       " 'mr_robot': 16.27190923317684,\n",
       " 'montana_diamond': 10.2535593220339,\n",
       " 'moroccan_beaten': 34.04215264988746,\n",
       " 'col_butterflycrystal': 68.4343891402715,\n",
       " 'butterflycrystal_wchime': 357.9644970414201,\n",
       " 'multi_screwdriver': 13.31568144499179,\n",
       " 'hippy_chic': 24.35426731078905,\n",
       " 'roccoco_chandelier': 18.905,\n",
       " 'tealfuschia_col': 68.4343891402715,\n",
       " 'fruitflowers_fridge': 10.812070435960468,\n",
       " 'queen_guard': 15.829439870511884,\n",
       " 'desk_chair': 91.66060606060606,\n",
       " 'monte_carlo': 374.9752066115703,\n",
       " 'carlo_handbag': 10.854545454545454,\n",
       " 'silvermop_orbit': 18.283365570599614,\n",
       " 'delphinium_artificial': 81.02142857142857,\n",
       " 'candystuft_artificial': 105.70537634408602,\n",
       " 'skippping_rope': 11.52438377948582,\n",
       " 'glow_dark': 34.12894906511928,\n",
       " 'dark_dolphin': 33.12515644555695,\n",
       " 'geometric_lamp': 13.035121741004094,\n",
       " 'two_sister': 27.918776371308017,\n",
       " 'chenille_shaggy': 374.9752066115703,\n",
       " 'spliff_ashtray': 45.01190476190476,\n",
       " 'grip_lt': 52.28694900605013,\n",
       " 'hunt_start': 180.88117283950615,\n",
       " 'start_post': 144.70493827160496,\n",
       " 'st_george': 103.0461215932914,\n",
       " 'barn_nest': 28.00740740740741,\n",
       " 'suede_back': 14.837719298245613,\n",
       " 'flame_sunglass': 77.16326530612244,\n",
       " 'sunglass_lens': 135.03571428571428,\n",
       " 'pole_support': 98.63478260869564,\n",
       " 'goldmop_pendant': 80.7536231884058,\n",
       " 'pendant_orbit': 13.990749306197966,\n",
       " 'tranquility_masala': 144.03809523809525,\n",
       " 'climbing_hydranga': 308.65306122448976,\n",
       " 'rolling_pin': 14.16294314381271,\n",
       " 'foxglove_artiifcial': 210.05555555555554,\n",
       " 'occupied_vacant': 16.80232293902285,\n",
       " 'buffalo_bill': 12.881502344091356,\n",
       " 'icon_coasterelvis': 26.673721340388006,\n",
       " 'coasterelvis_life': 10.09275942609276,\n",
       " 'hole_punch': 308.65306122448976,\n",
       " 'bad_hair': 13.814098431119708,\n",
       " 'george_chair': 18.671604938271603,\n",
       " 'elvis_wallhanging': 69.16463414634146,\n",
       " 'wallhanging_curtain': 18.77980132450331,\n",
       " 'open_closed': 17.44170860292356,\n",
       " 'pancake_day': 12.514664410603496,\n",
       " 'cooking_utensil': 33.87992831541219,\n",
       " 'aluminium_stamped': 22.106566175630924,\n",
       " 'point_snow': 27.133613087636075,\n",
       " 'cinderella_chandelier': 32.40857142857143,\n",
       " 'marie_antoinette': 140.78191489361703,\n",
       " 'point_sequin': 22.38836642284918,\n",
       " 'czech_cross': 12.13317288407541,\n",
       " 'army_supply': 52.387956301625366,\n",
       " 'next_day': 11.975053147641981,\n",
       " 'ollie_beak': 21.977776037451815,\n",
       " 'crackle_glaze': 10.889715588623545,\n",
       " 'doorknob_cracked': 90.02380952380952,\n",
       " 'sword_piece': 30.615384615384617,\n",
       " 'packing_charge': 183.79861111111111,\n",
       " 'sex_bomb': 26.97342607454967,\n",
       " 'quilted_patchwork': 29.82176694079738,\n",
       " 'perfect_post': 30.553535353535352,\n",
       " 'belle_jardiniere': 33.741331498509204,\n",
       " 'poste_france': 47.21331945889698,\n",
       " 'foot_stool': 20.576472712266582,\n",
       " 'jardin_botanique': 17.35896700143472,\n",
       " 'drop_pant': 13.745048247841545,\n",
       " 'lolly_maker': 17.185709938762315,\n",
       " 'riding_hood': 324.9296875,\n",
       " 'cheerful_robin': 189.05,\n",
       " 'tuscan_villa': 127.07064471879288,\n",
       " 'villa_dovecote': 114.10425240054869,\n",
       " 'field_chopping': 12.233771486349848,\n",
       " 'bicycle_saftey': 10.248864468864468,\n",
       " 'work_rest': 25.16794674859191,\n",
       " 'rest_play': 25.16794674859191,\n",
       " 'mid_century': 253.27272727272728,\n",
       " 'century_modern': 10.819417475728155,\n",
       " 'baseball_boot': 33.00200192184497,\n",
       " 'villa_feeding': 40.010582010582006,\n",
       " 'feeding_station': 308.65306122448976,\n",
       " 'bicycle_safety': 11.305206431986093,\n",
       " 'henrietta_hen': 11.53060867391576,\n",
       " 'milkmaid_ingrid': 31.67937219730942,\n",
       " 'milkmaid_helga': 31.21901914727027,\n",
       " 'milkmaid_heidi': 31.891842835789024,\n",
       " 'oxford_street': 76.05662134475693,\n",
       " 'baker_street': 70.1146978021978,\n",
       " 'notting_hill': 127.07064471879288,\n",
       " 'camden_town': 101.65259399285864,\n",
       " 'naught_cross': 26.790317366237403,\n",
       " 'chrome_bicycle': 11.341538461538462,\n",
       " 'bicycle_puncture': 11.164739454094294,\n",
       " 'puncture_repair': 24.68394777265745,\n",
       " 'perfectly_pretty': 42.27533193570929}"
      ]
     },
     "execution_count": 57,
     "metadata": {},
     "output_type": "execute_result"
    }
   ],
   "source": [
    "bigram.phrasegrams"
   ]
  },
  {
   "cell_type": "code",
   "execution_count": 58,
   "id": "a9c5a8a9-a195-4dd8-8eae-a69e11478414",
   "metadata": {},
   "outputs": [],
   "source": [
    "dictionary = Dictionary(all_tokens)"
   ]
  },
  {
   "cell_type": "code",
   "execution_count": 59,
   "id": "eb2fd6ae-54cc-4449-a22b-f38af1738062",
   "metadata": {},
   "outputs": [],
   "source": [
    "# bag-of-words representation of the documents\n",
    "corpus = [dictionary.doc2bow(text) for text in all_tokens]"
   ]
  },
  {
   "cell_type": "code",
   "execution_count": 79,
   "id": "25fcfa68-2322-4146-87e7-1d90b6fe37d3",
   "metadata": {},
   "outputs": [
    {
     "name": "stdout",
     "output_type": "stream",
     "text": [
      "Number of unique tokens: 2241\n",
      "Number of documents: 523695\n"
     ]
    }
   ],
   "source": [
    "print('Number of unique tokens: %d' % len(dictionary))\n",
    "print('Number of documents: %d' % len(corpus))"
   ]
  },
  {
   "cell_type": "markdown",
   "id": "54d5a34f-b7d0-4c66-afda-f5533a89c8f4",
   "metadata": {},
   "source": [
    "Less tokens than with sci-kit learn"
   ]
  },
  {
   "cell_type": "code",
   "execution_count": 60,
   "id": "8f53ed4f-5328-4ff5-a4b1-355e4851b055",
   "metadata": {},
   "outputs": [],
   "source": [
    "def compute_coherence_values(corpus, dictionary, num_topics):\n",
    "    \"\"\"\n",
    "    Returns coherence of LDA model based for a given number of topics\n",
    "    \n",
    "    Arguments:\n",
    "        corpus: list, of bag-of-words representation of each document\n",
    "        dictionary: gensim dictionary oboject of document tokens\n",
    "        num_topics: int, number of topics to model\n",
    "    Returns:\n",
    "        coherence: Cv coherence measure of topic model\n",
    "    \"\"\"\n",
    "    \n",
    "    # Set training parameters\n",
    "    chunksize = 2000\n",
    "    passes = 20\n",
    "    iterations = 400\n",
    "    eval_every = None  \n",
    "    \n",
    "    # Make a index to word dictionary.\n",
    "    temp = dictionary[0]  # This is only to \"load\" the dictionary.\n",
    "    id2word = dictionary.id2token\n",
    "    \n",
    "    lda_model = gensim.models.LdaModel(corpus=corpus,\n",
    "                                       id2word=id2word,\n",
    "                                       chunksize=chunksize,\n",
    "                                       alpha='auto',\n",
    "                                       eta='auto',\n",
    "                                       iterations=iterations,\n",
    "                                       num_topics=num_topics,\n",
    "                                       passes=passes,\n",
    "                                       eval_every=eval_every\n",
    "                                      )\n",
    "    \n",
    "    coherence_model_lda = CoherenceModel(model=lda_model, \n",
    "                                         texts=all_tokens, \n",
    "                                         dictionary=dictionary, \n",
    "                                         coherence='c_v')\n",
    "    \n",
    "    coherence = coherence_model_lda.get_coherence()  \n",
    "    \n",
    "    return coherence"
   ]
  },
  {
   "cell_type": "code",
   "execution_count": 81,
   "id": "b6a747ba-1558-450c-8825-7f9331ef7dff",
   "metadata": {},
   "outputs": [
    {
     "name": "stdout",
     "output_type": "stream",
     "text": [
      "Current progress: 10.0 %\n",
      "Current run time: 13.98 minutes\n",
      "Expected Run Time: 139.78 minutes\n",
      "Current progress: 20.0 %\n",
      "Current run time: 29.89 minutes\n",
      "Expected Run Time: 149.43 minutes\n",
      "Current progress: 30.0 %\n",
      "Current run time: 46.4 minutes\n",
      "Expected Run Time: 154.68 minutes\n",
      "Current progress: 40.0 %\n",
      "Current run time: 63.14 minutes\n",
      "Expected Run Time: 157.84 minutes\n",
      "Current progress: 50.0 %\n",
      "Current run time: 79.98 minutes\n",
      "Expected Run Time: 159.97 minutes\n",
      "Current progress: 60.0 %\n",
      "Current run time: 97.07 minutes\n",
      "Expected Run Time: 161.78 minutes\n",
      "Current progress: 70.0 %\n",
      "Current run time: 113.38 minutes\n",
      "Expected Run Time: 161.96 minutes\n",
      "Current progress: 80.0 %\n",
      "Current run time: 130.2 minutes\n",
      "Expected Run Time: 162.75 minutes\n",
      "Current progress: 90.0 %\n",
      "Current run time: 147.45 minutes\n",
      "Expected Run Time: 163.83 minutes\n",
      "Current progress: 100.0 %\n",
      "Current run time: 164.97 minutes\n",
      "Expected Run Time: 164.97 minutes\n"
     ]
    }
   ],
   "source": [
    "start = timeit.default_timer()\n",
    "\n",
    "coherence_scores = []\n",
    "for NUM_TOPICS in range(2,12):\n",
    "    coherence = compute_coherence_values(corpus, dictionary, NUM_TOPICS)\n",
    "    coherence_scores.append(coherence)\n",
    "        \n",
    "    stop = timeit.default_timer()\n",
    "    \n",
    "    time_perc = timeit.default_timer()\n",
    "    expected_time = np.round( ( (time_perc - start) / ((NUM_TOPICS-1)/10 ) ) / 60, 2)\n",
    "    \n",
    "    print(\"Current progress:\", np.round((NUM_TOPICS-1)/10 *100, 2),\"%\")\n",
    "    print(\"Current run time:\", np.round((stop - start)/60,2), \"minutes\")\n",
    "    print(\"Expected Run Time:\", expected_time, \"minutes\")"
   ]
  },
  {
   "cell_type": "code",
   "execution_count": 82,
   "id": "b829d68d-dc5c-4948-b3b4-754cadc0f55a",
   "metadata": {},
   "outputs": [
    {
     "data": {
      "image/png": "[encoded data removed]",
      "text/plain": [
       "<Figure size 576x432 with 1 Axes>"
      ]
     },
     "metadata": {
      "needs_background": "light"
     },
     "output_type": "display_data"
    }
   ],
   "source": [
    "x = range(2, 12)\n",
    "y = coherence_scores\n",
    "\n",
    "fig, ax = plt.subplots(figsize=(8,6))\n",
    "ax.plot(x, y)\n",
    "\n",
    "plt.xlabel('num topics', fontsize=18)\n",
    "plt.ylabel('coherence', fontsize=18)\n",
    "plt.title('LDA coherence vs number of topics', fontsize=18)\n",
    "plt.xticks(fontsize=14)\n",
    "plt.yticks(fontsize=14)\n",
    "plt.show()"
   ]
  },
  {
   "cell_type": "markdown",
   "id": "dce74065-d779-433b-89d6-9cb2dbc0ab4b",
   "metadata": {},
   "source": [
    "### Gensim Model with 8 topics"
   ]
  },
  {
   "cell_type": "code",
   "execution_count": 94,
   "id": "cd99828f-a10e-4b98-97f2-8eb6d8953a30",
   "metadata": {},
   "outputs": [],
   "source": [
    "# Set training parameters\n",
    "num_topics = 8\n",
    "chunksize = 2000\n",
    "passes = 10\n",
    "iterations = 200  \n",
    "\n",
    "# Make an index to word dictionary.\n",
    "temp = dictionary[0]  # This is only to \"load\" the dictionary.\n",
    "id2word = dictionary.id2token\n",
    "\n",
    "model = gensim.models.LdaModel(\n",
    "    corpus=corpus,\n",
    "    id2word=id2word,\n",
    "    chunksize=chunksize,\n",
    "    alpha='auto',\n",
    "    eta='auto',\n",
    "    iterations=iterations,\n",
    "    num_topics=num_topics,\n",
    "    passes=passes\n",
    ")"
   ]
  },
  {
   "cell_type": "code",
   "execution_count": 99,
   "id": "492e4e89-e88f-479a-ab6f-dd85bc9367fd",
   "metadata": {},
   "outputs": [
    {
     "data": {
      "text/plain": [
       "[(0,\n",
       "  '0.108*\"heart\" + 0.056*\"decoration\" + 0.053*\"holder\" + 0.050*\"hanging\" + 0.047*\"tlight\" + 0.046*\"star\" + 0.039*\"mini\" + 0.031*\"glass\"'),\n",
       " (1,\n",
       "  '0.150*\"christmas\" + 0.117*\"vintage\" + 0.066*\"cake\" + 0.051*\"tin\" + 0.035*\"doily\" + 0.035*\"case\" + 0.032*\"paisley\" + 0.026*\"bell\"'),\n",
       " (2,\n",
       "  '0.044*\"pantry\" + 0.042*\"wall\" + 0.039*\"ivory\" + 0.039*\"paper\" + 0.037*\"clock\" + 0.029*\"chain\" + 0.029*\"kit\" + 0.023*\"alphabet\"'),\n",
       " (3,\n",
       "  '0.077*\"metal\" + 0.063*\"card\" + 0.060*\"sign\" + 0.043*\"hand\" + 0.040*\"warmer\" + 0.028*\"vintage\" + 0.024*\"art\" + 0.024*\"dog\"'),\n",
       " (4,\n",
       "  '0.107*\"retrospot\" + 0.045*\"tea\" + 0.039*\"wooden\" + 0.039*\"love\" + 0.027*\"antique\" + 0.026*\"frame\" + 0.026*\"traditional\" + 0.025*\"feltcraft\"'),\n",
       " (5,\n",
       "  '0.153*\"bag\" + 0.096*\"box\" + 0.082*\"design\" + 0.051*\"lunch\" + 0.042*\"spaceboy\" + 0.027*\"candle\" + 0.026*\"polkadot\" + 0.025*\"childrens\"'),\n",
       " (6,\n",
       "  '0.059*\"heart\" + 0.046*\"pencil\" + 0.042*\"wicker\" + 0.036*\"mug\" + 0.030*\"ceramic\" + 0.027*\"charlotte\" + 0.026*\"wooden\" + 0.025*\"drawer\"'),\n",
       " (7,\n",
       "  '0.086*\"bottle\" + 0.076*\"hot\" + 0.073*\"water\" + 0.047*\"light\" + 0.047*\"home\" + 0.030*\"regency\" + 0.030*\"bird\" + 0.027*\"assorted\"')]"
      ]
     },
     "execution_count": 99,
     "metadata": {},
     "output_type": "execute_result"
    }
   ],
   "source": [
    "model.show_topics(num_words = 8)"
   ]
  },
  {
   "cell_type": "code",
   "execution_count": 11,
   "id": "d9e43635-74a1-4082-a095-d82354b20c61",
   "metadata": {},
   "outputs": [],
   "source": [
    "#try a different set of parameters\n",
    "num_topics = 8\n",
    "chunksize = 10000\n",
    "passes = 20\n",
    "iterations = 500  \n",
    "\n",
    "# Make an index to word dictionary.\n",
    "temp = dictionary[0]  # This is only to \"load\" the dictionary.\n",
    "id2word = dictionary.id2token\n",
    "\n",
    "model2 = gensim.models.LdaModel(\n",
    "    corpus=corpus,\n",
    "    id2word=id2word,\n",
    "    chunksize=chunksize,\n",
    "    alpha='auto',\n",
    "    eta='auto',\n",
    "    iterations=iterations,\n",
    "    num_topics=num_topics,\n",
    "    passes=passes\n",
    ")"
   ]
  },
  {
   "cell_type": "code",
   "execution_count": 12,
   "id": "3c2a1559-ef18-4845-99fd-c9cf642f6ccc",
   "metadata": {},
   "outputs": [
    {
     "data": {
      "text/plain": [
       "[(0,\n",
       "  '0.121*\"bag\" + 0.055*\"lunch\" + 0.051*\"design\" + 0.038*\"spaceboy\" + 0.032*\"girl\" + 0.032*\"dolly\" + 0.030*\"retrospot\" + 0.025*\"childrens\"'),\n",
       " (1,\n",
       "  '0.137*\"heart\" + 0.062*\"bottle\" + 0.054*\"hot\" + 0.054*\"holder\" + 0.052*\"water\" + 0.051*\"hanging\" + 0.047*\"tlight\" + 0.036*\"home\"'),\n",
       " (2,\n",
       "  '0.140*\"vintage\" + 0.080*\"card\" + 0.075*\"metal\" + 0.059*\"sign\" + 0.050*\"bag\" + 0.047*\"doily\" + 0.042*\"paisley\" + 0.025*\"calm\"'),\n",
       " (3,\n",
       "  '0.049*\"box\" + 0.042*\"tin\" + 0.040*\"pencil\" + 0.040*\"rose\" + 0.032*\"retrospot\" + 0.029*\"candle\" + 0.027*\"wrap\" + 0.022*\"baking\"'),\n",
       " (4,\n",
       "  '0.059*\"tea\" + 0.043*\"hand\" + 0.041*\"polkadot\" + 0.040*\"warmer\" + 0.033*\"light\" + 0.027*\"love\" + 0.027*\"design\" + 0.026*\"union\"'),\n",
       " (5,\n",
       "  '0.079*\"cake\" + 0.045*\"case\" + 0.040*\"mini\" + 0.039*\"vintage\" + 0.035*\"ribbon\" + 0.034*\"pantry\" + 0.032*\"christmas\" + 0.032*\"ceramic\"'),\n",
       " (6,\n",
       "  '0.060*\"paper\" + 0.048*\"christmas\" + 0.047*\"retrospot\" + 0.040*\"wall\" + 0.039*\"bell\" + 0.030*\"kit\" + 0.025*\"chain\" + 0.019*\"babushka\"'),\n",
       " (7,\n",
       "  '0.098*\"christmas\" + 0.052*\"wooden\" + 0.027*\"decoration\" + 0.026*\"tree\" + 0.024*\"frame\" + 0.023*\"colour\" + 0.023*\"antique\" + 0.022*\"gift\"')]"
      ]
     },
     "execution_count": 12,
     "metadata": {},
     "output_type": "execute_result"
    }
   ],
   "source": [
    "model2.show_topics(num_words = 8)"
   ]
  },
  {
   "cell_type": "code",
   "execution_count": 66,
   "id": "7fb3869d-2208-4afa-848f-f0c6ecdf3a22",
   "metadata": {},
   "outputs": [],
   "source": [
    "import pyLDAvis.gensim_models as gensimvis"
   ]
  },
  {
   "cell_type": "code",
   "execution_count": 104,
   "id": "a77b6358-52e7-4a0d-a890-07eaf7689539",
   "metadata": {},
   "outputs": [
    {
     "name": "stderr",
     "output_type": "stream",
     "text": [
      "C:\\Users\\SReed\\.conda\\envs\\cluster\\lib\\site-packages\\pyLDAvis\\_prepare.py:246: FutureWarning: In a future version of pandas all arguments of DataFrame.drop except for the argument 'labels' will be keyword-only.\n",
      "  default_term_info = default_term_info.sort_values(\n"
     ]
    },
    {
     "data": {
      "text/html": [
       "\n",
       "<link rel=\"stylesheet\" type=\"text/css\" href=\"https://cdn.jsdelivr.net/gh/bmabey/pyLDAvis@3.3.1/pyLDAvis/js/ldavis.v1.0.0.css\">\n",
       "\n",
       "\n",
       "<div id=\"ldavis_el560818107786337125856557504\"></div>\n",
       "<script type=\"text/javascript\">\n",
       "\n",
       "var ldavis_el560818107786337125856557504_data = {\"mdsDat\": {\"x\": [0.11409043159316626, 0.30243951347749853, -0.2678818946908634, -0.12326790016067508, 0.21136748286839294, -0.028997557998507433, -0.20012457038714085, -0.007625504701871207], \"y\": [0.1266297150960243, -0.09553986281169033, -0.15812639582530888, 0.12472951872054709, -0.2191301841103201, 0.16998681802197116, -0.2031296683654606, 0.2545800592742372], \"topics\": [1, 2, 3, 4, 5, 6, 7, 8], \"cluster\": [1, 1, 1, 1, 1, 1, 1, 1], \"Freq\": [15.90423314643925, 15.164723370561308, 14.752156383831258, 13.429964070157252, 10.652016451160263, 10.142137818162663, 9.987907859978348, 9.96686089970966]}, \"tinfo\": {\"Term\": [\"bag\", \"christmas\", \"heart\", \"vintage\", \"retrospot\", \"box\", \"design\", \"bottle\", \"cake\", \"metal\", \"hot\", \"water\", \"decoration\", \"card\", \"lunch\", \"holder\", \"tin\", \"sign\", \"hanging\", \"tlight\", \"star\", \"spaceboy\", \"tea\", \"wooden\", \"mini\", \"light\", \"home\", \"pencil\", \"love\", \"hand\", \"bag\", \"box\", \"lunch\", \"spaceboy\", \"polkadot\", \"childrens\", \"tissue\", \"gift\", \"gingham\", \"strawberry\", \"cutlery\", \"roll\", \"snack\", \"garden\", \"cracker\", \"sticker\", \"biscuit\", \"felt\", \"circus\", \"parade\", \"botanical\", \"toy\", \"lola\", \"giant\", \"square\", \"diamante\", \"harmonica\", \"match\", \"deluxe\", \"king\", \"design\", \"candle\", \"skull\", \"woodland\", \"round\", \"egg\", \"cup\", \"rose\", \"shopper\", \"wrap\", \"christmas\", \"cake\", \"tin\", \"doily\", \"case\", \"paisley\", \"bell\", \"tree\", \"fairy\", \"zinc\", \"apple\", \"baking\", \"birthday\", \"plaster\", \"park\", \"napkin\", \"apron\", \"garland\", \"stamp\", \"pan\", \"frying\", \"folkart\", \"jingle\", \"clip\", \"glitter\", \"santa\", \"sleigh\", \"animal\", \"dinosaur\", \"mould\", \"vintage\", \"wrap\", \"craft\", \"card\", \"paper\", \"design\", \"decoration\", \"holder\", \"hanging\", \"tlight\", \"star\", \"mini\", \"girl\", \"dolly\", \"silver\", \"keep\", \"leaf\", \"flower\", \"reel\", \"lantern\", \"angel\", \"enamel\", \"gold\", \"stocking\", \"ball\", \"spoon\", \"measuring\", \"rotating\", \"village\", \"mushroom\", \"child\", \"stationery\", \"one\", \"backpack\", \"earring\", \"style\", \"ribbon\", \"glass\", \"heart\", \"cream\", \"jigsaw\", \"jar\", \"colour\", \"doormat\", \"retrospot\", \"tea\", \"love\", \"antique\", \"frame\", \"traditional\", \"feltcraft\", \"bowl\", \"calm\", \"london\", \"babushka\", \"notebook\", \"travel\", \"sewing\", \"bunting\", \"owl\", \"rabbit\", \"cushion\", \"wallet\", \"top\", \"butterfly\", \"magnet\", \"gardener\", \"photo\", \"towel\", \"purple\", \"doll\", \"picture\", \"board\", \"bracelet\", \"wooden\", \"kneeling\", \"party\", \"kit\", \"sweetheart\", \"cup\", \"metal\", \"sign\", \"hand\", \"warmer\", \"art\", \"dog\", \"cover\", \"jack\", \"bicycle\", \"classic\", \"french\", \"playing\", \"money\", \"cat\", \"treasure\", \"tag\", \"doorstop\", \"door\", \"bank\", \"decorative\", \"poppy\", \"pear\", \"herb\", \"tonic\", \"marker\", \"toilet\", \"airline\", \"bathroom\", \"school\", \"baby\", \"card\", \"union\", \"vintage\", \"ceramic\", \"painted\", \"pantry\", \"wall\", \"ivory\", \"clock\", \"chain\", \"alphabet\", \"alarm\", \"bakelike\", \"plate\", \"book\", \"hook\", \"cookie\", \"jam\", \"cutter\", \"slate\", \"tlights\", \"chalkboard\", \"yellow\", \"block\", \"natural\", \"recipe\", \"list\", \"making\", \"magic\", \"sketchbook\", \"scale\", \"parasol\", \"swirly\", \"time\", \"drawing\", \"paper\", \"kitchen\", \"jar\", \"kit\", \"candle\", \"pencil\", \"wicker\", \"charlotte\", \"drawer\", \"tray\", \"tube\", \"spot\", \"scandinavian\", \"suki\", \"key\", \"pot\", \"pad\", \"table\", \"mirror\", \"knob\", \"ring\", \"retro\", \"wreath\", \"letter\", \"charm\", \"milk\", \"coffee\", \"colouring\", \"scottie\", \"popcorn\", \"chalk\", \"tall\", \"shopping\", \"daisy\", \"tv\", \"mug\", \"stick\", \"ceramic\", \"heart\", \"trinket\", \"wooden\", \"storage\", \"bottle\", \"hot\", \"water\", \"light\", \"home\", \"regency\", \"bird\", \"assorted\", \"wood\", \"sweet\", \"night\", \"pen\", \"english\", \"tier\", \"saucer\", \"led\", \"balloon\", \"teacup\", \"horse\", \"ruler\", \"cabinet\", \"rocking\", \"house\", \"grey\", \"stripe\", \"beaker\", \"charlielola\", \"feather\", \"repair\", \"reindeer\", \"toadstool\", \"chocolate\", \"colour\", \"doormat\", \"rose\", \"kit\"], \"Freq\": [45623.0, 42616.0, 41137.0, 38961.0, 26925.0, 28529.0, 28481.0, 16150.0, 18641.0, 15391.0, 14179.0, 13647.0, 15628.0, 18409.0, 15240.0, 14610.0, 14488.0, 12046.0, 13797.0, 13139.0, 12686.0, 12635.0, 11322.0, 14727.0, 10794.0, 8858.0, 8855.0, 8565.0, 9802.0, 8672.0, 45622.6723389602, 28529.04097657713, 15239.662644108686, 12634.835655469513, 7784.087370857563, 7484.635830525002, 7222.459873489112, 6158.105914907088, 4795.267118540455, 4617.509198066202, 3983.1449775296655, 3944.2686926879546, 3577.514309236894, 3533.2955891812144, 3036.1586588012547, 2762.7408238888665, 2477.558013286512, 2457.202782005114, 2421.5946077323556, 2421.5946077323556, 2166.0786975920223, 1874.3325659384714, 1561.6136029283216, 1547.2221592317792, 1431.446326592691, 1377.7010836848629, 1359.7876240779206, 1239.5533692938004, 1182.117813065341, 1135.956307174542, 24594.914044259982, 8109.253532503035, 6704.064381384728, 5551.372488013993, 2907.7740008644996, 3225.9064147588306, 3527.8408630444824, 4359.72064750513, 2014.5993545749577, 2320.689817768099, 42615.3431344391, 18641.071027978527, 14488.117855408196, 10028.594573447737, 9991.996892722971, 9053.740191865396, 7414.462936348236, 6265.558347273081, 5953.856315037644, 5929.826067762813, 4766.972210610817, 4067.46812272054, 3996.2819074748054, 3791.8983892373217, 3390.733828425467, 3303.841766678045, 3005.926807891204, 2591.978554125089, 2059.230685886861, 1984.7120600928454, 1727.4782703183398, 1724.8337293086356, 1684.3856488184265, 1668.87075203839, 1545.1663402052911, 1531.6097050397964, 1453.9042993318471, 1427.0821577576003, 1424.1186604814052, 1404.9578298765953, 33326.45041429607, 4327.631221687836, 3060.3089175838695, 5861.677821509837, 4368.392427918684, 3886.3105042142224, 15627.73977744888, 14610.003537458213, 13796.294904026645, 13138.355269986205, 12685.933405923906, 10793.190737603305, 8418.882424387206, 8097.870286275688, 7910.289133839055, 5419.874918297543, 4479.513738051571, 3885.546716465313, 3553.1026014805466, 3161.777437599168, 2845.9945355825503, 2354.530389941227, 1869.8056243787257, 1841.4544918901395, 1590.62466798214, 1571.109070188044, 1395.3521582305539, 1392.5504963145017, 1324.7114511967472, 1297.697340765458, 1271.5280859611958, 1227.8176998930744, 1202.1835375068454, 1167.0515169272455, 1165.6448851600621, 1069.9401063733078, 8387.099662108098, 8668.90967412159, 29986.850326632717, 4278.338324901629, 1378.6169527189336, 1689.6208903381184, 1686.2597726055728, 1507.134008503328, 26924.385119577855, 11321.658483858846, 9801.388377510253, 6897.551177985471, 6588.152416782915, 6451.880325027894, 6238.047072276666, 5964.997330633156, 5655.549750446495, 5546.346377137556, 4745.623032813359, 4642.764249784786, 4534.886499659613, 4437.438174427096, 4192.364057742075, 4105.832408416643, 3695.728532445822, 3503.7584392538674, 3290.4962277926707, 3158.225180374339, 3137.1426551474297, 3021.0201296682803, 2699.0211417269916, 2597.3962115803324, 2318.8604365980664, 2296.8522283264047, 2280.4293343082886, 2076.52323420941, 1899.8713881668775, 1706.2983658790458, 9883.066293223745, 2542.8013314188397, 2968.297973901839, 3397.6151713043337, 2448.9468344777165, 2499.149883723029, 15390.706604409455, 12045.213534393684, 8671.599393121316, 8000.451101884191, 4807.553098964022, 4752.850485507438, 4601.012338018148, 3824.608288147411, 3461.225817199107, 3306.7401265123367, 3008.298230326243, 2998.2994824230045, 2584.4530361184843, 2549.1730616694867, 2392.686355525698, 2326.8501732312793, 2296.0607090487433, 2053.3428768553445, 1764.8770172611337, 1760.3202346435048, 1568.01350885202, 1470.7829410123727, 1403.9428070610834, 1377.2303025042268, 1326.9901824914903, 1276.7621627675903, 1264.7016187257154, 1256.590981276734, 1253.277922193233, 1215.8243635525762, 12546.881084700963, 3808.985884467722, 5634.310360008547, 2522.2439619424526, 1778.6577569798694, 8285.507004198647, 7933.372279434847, 7480.01577502254, 7061.027556221684, 5506.076215512174, 4300.26021777628, 4190.689373014613, 4181.727740624128, 3999.368801831377, 3355.7548565973466, 3316.226896957275, 3268.177587657296, 3199.19712390731, 3137.6224142027995, 3069.4881299036083, 2633.1590815281743, 2328.235817244933, 2226.410155445431, 2217.039967622587, 2183.090872292059, 2168.138275210151, 2043.243322656717, 2004.0861647366, 1901.0210113368869, 1684.0474129409354, 1609.6963506657974, 1556.9280045627274, 1317.0693641642276, 1310.1053994528756, 1265.984425965205, 7329.767343490962, 2632.742727206868, 3227.8427975061195, 5493.870954309469, 2555.2848711710412, 8564.90640736153, 7793.057965308859, 4994.166003390059, 4612.050509196109, 4199.655462132593, 4091.2949145739162, 3859.3137766245513, 3849.0357998443255, 3693.366745597848, 3519.253469102477, 3430.707028677229, 3143.326545078802, 2992.3878527552233, 2825.710670292229, 2752.3575937966107, 2674.802524586234, 2639.676008990651, 2552.972664194329, 2401.6815511798895, 2327.1593247152828, 2183.0358446026876, 2064.0391393536083, 1587.730793388214, 1584.3556539734107, 1581.75535133262, 1548.726079224256, 1416.439151597037, 1401.4473080674072, 1329.1258344856017, 1272.7980462141072, 6666.176834763687, 2450.733135143043, 5540.240380186291, 11150.224797638759, 2812.046906419071, 4844.001973288393, 2490.455956648359, 16149.989886999421, 14179.048812781895, 13646.260914932265, 8857.796500904025, 8854.477245329406, 5675.380093970535, 5660.0901981718325, 5133.7429381332395, 4981.373500347031, 4205.593659500443, 3780.0715744893373, 2639.3471079741057, 2270.08898288009, 2210.236304312502, 1922.0174139000371, 1783.3993021974493, 1710.6637803492974, 1702.7572076665142, 1608.3878244821274, 1528.1266709640854, 1511.1444007340747, 1355.8788009810742, 1335.7046038826284, 1296.057388491133, 1262.0533082003267, 1242.389993585107, 1235.3102736632766, 1197.9543653381293, 1152.8780002297306, 1142.183521108053, 1655.1540383498234, 3431.2661671520286, 4696.858812760441, 3589.2805689738298, 4662.944089003523, 2149.817701030286], \"Total\": [45623.0, 42616.0, 41137.0, 38961.0, 26925.0, 28529.0, 28481.0, 16150.0, 18641.0, 15391.0, 14179.0, 13647.0, 15628.0, 18409.0, 15240.0, 14610.0, 14488.0, 12046.0, 13797.0, 13139.0, 12686.0, 12635.0, 11322.0, 14727.0, 10794.0, 8858.0, 8855.0, 8565.0, 9802.0, 8672.0, 45623.518190459785, 28529.88678539533, 15240.508233534614, 12635.681486861658, 7784.933037232494, 7485.481566706234, 7223.305569824204, 6158.951762141892, 4796.1129854865885, 4618.355202543776, 3983.990571772439, 3945.114634834201, 3578.360360669114, 3534.1415599587176, 3037.004282359006, 2763.5865943997205, 2478.404009300792, 2458.048377518767, 2422.4402542692224, 2422.4402542692224, 2166.9243332303276, 1875.1782699094442, 1562.4597187914248, 1548.0677843855804, 1432.2921328657774, 1378.5475697270329, 1360.6331332911714, 1240.399055102103, 1182.9642410022693, 1136.8019921860393, 28481.952422332102, 10665.256393902375, 8907.258443699573, 7453.624755821572, 3571.7994930063187, 4624.929918527597, 6027.711719340843, 9023.40303504304, 2839.446894460404, 6649.0484169778, 42616.20567848739, 18641.93351055067, 14488.980352510154, 10029.45697680916, 9992.859171095106, 9054.60261292071, 7415.325509748872, 6266.420802619353, 5954.7186975806035, 5930.688740730935, 4767.834857871225, 4068.3304723121923, 3997.14427818991, 3792.760609080624, 3391.5961707266356, 3304.7041226669066, 3006.7896058460447, 2592.8408517429366, 2060.09343753274, 1985.5744338012041, 1728.3405466861304, 1725.6959772644648, 1685.2480004161016, 1669.733674383231, 1546.0286726232137, 1532.4720627846461, 1454.766645155564, 1427.944617482073, 1424.9811946203351, 1405.820807880585, 38961.50592252195, 6649.0484169778, 4661.365143760782, 18409.304149872725, 11698.894434725275, 28481.952422332102, 15628.601060778028, 14610.86482546322, 13797.15614134352, 13139.216424394712, 12686.794871003889, 10794.05231984995, 8419.743786918647, 8098.7316626227375, 7911.150553190984, 5420.737130482944, 4480.375495857541, 3886.4083131454554, 3553.963835777858, 3162.6387544591907, 2846.8559906138767, 2355.3917295190245, 1870.6670593856522, 1842.315974792809, 1591.486158977136, 1571.9703617796215, 1396.213257988757, 1393.4115594643586, 1325.5728697584782, 1298.5588323425527, 1272.3894425284898, 1228.6789298446117, 1203.0449266157827, 1167.9126906643978, 1166.5062541608916, 1070.8014281934456, 9618.834343801183, 10332.094578579594, 41137.80640023975, 5031.977003205303, 2002.6180913813826, 4918.197272709694, 6383.872376796709, 5097.16813863262, 26925.241236649123, 11322.514710455263, 9802.24459899268, 6898.407423581593, 6589.008214121009, 6452.736159513969, 6238.902865450247, 5965.853455093521, 5656.406116253474, 5547.202358891393, 4746.478958146793, 4643.620165999842, 4535.742396812974, 4438.294133119336, 4193.220055707294, 4106.688764892684, 3696.584873114647, 3504.6149115707503, 3291.352160779255, 3159.081609742397, 3137.9987915537863, 3021.876175167351, 2699.8769708001046, 2598.252062633298, 2319.716544623992, 2297.7082551448266, 2281.285116138861, 2077.3790094969886, 1900.7273724716822, 1707.1546627973278, 14727.79414904464, 3109.380080241173, 4758.353857071921, 11041.9243466835, 3441.565060672076, 6027.711719340843, 15391.569894729722, 12046.076706874026, 8672.462632198172, 8001.3144151479255, 4808.416655142863, 4753.714060949597, 4601.875998703544, 3825.4715405184766, 3462.1078475274735, 3307.603484391649, 3009.161486763082, 2999.162742833601, 2585.3165470024696, 2550.036365946573, 2393.550161264809, 2327.7135527319324, 2296.924288805936, 2054.2063808918, 1765.7403194584947, 1761.1838525901876, 1568.8767834875682, 1471.646451976195, 1404.8061309586562, 1378.0935873211772, 1327.8534890082565, 1277.6254494312377, 1265.5648940661297, 1257.454180955638, 1254.1417251912467, 1216.6878178073482, 18409.304149872725, 5008.2776625354945, 38961.50592252195, 8063.217539393136, 3248.78182282044, 8286.359927845373, 7934.2253522250485, 7480.868754206712, 7061.880249803499, 5506.9289512912455, 4301.113145701672, 4191.542037506096, 4182.580404989926, 4000.221836620729, 3356.607713091212, 3317.0798748387256, 3269.0302960081835, 3200.0498574046514, 3138.4751306909843, 3070.3408350614545, 2634.0119891770864, 2329.0885656825144, 2227.2631658292667, 2217.8930974212603, 2183.943587792507, 2168.991119898119, 2044.0961272999994, 2004.9388528778825, 1901.8737639436324, 1684.9004210770888, 1610.549010878661, 1557.7807043842695, 1317.9220656141665, 1310.9585884731555, 1266.8371334165004, 11698.894434725275, 3451.2250168286096, 4918.197272709694, 11041.9243466835, 10665.256393902375, 8565.756848753725, 7793.9082729904985, 4995.016675245788, 4612.90092924675, 4200.506135196878, 4092.1452682672752, 3860.1644036882712, 3849.8861312268905, 3694.2173174161794, 3520.103847505459, 3431.5573848871527, 3144.177499317136, 2993.2384742179534, 2826.56127839874, 2753.2078676728097, 2675.6530005093673, 2640.5267890070118, 2553.8231658986, 2402.532185629917, 2328.009770709696, 2183.8864524043393, 2064.8897128130643, 1588.5811012988206, 1585.2067359089324, 1582.605749150381, 1549.5764402173231, 1417.289499544346, 1402.2981071427726, 1329.9763001516535, 1273.6484120559599, 7503.920519847001, 2788.4320483176907, 8063.217539393136, 41137.80640023975, 4653.732067841347, 14727.79414904464, 3933.9681620472634, 16150.862799397088, 14179.921709345133, 13647.133788124014, 8858.669539502764, 8855.350153612104, 5676.25307576124, 5660.963392936046, 5134.616127017079, 4982.246667436485, 4206.466532630769, 3780.944464836421, 2640.2202320434894, 2270.9621707049773, 2211.109496729283, 1922.8903153487909, 1784.2721887637008, 1711.5368011567443, 1703.630013679168, 1609.2608787425816, 1528.9997398856058, 1512.017419922644, 1356.751756562137, 1336.5775444288356, 1296.9302329911254, 1262.9266184728203, 1243.2631597210536, 1236.1832876839765, 1198.8272068874953, 1153.750917530138, 1143.0566753029557, 1744.29157230261, 4236.733819345927, 6383.872376796709, 5097.16813863262, 9023.40303504304, 11041.9243466835], \"Category\": [\"Default\", \"Default\", \"Default\", \"Default\", \"Default\", \"Default\", \"Default\", \"Default\", \"Default\", \"Default\", \"Default\", \"Default\", \"Default\", \"Default\", \"Default\", \"Default\", \"Default\", \"Default\", \"Default\", \"Default\", \"Default\", \"Default\", \"Default\", \"Default\", \"Default\", \"Default\", \"Default\", \"Default\", \"Default\", \"Default\", \"Topic1\", \"Topic1\", \"Topic1\", \"Topic1\", \"Topic1\", \"Topic1\", \"Topic1\", \"Topic1\", \"Topic1\", \"Topic1\", \"Topic1\", \"Topic1\", \"Topic1\", \"Topic1\", \"Topic1\", \"Topic1\", \"Topic1\", \"Topic1\", \"Topic1\", \"Topic1\", \"Topic1\", \"Topic1\", \"Topic1\", \"Topic1\", \"Topic1\", \"Topic1\", \"Topic1\", \"Topic1\", \"Topic1\", \"Topic1\", \"Topic1\", \"Topic1\", \"Topic1\", \"Topic1\", \"Topic1\", \"Topic1\", \"Topic1\", \"Topic1\", \"Topic1\", \"Topic1\", \"Topic2\", \"Topic2\", \"Topic2\", \"Topic2\", \"Topic2\", \"Topic2\", \"Topic2\", \"Topic2\", \"Topic2\", \"Topic2\", \"Topic2\", \"Topic2\", \"Topic2\", \"Topic2\", \"Topic2\", \"Topic2\", \"Topic2\", \"Topic2\", \"Topic2\", \"Topic2\", \"Topic2\", \"Topic2\", \"Topic2\", \"Topic2\", \"Topic2\", \"Topic2\", \"Topic2\", \"Topic2\", \"Topic2\", \"Topic2\", \"Topic2\", \"Topic2\", \"Topic2\", \"Topic2\", \"Topic2\", \"Topic2\", \"Topic3\", \"Topic3\", \"Topic3\", \"Topic3\", \"Topic3\", \"Topic3\", \"Topic3\", \"Topic3\", \"Topic3\", \"Topic3\", \"Topic3\", \"Topic3\", \"Topic3\", \"Topic3\", \"Topic3\", \"Topic3\", \"Topic3\", \"Topic3\", \"Topic3\", \"Topic3\", \"Topic3\", \"Topic3\", \"Topic3\", \"Topic3\", \"Topic3\", \"Topic3\", \"Topic3\", \"Topic3\", \"Topic3\", \"Topic3\", \"Topic3\", \"Topic3\", \"Topic3\", \"Topic3\", \"Topic3\", \"Topic3\", \"Topic3\", \"Topic3\", \"Topic4\", \"Topic4\", \"Topic4\", \"Topic4\", \"Topic4\", \"Topic4\", \"Topic4\", \"Topic4\", \"Topic4\", \"Topic4\", \"Topic4\", \"Topic4\", \"Topic4\", \"Topic4\", \"Topic4\", \"Topic4\", \"Topic4\", \"Topic4\", \"Topic4\", \"Topic4\", \"Topic4\", \"Topic4\", \"Topic4\", \"Topic4\", \"Topic4\", \"Topic4\", \"Topic4\", \"Topic4\", \"Topic4\", \"Topic4\", \"Topic4\", \"Topic4\", \"Topic4\", \"Topic4\", \"Topic4\", \"Topic4\", \"Topic5\", \"Topic5\", \"Topic5\", \"Topic5\", \"Topic5\", \"Topic5\", \"Topic5\", \"Topic5\", \"Topic5\", \"Topic5\", \"Topic5\", \"Topic5\", \"Topic5\", \"Topic5\", \"Topic5\", \"Topic5\", \"Topic5\", \"Topic5\", \"Topic5\", \"Topic5\", \"Topic5\", \"Topic5\", \"Topic5\", \"Topic5\", \"Topic5\", \"Topic5\", \"Topic5\", \"Topic5\", \"Topic5\", \"Topic5\", \"Topic5\", \"Topic5\", \"Topic5\", \"Topic5\", \"Topic5\", \"Topic6\", \"Topic6\", \"Topic6\", \"Topic6\", \"Topic6\", \"Topic6\", \"Topic6\", \"Topic6\", \"Topic6\", \"Topic6\", \"Topic6\", \"Topic6\", \"Topic6\", \"Topic6\", \"Topic6\", \"Topic6\", \"Topic6\", \"Topic6\", \"Topic6\", \"Topic6\", \"Topic6\", \"Topic6\", \"Topic6\", \"Topic6\", \"Topic6\", \"Topic6\", \"Topic6\", \"Topic6\", \"Topic6\", \"Topic6\", \"Topic6\", \"Topic6\", \"Topic6\", \"Topic6\", \"Topic6\", \"Topic7\", \"Topic7\", \"Topic7\", \"Topic7\", \"Topic7\", \"Topic7\", \"Topic7\", \"Topic7\", \"Topic7\", \"Topic7\", \"Topic7\", \"Topic7\", \"Topic7\", \"Topic7\", \"Topic7\", \"Topic7\", \"Topic7\", \"Topic7\", \"Topic7\", \"Topic7\", \"Topic7\", \"Topic7\", \"Topic7\", \"Topic7\", \"Topic7\", \"Topic7\", \"Topic7\", \"Topic7\", \"Topic7\", \"Topic7\", \"Topic7\", \"Topic7\", \"Topic7\", \"Topic7\", \"Topic7\", \"Topic7\", \"Topic7\", \"Topic8\", \"Topic8\", \"Topic8\", \"Topic8\", \"Topic8\", \"Topic8\", \"Topic8\", \"Topic8\", \"Topic8\", \"Topic8\", \"Topic8\", \"Topic8\", \"Topic8\", \"Topic8\", \"Topic8\", \"Topic8\", \"Topic8\", \"Topic8\", \"Topic8\", \"Topic8\", \"Topic8\", \"Topic8\", \"Topic8\", \"Topic8\", \"Topic8\", \"Topic8\", \"Topic8\", \"Topic8\", \"Topic8\", \"Topic8\", \"Topic8\", \"Topic8\", \"Topic8\", \"Topic8\", \"Topic8\", \"Topic8\"], \"logprob\": [30.0, 29.0, 28.0, 27.0, 26.0, 25.0, 24.0, 23.0, 22.0, 21.0, 20.0, 19.0, 18.0, 17.0, 16.0, 15.0, 14.0, 13.0, 12.0, 11.0, 10.0, 9.0, 8.0, 7.0, 6.0, 5.0, 4.0, 3.0, 2.0, 1.0, -1.8782, -2.3477, -2.9747, -3.1621, -3.6465, -3.6857, -3.7214, -3.8808, -4.131, -4.1687, -4.3165, -4.3263, -4.4239, -4.4364, -4.588, -4.6824, -4.7913, -4.7996, -4.8142, -4.8142, -4.9257, -5.0703, -5.2529, -5.2621, -5.3399, -5.3782, -5.3913, -5.4838, -5.5313, -5.5711, -2.496, -3.6056, -3.7959, -3.9845, -4.6312, -4.5274, -4.4379, -4.2262, -4.9982, -4.8567, -1.8988, -2.7256, -2.9776, -3.3455, -3.3492, -3.4478, -3.6475, -3.8159, -3.8669, -3.871, -4.0893, -4.2479, -4.2656, -4.3181, -4.4299, -4.4559, -4.5504, -4.6985, -4.9286, -4.9655, -5.1043, -5.1058, -5.1296, -5.1388, -5.2158, -5.2247, -5.2767, -5.2953, -5.2974, -5.311, -2.1446, -4.1859, -4.5325, -3.8825, -4.1766, -4.2935, -2.8743, -2.9417, -2.999, -3.0479, -3.0829, -3.2445, -3.4929, -3.5318, -3.5552, -3.9333, -4.1239, -4.2661, -4.3556, -4.4723, -4.5775, -4.767, -4.9976, -5.0128, -5.1593, -5.1716, -5.2902, -5.2923, -5.3422, -5.3628, -5.3832, -5.4181, -5.4392, -5.4689, -5.4701, -5.5558, -3.4967, -3.4636, -2.2226, -4.1698, -5.3023, -5.0989, -5.1009, -5.2132, -2.2365, -3.1028, -3.247, -3.5983, -3.6442, -3.6651, -3.6988, -3.7436, -3.7968, -3.8163, -3.9723, -3.9942, -4.0177, -4.0394, -4.0962, -4.1171, -4.2223, -4.2756, -4.3384, -4.3795, -4.3862, -4.4239, -4.5366, -4.575, -4.6884, -4.6979, -4.7051, -4.7988, -4.8877, -4.9952, -3.2387, -4.5962, -4.4415, -4.3064, -4.6338, -4.6135, -2.564, -2.8091, -3.1377, -3.2182, -3.7276, -3.739, -3.7715, -3.9563, -4.0561, -4.1018, -4.1964, -4.1997, -4.3482, -4.362, -4.4253, -4.4532, -4.4666, -4.5783, -4.7297, -4.7323, -4.8479, -4.912, -4.9585, -4.9777, -5.0148, -5.0534, -5.0629, -5.0693, -5.072, -5.1023, -2.7683, -3.9604, -3.5689, -4.3726, -4.7219, -3.1342, -3.1776, -3.2365, -3.2941, -3.5428, -3.79, -3.8158, -3.818, -3.8626, -4.038, -4.0499, -4.0645, -4.0858, -4.1052, -4.1272, -4.2805, -4.4036, -4.4483, -4.4525, -4.468, -4.4748, -4.5342, -4.5535, -4.6063, -4.7275, -4.7727, -4.806, -4.9733, -4.9786, -5.0128, -3.2568, -4.2807, -4.0769, -3.5451, -4.3105, -3.0857, -3.1801, -3.6251, -3.7047, -3.7984, -3.8245, -3.8829, -3.8856, -3.9268, -3.9751, -4.0006, -4.0881, -4.1373, -4.1946, -4.2209, -4.2495, -4.2627, -4.2961, -4.3572, -4.3887, -4.4527, -4.5087, -4.7711, -4.7732, -4.7748, -4.7959, -4.8852, -4.8959, -4.9489, -4.9922, -3.3363, -4.337, -3.5213, -2.8219, -4.1995, -3.6556, -4.3209, -2.4493, -2.5795, -2.6178, -3.05, -3.0503, -3.4951, -3.4978, -3.5954, -3.6256, -3.7948, -3.9015, -4.2607, -4.4114, -4.4382, -4.5779, -4.6527, -4.6944, -4.699, -4.756, -4.8072, -4.8184, -4.9268, -4.9418, -4.9719, -4.9985, -5.0142, -5.0199, -5.0506, -5.089, -5.0983, -4.7274, -3.9983, -3.6844, -3.9533, -3.6916, -4.4659], \"loglift\": [30.0, 29.0, 28.0, 27.0, 26.0, 25.0, 24.0, 23.0, 22.0, 21.0, 20.0, 19.0, 18.0, 17.0, 16.0, 15.0, 14.0, 13.0, 12.0, 11.0, 10.0, 9.0, 8.0, 7.0, 6.0, 5.0, 4.0, 3.0, 2.0, 1.0, 1.8386, 1.8386, 1.8385, 1.8385, 1.8385, 1.8385, 1.8385, 1.8384, 1.8384, 1.8384, 1.8384, 1.8384, 1.8383, 1.8383, 1.8383, 1.8383, 1.8382, 1.8382, 1.8382, 1.8382, 1.8382, 1.8381, 1.838, 1.838, 1.838, 1.838, 1.838, 1.8379, 1.8379, 1.8378, 1.6919, 1.5646, 1.5544, 1.5439, 1.6329, 1.4783, 1.3029, 1.1112, 1.4954, 0.786, 1.8862, 1.8862, 1.8861, 1.8861, 1.8861, 1.8861, 1.8861, 1.8861, 1.8861, 1.8861, 1.886, 1.886, 1.886, 1.886, 1.8859, 1.8859, 1.8859, 1.8859, 1.8858, 1.8858, 1.8857, 1.8857, 1.8857, 1.8857, 1.8856, 1.8856, 1.8856, 1.8856, 1.8856, 1.8856, 1.73, 1.4567, 1.4654, 0.7418, 0.9011, -0.1056, 1.9137, 1.9137, 1.9137, 1.9137, 1.9137, 1.9137, 1.9137, 1.9137, 1.9137, 1.9136, 1.9136, 1.9136, 1.9135, 1.9135, 1.9135, 1.9134, 1.9133, 1.9133, 1.9132, 1.9132, 1.9132, 1.9132, 1.9131, 1.9131, 1.9131, 1.9131, 1.9131, 1.913, 1.913, 1.913, 1.7768, 1.7383, 1.5976, 1.7515, 1.5404, 0.8453, 0.5825, 0.6953, 2.0077, 2.0076, 2.0076, 2.0076, 2.0076, 2.0075, 2.0075, 2.0075, 2.0075, 2.0075, 2.0075, 2.0075, 2.0075, 2.0075, 2.0075, 2.0075, 2.0075, 2.0074, 2.0074, 2.0074, 2.0074, 2.0074, 2.0074, 2.0074, 2.0073, 2.0073, 2.0073, 2.0073, 2.0072, 2.0072, 1.6088, 1.8065, 1.5358, 0.8291, 1.6674, 1.1273, 2.2394, 2.2393, 2.2393, 2.2393, 2.2392, 2.2392, 2.2392, 2.2392, 2.2392, 2.2392, 2.2391, 2.2391, 2.2391, 2.2391, 2.2391, 2.2391, 2.239, 2.239, 2.2389, 2.2389, 2.2389, 2.2388, 2.2388, 2.2388, 2.2388, 2.2387, 2.2387, 2.2387, 2.2387, 2.2387, 1.856, 1.9657, 0.3057, 1.0773, 1.637, 2.2884, 2.2884, 2.2884, 2.2884, 2.2883, 2.2883, 2.2883, 2.2883, 2.2883, 2.2882, 2.2882, 2.2882, 2.2882, 2.2882, 2.2882, 2.2881, 2.2881, 2.2881, 2.2881, 2.2881, 2.2881, 2.2881, 2.288, 2.288, 2.288, 2.2879, 2.2879, 2.2878, 2.2878, 2.2878, 1.8209, 2.0178, 1.8673, 1.5904, 0.8596, 2.3037, 2.3037, 2.3036, 2.3036, 2.3036, 2.3036, 2.3036, 2.3036, 2.3036, 2.3036, 2.3035, 2.3035, 2.3035, 2.3035, 2.3035, 2.3035, 2.3035, 2.3035, 2.3034, 2.3034, 2.3034, 2.3034, 2.3033, 2.3033, 2.3033, 2.3032, 2.3032, 2.3032, 2.3032, 2.3031, 2.1854, 2.1747, 1.9285, 0.9983, 1.8, 1.1918, 1.8466, 2.3059, 2.3058, 2.3058, 2.3058, 2.3058, 2.3058, 2.3058, 2.3057, 2.3057, 2.3057, 2.3057, 2.3056, 2.3055, 2.3055, 2.3055, 2.3054, 2.3054, 2.3054, 2.3054, 2.3053, 2.3053, 2.3053, 2.3053, 2.3052, 2.3052, 2.3052, 2.3052, 2.3052, 2.3051, 2.3051, 2.2535, 2.095, 1.999, 1.9552, 1.6457, 0.6696]}, \"token.table\": {\"Topic\": [5, 6, 6, 3, 2, 4, 2, 2, 5, 8, 4, 5, 3, 1, 6, 2, 3, 8, 5, 5, 8, 2, 5, 8, 2, 1, 6, 4, 6, 1, 8, 4, 1, 4, 4, 4, 8, 2, 4, 1, 6, 2, 5, 2, 5, 5, 7, 6, 7, 6, 8, 7, 7, 3, 1, 5, 8, 2, 1, 5, 2, 6, 7, 3, 8, 7, 6, 5, 1, 1, 2, 3, 5, 1, 4, 4, 1, 6, 7, 3, 5, 1, 1, 2, 1, 2, 5, 2, 4, 3, 5, 3, 8, 5, 7, 6, 3, 1, 2, 3, 8, 2, 8, 1, 4, 3, 2, 4, 5, 2, 1, 4, 2, 1, 1, 1, 3, 3, 4, 2, 3, 8, 5, 3, 1, 3, 7, 5, 3, 8, 6, 8, 8, 8, 6, 5, 6, 3, 6, 1, 3, 2, 3, 7, 1, 4, 6, 8, 5, 6, 4, 7, 7, 3, 3, 8, 7, 8, 6, 1, 4, 4, 1, 6, 4, 6, 5, 1, 3, 5, 7, 3, 7, 5, 2, 5, 7, 3, 2, 6, 8, 4, 3, 4, 7, 2, 5, 2, 2, 6, 2, 6, 1, 6, 2, 1, 4, 5, 8, 7, 4, 4, 2, 6, 5, 1, 7, 5, 7, 4, 4, 6, 3, 8, 8, 8, 7, 4, 3, 7, 7, 8, 1, 1, 8, 3, 1, 4, 8, 2, 8, 6, 7, 5, 7, 4, 1, 2, 7, 5, 3, 6, 1, 2, 7, 6, 2, 1, 1, 3, 7, 1, 2, 3, 3, 6, 7, 1, 3, 1, 7, 1, 8, 3, 7, 8, 2, 4, 6, 7, 5, 7, 4, 8, 8, 6, 2, 1, 3, 6, 6, 8, 5, 5, 4, 4, 1, 4, 4, 7, 5, 2, 1, 7, 7, 7, 5, 8, 3, 2, 5, 6, 4, 5, 8, 7, 8, 4, 7, 1, 2, 7, 1, 2, 7, 6, 2], \"Freq\": [0.9995536427497489, 0.9998706830323433, 0.9997411959034874, 0.9996993207184702, 0.9993384775078051, 0.9999409394724642, 0.9998248979052102, 0.9997373923853836, 0.9999133487855264, 0.999880005242488, 0.9998990919055964, 0.9994346801231332, 0.9992185283440335, 0.9999886420319971, 0.9998612327956126, 0.9996729684765662, 0.9996945251616587, 0.9996863630648307, 0.9995807314074803, 0.9996388091411069, 0.9989839965005181, 0.9998212472605378, 0.9996800077940192, 0.9998298182006885, 0.9997137260728481, 0.9998369881184521, 0.9995973217003566, 0.9996173188842247, 0.9998189502190434, 0.9995734353912812, 0.9999465787427084, 0.999856943335946, 0.9999689173181092, 0.9993236331642994, 0.9997090408585562, 0.9996817106633455, 0.9993271109781949, 0.9999499241561965, 0.9999282024230356, 0.7603192741466714, 0.2395629233499501, 0.3184259411587009, 0.6815575373111941, 0.9999140214947099, 0.9995935877776441, 0.31277836517229995, 0.6870706356282877, 0.9998313122795914, 0.9996280014316413, 0.9995326216020491, 0.9990427894505892, 0.9997964620917431, 0.9995662515156075, 0.9996939281988101, 0.9999356665697534, 0.1900048561758069, 0.8098219398002404, 0.9999717084506188, 0.9998182600093247, 0.9998175463309018, 0.9995606039487094, 0.9998753519215334, 0.9995691233253072, 0.26410302407173103, 0.7357603226956824, 0.9996342010500153, 0.9996848313062617, 0.9998096431316728, 0.9996693180958487, 0.34324708548987914, 0.6564600509993939, 0.8501628678499465, 0.14964297323305512, 0.5852967368495523, 0.41458518860176624, 0.9998245423288247, 0.9997513619185101, 0.9998486109746934, 0.9992659266548267, 0.9999615409737768, 0.9993278086280166, 0.9991848942099447, 0.8635292846257118, 0.1364372758713363, 0.9996027922872902, 0.9993114332848466, 0.9998497888302826, 0.9999544365352763, 0.9994366700901305, 0.9999096571348185, 0.9994127265385689, 0.2956543631704235, 0.7041164627860981, 0.9995975971822665, 0.9998046935625611, 0.9993391941281018, 0.9995660081897668, 0.697524082922112, 0.30227485056575093, 0.999833688165703, 0.9995763158376704, 0.9998793062078826, 0.9993099865579103, 0.9995734919099414, 0.9998552845797221, 0.9998949381761885, 0.9995966976375711, 0.9998469854508835, 0.9996140164732963, 0.9992243735248237, 0.9996769908790153, 0.9996751811991474, 0.9996757025243677, 0.9993102470083349, 0.9998454668621141, 0.9997679401027548, 0.999911661573384, 0.8390360670887095, 0.16085799325198238, 0.9993346354815863, 0.9996434109520957, 0.9992827424579501, 0.9999466550370071, 0.9999162043734465, 0.9995346774411998, 0.7289401799466205, 0.27104021764113845, 0.9994261621294989, 0.999940809426851, 0.9998475324421189, 0.9996744501551148, 0.9992164858046094, 0.99993499898208, 0.999567893062963, 0.9998838698772488, 0.9998767366288098, 0.999671924672604, 0.34362184074590607, 0.6563380484779792, 0.31109276535610536, 0.6885985929792444, 0.9992594559282708, 0.9998640165598883, 0.9996864162100669, 0.999294519017778, 0.30773621456848754, 0.49755819977612437, 0.19471243711661218, 0.23701728980617856, 0.7629175110753889, 0.8178479099932863, 0.18202985334494692, 0.9995612871490772, 0.9997980311667622, 0.99991619098491, 0.9992869984906382, 0.9997784896980361, 0.9999244198578829, 0.9994637594165167, 0.999705772388308, 0.9997832494988279, 0.999873029184274, 0.999966652454969, 0.9995405773189591, 0.9997100559001884, 0.999531729919576, 0.9993572415817547, 0.9996782849031838, 0.999131036765469, 0.9999629735801078, 0.9995940940961636, 0.9999025092876366, 0.999801427125239, 0.9994907598437042, 0.9994161361988784, 0.11154169314376823, 0.8883356350016237, 0.9995696518874354, 0.9997869332198072, 0.9995679431475331, 0.999750203991303, 0.9998664477330891, 0.9991314317589767, 0.9998322821786321, 0.9996254984594884, 0.45216948386047146, 0.5475898650699651, 0.9999334467843073, 0.9997106964153922, 0.9999565638171034, 0.37336861396361287, 0.626554931399561, 0.9998182600093247, 0.9994988355022808, 0.9998242211936135, 0.3759703573413666, 0.6237451205082034, 0.9995607287502192, 0.999537829447453, 0.9999116425124962, 0.9995181134843287, 0.9998175539970049, 0.9997994576618406, 0.999694557784385, 0.9996123108569619, 0.9998801483290825, 0.999617245703356, 0.9994411393572801, 0.9998375708680823, 0.9996917558427008, 0.9998417801471566, 0.9995430502739147, 0.9997287997789525, 0.9997792424431196, 0.9990755705068818, 0.9993491510873548, 0.9998004985182484, 0.9999539006303337, 0.8719351742869931, 0.12797808507777375, 0.9997559472363409, 0.999445914436078, 0.9997174645257811, 0.48318799271933477, 0.5167673417546463, 0.9997046389765011, 0.8141554434099517, 0.18562072179532255, 0.9993461477726081, 0.9996919599409934, 0.9995369910900875, 0.9996591156959815, 0.9997698292373629, 0.999089636228256, 0.9992387517150938, 0.9997084165491243, 0.7096452495488287, 0.29019736259465745, 0.9990743001533265, 0.9999106176309328, 0.9998545656307197, 0.9994655938915884, 0.7526446035415063, 0.12585241655280857, 0.12147396495106054, 0.9995632943918985, 0.9994730115939097, 0.9998992944721066, 0.9999460664735521, 0.9993827098759528, 0.9996983538610017, 0.9990978566200793, 0.9994692291559116, 0.999937346586591, 0.9994474310349755, 0.12085645056450915, 0.8789886063311927, 0.9997877416249923, 0.9992856953905765, 0.36680520547198664, 0.6329486913549873, 0.9999230889508931, 0.9992662927051607, 0.999251562266967, 0.9996704802907939, 0.9998890915624433, 0.28824095506312475, 0.7115948578120892, 0.9993003640820469, 0.9995862427171704, 0.9996934533756978, 0.9990901650334949, 0.9999545409771217, 0.9996301933670401, 0.9994982171932579, 0.9992687881359609, 0.9999323380606293, 0.999819255905543, 0.9999074203243618, 0.9996157993277006, 0.050450281018002446, 0.9488092623272051, 0.999510459476589, 0.9992064491619158, 0.9996576189297985, 0.9996911068183514, 0.9993716491235252, 0.9998859151380483, 0.9998363229769186, 0.9998795061403108, 0.9997701484290105, 0.9999328480112321, 0.3955964746492068, 0.6042462176608199, 0.999720130104824, 0.9994909018455783, 0.760540899817374, 0.23940365945944644, 0.9995678323149578, 0.8553570815838433, 0.14460426686801214, 0.9998455612021777, 0.9995891777259912, 0.9998357250971869, 0.9999169211541693, 0.9998834637310724, 0.9997497780580329, 0.6710441427945331, 0.3289019354140158, 0.744738322876323, 0.11283100874418801, 0.14234684931936203, 0.34907250698814535, 0.650920211221324, 0.9996776731021976, 0.9994328618868905, 0.9998838683395733], \"Term\": [\"airline\", \"alarm\", \"alphabet\", \"angel\", \"animal\", \"antique\", \"apple\", \"apron\", \"art\", \"assorted\", \"babushka\", \"baby\", \"backpack\", \"bag\", \"bakelike\", \"baking\", \"ball\", \"balloon\", \"bank\", \"bathroom\", \"beaker\", \"bell\", \"bicycle\", \"bird\", \"birthday\", \"biscuit\", \"block\", \"board\", \"book\", \"botanical\", \"bottle\", \"bowl\", \"box\", \"bracelet\", \"bunting\", \"butterfly\", \"cabinet\", \"cake\", \"calm\", \"candle\", \"candle\", \"card\", \"card\", \"case\", \"cat\", \"ceramic\", \"ceramic\", \"chain\", \"chalk\", \"chalkboard\", \"charlielola\", \"charlotte\", \"charm\", \"child\", \"childrens\", \"chocolate\", \"chocolate\", \"christmas\", \"circus\", \"classic\", \"clip\", \"clock\", \"coffee\", \"colour\", \"colour\", \"colouring\", \"cookie\", \"cover\", \"cracker\", \"craft\", \"craft\", \"cream\", \"cream\", \"cup\", \"cup\", \"cushion\", \"cutlery\", \"cutter\", \"daisy\", \"decoration\", \"decorative\", \"deluxe\", \"design\", \"design\", \"diamante\", \"dinosaur\", \"dog\", \"doily\", \"doll\", \"dolly\", \"door\", \"doormat\", \"doormat\", \"doorstop\", \"drawer\", \"drawing\", \"earring\", \"egg\", \"egg\", \"enamel\", \"english\", \"fairy\", \"feather\", \"felt\", \"feltcraft\", \"flower\", \"folkart\", \"frame\", \"french\", \"frying\", \"garden\", \"gardener\", \"garland\", \"giant\", \"gift\", \"gingham\", \"girl\", \"glass\", \"glass\", \"glitter\", \"gold\", \"grey\", \"hand\", \"hanging\", \"harmonica\", \"heart\", \"heart\", \"herb\", \"holder\", \"home\", \"hook\", \"horse\", \"hot\", \"house\", \"ivory\", \"jack\", \"jam\", \"jar\", \"jar\", \"jigsaw\", \"jigsaw\", \"jingle\", \"keep\", \"key\", \"king\", \"kit\", \"kit\", \"kit\", \"kitchen\", \"kitchen\", \"kneeling\", \"kneeling\", \"knob\", \"lantern\", \"leaf\", \"led\", \"letter\", \"light\", \"list\", \"lola\", \"london\", \"love\", \"lunch\", \"magic\", \"magnet\", \"making\", \"marker\", \"match\", \"measuring\", \"metal\", \"milk\", \"mini\", \"mirror\", \"money\", \"mould\", \"mug\", \"mug\", \"mushroom\", \"napkin\", \"natural\", \"night\", \"notebook\", \"one\", \"owl\", \"pad\", \"painted\", \"painted\", \"paisley\", \"pan\", \"pantry\", \"paper\", \"paper\", \"parade\", \"parasol\", \"park\", \"party\", \"party\", \"pear\", \"pen\", \"pencil\", \"photo\", \"picture\", \"plaster\", \"plate\", \"playing\", \"polkadot\", \"popcorn\", \"poppy\", \"pot\", \"purple\", \"rabbit\", \"recipe\", \"reel\", \"regency\", \"reindeer\", \"repair\", \"retro\", \"retrospot\", \"ribbon\", \"ribbon\", \"ring\", \"rocking\", \"roll\", \"rose\", \"rose\", \"rotating\", \"round\", \"round\", \"ruler\", \"santa\", \"saucer\", \"scale\", \"scandinavian\", \"school\", \"scottie\", \"sewing\", \"shopper\", \"shopper\", \"shopping\", \"sign\", \"silver\", \"sketchbook\", \"skull\", \"skull\", \"skull\", \"slate\", \"sleigh\", \"snack\", \"spaceboy\", \"spoon\", \"spot\", \"square\", \"stamp\", \"star\", \"stationery\", \"stick\", \"stick\", \"sticker\", \"stocking\", \"storage\", \"storage\", \"strawberry\", \"stripe\", \"style\", \"suki\", \"sweet\", \"sweetheart\", \"sweetheart\", \"swirly\", \"table\", \"tag\", \"tall\", \"tea\", \"teacup\", \"tier\", \"time\", \"tin\", \"tissue\", \"tlight\", \"tlights\", \"toadstool\", \"toadstool\", \"toilet\", \"tonic\", \"top\", \"towel\", \"toy\", \"traditional\", \"travel\", \"tray\", \"treasure\", \"tree\", \"trinket\", \"trinket\", \"tube\", \"tv\", \"union\", \"union\", \"village\", \"vintage\", \"vintage\", \"wall\", \"wallet\", \"warmer\", \"water\", \"wicker\", \"wood\", \"wooden\", \"wooden\", \"woodland\", \"woodland\", \"woodland\", \"wrap\", \"wrap\", \"wreath\", \"yellow\", \"zinc\"]}, \"R\": 30, \"lambda.step\": 0.01, \"plot.opts\": {\"xlab\": \"PC1\", \"ylab\": \"PC2\"}, \"topic.order\": [6, 2, 1, 5, 4, 3, 7, 8]};\n",
       "\n",
       "function LDAvis_load_lib(url, callback){\n",
       "  var s = document.createElement('script');\n",
       "  s.src = url;\n",
       "  s.async = true;\n",
       "  s.onreadystatechange = s.onload = callback;\n",
       "  s.onerror = function(){console.warn(\"failed to load library \" + url);};\n",
       "  document.getElementsByTagName(\"head\")[0].appendChild(s);\n",
       "}\n",
       "\n",
       "if(typeof(LDAvis) !== \"undefined\"){\n",
       "   // already loaded: just create the visualization\n",
       "   !function(LDAvis){\n",
       "       new LDAvis(\"#\" + \"ldavis_el560818107786337125856557504\", ldavis_el560818107786337125856557504_data);\n",
       "   }(LDAvis);\n",
       "}else if(typeof define === \"function\" && define.amd){\n",
       "   // require.js is available: use it to load d3/LDAvis\n",
       "   require.config({paths: {d3: \"https://d3js.org/d3.v5\"}});\n",
       "   require([\"d3\"], function(d3){\n",
       "      window.d3 = d3;\n",
       "      LDAvis_load_lib(\"https://cdn.jsdelivr.net/gh/bmabey/pyLDAvis@3.3.1/pyLDAvis/js/ldavis.v3.0.0.js\", function(){\n",
       "        new LDAvis(\"#\" + \"ldavis_el560818107786337125856557504\", ldavis_el560818107786337125856557504_data);\n",
       "      });\n",
       "    });\n",
       "}else{\n",
       "    // require.js not available: dynamically load d3 & LDAvis\n",
       "    LDAvis_load_lib(\"https://d3js.org/d3.v5.js\", function(){\n",
       "         LDAvis_load_lib(\"https://cdn.jsdelivr.net/gh/bmabey/pyLDAvis@3.3.1/pyLDAvis/js/ldavis.v3.0.0.js\", function(){\n",
       "                 new LDAvis(\"#\" + \"ldavis_el560818107786337125856557504\", ldavis_el560818107786337125856557504_data);\n",
       "            })\n",
       "         });\n",
       "}\n",
       "</script>"
      ],
      "text/plain": [
       "PreparedData(topic_coordinates=              x         y  topics  cluster       Freq\n",
       "topic                                                \n",
       "5      0.114090  0.126630       1        1  15.904233\n",
       "1      0.302440 -0.095540       2        1  15.164723\n",
       "0     -0.267882 -0.158126       3        1  14.752156\n",
       "4     -0.123268  0.124730       4        1  13.429964\n",
       "3      0.211367 -0.219130       5        1  10.652016\n",
       "2     -0.028998  0.169987       6        1  10.142138\n",
       "6     -0.200125 -0.203130       7        1   9.987908\n",
       "7     -0.007626  0.254580       8        1   9.966861, topic_info=          Term          Freq         Total Category  logprob  loglift\n",
       "93         bag  45623.000000  45623.000000  Default  30.0000  30.0000\n",
       "107  christmas  42616.000000  42616.000000  Default  29.0000  29.0000\n",
       "1        heart  41137.000000  41137.000000  Default  28.0000  28.0000\n",
       "46     vintage  38961.000000  38961.000000  Default  27.0000  27.0000\n",
       "82   retrospot  26925.000000  26925.000000  Default  26.0000  26.0000\n",
       "..         ...           ...           ...      ...      ...      ...\n",
       "227  chocolate   3431.266167   4236.733819   Topic8  -3.9983   2.0950\n",
       "30      colour   4696.858813   6383.872377   Topic8  -3.6844   1.9990\n",
       "53     doormat   3589.280569   5097.168139   Topic8  -3.9533   1.9552\n",
       "281       rose   4662.944089   9023.403035   Topic8  -3.6916   1.6457\n",
       "108        kit   2149.817701  11041.924347   Topic8  -4.4659   0.6696\n",
       "\n",
       "[323 rows x 6 columns], token_table=      Topic      Freq      Term\n",
       "term                           \n",
       "167       5  0.999554   airline\n",
       "65        6  0.999871     alarm\n",
       "47        6  0.999741  alphabet\n",
       "454       3  0.999699     angel\n",
       "539       2  0.999338    animal\n",
       "...     ...       ...       ...\n",
       "447       1  0.349073      wrap\n",
       "447       2  0.650920      wrap\n",
       "527       7  0.999678    wreath\n",
       "63        6  0.999433    yellow\n",
       "205       2  0.999884      zinc\n",
       "\n",
       "[317 rows x 3 columns], R=30, lambda_step=0.01, plot_opts={'xlab': 'PC1', 'ylab': 'PC2'}, topic_order=[6, 2, 1, 5, 4, 3, 7, 8])"
      ]
     },
     "execution_count": 104,
     "metadata": {},
     "output_type": "execute_result"
    }
   ],
   "source": [
    "pyLDAvis.enable_notebook()\n",
    "vis = gensimvis.prepare(model, corpus, dictionary)\n",
    "vis"
   ]
  },
  {
   "cell_type": "code",
   "execution_count": 15,
   "id": "55bf18c0-dee9-44df-a2bb-6bbf19c15b47",
   "metadata": {},
   "outputs": [
    {
     "name": "stderr",
     "output_type": "stream",
     "text": [
      "C:\\Users\\SReed\\.conda\\envs\\cluster\\lib\\site-packages\\pyLDAvis\\_prepare.py:246: FutureWarning: In a future version of pandas all arguments of DataFrame.drop except for the argument 'labels' will be keyword-only.\n",
      "  default_term_info = default_term_info.sort_values(\n"
     ]
    },
    {
     "data": {
      "text/html": [
       "\n",
       "<link rel=\"stylesheet\" type=\"text/css\" href=\"https://cdn.jsdelivr.net/gh/bmabey/pyLDAvis@3.3.1/pyLDAvis/js/ldavis.v1.0.0.css\">\n",
       "\n",
       "\n",
       "<div id=\"ldavis_el3042014891032484008673570215\"></div>\n",
       "<script type=\"text/javascript\">\n",
       "\n",
       "var ldavis_el3042014891032484008673570215_data = {\"mdsDat\": {\"x\": [-0.19253709040643813, 0.29735509795310805, -0.12612602322386784, 0.13546213954198255, -0.21836044709020122, -0.16211488842967792, 0.13991687957112814, 0.1264043320839657], \"y\": [-0.07650251164529227, -0.13862636354262056, 0.1074920692449705, 0.16142114495509627, -0.23925027170482524, 0.18925317826282656, -0.2146549867618462, 0.2108677411916912], \"topics\": [1, 2, 3, 4, 5, 6, 7, 8], \"cluster\": [1, 1, 1, 1, 1, 1, 1, 1], \"Freq\": [15.9559812208157, 14.084521548724402, 13.768556680284885, 12.331304162548767, 11.879316771684623, 11.364975393373642, 10.531821059906857, 10.083523162661123]}, \"tinfo\": {\"Term\": [\"vintage\", \"heart\", \"bag\", \"christmas\", \"cake\", \"card\", \"metal\", \"bottle\", \"lunch\", \"hot\", \"holder\", \"sign\", \"water\", \"hanging\", \"design\", \"paper\", \"tea\", \"tlight\", \"wooden\", \"retrospot\", \"case\", \"tin\", \"doily\", \"box\", \"paisley\", \"decoration\", \"hand\", \"mini\", \"spaceboy\", \"pencil\", \"lunch\", \"girl\", \"dolly\", \"childrens\", \"feltcraft\", \"london\", \"charlotte\", \"apple\", \"leaf\", \"cutlery\", \"apron\", \"doll\", \"circus\", \"parade\", \"magic\", \"coffee\", \"cabinet\", \"stocking\", \"board\", \"magnetic\", \"scale\", \"animal\", \"shoulder\", \"princess\", \"drawing\", \"shopping\", \"child\", \"friend\", \"knitting\", \"earring\", \"spaceboy\", \"rabbit\", \"bag\", \"suki\", \"kitchen\", \"tissue\", \"mug\", \"design\", \"storage\", \"woodland\", \"skull\", \"retrospot\", \"love\", \"box\", \"strawberry\", \"bottle\", \"hot\", \"holder\", \"water\", \"hanging\", \"tlight\", \"wicker\", \"sweet\", \"magnet\", \"classic\", \"wreath\", \"saucer\", \"victorian\", \"spotty\", \"teacup\", \"balloon\", \"popcorn\", \"scottie\", \"grey\", \"baby\", \"rotating\", \"sympathy\", \"apothecary\", \"little\", \"poorly\", \"tape\", \"gloss\", \"lip\", \"hldr\", \"charlie\", \"home\", \"heart\", \"silver\", \"dog\", \"decoration\", \"glass\", \"zinc\", \"regency\", \"star\", \"mirror\", \"gold\", \"doormat\", \"skull\", \"cake\", \"case\", \"pantry\", \"ceramic\", \"fairy\", \"keep\", \"drawer\", \"alphabet\", \"reel\", \"sweetheart\", \"knob\", \"stand\", \"tier\", \"treasure\", \"biscuit\", \"retro\", \"recipe\", \"money\", \"charm\", \"bank\", \"sleigh\", \"stationery\", \"village\", \"cakestand\", \"harmonica\", \"mushroom\", \"chest\", \"gymkhana\", \"wire\", \"container\", \"mini\", \"ribbon\", \"spot\", \"pot\", \"sketchbook\", \"tin\", \"vintage\", \"regency\", \"design\", \"box\", \"christmas\", \"trinket\", \"retrospot\", \"tree\", \"frame\", \"gift\", \"art\", \"cover\", \"alarm\", \"bakelike\", \"napkin\", \"top\", \"photo\", \"stick\", \"ring\", \"picture\", \"letter\", \"doorstop\", \"stamp\", \"decorative\", \"ruler\", \"house\", \"feather\", \"chalk\", \"square\", \"domino\", \"reindeer\", \"ornament\", \"swallow\", \"record\", \"musical\", \"crystal\", \"pick\", \"wooden\", \"antique\", \"colour\", \"jigsaw\", \"cushion\", \"christmas\", \"clock\", \"wood\", \"ivory\", \"assorted\", \"traditional\", \"decoration\", \"bird\", \"scandinavian\", \"star\", \"box\", \"garden\", \"metal\", \"sign\", \"doily\", \"paisley\", \"calm\", \"travel\", \"french\", \"wallet\", \"playing\", \"park\", \"natural\", \"chalkboard\", \"hanger\", \"santa\", \"colouring\", \"rack\", \"school\", \"tail\", \"airline\", \"backpack\", \"snap\", \"swirly\", \"bead\", \"picnic\", \"g\", \"marble\", \"swirly_marble\", \"coat\", \"skittle\", \"baroque\", \"card\", \"vintage\", \"door\", \"bag\", \"birthday\", \"slate\", \"kit\", \"game\", \"wrap\", \"hook\", \"edwardian\", \"pencil\", \"baking\", \"tube\", \"plaster\", \"sewing\", \"book\", \"round\", \"snack\", \"english\", \"enamel\", \"felt\", \"milk\", \"botanical\", \"jingle\", \"poppy\", \"beaker\", \"peg\", \"spoon\", \"mould\", \"sugar\", \"knack\", \"knick\", \"tall\", \"measuring\", \"jug\", \"playhouse\", \"loaf\", \"one\", \"match\", \"morris\", \"rose\", \"chocolate\", \"wrap\", \"cream\", \"tin\", \"candle\", \"bowl\", \"box\", \"retrospot\", \"gingham\", \"egg\", \"woodland\", \"skull\", \"flower\", \"trinket\", \"tea\", \"hand\", \"polkadot\", \"warmer\", \"union\", \"party\", \"night\", \"jack\", \"roll\", \"tray\", \"cookie\", \"cutter\", \"towel\", \"toy\", \"making\", \"led\", \"toadstool\", \"flag\", \"rocking\", \"folding\", \"time\", \"toilet\", \"tidy\", \"empire\", \"pc\", \"scotty\", \"shape\", \"tv\", \"filigree\", \"come\", \"bunting\", \"jam\", \"plate\", \"light\", \"owl\", \"doormat\", \"love\", \"cup\", \"bird\", \"design\", \"birthday\", \"heart\", \"jar\", \"candle\", \"paper\", \"wall\", \"bell\", \"chain\", \"babushka\", \"painted\", \"butterfly\", \"table\", \"pad\", \"kneeling\", \"gardener\", \"bicycle\", \"tlights\", \"diner\", \"folkart\", \"horse\", \"glitter\", \"tonic\", \"herb\", \"giant\", \"marker\", \"purse\", \"bunny\", \"glove\", \"gin\", \"funky\", \"oven\", \"building\", \"word\", \"mint\", \"notebook\", \"garland\", \"purple\", \"craft\", \"kit\", \"pen\", \"retrospot\", \"christmas\", \"star\", \"lantern\", \"glass\", \"clock\", \"assorted\", \"zinc\"], \"Freq\": [41325.0, 40596.0, 47428.0, 39946.0, 20306.0, 19236.0, 16623.0, 16419.0, 16336.0, 14290.0, 14218.0, 13058.0, 13685.0, 13561.0, 28503.0, 11419.0, 11566.0, 12457.0, 12694.0, 28406.0, 11601.0, 15859.0, 10383.0, 26860.0, 9458.0, 15117.0, 8569.0, 11145.0, 12574.0, 8569.0, 16335.775075680976, 9683.45925799147, 9488.688807433775, 7614.041346208647, 7083.662797629118, 5806.014462963367, 5663.931461595006, 5644.018626328417, 5128.518515481476, 4204.604508088841, 3246.3729975768465, 2551.4989812836716, 2439.264876604938, 2439.264876604938, 2270.281422233987, 2226.040127188185, 2010.4285424057366, 1995.2796180437044, 1987.7520030314993, 1860.2478127118736, 1740.6557745817763, 1683.9174395512741, 1621.7936320728847, 1506.4468397640806, 1499.0555834753786, 1485.3276899006105, 1309.1752244406143, 1286.8298220482993, 1214.84607979619, 1167.2849796522569, 11463.266856776474, 3382.856089159132, 36223.71664909103, 3529.825696397983, 3056.1592707425975, 5365.330953820619, 5473.043191300319, 15385.43675540923, 3275.329846093699, 4815.917396685315, 4918.329211636695, 9125.815657163992, 3765.6058239101135, 5087.492665099714, 2412.3904962826086, 16418.91776771486, 14289.68068985244, 14217.266527944314, 13684.156791931266, 13560.823899435762, 12456.54928285222, 7199.480801896542, 4731.089592384024, 2940.5148466139544, 2824.7058966017453, 2368.942348391997, 2127.978779894854, 2065.1037571563447, 2027.8392333093507, 1939.9314161648258, 1728.6934141299691, 1391.0722792995132, 1348.433897622333, 1317.032446631061, 1256.9940095299216, 1220.5250293118743, 1049.2442644683376, 996.5615906473755, 953.3568887337165, 918.5906229504582, 884.3820622963104, 881.1863497546602, 881.1863497546602, 853.1877431007559, 845.5874953807731, 9610.484073626143, 36199.02705940311, 6034.594228207084, 3674.3334465827065, 8907.272734822303, 6232.0716884620415, 3051.5256741140793, 3355.217316232627, 4429.1310637219785, 1615.6719436431333, 1289.2279260388598, 1393.2560859443197, 1329.228731058869, 20305.155637187796, 11600.323964132287, 8849.805716792553, 8171.738793917397, 6584.574131888464, 5655.500749547931, 5253.4440087316525, 4418.195223368402, 4143.949777831782, 3492.920812968611, 3396.2096903135275, 2748.414712205078, 2567.534512402082, 2467.78791780423, 2407.1918128596712, 2403.6666710474187, 2258.087457913934, 2209.567309760482, 2182.9737843032567, 1632.6940943063105, 1595.6929786624326, 1458.0014207238721, 1445.0456222237892, 1421.1236248874193, 1337.7914380618965, 1207.0648625347053, 1167.3098050450096, 1139.479712777329, 1104.6079993496649, 1013.904416152302, 10384.524931119688, 9089.096674240525, 3558.0201963443164, 2855.753235084049, 1479.7691112585287, 6968.975807513712, 10073.832166108534, 3505.4274867456515, 7784.649829298344, 7183.158130297866, 8223.757855865522, 2708.7045310940844, 3416.189183484515, 6019.749478953319, 5652.482695412243, 5012.396830400564, 4287.24984687927, 4119.030528696536, 3521.718098310981, 3500.9637836395605, 3060.377946789919, 2555.2646278587567, 2284.299329834533, 2086.9511300510235, 1929.2097183043459, 1794.5178689151692, 1766.9850254687642, 1652.5276900450483, 1621.7261578724215, 1609.6986548458983, 1421.7767994981427, 1236.6946679905338, 1182.5450975160634, 1131.7564523773297, 1112.8299526676, 1052.4118485966917, 1050.7839155399665, 991.1229921408616, 875.3277409904562, 867.6090668673168, 832.7582290086162, 829.413628259727, 780.4156232809522, 11948.63986336338, 5225.426762344348, 5272.909220695983, 1404.100019644906, 2833.5797613211075, 22694.231594648376, 4235.390028685407, 3586.2723031485293, 4303.047736825827, 3702.5175849059915, 3562.5903381493868, 6209.8909393471085, 3219.4960114842215, 2304.137743593711, 3816.347043316103, 4063.988547474395, 1946.494384814094, 16622.884061045006, 13057.971906627889, 10382.429085250247, 9457.24754290345, 5481.323748637959, 4525.060530324573, 3477.7743019445625, 3264.415124028043, 3146.8269285077627, 3087.8870906262673, 2290.064975354871, 2227.556372963272, 1643.4179253657708, 1512.9011070715264, 1507.078560855682, 1457.022953577044, 1409.2533070907707, 1279.2609041049918, 1273.3375646855607, 1228.0514170621213, 1134.98316653178, 1134.1153692279852, 1083.1934178946258, 1064.5551871185169, 1060.9529978797266, 1037.707033309581, 1037.707033309581, 992.8760640566129, 893.4386380518407, 890.3666771178092, 17845.169504801637, 31251.179616789843, 1905.7825304984294, 11204.522120902517, 2240.4794941514583, 1780.7206902079793, 2264.784877296069, 1424.6472631141519, 1718.7067115188424, 1326.3350671061664, 1239.0614396487601, 8568.224083383628, 4777.528918500787, 4182.995513879998, 4156.001710969276, 4149.06755222057, 3540.4644312432038, 3448.855756871481, 2978.9042305737457, 2764.452778875866, 2701.0989343939996, 2446.9768728956137, 2177.3681527711374, 1966.95719120344, 1839.8860309258278, 1806.4293902652169, 1693.2098635558546, 1645.788575568744, 1607.7109830758689, 1600.063685664605, 1574.8018334954254, 1500.8461465041516, 1500.8461465041516, 1491.2123691225286, 1488.6507901416032, 1383.287507194434, 1338.8076555039825, 1189.8467829298856, 1175.1171575895044, 1131.9361696461071, 1110.3081368337948, 8539.881265629265, 4364.992155139782, 5678.136948320093, 4357.455785995623, 8889.334106648053, 6190.275577066882, 4143.39263288716, 10524.930390444668, 6914.128500038019, 2443.2686710212342, 2180.600664046206, 2650.5039261202946, 2336.6299612751186, 1939.25253373951, 1893.4247596055407, 11565.996044132848, 8568.347452521313, 8123.790647966952, 7880.766732664981, 5163.477059230006, 5069.01164637408, 3952.713760687632, 3847.821478351488, 3426.8881132330844, 3210.8533167195037, 3201.7873699742677, 3049.705450715163, 2150.2017836689574, 2077.605372122151, 2062.348460119428, 2025.485197165014, 1889.812943369437, 1598.4298884317552, 1557.1507128106261, 1494.0008793609547, 1402.7458931759681, 1341.4832954935594, 1234.2269758828538, 1196.8858070748581, 1164.4495922788365, 1119.8401684151597, 1024.5965595457767, 969.7504898489746, 964.8602604540952, 922.8998872346205, 4327.54177287439, 2880.4104540722983, 3113.01044481747, 6476.812776685246, 3244.5737942127575, 3863.8381805963, 5365.055226679963, 2744.4293514331594, 2701.8577225465388, 5332.9378918729, 2366.307258344593, 4397.199518964512, 2236.3008531493615, 2055.343959767457, 11418.25420804675, 7598.256775293117, 7363.411995719597, 4638.587595043585, 3584.2056302083733, 3343.769291480902, 3115.0669444907458, 2788.459974043959, 2782.5136777775933, 2728.1768690448985, 2416.099141243083, 2408.6692226471523, 2300.5623386907155, 1776.5350896954508, 1740.082635323204, 1727.2046031816208, 1558.3626019591875, 1417.941334606019, 1266.9497647961257, 1254.0383383759522, 1167.3656470275905, 1149.8896897153388, 1107.335069739454, 1106.4232032773637, 1069.549487570181, 1019.2277460849998, 1012.9411630009138, 929.9788491497612, 929.9788491497612, 844.6173458217265, 3428.405724839226, 2335.599369075426, 1578.596362769068, 3296.578153474131, 5749.972447982439, 2005.3985046045077, 8949.636351855761, 9027.898443023201, 3338.4607466352163, 1663.2350870277699, 2126.9718296535216, 1839.3866464647235, 1774.530551864496, 1761.243505893845], \"Total\": [41325.0, 40596.0, 47428.0, 39946.0, 20306.0, 19236.0, 16623.0, 16419.0, 16336.0, 14290.0, 14218.0, 13058.0, 13685.0, 13561.0, 28503.0, 11419.0, 11566.0, 12457.0, 12694.0, 28406.0, 11601.0, 15859.0, 10383.0, 26860.0, 9458.0, 15117.0, 8569.0, 11145.0, 12574.0, 8569.0, 16336.62625480906, 9684.310549206115, 9489.540109824988, 7614.892555053839, 7084.5141146609285, 5806.865972274393, 5664.7825970147505, 5644.869867701611, 5129.370100562167, 4205.455688693711, 3247.224288280134, 2552.350141765036, 2440.1160969854072, 2440.1160969854072, 2271.132874101003, 2226.8916547756003, 2011.2799080958314, 1996.1313392134723, 1988.6032809564697, 1861.0990487057948, 1741.5069567698397, 1684.7689390258229, 1622.6447306256766, 1507.2979382195563, 1499.9066978574792, 1486.1788571352847, 1310.026559507775, 1287.6816968221317, 1215.6977735455855, 1168.1364262141658, 12574.365069674497, 3600.7976605156227, 47428.965343842836, 4061.527914294719, 3498.1153685429185, 6938.901980919858, 7348.2612161116185, 28503.62000332624, 4229.729181389164, 7467.1419128510715, 9151.582887575269, 28406.24359959553, 9847.012285332785, 26860.05744584628, 4495.4995604775995, 16419.78736247543, 14290.550260207676, 14218.136105003128, 13685.026316568323, 13561.693677628147, 12457.418821024476, 7200.3502909603, 4731.959105239466, 2941.3846559890217, 2825.5765521555804, 2369.812091225392, 2128.848320737996, 2065.973700399362, 2028.7090212023272, 1940.80086878428, 1729.5631148124335, 1391.9417319359873, 1349.303375865344, 1317.9019180965186, 1257.8639362395134, 1221.3945117159562, 1050.1137984331228, 997.4310837134994, 954.2276833750684, 919.4600755699126, 885.2517623974843, 882.0558753896487, 882.0558753896487, 854.0572364150363, 846.4570312503668, 10060.036695990471, 40596.96876722112, 7477.508303603208, 4569.646260236555, 15117.92867468233, 10121.594428607528, 5803.42318043034, 6861.3865220078, 11584.58509014971, 2573.263049974381, 1744.0828447983026, 6086.389427372898, 9151.582887575269, 20306.013698744457, 11601.182105071015, 8850.664051433525, 8172.596893017892, 6585.432300868343, 5656.360134526013, 5254.3021994204855, 4419.053578529765, 4144.80780297664, 3493.778969431252, 3397.0676756054286, 2749.272795650816, 2568.3924945362137, 2468.6464704116615, 2408.049871567227, 2404.5252830956924, 2258.9455521442937, 2210.4253456757506, 2183.832084915647, 1633.5520951940625, 1596.5521804131579, 1458.859464942011, 1445.903810189166, 1421.981598969767, 1338.649412161264, 1207.9229964550834, 1168.1678062222213, 1140.3378048586458, 1105.4663303879631, 1014.762564366444, 11145.818529343422, 10018.45617391883, 3992.761446932693, 3211.791205931039, 1596.5347586529488, 15859.037272941665, 41325.745546600745, 6861.3865220078, 28503.62000332624, 26860.05744584628, 39946.522845490195, 4602.856551364981, 28406.24359959553, 6020.631144551671, 5653.364189949314, 5013.278588168893, 4288.132413386389, 4119.912177731881, 3522.599523424608, 3501.845208220992, 3061.2597154726673, 2556.1463879467847, 2285.1808959228106, 2087.832577878801, 1930.0913824729846, 1795.399358037761, 1767.8668166093632, 1653.4094994047362, 1622.6078907657127, 1610.5806060856528, 1422.6586927343576, 1237.5762826445382, 1183.4267209280592, 1132.6381184347106, 1113.7114894252722, 1053.2932731951425, 1051.6657519995128, 992.0044167222928, 876.2093481485463, 868.490491448748, 833.6399790998977, 830.2954540409422, 781.2970478794032, 12694.156003983646, 5834.756223569793, 6221.691188648901, 1498.7029211228948, 3380.1983292192826, 39946.522845490195, 6075.539479416348, 5012.332766344106, 6674.125383577364, 5477.811068684736, 5517.05046651967, 15117.92867468233, 5922.107757125291, 3731.9851805822746, 11584.58509014971, 26860.05744584628, 3157.5666430002757, 16623.74576680918, 13058.833512311221, 10383.290738941068, 9458.109127744301, 5482.186041922055, 4525.9220347154105, 3478.6358764760157, 3265.276614645753, 3147.688750639011, 3088.748644909478, 2290.9264769295623, 2228.4180957816916, 1644.279631799077, 1513.7629366039732, 1507.9401196983656, 1457.8845341998342, 1410.1152959315643, 1280.1223667588224, 1274.1990217581279, 1228.9136248659884, 1135.8446066271092, 1134.9768094943092, 1084.0554668179425, 1065.4167433536675, 1061.8144680225553, 1038.5684734049103, 1038.5684734049103, 993.7375446424762, 894.3002627105362, 891.2282125158622, 19236.19799238387, 41325.745546600745, 2504.6770585044146, 47428.965343842836, 4607.520652624691, 3280.5333358172556, 9686.821828184982, 2595.063317488813, 7397.57464098026, 3007.77957203943, 1975.2045511754452, 8569.0796050135, 4778.384451404357, 4183.850811773242, 4156.857030101383, 4149.92326920439, 3541.319939130581, 3449.711108946833, 2979.7597542434246, 2765.3082928109284, 2701.954345350781, 2447.8322061414246, 2178.223666976227, 1967.812595802875, 1840.742166221357, 1807.2846532473486, 1694.0654255496001, 1646.6440191503407, 1608.566364388013, 1600.9190539593299, 1575.6572156481823, 1501.7014231773592, 1501.7014231773592, 1492.0677460898119, 1489.506146908833, 1384.1427797965905, 1339.6628952011858, 1190.7021513397883, 1175.9726235217606, 1132.791509463127, 1111.1633854663867, 9702.984516136166, 4782.922012570147, 7397.57464098026, 5902.303610267479, 15859.037272941665, 9881.332761209474, 6218.342565153491, 26860.05744584628, 28406.24359959553, 4169.8828399655, 4074.8571987898863, 7467.1419128510715, 9151.582887575269, 4109.284246570249, 4602.856551364981, 11566.854807055568, 8569.206004331758, 8124.649260879242, 7881.625225284715, 5164.335654397679, 5069.870292024392, 3953.572292772151, 3848.680046147534, 3427.747100131453, 3211.712335098048, 3202.6458703745166, 3050.563949229694, 2151.0604174522473, 2078.4639544885163, 2063.207036147023, 2026.3436698120145, 1890.6715288342034, 1599.2885048340809, 1558.0096548464273, 1494.8594600206766, 1403.6044907046933, 1342.342317789092, 1235.0856180665633, 1197.7444900864768, 1165.3082066780407, 1120.6986565802206, 1025.4551711395238, 970.609022765889, 965.7188712321338, 923.7584817022959, 4931.704689744461, 3406.9173331680254, 3905.3474032409613, 9604.690177375307, 4165.100262759998, 6086.389427372898, 9847.012285332785, 5540.366181891448, 5922.107757125291, 28503.62000332624, 4607.520652624691, 40596.96876722112, 5167.800709097452, 9881.332761209474, 11419.12170090178, 7599.124442509538, 7364.279685279488, 4639.454986453659, 3585.0732486997163, 3344.6368707425813, 3115.9346547688406, 2789.3275454046507, 2783.381156723557, 2729.0444516202824, 2416.966643115486, 2409.5366799204303, 2301.429970609233, 1777.4024706179246, 1740.9501204722987, 1728.072171114525, 1559.2301364399088, 1418.8089051815937, 1267.8172939903338, 1254.9057950992203, 1168.2331140560154, 1150.7572037879454, 1108.2028229151022, 1107.2906366564018, 1070.416963828405, 1020.0952416877145, 1013.808732037645, 930.8462232344558, 930.8462232344558, 845.4850589399588, 3850.2220389170025, 2756.7555704816946, 1790.355550276083, 4575.776456321636, 9686.821828184982, 2783.2701790151086, 28406.24359959553, 39946.522845490195, 11584.58509014971, 2827.3678717244275, 10121.594428607528, 6075.539479416348, 5477.811068684736, 5803.42318043034], \"Category\": [\"Default\", \"Default\", \"Default\", \"Default\", \"Default\", \"Default\", \"Default\", \"Default\", \"Default\", \"Default\", \"Default\", \"Default\", \"Default\", \"Default\", \"Default\", \"Default\", \"Default\", \"Default\", \"Default\", \"Default\", \"Default\", \"Default\", \"Default\", \"Default\", \"Default\", \"Default\", \"Default\", \"Default\", \"Default\", \"Default\", \"Topic1\", \"Topic1\", \"Topic1\", \"Topic1\", \"Topic1\", \"Topic1\", \"Topic1\", \"Topic1\", \"Topic1\", \"Topic1\", \"Topic1\", \"Topic1\", \"Topic1\", \"Topic1\", \"Topic1\", \"Topic1\", \"Topic1\", \"Topic1\", \"Topic1\", \"Topic1\", \"Topic1\", \"Topic1\", \"Topic1\", \"Topic1\", \"Topic1\", \"Topic1\", \"Topic1\", \"Topic1\", \"Topic1\", \"Topic1\", \"Topic1\", \"Topic1\", \"Topic1\", \"Topic1\", \"Topic1\", \"Topic1\", \"Topic1\", \"Topic1\", \"Topic1\", \"Topic1\", \"Topic1\", \"Topic1\", \"Topic1\", \"Topic1\", \"Topic1\", \"Topic2\", \"Topic2\", \"Topic2\", \"Topic2\", \"Topic2\", \"Topic2\", \"Topic2\", \"Topic2\", \"Topic2\", \"Topic2\", \"Topic2\", \"Topic2\", \"Topic2\", \"Topic2\", \"Topic2\", \"Topic2\", \"Topic2\", \"Topic2\", \"Topic2\", \"Topic2\", \"Topic2\", \"Topic2\", \"Topic2\", \"Topic2\", \"Topic2\", \"Topic2\", \"Topic2\", \"Topic2\", \"Topic2\", \"Topic2\", \"Topic2\", \"Topic2\", \"Topic2\", \"Topic2\", \"Topic2\", \"Topic2\", \"Topic2\", \"Topic2\", \"Topic2\", \"Topic2\", \"Topic2\", \"Topic2\", \"Topic2\", \"Topic3\", \"Topic3\", \"Topic3\", \"Topic3\", \"Topic3\", \"Topic3\", \"Topic3\", \"Topic3\", \"Topic3\", \"Topic3\", \"Topic3\", \"Topic3\", \"Topic3\", \"Topic3\", \"Topic3\", \"Topic3\", \"Topic3\", \"Topic3\", \"Topic3\", \"Topic3\", \"Topic3\", \"Topic3\", \"Topic3\", \"Topic3\", \"Topic3\", \"Topic3\", \"Topic3\", \"Topic3\", \"Topic3\", \"Topic3\", \"Topic3\", \"Topic3\", \"Topic3\", \"Topic3\", \"Topic3\", \"Topic3\", \"Topic3\", \"Topic3\", \"Topic3\", \"Topic3\", \"Topic3\", \"Topic3\", \"Topic3\", \"Topic4\", \"Topic4\", \"Topic4\", \"Topic4\", \"Topic4\", \"Topic4\", \"Topic4\", \"Topic4\", \"Topic4\", \"Topic4\", \"Topic4\", \"Topic4\", \"Topic4\", \"Topic4\", \"Topic4\", \"Topic4\", \"Topic4\", \"Topic4\", \"Topic4\", \"Topic4\", \"Topic4\", \"Topic4\", \"Topic4\", \"Topic4\", \"Topic4\", \"Topic4\", \"Topic4\", \"Topic4\", \"Topic4\", \"Topic4\", \"Topic4\", \"Topic4\", \"Topic4\", \"Topic4\", \"Topic4\", \"Topic4\", \"Topic4\", \"Topic4\", \"Topic4\", \"Topic4\", \"Topic4\", \"Topic4\", \"Topic4\", \"Topic4\", \"Topic4\", \"Topic4\", \"Topic4\", \"Topic5\", \"Topic5\", \"Topic5\", \"Topic5\", \"Topic5\", \"Topic5\", \"Topic5\", \"Topic5\", \"Topic5\", \"Topic5\", \"Topic5\", \"Topic5\", \"Topic5\", \"Topic5\", \"Topic5\", \"Topic5\", \"Topic5\", \"Topic5\", \"Topic5\", \"Topic5\", \"Topic5\", \"Topic5\", \"Topic5\", \"Topic5\", \"Topic5\", \"Topic5\", \"Topic5\", \"Topic5\", \"Topic5\", \"Topic5\", \"Topic5\", \"Topic5\", \"Topic5\", \"Topic5\", \"Topic5\", \"Topic5\", \"Topic5\", \"Topic5\", \"Topic5\", \"Topic5\", \"Topic5\", \"Topic6\", \"Topic6\", \"Topic6\", \"Topic6\", \"Topic6\", \"Topic6\", \"Topic6\", \"Topic6\", \"Topic6\", \"Topic6\", \"Topic6\", \"Topic6\", \"Topic6\", \"Topic6\", \"Topic6\", \"Topic6\", \"Topic6\", \"Topic6\", \"Topic6\", \"Topic6\", \"Topic6\", \"Topic6\", \"Topic6\", \"Topic6\", \"Topic6\", \"Topic6\", \"Topic6\", \"Topic6\", \"Topic6\", \"Topic6\", \"Topic6\", \"Topic6\", \"Topic6\", \"Topic6\", \"Topic6\", \"Topic6\", \"Topic6\", \"Topic6\", \"Topic6\", \"Topic6\", \"Topic6\", \"Topic6\", \"Topic6\", \"Topic6\", \"Topic6\", \"Topic7\", \"Topic7\", \"Topic7\", \"Topic7\", \"Topic7\", \"Topic7\", \"Topic7\", \"Topic7\", \"Topic7\", \"Topic7\", \"Topic7\", \"Topic7\", \"Topic7\", \"Topic7\", \"Topic7\", \"Topic7\", \"Topic7\", \"Topic7\", \"Topic7\", \"Topic7\", \"Topic7\", \"Topic7\", \"Topic7\", \"Topic7\", \"Topic7\", \"Topic7\", \"Topic7\", \"Topic7\", \"Topic7\", \"Topic7\", \"Topic7\", \"Topic7\", \"Topic7\", \"Topic7\", \"Topic7\", \"Topic7\", \"Topic7\", \"Topic7\", \"Topic7\", \"Topic7\", \"Topic7\", \"Topic7\", \"Topic7\", \"Topic7\", \"Topic8\", \"Topic8\", \"Topic8\", \"Topic8\", \"Topic8\", \"Topic8\", \"Topic8\", \"Topic8\", \"Topic8\", \"Topic8\", \"Topic8\", \"Topic8\", \"Topic8\", \"Topic8\", \"Topic8\", \"Topic8\", \"Topic8\", \"Topic8\", \"Topic8\", \"Topic8\", \"Topic8\", \"Topic8\", \"Topic8\", \"Topic8\", \"Topic8\", \"Topic8\", \"Topic8\", \"Topic8\", \"Topic8\", \"Topic8\", \"Topic8\", \"Topic8\", \"Topic8\", \"Topic8\", \"Topic8\", \"Topic8\", \"Topic8\", \"Topic8\", \"Topic8\", \"Topic8\", \"Topic8\", \"Topic8\", \"Topic8\", \"Topic8\"], \"logprob\": [30.0, 29.0, 28.0, 27.0, 26.0, 25.0, 24.0, 23.0, 22.0, 21.0, 20.0, 19.0, 18.0, 17.0, 16.0, 15.0, 14.0, 13.0, 12.0, 11.0, 10.0, 9.0, 8.0, 7.0, 6.0, 5.0, 4.0, 3.0, 2.0, 1.0, -2.9085, -3.4314, -3.4517, -3.6718, -3.744, -3.9429, -3.9677, -3.9712, -4.067, -4.2657, -4.5243, -4.7652, -4.8101, -4.8101, -4.8819, -4.9016, -5.0035, -5.011, -5.0148, -5.0811, -5.1476, -5.1807, -5.2183, -5.2921, -5.297, -5.3062, -5.4324, -5.4496, -5.5072, -5.5472, -3.2627, -4.4831, -2.1121, -4.4406, -4.5847, -4.0219, -4.002, -2.9684, -4.5154, -4.1299, -4.1089, -3.4907, -4.3759, -4.075, -4.8212, -2.7786, -2.9175, -2.9226, -2.9608, -2.9699, -3.0548, -3.6031, -4.0229, -4.4985, -4.5387, -4.7146, -4.8219, -4.8519, -4.8701, -4.9144, -5.0297, -5.247, -5.2781, -5.3017, -5.3484, -5.3778, -5.529, -5.5805, -5.6248, -5.662, -5.6999, -5.7036, -5.7036, -5.7358, -5.7448, -3.3142, -1.988, -3.7796, -4.2757, -3.3902, -3.7474, -4.4614, -4.3666, -4.0889, -5.0973, -5.323, -5.2454, -5.2925, -2.5435, -3.1034, -3.374, -3.4537, -3.6697, -3.8218, -3.8955, -4.0687, -4.1327, -4.3036, -4.3317, -4.5434, -4.6114, -4.6511, -4.6759, -4.6774, -4.7399, -4.7616, -4.7737, -5.0642, -5.0871, -5.1773, -5.1862, -5.2029, -5.2634, -5.3662, -5.3997, -5.4238, -5.4549, -5.5406, -3.2141, -3.3473, -4.2852, -4.505, -5.1625, -3.6129, -3.2444, -4.3001, -3.5022, -3.5826, -3.4474, -4.5579, -4.3259, -3.6491, -3.712, -3.8322, -3.9885, -4.0285, -4.1852, -4.1911, -4.3256, -4.506, -4.6181, -4.7084, -4.787, -4.8594, -4.8749, -4.9418, -4.9606, -4.9681, -5.0922, -5.2317, -5.2765, -5.3204, -5.3372, -5.3931, -5.3946, -5.4531, -5.5773, -5.5862, -5.6272, -5.6312, -5.6921, -2.9635, -3.7906, -3.7816, -5.1047, -4.4026, -2.322, -4.0007, -4.167, -3.9848, -4.1351, -4.1737, -3.618, -4.2749, -4.6094, -4.1048, -4.042, -4.7781, -2.596, -2.8374, -3.0667, -3.16, -3.7054, -3.8972, -4.1604, -4.2237, -4.2604, -4.2793, -4.5782, -4.6059, -4.91, -4.9928, -4.9966, -5.0304, -5.0637, -5.1605, -5.1652, -5.2014, -5.2802, -5.2809, -5.3269, -5.3442, -5.3476, -5.3698, -5.3698, -5.4139, -5.5195, -5.5229, -2.5251, -1.9647, -4.7619, -2.9905, -4.6001, -4.8298, -4.5893, -5.0529, -4.8652, -5.1244, -5.1924, -3.2145, -3.7986, -3.9315, -3.938, -3.9397, -4.0983, -4.1245, -4.271, -4.3457, -4.3689, -4.4677, -4.5844, -4.686, -4.7528, -4.7712, -4.8359, -4.8643, -4.8877, -4.8925, -4.9084, -4.9565, -4.9565, -4.9629, -4.9647, -5.0381, -5.0708, -5.1887, -5.2012, -5.2386, -5.2579, -3.2178, -3.8889, -3.6259, -3.8906, -3.1777, -3.5396, -3.941, -3.0088, -3.429, -4.4692, -4.5829, -4.3878, -4.5138, -4.7002, -4.7241, -2.8383, -3.1383, -3.1916, -3.222, -3.6448, -3.6633, -3.912, -3.9389, -4.0547, -4.1199, -4.1227, -4.1714, -4.5208, -4.5552, -4.5626, -4.5806, -4.6499, -4.8174, -4.8435, -4.8849, -4.948, -4.9926, -5.076, -5.1067, -5.1342, -5.1732, -5.2621, -5.3171, -5.3222, -5.3666, -3.8214, -4.2285, -4.1508, -3.4182, -4.1094, -3.9347, -3.6065, -4.2768, -4.2925, -3.6125, -4.4251, -3.8054, -4.4816, -4.566, -2.8077, -3.215, -3.2464, -3.7085, -3.9664, -4.0358, -4.1066, -4.2174, -4.2195, -4.2393, -4.3607, -4.3638, -4.4097, -4.6682, -4.689, -4.6964, -4.7993, -4.8937, -5.0063, -5.0165, -5.0882, -5.1032, -5.1409, -5.1418, -5.1757, -5.2239, -5.23, -5.3155, -5.3155, -5.4118, -4.0108, -4.3946, -4.7864, -4.05, -3.4937, -4.5471, -3.0513, -3.0426, -4.0374, -4.7341, -4.4882, -4.6335, -4.6694, -4.6769], \"loglift\": [30.0, 29.0, 28.0, 27.0, 26.0, 25.0, 24.0, 23.0, 22.0, 21.0, 20.0, 19.0, 18.0, 17.0, 16.0, 15.0, 14.0, 13.0, 12.0, 11.0, 10.0, 9.0, 8.0, 7.0, 6.0, 5.0, 4.0, 3.0, 2.0, 1.0, 1.8353, 1.8352, 1.8352, 1.8352, 1.8352, 1.8352, 1.8352, 1.8352, 1.8352, 1.8351, 1.8351, 1.835, 1.835, 1.835, 1.835, 1.835, 1.8349, 1.8349, 1.8349, 1.8349, 1.8348, 1.8348, 1.8348, 1.8348, 1.8348, 1.8348, 1.8347, 1.8347, 1.8346, 1.8346, 1.7428, 1.7729, 1.5658, 1.695, 1.7003, 1.5782, 1.5407, 1.2187, 1.5796, 1.3968, 1.2144, 0.6998, 0.8741, 0.1715, 1.2129, 1.96, 1.96, 1.96, 1.96, 1.96, 1.96, 1.96, 1.9599, 1.9598, 1.9598, 1.9597, 1.9597, 1.9597, 1.9597, 1.9596, 1.9596, 1.9595, 1.9594, 1.9594, 1.9594, 1.9594, 1.9593, 1.9592, 1.9592, 1.9591, 1.9591, 1.9591, 1.9591, 1.9591, 1.9591, 1.9144, 1.8454, 1.7457, 1.742, 1.4311, 1.4751, 1.3173, 1.2447, 0.9986, 1.4947, 1.6579, 0.4857, 0.0308, 1.9827, 1.9827, 1.9827, 1.9827, 1.9827, 1.9826, 1.9826, 1.9826, 1.9826, 1.9825, 1.9825, 1.9825, 1.9824, 1.9824, 1.9824, 1.9824, 1.9824, 1.9824, 1.9824, 1.9823, 1.9822, 1.9822, 1.9822, 1.9822, 1.9821, 1.9821, 1.982, 1.982, 1.982, 1.9819, 1.912, 1.8854, 1.8675, 1.8653, 1.9068, 1.1605, 0.5712, 1.3112, 0.6849, 0.6639, 0.4023, 1.4526, -0.1353, 2.0929, 2.0929, 2.0929, 2.0928, 2.0928, 2.0928, 2.0928, 2.0927, 2.0927, 2.0926, 2.0926, 2.0926, 2.0925, 2.0925, 2.0925, 2.0925, 2.0925, 2.0924, 2.0923, 2.0923, 2.0923, 2.0922, 2.0922, 2.0922, 2.0921, 2.092, 2.092, 2.092, 2.092, 2.0919, 2.0325, 1.9827, 1.9276, 2.0278, 1.9166, 1.5276, 1.7322, 1.7582, 1.6541, 1.7013, 1.6557, 1.2033, 1.4836, 1.6108, 0.9826, 0.2046, 1.6093, 2.1303, 2.1303, 2.1303, 2.1303, 2.1302, 2.1302, 2.1301, 2.1301, 2.1301, 2.1301, 2.13, 2.13, 2.1298, 2.1298, 2.1298, 2.1298, 2.1298, 2.1297, 2.1297, 2.1297, 2.1296, 2.1296, 2.1296, 2.1296, 2.1296, 2.1295, 2.1295, 2.1295, 2.1294, 2.1294, 2.0553, 1.8509, 1.8571, 0.6875, 1.4094, 1.5194, 0.6771, 1.5307, 0.6708, 1.3116, 1.6641, 2.1745, 2.1745, 2.1744, 2.1744, 2.1744, 2.1744, 2.1744, 2.1743, 2.1743, 2.1743, 2.1743, 2.1742, 2.1742, 2.1742, 2.1742, 2.1741, 2.1741, 2.1741, 2.1741, 2.1741, 2.1741, 2.1741, 2.1741, 2.1741, 2.174, 2.174, 2.1739, 2.1739, 2.1739, 2.1739, 2.0469, 2.0832, 1.9101, 1.8712, 1.5957, 1.707, 1.7686, 1.2377, 0.7616, 1.6401, 1.5494, 1.1389, 0.8094, 1.4237, 1.2863, 2.2507, 2.2507, 2.2507, 2.2507, 2.2506, 2.2506, 2.2506, 2.2505, 2.2505, 2.2505, 2.2505, 2.2505, 2.2504, 2.2504, 2.2504, 2.2503, 2.2503, 2.2502, 2.2502, 2.2502, 2.2502, 2.2501, 2.2501, 2.2501, 2.25, 2.25, 2.2499, 2.2499, 2.2499, 2.2498, 2.1201, 2.0829, 2.024, 1.8567, 2.001, 1.7964, 1.6435, 1.5483, 1.466, 0.5746, 1.5844, 0.028, 1.4131, 0.6806, 2.2942, 2.2942, 2.2941, 2.2941, 2.294, 2.294, 2.294, 2.294, 2.294, 2.2939, 2.2939, 2.2939, 2.2939, 2.2938, 2.2938, 2.2938, 2.2937, 2.2937, 2.2936, 2.2936, 2.2935, 2.2935, 2.2935, 2.2935, 2.2935, 2.2934, 2.2934, 2.2933, 2.2933, 2.2932, 2.1782, 2.1285, 2.1684, 1.9664, 1.7727, 1.9665, 1.1393, 0.807, 1.0501, 1.7637, 0.7343, 1.0994, 1.1671, 1.1018]}, \"token.table\": {\"Topic\": [5, 4, 3, 1, 4, 8, 2, 1, 1, 4, 4, 8, 8, 2, 5, 1, 5, 4, 6, 2, 3, 5, 5, 6, 8, 8, 4, 7, 5, 7, 3, 1, 6, 6, 2, 3, 6, 8, 1, 3, 4, 6, 8, 8, 7, 8, 8, 1, 3, 3, 5, 4, 6, 7, 5, 7, 3, 3, 8, 4, 5, 2, 1, 3, 3, 1, 1, 4, 6, 3, 4, 8, 1, 2, 4, 8, 5, 1, 2, 4, 5, 7, 3, 7, 4, 6, 8, 3, 6, 4, 1, 4, 7, 1, 4, 1, 7, 2, 4, 4, 1, 3, 7, 8, 1, 2, 3, 5, 1, 1, 4, 1, 5, 2, 7, 8, 4, 3, 1, 1, 3, 5, 1, 4, 6, 7, 6, 6, 3, 4, 6, 1, 7, 7, 1, 4, 5, 6, 7, 8, 4, 5, 1, 8, 5, 4, 5, 4, 6, 8, 8, 7, 8, 8, 4, 8, 4, 6, 1, 2, 3, 8, 8, 2, 8, 1, 2, 7, 2, 3, 7, 5, 2, 3, 2, 7, 8, 2, 2, 2, 8, 4, 5, 8, 2, 4, 4, 7, 8, 7, 6, 7, 2, 3, 7, 4, 5, 6, 6, 3, 5, 6, 8, 1, 6, 6, 8, 6, 1, 3, 2, 6, 8, 1, 7, 4, 3, 7, 8, 2, 2, 6, 1, 1, 7, 8, 1, 1, 2, 1, 7, 5, 8, 6, 6, 5, 6, 3, 6, 8, 2, 7, 3, 6, 6, 1, 2, 7, 3, 4, 4, 5, 7, 6, 8, 6, 4, 8, 1, 7, 8, 8, 5, 3, 8, 1, 5, 7, 7, 6, 4, 8, 6, 4, 4, 5, 4, 6, 7, 8, 6, 5, 7, 2, 2, 6, 3, 8, 1, 5, 8, 8, 1, 6, 5, 3, 4, 3, 2, 3, 4, 3, 1, 3, 6, 8, 3, 6, 4, 7, 7, 2, 6, 2, 6, 4, 5, 2, 1, 4, 5, 6, 5, 2, 7, 6, 7, 1, 1, 5, 2, 4, 7, 3, 8, 5, 1, 2, 3, 6, 1, 5, 3, 6, 5, 1, 6, 6, 3, 7, 2, 4, 4, 3, 2, 4, 8, 3, 4, 1, 1, 6, 1, 3, 6, 1, 5, 4, 2, 3, 5, 5, 2, 8, 5, 6, 2, 7, 2, 7, 3, 7, 3, 6, 1, 4, 2, 8, 7, 7, 8, 4, 7, 7, 1, 2, 4, 5, 7, 3, 4, 3, 6, 6, 7, 7, 2, 3, 3, 5, 8, 5, 7, 2, 2, 3, 1, 4, 4, 7, 1, 6, 8, 5, 6, 2, 2, 4, 8], \"Freq\": [0.9990589996243495, 0.9998298065333225, 0.9997615827663, 0.9995435937783448, 0.8954958527476002, 0.10437454054034231, 0.999567806016337, 0.9998459011948906, 0.999622973908962, 0.99973591921209, 0.6759999484409233, 0.3240345418532646, 0.9997006340944065, 0.9993131719460085, 0.9992565589252963, 0.763752692840527, 0.23624803785551307, 0.9997586391828491, 0.9999195436431986, 0.9996744178876095, 0.9996620278008355, 0.9986218877515165, 0.9990263719429038, 0.9993710835877224, 0.9998262307606206, 0.9997772684164127, 0.5435564721237979, 0.456256473339081, 0.48616168409879523, 0.5135082788293525, 0.9995640158538146, 0.9996966308150816, 0.9996272748146825, 0.999587056305764, 0.9999520479493402, 0.1255961684029098, 0.6662547063934128, 0.20793322118433083, 0.1893890216078696, 0.26742310639066785, 0.1513027292735172, 0.39184577401667536, 0.9990909097406923, 0.9989146184342518, 0.8775870154999605, 0.1222700948120324, 0.9997000403177871, 0.9993636350213218, 0.9999500788899537, 0.9993096964331478, 0.999783655294989, 0.16546350978264962, 0.6264337159355359, 0.20796789761672474, 0.9276781205446792, 0.07225960143217171, 0.9998981047741249, 0.9999269640940688, 0.9999019310554822, 0.9994366087240711, 0.9998123800096207, 0.9994600656223604, 0.9998618487115175, 0.9996189794437976, 0.999000309530873, 0.9992163826753554, 0.9998827882274917, 0.087185197438735, 0.9126220307435929, 0.2058752405512175, 0.5681095220171851, 0.22600214879576747, 0.9995426049658923, 0.9997959523853138, 0.6970574406351877, 0.3026891696170272, 0.9992578074095595, 0.9995995966962793, 0.15237014683878375, 0.847518759789986, 0.9993765536932901, 0.9991789177395176, 0.9992485292685978, 0.9997983322538121, 0.999778592918361, 0.279296860805861, 0.7205334507644161, 0.26159277833727523, 0.7381863570048629, 0.9984397673928751, 0.2494419961837601, 0.25503729421682564, 0.49527412266876825, 0.1615289834564555, 0.8384123427025547, 0.999891643444268, 0.9998151327954176, 0.5891680131363737, 0.4107705581651376, 0.9996395051055136, 0.5397560028587471, 0.27312320326651585, 0.18709904213491704, 0.9997735624741285, 0.09169199892910526, 0.80400096435688, 0.10416561214857781, 0.9998756907637935, 0.999471020161794, 0.9999430836669916, 0.9987721622951038, 0.23875333467424179, 0.7609763476406436, 0.22887132291192683, 0.6348591469717769, 0.1362055468011395, 0.9997523303181193, 0.9997521651075515, 0.9993954971607405, 0.9990271459834115, 0.37211335887343977, 0.6272768049580842, 0.11411442838735342, 0.35068713583984523, 0.5352334802426189, 0.9993784232842323, 0.999646794420334, 0.999526890793938, 0.9999343549749519, 0.9996394192217287, 0.999660023207744, 0.9999274312038049, 0.9992556102468863, 0.9991943262080693, 0.2002781872991396, 0.2090388370473401, 0.11875547436449589, 0.4718583294933556, 0.9994250563055174, 0.9994542517553341, 0.9997586941326477, 0.9998172052210708, 0.9994706014507979, 0.9989263338922134, 0.9992329469534615, 0.4508560512242853, 0.5491195495680398, 0.6162973644004986, 0.1713344676981859, 0.2118720127358343, 0.9996000593892186, 0.15235300673632532, 0.8473729136572762, 0.9992781967357568, 0.9997449596812931, 0.9996104659749471, 0.4139205023837744, 0.5858677794458638, 0.9998646729470874, 0.6157132696787342, 0.1740832447326588, 0.21014475683675665, 0.9992110616571858, 0.9988029382048136, 0.9988344192448886, 0.11410008451921543, 0.7390703967098928, 0.14620865101708508, 0.9993156409561789, 0.9988268345985323, 0.9998592630015957, 0.9992217675300905, 0.9999488502214667, 0.9995148751007065, 0.891667557929297, 0.1083085790274626, 0.9993553534928038, 0.9987621012152837, 0.9999200946597544, 0.9552649051300341, 0.04463204395456663, 0.5588840404485476, 0.44085677432169784, 0.9993795565182712, 0.9999614948201674, 0.9995343457590293, 0.644728672701916, 0.1839941459628057, 0.1711085624507525, 0.9998233040576562, 0.1543917707891324, 0.8453389731420177, 0.1702852043908811, 0.3968806297792013, 0.43267922388410246, 0.9368100777091039, 0.0627209026386437, 0.9995968114193415, 0.9991743772295236, 0.9999363310472729, 0.23382282034028, 0.17250239858216684, 0.5935899412611966, 0.8736132682990744, 0.1260678832853049, 0.9995329143553217, 0.9996172830311861, 0.9995329143553217, 0.9994260304158077, 0.999685706701372, 0.3154877753689562, 0.0958488644898959, 0.5881795632719442, 0.9999278467813959, 0.999336899346329, 0.9995096821767232, 0.18501377630960755, 0.6743580355415465, 0.14055632977938673, 0.9988029382048136, 0.9987134272077225, 0.999410304802928, 0.9998508709726507, 0.3824510309192456, 0.5448353109085907, 0.07271241055182683, 0.9999616655973338, 0.9995011854595027, 0.9998692262202978, 0.9994094625395897, 0.9994149709040946, 0.9994526375299584, 0.9989444623327496, 0.9993012752509928, 0.9996601914601807, 0.9999551384615933, 0.9994382271229632, 0.9317395553013512, 0.06827672619974273, 0.9994262950778019, 0.627996426566685, 0.3719013491487113, 0.9998075729286299, 0.998953002338267, 0.999425921031387, 0.7448020475918893, 0.08505413479717354, 0.16997218297867162, 0.9992358813783725, 0.9992323075716826, 0.999588497680775, 0.9995955885363881, 0.9998552466656049, 0.10934434319492381, 0.8903382624042727, 0.9991729199283161, 0.9989874876509003, 0.9992022834168931, 0.22088303809290852, 0.7790928897950958, 0.9998630598175042, 0.9998095844878849, 0.9998827326129017, 0.9999249715694025, 0.9999017699494619, 0.9995426049658923, 0.9997576219383497, 0.999828340376723, 0.9988773728095762, 0.9996088898736759, 0.2791680110175111, 0.7203756268855982, 0.9998740115551187, 0.9994832374430762, 0.9983398786890035, 0.9996088447489987, 0.9997775659014396, 0.9997938273808367, 0.797112184543836, 0.20279885967193, 0.9995051776058288, 0.9997811884549033, 0.9999200875190553, 0.9994996242010535, 0.9993234401165073, 0.999289180459182, 0.8892234323096662, 0.11053022355389758, 0.9991388973694946, 0.1178536855249018, 0.8819477224825589, 0.9993419951789544, 0.9395140518713748, 0.060264424846611986, 0.999393275544747, 0.9995814187980776, 0.999435236823457, 0.9998051048407938, 0.48896822664615747, 0.5108296972860751, 0.9993669547589173, 0.9997815439499076, 0.3212673991196056, 0.12025525261807722, 0.24339719455544084, 0.31507157814162506, 0.9072256086383355, 0.09272885800693295, 0.9994345436268482, 0.999351958543205, 0.9997820433918756, 0.11975696736066946, 0.8801415673494984, 0.9996769989449175, 0.9997938642035883, 0.9995369987631456, 0.9994959999445588, 0.9996015118927299, 0.9997088976487467, 0.6173657955524152, 0.22963649600191835, 0.1530016793665057, 0.9992090746517096, 0.9990340379423508, 0.9993765883664458, 0.9997775213794334, 0.9995561277056919, 0.9992067864983916, 0.9996026667985246, 0.9999361725294655, 0.8070870342052174, 0.08719482125961918, 0.105650166863649, 0.9270076908621312, 0.07265735955405893, 0.9985460557658842, 0.5373933734105133, 0.14522077943525258, 0.06195649506379851, 0.25536565954867213, 0.45693789593104833, 0.5428995281208786, 0.9996541419566913, 0.9997450283559463, 0.999256406534678, 0.9116166054097818, 0.08827483486040809, 0.9996479073536836, 0.8911125914455309, 0.10869670171089388, 0.9996505062111337, 0.9993611546329297, 0.9996253618824534, 0.9995370427944329, 0.38231839686394525, 0.32940325184755365, 0.2881415237597311, 0.9994108651568812, 0.999601223830099, 0.9994332340807203, 0.7742812505372735, 0.2255463551183386, 0.5365365889934044, 0.463129841743063, 0.9995828942731608, 0.8691310448897854, 0.13073897587435582, 0.9986197954277689, 0.9997973132864981, 0.9997770410097297, 0.9991393573100895, 0.9994526375299584, 0.9989393545396844, 0.9995240625623771, 0.9991232347875741, 0.9992843849800989, 0.9985859814680355, 0.9999260985747788, 0.9995873513882021, 0.9991210179677562, 0.9998471828051793, 0.9995693297444569, 0.4394339883348627, 0.560500605870081, 0.7731770840332273, 0.22669292696817642, 0.999966379790991, 0.9998131724124897, 0.9996448199362173, 0.9990000182730565, 0.9994298702392975, 0.9995515170992592, 0.9995070257238505, 0.999776780113259, 0.16748079532846621, 0.1866939601605197, 0.6458160971377978, 0.9997962769335534, 0.9997782070672198, 0.9997381275855373, 0.9998951697028903, 0.5885475616650803, 0.41126634707714915, 0.9997966438547838, 0.9993725354374375, 0.9997413695609538, 0.9995286966144953, 0.9993749167940515, 0.24377055674991055, 0.7562114025204938, 0.9998520299913437, 0.9996090332316635, 0.9999206730506914, 0.9999250044139791, 0.9998124687125298, 0.9995781595737977, 0.2842987619593673, 0.7154353406219587, 0.9412992873453104, 0.058688423221378884, 0.6449589489804106, 0.35502204604382653, 0.9990909097406923, 0.23237345798138695, 0.7675488623724928, 0.9996573183045192, 0.5258965105787247, 0.17058897295967804, 0.30344159735554854], \"Term\": [\"airline\", \"alarm\", \"alphabet\", \"animal\", \"antique\", \"antique\", \"apothecary\", \"apple\", \"apron\", \"art\", \"assorted\", \"assorted\", \"babushka\", \"baby\", \"backpack\", \"bag\", \"bag\", \"bakelike\", \"baking\", \"balloon\", \"bank\", \"baroque\", \"bead\", \"beaker\", \"bell\", \"bicycle\", \"bird\", \"bird\", \"birthday\", \"birthday\", \"biscuit\", \"board\", \"book\", \"botanical\", \"bottle\", \"bowl\", \"bowl\", \"bowl\", \"box\", \"box\", \"box\", \"box\", \"building\", \"bunny\", \"bunting\", \"bunting\", \"butterfly\", \"cabinet\", \"cake\", \"cakestand\", \"calm\", \"candle\", \"candle\", \"candle\", \"card\", \"card\", \"case\", \"ceramic\", \"chain\", \"chalk\", \"chalkboard\", \"charlie\", \"charlotte\", \"charm\", \"chest\", \"child\", \"childrens\", \"chocolate\", \"chocolate\", \"christmas\", \"christmas\", \"christmas\", \"circus\", \"classic\", \"clock\", \"clock\", \"coat\", \"coffee\", \"colour\", \"colour\", \"colouring\", \"come\", \"container\", \"cookie\", \"cover\", \"craft\", \"craft\", \"cream\", \"cream\", \"crystal\", \"cup\", \"cup\", \"cup\", \"cushion\", \"cushion\", \"cutlery\", \"cutter\", \"decoration\", \"decoration\", \"decorative\", \"design\", \"design\", \"design\", \"diner\", \"dog\", \"dog\", \"dog\", \"doily\", \"doll\", \"dolly\", \"domino\", \"door\", \"door\", \"doormat\", \"doormat\", \"doormat\", \"doorstop\", \"drawer\", \"drawing\", \"earring\", \"edwardian\", \"edwardian\", \"egg\", \"egg\", \"egg\", \"empire\", \"enamel\", \"english\", \"fairy\", \"feather\", \"felt\", \"feltcraft\", \"filigree\", \"flag\", \"flower\", \"flower\", \"flower\", \"flower\", \"folding\", \"folkart\", \"frame\", \"french\", \"friend\", \"funky\", \"g\", \"game\", \"game\", \"garden\", \"garden\", \"garden\", \"gardener\", \"garland\", \"garland\", \"giant\", \"gift\", \"gin\", \"gingham\", \"gingham\", \"girl\", \"glass\", \"glass\", \"glass\", \"glitter\", \"gloss\", \"glove\", \"gold\", \"gold\", \"gold\", \"grey\", \"gymkhana\", \"hand\", \"hanger\", \"hanging\", \"harmonica\", \"heart\", \"heart\", \"herb\", \"hldr\", \"holder\", \"home\", \"home\", \"hook\", \"hook\", \"horse\", \"hot\", \"house\", \"ivory\", \"ivory\", \"ivory\", \"jack\", \"jam\", \"jam\", \"jar\", \"jar\", \"jar\", \"jigsaw\", \"jigsaw\", \"jingle\", \"jug\", \"keep\", \"kit\", \"kit\", \"kit\", \"kitchen\", \"kitchen\", \"knack\", \"kneeling\", \"knick\", \"knitting\", \"knob\", \"lantern\", \"lantern\", \"lantern\", \"leaf\", \"led\", \"letter\", \"light\", \"light\", \"light\", \"lip\", \"little\", \"loaf\", \"london\", \"love\", \"love\", \"love\", \"lunch\", \"magic\", \"magnet\", \"magnetic\", \"making\", \"marble\", \"marker\", \"match\", \"measuring\", \"metal\", \"milk\", \"mini\", \"mini\", \"mint\", \"mirror\", \"mirror\", \"money\", \"morris\", \"mould\", \"mug\", \"mug\", \"mug\", \"mushroom\", \"musical\", \"napkin\", \"natural\", \"night\", \"notebook\", \"notebook\", \"one\", \"ornament\", \"oven\", \"owl\", \"owl\", \"pad\", \"painted\", \"paisley\", \"pantry\", \"paper\", \"parade\", \"park\", \"party\", \"pc\", \"peg\", \"pen\", \"pen\", \"pencil\", \"photo\", \"pick\", \"picnic\", \"picture\", \"plaster\", \"plate\", \"plate\", \"playhouse\", \"playing\", \"polkadot\", \"poorly\", \"popcorn\", \"poppy\", \"pot\", \"pot\", \"princess\", \"purple\", \"purple\", \"purse\", \"rabbit\", \"rabbit\", \"rack\", \"recipe\", \"record\", \"reel\", \"regency\", \"regency\", \"reindeer\", \"retro\", \"retrospot\", \"retrospot\", \"retrospot\", \"retrospot\", \"ribbon\", \"ribbon\", \"ring\", \"rocking\", \"roll\", \"rose\", \"rose\", \"rotating\", \"round\", \"ruler\", \"santa\", \"saucer\", \"scale\", \"scandinavian\", \"scandinavian\", \"scandinavian\", \"school\", \"scottie\", \"scotty\", \"sewing\", \"shape\", \"shopping\", \"shoulder\", \"sign\", \"silver\", \"silver\", \"silver\", \"sketchbook\", \"sketchbook\", \"skittle\", \"skull\", \"skull\", \"skull\", \"skull\", \"slate\", \"slate\", \"sleigh\", \"snack\", \"snap\", \"spaceboy\", \"spaceboy\", \"spoon\", \"spot\", \"spot\", \"spotty\", \"square\", \"stamp\", \"stand\", \"star\", \"star\", \"star\", \"stationery\", \"stick\", \"stocking\", \"storage\", \"storage\", \"strawberry\", \"strawberry\", \"sugar\", \"suki\", \"suki\", \"swallow\", \"sweet\", \"sweetheart\", \"swirly\", \"swirly_marble\", \"sympathy\", \"table\", \"tail\", \"tall\", \"tape\", \"tea\", \"teacup\", \"tidy\", \"tier\", \"time\", \"tin\", \"tin\", \"tissue\", \"tissue\", \"tlight\", \"tlights\", \"toadstool\", \"toilet\", \"tonic\", \"top\", \"towel\", \"toy\", \"traditional\", \"traditional\", \"traditional\", \"travel\", \"tray\", \"treasure\", \"tree\", \"trinket\", \"trinket\", \"tube\", \"tv\", \"union\", \"victorian\", \"village\", \"vintage\", \"vintage\", \"wall\", \"wallet\", \"warmer\", \"water\", \"wicker\", \"wire\", \"wood\", \"wood\", \"wooden\", \"wooden\", \"woodland\", \"woodland\", \"word\", \"wrap\", \"wrap\", \"wreath\", \"zinc\", \"zinc\", \"zinc\"]}, \"R\": 30, \"lambda.step\": 0.01, \"plot.opts\": {\"xlab\": \"PC1\", \"ylab\": \"PC2\"}, \"topic.order\": [1, 2, 6, 8, 3, 4, 5, 7]};\n",
       "\n",
       "function LDAvis_load_lib(url, callback){\n",
       "  var s = document.createElement('script');\n",
       "  s.src = url;\n",
       "  s.async = true;\n",
       "  s.onreadystatechange = s.onload = callback;\n",
       "  s.onerror = function(){console.warn(\"failed to load library \" + url);};\n",
       "  document.getElementsByTagName(\"head\")[0].appendChild(s);\n",
       "}\n",
       "\n",
       "if(typeof(LDAvis) !== \"undefined\"){\n",
       "   // already loaded: just create the visualization\n",
       "   !function(LDAvis){\n",
       "       new LDAvis(\"#\" + \"ldavis_el3042014891032484008673570215\", ldavis_el3042014891032484008673570215_data);\n",
       "   }(LDAvis);\n",
       "}else if(typeof define === \"function\" && define.amd){\n",
       "   // require.js is available: use it to load d3/LDAvis\n",
       "   require.config({paths: {d3: \"https://d3js.org/d3.v5\"}});\n",
       "   require([\"d3\"], function(d3){\n",
       "      window.d3 = d3;\n",
       "      LDAvis_load_lib(\"https://cdn.jsdelivr.net/gh/bmabey/pyLDAvis@3.3.1/pyLDAvis/js/ldavis.v3.0.0.js\", function(){\n",
       "        new LDAvis(\"#\" + \"ldavis_el3042014891032484008673570215\", ldavis_el3042014891032484008673570215_data);\n",
       "      });\n",
       "    });\n",
       "}else{\n",
       "    // require.js not available: dynamically load d3 & LDAvis\n",
       "    LDAvis_load_lib(\"https://d3js.org/d3.v5.js\", function(){\n",
       "         LDAvis_load_lib(\"https://cdn.jsdelivr.net/gh/bmabey/pyLDAvis@3.3.1/pyLDAvis/js/ldavis.v3.0.0.js\", function(){\n",
       "                 new LDAvis(\"#\" + \"ldavis_el3042014891032484008673570215\", ldavis_el3042014891032484008673570215_data);\n",
       "            })\n",
       "         });\n",
       "}\n",
       "</script>"
      ],
      "text/plain": [
       "PreparedData(topic_coordinates=              x         y  topics  cluster       Freq\n",
       "topic                                                \n",
       "0     -0.192537 -0.076503       1        1  15.955981\n",
       "1      0.297355 -0.138626       2        1  14.084522\n",
       "5     -0.126126  0.107492       3        1  13.768557\n",
       "7      0.135462  0.161421       4        1  12.331304\n",
       "2     -0.218360 -0.239250       5        1  11.879317\n",
       "3     -0.162115  0.189253       6        1  11.364975\n",
       "4      0.139917 -0.214655       7        1  10.531821\n",
       "6      0.126404  0.210868       8        1  10.083523, topic_info=          Term          Freq         Total Category  logprob  loglift\n",
       "46     vintage  41325.000000  41325.000000  Default  30.0000  30.0000\n",
       "1        heart  40596.000000  40596.000000  Default  29.0000  29.0000\n",
       "93         bag  47428.000000  47428.000000  Default  28.0000  28.0000\n",
       "107  christmas  39946.000000  39946.000000  Default  27.0000  27.0000\n",
       "144       cake  20306.000000  20306.000000  Default  26.0000  26.0000\n",
       "..         ...           ...           ...      ...      ...      ...\n",
       "4      lantern   1663.235087   2827.367872   Topic8  -4.7341   1.7637\n",
       "23       glass   2126.971830  10121.594429   Topic8  -4.4882   0.7343\n",
       "67       clock   1839.386646   6075.539479   Topic8  -4.6335   1.0994\n",
       "28    assorted   1774.530552   5477.811069   Topic8  -4.6694   1.1671\n",
       "205       zinc   1761.243506   5803.423180   Topic8  -4.6769   1.1018\n",
       "\n",
       "[382 rows x 6 columns], token_table=      Topic      Freq      Term\n",
       "term                           \n",
       "167       5  0.999059   airline\n",
       "65        4  0.999830     alarm\n",
       "47        3  0.999762  alphabet\n",
       "539       1  0.999544    animal\n",
       "129       4  0.895496   antique\n",
       "...     ...       ...       ...\n",
       "447       6  0.767549      wrap\n",
       "527       2  0.999657    wreath\n",
       "205       2  0.525897      zinc\n",
       "205       4  0.170589      zinc\n",
       "205       8  0.303442      zinc\n",
       "\n",
       "[429 rows x 3 columns], R=30, lambda_step=0.01, plot_opts={'xlab': 'PC1', 'ylab': 'PC2'}, topic_order=[1, 2, 6, 8, 3, 4, 5, 7])"
      ]
     },
     "execution_count": 15,
     "metadata": {},
     "output_type": "execute_result"
    }
   ],
   "source": [
    "pyLDAvis.enable_notebook()\n",
    "vis = gensimvis.prepare(model2, corpus, dictionary)\n",
    "vis"
   ]
  },
  {
   "cell_type": "markdown",
   "id": "9f5a36b9-60ee-4865-b85f-8e79e5fee0e3",
   "metadata": {},
   "source": [
    "Given these parameters, it looks like at least two of the clusters(4 and 8) could be combined. Given their distance from all the other segments, 3 and 6 could also potentially be consolidated."
   ]
  },
  {
   "cell_type": "code",
   "execution_count": 1,
   "id": "d6bc9ec0-f89a-4680-ad2b-3a974308eeac",
   "metadata": {},
   "outputs": [
    {
     "data": {
      "text/html": [
       "<style> .jp-Button path { fill: #616161;} text.terms { fill: #616161;} </style>"
      ],
      "text/plain": [
       "<IPython.core.display.HTML object>"
      ]
     },
     "metadata": {},
     "output_type": "display_data"
    }
   ],
   "source": [
    "from IPython.display import HTML\n",
    "css_str = '<style> \\\n",
    ".jp-Button path { fill: #616161;} \\\n",
    "text.terms { fill: #616161;} \\\n",
    "</style>'\n",
    "display(HTML(css_str ))"
   ]
  },
  {
   "cell_type": "markdown",
   "id": "77f50d5a-e6a9-4c47-868a-470cb71c9962",
   "metadata": {},
   "source": [
    "### Gensim Model with 3 Models"
   ]
  },
  {
   "cell_type": "code",
   "execution_count": 63,
   "id": "ef5978a1-1a46-4e25-bae5-b0b661f1898d",
   "metadata": {},
   "outputs": [],
   "source": [
    "# Set training parameters\n",
    "num_topics = 3\n",
    "chunksize = 2000\n",
    "passes = 10\n",
    "iterations = 200  \n",
    "\n",
    "# Make an index to word dictionary.\n",
    "temp = dictionary[0]  # This is only to \"load\" the dictionary.\n",
    "id2word = dictionary.id2token\n",
    "\n",
    "Three_topic_model = gensim.models.LdaModel(\n",
    "    corpus=corpus,\n",
    "    id2word=id2word,\n",
    "    chunksize=chunksize,\n",
    "    alpha='auto',\n",
    "    eta='auto',\n",
    "    iterations=iterations,\n",
    "    num_topics=num_topics,\n",
    "    passes=passes\n",
    ")"
   ]
  },
  {
   "cell_type": "code",
   "execution_count": 64,
   "id": "102311db-02a2-45c8-86b2-2982cbb4dfcc",
   "metadata": {},
   "outputs": [
    {
     "data": {
      "text/plain": [
       "[(0,\n",
       "  '0.061*\"bag\" + 0.061*\"heart\" + 0.027*\"christmas\" + 0.024*\"vintage\" + 0.024*\"decoration\" + 0.022*\"holder\" + 0.021*\"hanging\" + 0.020*\"tlight\" + 0.019*\"star\" + 0.017*\"lunch\" + 0.016*\"metal\" + 0.015*\"home\" + 0.014*\"paisley\" + 0.013*\"wooden\" + 0.012*\"retrospot\"'),\n",
       " (1,\n",
       "  '0.034*\"cake\" + 0.030*\"design\" + 0.027*\"box\" + 0.020*\"spaceboy\" + 0.019*\"mini\" + 0.018*\"case\" + 0.017*\"tin\" + 0.016*\"card\" + 0.016*\"hand\" + 0.015*\"girl\" + 0.015*\"warmer\" + 0.015*\"dolly\" + 0.013*\"love\" + 0.012*\"colour\" + 0.012*\"childrens\"'),\n",
       " (2,\n",
       "  '0.041*\"christmas\" + 0.038*\"vintage\" + 0.029*\"bottle\" + 0.029*\"retrospot\" + 0.026*\"hot\" + 0.025*\"water\" + 0.018*\"paper\" + 0.017*\"doily\" + 0.016*\"box\" + 0.016*\"light\" + 0.016*\"ribbon\" + 0.015*\"rose\" + 0.013*\"kit\" + 0.013*\"ceramic\" + 0.012*\"tea\"')]"
      ]
     },
     "execution_count": 64,
     "metadata": {},
     "output_type": "execute_result"
    }
   ],
   "source": [
    "Three_topic_model.show_topics(num_words = 15)"
   ]
  },
  {
   "cell_type": "code",
   "execution_count": 67,
   "id": "8c008824-14e7-4d90-abed-7cc196c7b8bd",
   "metadata": {},
   "outputs": [
    {
     "name": "stderr",
     "output_type": "stream",
     "text": [
      "C:\\Users\\SReed\\Anaconda3\\lib\\site-packages\\pyLDAvis\\_prepare.py:246: FutureWarning: In a future version of pandas all arguments of DataFrame.drop except for the argument 'labels' will be keyword-only.\n",
      "  default_term_info = default_term_info.sort_values(\n"
     ]
    },
    {
     "data": {
      "text/html": [
       "\n",
       "<link rel=\"stylesheet\" type=\"text/css\" href=\"https://cdn.jsdelivr.net/gh/bmabey/pyLDAvis@3.3.1/pyLDAvis/js/ldavis.v1.0.0.css\">\n",
       "\n",
       "\n",
       "<div id=\"ldavis_el1995626764188192327301961133\"></div>\n",
       "<script type=\"text/javascript\">\n",
       "\n",
       "var ldavis_el1995626764188192327301961133_data = {\"mdsDat\": {\"x\": [-0.18423435611219302, -0.16423792351668115, 0.34847227962887395], \"y\": [0.28296465940648385, -0.29400068658912853, 0.011036027182644945], \"topics\": [1, 2, 3], \"cluster\": [1, 1, 1], \"Freq\": [36.48288071454266, 33.25046018597518, 30.266659099482162]}, \"tinfo\": {\"Term\": [\"bag\", \"heart\", \"cake\", \"bottle\", \"hot\", \"christmas\", \"water\", \"decoration\", \"vintage\", \"holder\", \"hanging\", \"tlight\", \"spaceboy\", \"star\", \"mini\", \"box\", \"paper\", \"case\", \"retrospot\", \"doily\", \"light\", \"hand\", \"ribbon\", \"girl\", \"home\", \"rose\", \"warmer\", \"dolly\", \"paisley\", \"design\", \"heart\", \"bag\", \"decoration\", \"holder\", \"hanging\", \"tlight\", \"star\", \"home\", \"paisley\", \"bell\", \"wicker\", \"wall\", \"tree\", \"woodland\", \"zinc\", \"art\", \"sweet\", \"charlotte\", \"notebook\", \"travel\", \"babushka\", \"tube\", \"bicycle\", \"scandinavian\", \"park\", \"suki\", \"classic\", \"cushion\", \"lantern\", \"kitchen\", \"owl\", \"storage\", \"silver\", \"lunch\", \"frame\", \"metal\", \"christmas\", \"vintage\", \"wooden\", \"antique\", \"sign\", \"skull\", \"card\", \"retrospot\", \"ivory\", \"tin\", \"bottle\", \"hot\", \"water\", \"paper\", \"ribbon\", \"light\", \"doily\", \"rose\", \"ceramic\", \"wrap\", \"clock\", \"gift\", \"wood\", \"bowl\", \"chain\", \"craft\", \"jar\", \"night\", \"trinket\", \"leaf\", \"alarm\", \"bakelike\", \"plate\", \"reel\", \"alphabet\", \"dog\", \"roll\", \"rabbit\", \"napkin\", \"cutlery\", \"retrospot\", \"christmas\", \"vintage\", \"kit\", \"tea\", \"candle\", \"box\", \"glass\", \"polkadot\", \"design\", \"cake\", \"spaceboy\", \"mini\", \"case\", \"hand\", \"girl\", \"warmer\", \"dolly\", \"colour\", \"childrens\", \"fairy\", \"assorted\", \"london\", \"union\", \"keep\", \"calm\", \"apple\", \"party\", \"baking\", \"egg\", \"jack\", \"birthday\", \"tray\", \"sweetheart\", \"snack\", \"round\", \"key\", \"playing\", \"apron\", \"book\", \"design\", \"love\", \"box\", \"feltcraft\", \"tin\", \"pantry\", \"card\", \"pencil\", \"wooden\", \"metal\", \"sign\"], \"Freq\": [41655.0, 41497.0, 19192.0, 18316.0, 16081.0, 44149.0, 15477.0, 16128.0, 40408.0, 15077.0, 14238.0, 13559.0, 11404.0, 13092.0, 11011.0, 25774.0, 11511.0, 10288.0, 26429.0, 10350.0, 10046.0, 9002.0, 9731.0, 8589.0, 10134.0, 9233.0, 8305.0, 8261.0, 9430.0, 26251.0, 41496.554701236826, 41654.717162531415, 16127.402769220447, 15077.091147765022, 14237.356766121442, 13558.390027567666, 13091.589396430652, 10134.218391792112, 9429.394299419153, 7722.201326635763, 7374.575967264658, 7648.6747567324655, 6525.545562475135, 6947.906357310902, 6175.9220044387785, 5048.23342324615, 4813.517446239944, 4726.020062950234, 4585.9249135820255, 4479.3598438586705, 4687.432959465735, 3871.6339246609914, 3634.8709735594457, 3642.4114000159266, 3531.5371963809216, 3495.1612457270207, 3472.3091597472335, 3460.9846525382723, 3262.9943428317524, 3396.817545719396, 4055.2326133489782, 3673.6898400352725, 7477.534843098202, 11436.083715030809, 5717.468028926149, 10671.917457893633, 18636.79472044956, 16721.699186667578, 8624.243929262693, 5407.701967112171, 7688.416212062351, 6012.022532426278, 8054.638718423912, 8383.3283719369, 5279.381461601829, 5377.151970607519, 18316.1246992199, 16080.851267798242, 15476.606277397308, 11510.692854427216, 9730.92406495926, 10045.889372423248, 10349.680776579004, 9232.71290286244, 7819.28299429829, 6565.838812350849, 6745.695131490574, 5571.609546094978, 5649.6054715116725, 5838.4048647537265, 5260.330133304874, 4606.260772554233, 4811.460450422022, 4287.207451684794, 4302.441475769699, 4580.827634427285, 4003.6748124692285, 3995.1132281750974, 3820.9176599364678, 3633.5506694015126, 4108.197208951372, 4945.124833014098, 3568.735173275854, 3617.4397707993617, 3409.7503852648133, 3603.648899705564, 18045.750988727355, 25512.580982482417, 23686.320410707434, 8326.32565998232, 7653.102198610432, 6225.06410681961, 10181.189541473936, 5820.863306733777, 4728.0792138134275, 5847.45079292468, 19192.15229976434, 11404.053300669579, 11010.842075790702, 10287.469468082927, 9001.381331025701, 8588.722183005066, 8304.708557855056, 8261.226181760503, 7034.406948558209, 6755.555880316937, 6129.936499256321, 5808.534536756184, 5415.807830538004, 5309.866979055767, 5529.328013776933, 5522.4045806438935, 4908.009000305256, 4513.352153701833, 4187.86246171494, 4351.277752470869, 3970.1358556929285, 4114.48644794648, 3928.6486808954833, 3412.5487659447763, 3229.1867517228106, 3272.225338345392, 3292.1466721872875, 3112.4524007527393, 3095.0515160573746, 3198.3544913814276, 17209.069258680174, 7364.747116657102, 15593.03872430227, 5177.129495094361, 9601.133974591326, 5818.885040197802, 9006.174680483386, 5129.911141597512, 5656.2867134936705, 5426.363566774765, 4903.027344468525], \"Total\": [41655.0, 41497.0, 19192.0, 18316.0, 16081.0, 44149.0, 15477.0, 16128.0, 40408.0, 15077.0, 14238.0, 13559.0, 11404.0, 13092.0, 11011.0, 25774.0, 11511.0, 10288.0, 26429.0, 10350.0, 10046.0, 9002.0, 9731.0, 8589.0, 10134.0, 9233.0, 8305.0, 8261.0, 9430.0, 26251.0, 41497.24358394185, 41655.409559092775, 16128.064472384087, 15077.76355901536, 14238.03518587515, 13559.058704136934, 13092.253199080908, 10134.882624930213, 9430.0676261051, 7722.859638224692, 7375.229894147067, 7649.353790148182, 6526.242893473671, 6948.669027694819, 6176.616937898858, 5048.908811120497, 4814.172870279702, 4726.71103687354, 4586.605838453493, 4480.044774366419, 4688.169909953091, 3872.303575501762, 3635.521778193642, 3643.073635360398, 3532.1973698003876, 3495.8169531646104, 3472.97921398152, 3461.666430867292, 3263.656427342102, 3397.5118705669615, 4056.229624449158, 3674.62645390833, 8157.662666112871, 13886.530536940278, 6499.052872782493, 16098.61968315805, 44149.71313842095, 40408.37177267798, 14280.864418851372, 6801.006284169313, 12591.781892587198, 8291.599264406892, 19156.554100135134, 26429.444998280538, 7194.614642054804, 14978.62515509879, 18316.790024911727, 16081.514226240004, 15477.268813077473, 11511.379039061443, 9731.586239642738, 10046.5792865927, 10350.404279351254, 9233.418181596513, 7820.0149153787115, 6566.511771266485, 6746.395063337429, 5572.278556526095, 5650.293734013285, 5839.126362546627, 5260.983890460672, 4606.91874779373, 4812.1686988975625, 4287.8645772902055, 4303.105320671908, 4581.553997147145, 4004.328336764429, 3995.7667158055096, 3821.5897227140945, 3634.205592583249, 4108.938393099329, 4946.037132231454, 3569.396791139187, 3618.120467742051, 3410.4281604156636, 3604.3903082627135, 26429.444998280538, 44149.71313842095, 40408.37177267798, 11037.267868627829, 11073.816528479203, 9770.048434197699, 25774.57446580725, 10535.360654352642, 7064.428107252668, 26251.055368563757, 19192.834442420677, 11404.722749202074, 11011.52839964388, 10288.135736975044, 9002.042579063103, 8589.383331062612, 8305.37795186864, 8261.894342195703, 7035.091320627447, 6756.247296473753, 6130.627095895525, 5809.222909489115, 5416.469830646328, 5310.536872634881, 5530.03619629489, 5523.113229859891, 4908.7033962854175, 4514.061539689203, 4188.528740263073, 4351.97111215031, 3970.799177987943, 4115.1828636861665, 3929.353735513237, 3413.2251733862204, 3229.8581428641796, 3272.9064298441485, 3292.8415073915253, 3113.1095733724337, 3095.709591945267, 3199.0384721833548, 26251.055368563757, 9576.408380570883, 25774.57446580725, 6102.362029717783, 14978.62515509879, 7902.320309424519, 19156.554100135134, 8046.177167515629, 14280.864418851372, 16098.61968315805, 12591.781892587198], \"Category\": [\"Default\", \"Default\", \"Default\", \"Default\", \"Default\", \"Default\", \"Default\", \"Default\", \"Default\", \"Default\", \"Default\", \"Default\", \"Default\", \"Default\", \"Default\", \"Default\", \"Default\", \"Default\", \"Default\", \"Default\", \"Default\", \"Default\", \"Default\", \"Default\", \"Default\", \"Default\", \"Default\", \"Default\", \"Default\", \"Default\", \"Topic1\", \"Topic1\", \"Topic1\", \"Topic1\", \"Topic1\", \"Topic1\", \"Topic1\", \"Topic1\", \"Topic1\", \"Topic1\", \"Topic1\", \"Topic1\", \"Topic1\", \"Topic1\", \"Topic1\", \"Topic1\", \"Topic1\", \"Topic1\", \"Topic1\", \"Topic1\", \"Topic1\", \"Topic1\", \"Topic1\", \"Topic1\", \"Topic1\", \"Topic1\", \"Topic1\", \"Topic1\", \"Topic1\", \"Topic1\", \"Topic1\", \"Topic1\", \"Topic1\", \"Topic1\", \"Topic1\", \"Topic1\", \"Topic1\", \"Topic1\", \"Topic1\", \"Topic1\", \"Topic1\", \"Topic1\", \"Topic1\", \"Topic1\", \"Topic1\", \"Topic1\", \"Topic2\", \"Topic2\", \"Topic2\", \"Topic2\", \"Topic2\", \"Topic2\", \"Topic2\", \"Topic2\", \"Topic2\", \"Topic2\", \"Topic2\", \"Topic2\", \"Topic2\", \"Topic2\", \"Topic2\", \"Topic2\", \"Topic2\", \"Topic2\", \"Topic2\", \"Topic2\", \"Topic2\", \"Topic2\", \"Topic2\", \"Topic2\", \"Topic2\", \"Topic2\", \"Topic2\", \"Topic2\", \"Topic2\", \"Topic2\", \"Topic2\", \"Topic2\", \"Topic2\", \"Topic2\", \"Topic2\", \"Topic2\", \"Topic2\", \"Topic2\", \"Topic2\", \"Topic2\", \"Topic3\", \"Topic3\", \"Topic3\", \"Topic3\", \"Topic3\", \"Topic3\", \"Topic3\", \"Topic3\", \"Topic3\", \"Topic3\", \"Topic3\", \"Topic3\", \"Topic3\", \"Topic3\", \"Topic3\", \"Topic3\", \"Topic3\", \"Topic3\", \"Topic3\", \"Topic3\", \"Topic3\", \"Topic3\", \"Topic3\", \"Topic3\", \"Topic3\", \"Topic3\", \"Topic3\", \"Topic3\", \"Topic3\", \"Topic3\", \"Topic3\", \"Topic3\", \"Topic3\", \"Topic3\", \"Topic3\", \"Topic3\", \"Topic3\", \"Topic3\", \"Topic3\", \"Topic3\", \"Topic3\"], \"logprob\": [30.0, 29.0, 28.0, 27.0, 26.0, 25.0, 24.0, 23.0, 22.0, 21.0, 20.0, 19.0, 18.0, 17.0, 16.0, 15.0, 14.0, 13.0, 12.0, 11.0, 10.0, 9.0, 8.0, 7.0, 6.0, 5.0, 4.0, 3.0, 2.0, 1.0, -2.8032, -2.7994, -3.7483, -3.8157, -3.873, -3.9218, -3.9569, -4.2129, -4.285, -4.4847, -4.5308, -4.4943, -4.6531, -4.5904, -4.7082, -4.9098, -4.9574, -4.9758, -5.0058, -5.0294, -4.984, -5.1752, -5.2383, -5.2362, -5.2671, -5.2775, -5.284, -5.2873, -5.3462, -5.306, -5.1288, -5.2276, -4.5169, -4.0921, -4.7853, -4.1612, -3.6037, -3.7121, -4.3743, -4.841, -4.4891, -4.7351, -4.4426, -4.4026, -4.865, -4.8467, -3.5283, -3.6584, -3.6967, -3.9928, -4.1608, -4.1289, -4.0991, -4.2133, -4.3795, -4.5542, -4.5272, -4.7184, -4.7045, -4.6716, -4.7759, -4.9086, -4.8651, -4.9804, -4.9769, -4.9142, -5.0489, -5.051, -5.0956, -5.1459, -5.0231, -4.8377, -5.1639, -5.1503, -5.2094, -5.1541, -3.5432, -3.1969, -3.2712, -4.3166, -4.401, -4.6075, -4.1155, -4.6746, -4.8825, -4.6701, -3.3875, -3.9081, -3.9432, -4.0111, -4.1447, -4.1916, -4.2252, -4.2305, -4.3912, -4.4317, -4.5289, -4.5827, -4.6527, -4.6725, -4.632, -4.6332, -4.7512, -4.835, -4.9099, -4.8716, -4.9632, -4.9275, -4.9737, -5.1146, -5.1698, -5.1566, -5.1505, -5.2066, -5.2122, -5.1794, -3.4966, -4.3453, -3.5952, -4.6978, -4.0802, -4.5809, -4.1441, -4.707, -4.6093, -4.6508, -4.7522], \"loglift\": [30.0, 29.0, 28.0, 27.0, 26.0, 25.0, 24.0, 23.0, 22.0, 21.0, 20.0, 19.0, 18.0, 17.0, 16.0, 15.0, 14.0, 13.0, 12.0, 11.0, 10.0, 9.0, 8.0, 7.0, 6.0, 5.0, 4.0, 3.0, 2.0, 1.0, 1.0083, 1.0083, 1.0083, 1.0083, 1.0083, 1.0083, 1.0083, 1.0083, 1.0083, 1.0082, 1.0082, 1.0082, 1.0082, 1.0082, 1.0082, 1.0082, 1.0082, 1.0082, 1.0082, 1.0082, 1.0082, 1.0082, 1.0081, 1.0081, 1.0081, 1.0081, 1.0081, 1.0081, 1.0081, 1.0081, 1.0081, 1.0081, 0.9213, 0.8142, 0.8802, 0.5972, 0.1459, 0.126, 0.504, 0.7791, 0.515, 0.6868, 0.1419, -0.1399, 0.6988, -0.0161, 1.1011, 1.1011, 1.1011, 1.101, 1.101, 1.101, 1.101, 1.101, 1.101, 1.101, 1.101, 1.101, 1.101, 1.101, 1.101, 1.101, 1.101, 1.1009, 1.1009, 1.1009, 1.1009, 1.1009, 1.1009, 1.1009, 1.1009, 1.1009, 1.1009, 1.1009, 1.1009, 1.1009, 0.7195, 0.5527, 0.567, 0.8192, 0.7316, 0.6504, 0.1723, 0.5078, 0.6995, -0.4006, 1.1951, 1.1951, 1.1951, 1.1951, 1.195, 1.195, 1.195, 1.195, 1.195, 1.195, 1.195, 1.195, 1.195, 1.195, 1.195, 1.195, 1.195, 1.195, 1.195, 1.195, 1.195, 1.195, 1.1949, 1.1949, 1.1949, 1.1949, 1.1949, 1.1949, 1.1949, 1.1949, 0.7729, 0.9325, 0.6926, 1.0307, 0.7504, 0.8891, 0.4404, 0.745, 0.269, 0.1077, 0.2519]}, \"token.table\": {\"Topic\": [2, 2, 1, 2, 3, 3, 1, 3, 1, 1, 2, 3, 1, 1, 3, 3, 2, 2, 2, 3, 3, 3, 2, 3, 1, 2, 3, 3, 2, 2, 1, 3, 1, 2, 1, 2, 3, 2, 1, 2, 1, 1, 2, 3, 2, 3, 2, 3, 3, 3, 1, 3, 1, 3, 2, 3, 1, 2, 3, 1, 1, 1, 1, 2, 1, 2, 3, 2, 3, 3, 1, 2, 1, 1, 2, 2, 3, 2, 3, 1, 3, 1, 3, 3, 2, 2, 1, 1, 3, 1, 2, 3, 2, 1, 3, 1, 3, 2, 3, 1, 2, 2, 2, 1, 2, 2, 2, 2, 3, 1, 1, 3, 1, 2, 1, 2, 3, 3, 1, 1, 2, 1, 1, 3, 2, 3, 1, 3, 1, 1, 3, 1, 2, 1, 3, 1, 2, 1, 3, 2, 1, 2, 1, 3, 1, 2, 1], \"Freq\": [0.9999180045348893, 0.9997716215212901, 0.7951764450781628, 0.20482263091602826, 0.9998567042600395, 0.9997707821343729, 0.9998199985076982, 0.9999616283464091, 0.9997504548735303, 0.999990167925436, 0.9998081179758376, 0.9998737646806646, 0.9998886891300681, 0.9998564777697738, 0.9997125610877212, 0.9996753799016846, 0.9999568688121308, 0.9998071008440831, 0.39500167164762284, 0.6049760402712291, 0.9999565232314601, 0.9997984416010389, 0.6371513961190702, 0.362843646464595, 0.420482721364965, 0.1094142500286737, 0.47012630522816573, 0.9998896071159946, 0.9998702156722598, 0.9998129835633109, 0.9998495704797705, 0.9999633973620412, 0.42213184809532306, 0.5778746493779029, 0.9997180478427347, 0.9999414408237703, 0.9998448747034389, 0.9998005721732839, 0.9998074826443849, 0.9998917130972695, 0.9999339987519327, 0.12170939244698276, 0.2227339022339619, 0.6555545961252351, 0.9997903104639682, 0.00020218206480565585, 0.9999609407188026, 0.9998917509521835, 0.9997768569401579, 0.9998977109705556, 0.15158064950839678, 0.8483600243296974, 0.879666639417927, 0.12017135654808483, 0.9999500103013034, 0.9999553715269377, 0.4474455269884311, 0.5525202402629735, 0.9998841841666548, 0.9999272943308796, 0.9999941301175498, 0.999949358602662, 0.9999129121704832, 0.999968023767366, 0.7337432597352151, 0.26617130941332395, 0.999798736236178, 0.9997571367566914, 0.9998126239579437, 0.9997444433964902, 0.24562237976535004, 0.7543533507658814, 0.9998493395795329, 0.9997988675105007, 0.9998790809521201, 0.9999423399172819, 0.9999132588824423, 0.23087987814782338, 0.769077477412356, 0.82353183680967, 0.17642995804334483, 0.6629139771010781, 0.33704752996162385, 0.9999520139598517, 0.9998744555241968, 0.9997983664654932, 0.9998679113761175, 0.9996968553156492, 0.0002465343662923919, 0.9998867848940824, 0.2635934660248786, 0.7363660003834702, 0.99996707266261, 0.9999441226580159, 0.9997648371250881, 0.36240812739900885, 0.6375698537575155, 0.9998456865448979, 0.9996435803667418, 0.3306707867267776, 0.6692686128613888, 0.9996903177348458, 0.9999434284665488, 0.31718411039450073, 0.6827990523892593, 0.9999397590867201, 0.9998888352395643, 0.9999547099905702, 0.9997230504862946, 0.9997052940819047, 0.6105569541770682, 0.38938095035512044, 0.9166841417779866, 0.08335721000388217, 0.7250712206760327, 0.2748565056421621, 0.9997343094259185, 0.9999366272010317, 0.9999806603892349, 0.9998295190229027, 0.00027213650490552605, 0.9997663055086821, 0.9999640913850915, 0.9999340291440553, 0.6910896510086038, 0.30883661393563633, 0.358978206899693, 0.6409800566196676, 0.9999219190535246, 0.9997667937667951, 0.9999099761596825, 0.999962782035907, 0.999743134181123, 0.9999216033826266, 0.9998989042637766, 0.4138251373767685, 0.5861656622357456, 0.9999537490148988, 0.9999544931162879, 0.9999826317497796, 0.9999688288839308, 0.9999480143817097, 0.6038850133340625, 0.39605445679701506, 0.9999037185837816, 0.9999220634509901, 0.9999001171830695], \"Term\": [\"alarm\", \"alphabet\", \"antique\", \"antique\", \"apple\", \"apron\", \"art\", \"assorted\", \"babushka\", \"bag\", \"bakelike\", \"baking\", \"bell\", \"bicycle\", \"birthday\", \"book\", \"bottle\", \"bowl\", \"box\", \"box\", \"cake\", \"calm\", \"candle\", \"candle\", \"card\", \"card\", \"card\", \"case\", \"ceramic\", \"chain\", \"charlotte\", \"childrens\", \"christmas\", \"christmas\", \"classic\", \"clock\", \"colour\", \"craft\", \"cushion\", \"cutlery\", \"decoration\", \"design\", \"design\", \"design\", \"dog\", \"dog\", \"doily\", \"dolly\", \"egg\", \"fairy\", \"feltcraft\", \"feltcraft\", \"frame\", \"frame\", \"gift\", \"girl\", \"glass\", \"glass\", \"hand\", \"hanging\", \"heart\", \"holder\", \"home\", \"hot\", \"ivory\", \"ivory\", \"jack\", \"jar\", \"keep\", \"key\", \"kit\", \"kit\", \"kitchen\", \"lantern\", \"leaf\", \"light\", \"london\", \"love\", \"love\", \"lunch\", \"lunch\", \"metal\", \"metal\", \"mini\", \"napkin\", \"night\", \"notebook\", \"owl\", \"owl\", \"paisley\", \"pantry\", \"pantry\", \"paper\", \"park\", \"party\", \"pencil\", \"pencil\", \"plate\", \"playing\", \"polkadot\", \"polkadot\", \"rabbit\", \"reel\", \"retrospot\", \"retrospot\", \"ribbon\", \"roll\", \"rose\", \"round\", \"scandinavian\", \"sign\", \"sign\", \"silver\", \"silver\", \"skull\", \"skull\", \"snack\", \"spaceboy\", \"star\", \"storage\", \"storage\", \"suki\", \"sweet\", \"sweetheart\", \"tea\", \"tea\", \"tin\", \"tin\", \"tlight\", \"travel\", \"tray\", \"tree\", \"trinket\", \"tube\", \"union\", \"vintage\", \"vintage\", \"wall\", \"warmer\", \"water\", \"wicker\", \"wood\", \"wooden\", \"wooden\", \"woodland\", \"wrap\", \"zinc\"]}, \"R\": 30, \"lambda.step\": 0.01, \"plot.opts\": {\"xlab\": \"PC1\", \"ylab\": \"PC2\"}, \"topic.order\": [1, 3, 2]};\n",
       "\n",
       "function LDAvis_load_lib(url, callback){\n",
       "  var s = document.createElement('script');\n",
       "  s.src = url;\n",
       "  s.async = true;\n",
       "  s.onreadystatechange = s.onload = callback;\n",
       "  s.onerror = function(){console.warn(\"failed to load library \" + url);};\n",
       "  document.getElementsByTagName(\"head\")[0].appendChild(s);\n",
       "}\n",
       "\n",
       "if(typeof(LDAvis) !== \"undefined\"){\n",
       "   // already loaded: just create the visualization\n",
       "   !function(LDAvis){\n",
       "       new LDAvis(\"#\" + \"ldavis_el1995626764188192327301961133\", ldavis_el1995626764188192327301961133_data);\n",
       "   }(LDAvis);\n",
       "}else if(typeof define === \"function\" && define.amd){\n",
       "   // require.js is available: use it to load d3/LDAvis\n",
       "   require.config({paths: {d3: \"https://d3js.org/d3.v5\"}});\n",
       "   require([\"d3\"], function(d3){\n",
       "      window.d3 = d3;\n",
       "      LDAvis_load_lib(\"https://cdn.jsdelivr.net/gh/bmabey/pyLDAvis@3.3.1/pyLDAvis/js/ldavis.v3.0.0.js\", function(){\n",
       "        new LDAvis(\"#\" + \"ldavis_el1995626764188192327301961133\", ldavis_el1995626764188192327301961133_data);\n",
       "      });\n",
       "    });\n",
       "}else{\n",
       "    // require.js not available: dynamically load d3 & LDAvis\n",
       "    LDAvis_load_lib(\"https://d3js.org/d3.v5.js\", function(){\n",
       "         LDAvis_load_lib(\"https://cdn.jsdelivr.net/gh/bmabey/pyLDAvis@3.3.1/pyLDAvis/js/ldavis.v3.0.0.js\", function(){\n",
       "                 new LDAvis(\"#\" + \"ldavis_el1995626764188192327301961133\", ldavis_el1995626764188192327301961133_data);\n",
       "            })\n",
       "         });\n",
       "}\n",
       "</script>"
      ],
      "text/plain": [
       "PreparedData(topic_coordinates=              x         y  topics  cluster       Freq\n",
       "topic                                                \n",
       "0     -0.184234  0.282965       1        1  36.482881\n",
       "2     -0.164238 -0.294001       2        1  33.250460\n",
       "1      0.348472  0.011036       3        1  30.266659, topic_info=       Term          Freq         Total Category  logprob  loglift\n",
       "93      bag  41655.000000  41655.000000  Default  30.0000  30.0000\n",
       "1     heart  41497.000000  41497.000000  Default  29.0000  29.0000\n",
       "144    cake  19192.000000  19192.000000  Default  28.0000  28.0000\n",
       "10   bottle  18316.000000  18316.000000  Default  27.0000  27.0000\n",
       "12      hot  16081.000000  16081.000000  Default  26.0000  26.0000\n",
       "..      ...           ...           ...      ...      ...      ...\n",
       "78     card   9006.174680  19156.554100   Topic3  -4.1441   0.4404\n",
       "432  pencil   5129.911142   8046.177168   Topic3  -4.7070   0.7450\n",
       "128  wooden   5656.286713  14280.864419   Topic3  -4.6093   0.2690\n",
       "5     metal   5426.363567  16098.619683   Topic3  -4.6508   0.1077\n",
       "169    sign   4903.027344  12591.781893   Topic3  -4.7522   0.2519\n",
       "\n",
       "[157 rows x 6 columns], token_table=      Topic      Freq      Term\n",
       "term                           \n",
       "65        2  0.999918     alarm\n",
       "47        2  0.999772  alphabet\n",
       "129       1  0.795176   antique\n",
       "129       2  0.204823   antique\n",
       "393       3  0.999857     apple\n",
       "...     ...       ...       ...\n",
       "128       1  0.603885    wooden\n",
       "128       3  0.396054    wooden\n",
       "87        1  0.999904  woodland\n",
       "447       2  0.999922      wrap\n",
       "205       1  0.999900      zinc\n",
       "\n",
       "[147 rows x 3 columns], R=30, lambda_step=0.01, plot_opts={'xlab': 'PC1', 'ylab': 'PC2'}, topic_order=[1, 3, 2])"
      ]
     },
     "execution_count": 67,
     "metadata": {},
     "output_type": "execute_result"
    }
   ],
   "source": [
    "pyLDAvis.enable_notebook()\n",
    "vis = gensimvis.prepare(Three_topic_model, corpus, dictionary)\n",
    "vis"
   ]
  },
  {
   "cell_type": "markdown",
   "id": "165edd0e-1cb9-43c0-814e-bc23d24cdd99",
   "metadata": {},
   "source": [
    "The Gensim model coherence metric suggested either 3 or 8 topics. However, when I trained models on with those parameters, neither produced obvious improvement on the the 5 topic LDA model. Below I will fine-tune my 5 segment LDA model"
   ]
  },
  {
   "cell_type": "markdown",
   "id": "7ff48700-54c7-4388-a084-9ba64b41c723",
   "metadata": {},
   "source": [
    "### Final LDA Model"
   ]
  },
  {
   "cell_type": "code",
   "execution_count": 13,
   "id": "a68734ac-55c3-4a45-923f-51be32074486",
   "metadata": {},
   "outputs": [
    {
     "name": "stdout",
     "output_type": "stream",
     "text": [
      "Current run time: 35.03 minutes\n"
     ]
    }
   ],
   "source": [
    "#train model with various learning_decay values to optimize model\n",
    "decays = [.5,.7,.9]\n",
    "\n",
    "perplexities = []\n",
    "scores = []\n",
    "start = timeit.default_timer()\n",
    "for decay in decays:\n",
    "    clear_output(wait=True)\n",
    "    \n",
    "    lda_model = LatentDirichletAllocation(n_components = 5, learning_decay=decay, max_iter=10)\n",
    "    lda = lda_model.fit_transform(transformed_vector)\n",
    "    perplexities.append(lda_model.perplexity(transformed_vector))\n",
    "    scores.append(lda_model.score(transformed_vector))\n",
    "    \n",
    "    stop = timeit.default_timer()\n",
    "    print(\"Current run time:\", np.round((stop - start)/60,2), \"minutes\")"
   ]
  },
  {
   "cell_type": "code",
   "execution_count": 20,
   "id": "56a14095-708a-4943-a453-7f4d14905025",
   "metadata": {},
   "outputs": [
    {
     "name": "stdout",
     "output_type": "stream",
     "text": [
      "For learning decay of .5: Perplexity = 976.5390111890292 and Score = -21675483.679964248\n",
      "For learning decay of .7: Perplexity = 987.4241538057433 and Score = -21710386.638107374\n",
      "For learning decay of .9: Perplexity = 979.7412401901566 and Score = -21685791.781970605\n"
     ]
    }
   ],
   "source": [
    "#print perplexities and scores\n",
    "print(f\"For learning decay of .5: Perplexity =\", perplexities[0], \"and Score =\", scores[0])\n",
    "print(f\"For learning decay of .7: Perplexity =\", perplexities[1], \"and Score =\", scores[1])\n",
    "print(f\"For learning decay of .9: Perplexity =\", perplexities[2], \"and Score =\", scores[2])"
   ]
  },
  {
   "cell_type": "code",
   "execution_count": 23,
   "id": "1bcef611-f334-49f3-8da4-0b74529b377f",
   "metadata": {},
   "outputs": [
    {
     "name": "stdout",
     "output_type": "stream",
     "text": [
      "Current run time: 81.14 minutes\n"
     ]
    }
   ],
   "source": [
    "#train model with a various batch_size and max_iter to optimize model\n",
    "batches = [64, 128, 256]\n",
    "iterations = [5,7,10]\n",
    "\n",
    "perplexities = []\n",
    "scores = []\n",
    "start = timeit.default_timer()\n",
    "for batch in batches:\n",
    "    for i in iterations:\n",
    "        clear_output(wait=True)\n",
    "    \n",
    "        lda_model = LatentDirichletAllocation(n_components = 5, batch_size= batch, learning_decay=.5, max_iter=i)\n",
    "        lda = lda_model.fit_transform(transformed_vector)\n",
    "        perplexities.append(lda_model.perplexity(transformed_vector))\n",
    "        scores.append(lda_model.score(transformed_vector))\n",
    "    \n",
    "        stop = timeit.default_timer()\n",
    "        print(\"Current run time:\", np.round((stop - start)/60,2), \"minutes\")"
   ]
  },
  {
   "cell_type": "code",
   "execution_count": 24,
   "id": "19d84a8c-629e-4553-b2f6-d278e1714214",
   "metadata": {},
   "outputs": [
    {
     "name": "stdout",
     "output_type": "stream",
     "text": [
      "For batch size=64 and max iterations=5: Perplexity = 1008.06944297514 and Score = -21775540.9454092\n",
      "For batch size=64 and max iterations=7: Perplexity = 967.0393261982136 and Score = -21644703.750736266\n",
      "For batch size=64 and max iterations=10: Perplexity = 977.4349474875066 and Score = -21678371.136098616\n",
      "For batch size=128 and max iterations=5: Perplexity = 1005.3662227909648 and Score = -21767086.19231927\n",
      "For batch size=128 and max iterations=7: Perplexity = 1001.7980969279266 and Score = -21755891.434603143\n",
      "For batch size=128 and max iterations=10: Perplexity = 973.7286528647945 and Score = -21666409.136584934\n",
      "For batch size=256 and max iterations=5: Perplexity = 983.6532215106705 and Score = -21698338.981071495\n",
      "For batch size=256 and max iterations=7: Perplexity = 978.3515959493983 and Score = -21681322.606254578\n",
      "For batch size=256 and max iterations=10: Perplexity = 977.6139057229218 and Score = -21678947.572077487\n"
     ]
    }
   ],
   "source": [
    "#Examine perplexities and scores for different batch sizes and max iterations to tune model\n",
    "print(f\"For batch size=64 and max iterations=5: Perplexity =\", perplexities[0], \"and Score =\", scores[0])\n",
    "print(f\"For batch size=64 and max iterations=7: Perplexity =\", perplexities[1], \"and Score =\", scores[1])\n",
    "print(f\"For batch size=64 and max iterations=10: Perplexity =\", perplexities[2], \"and Score =\", scores[2])\n",
    "print(f\"For batch size=128 and max iterations=5: Perplexity =\", perplexities[3], \"and Score =\", scores[3])\n",
    "print(f\"For batch size=128 and max iterations=7: Perplexity =\", perplexities[4], \"and Score =\", scores[4])\n",
    "print(f\"For batch size=128 and max iterations=10: Perplexity =\", perplexities[5], \"and Score =\", scores[5])\n",
    "print(f\"For batch size=256 and max iterations=5: Perplexity =\", perplexities[6], \"and Score =\", scores[6])\n",
    "print(f\"For batch size=256 and max iterations=7: Perplexity =\", perplexities[7], \"and Score =\", scores[7])\n",
    "print(f\"For batch size=256 and max iterations=10: Perplexity =\", perplexities[8], \"and Score =\", scores[8])"
   ]
  },
  {
   "cell_type": "code",
   "execution_count": 25,
   "id": "5ccfc575-ec99-4161-bc8b-7a0e1873c9b2",
   "metadata": {},
   "outputs": [
    {
     "data": {
      "text/plain": [
       "(523695, 5)"
      ]
     },
     "execution_count": 25,
     "metadata": {},
     "output_type": "execute_result"
    }
   ],
   "source": [
    "lda_model = LatentDirichletAllocation(n_components =5, batch_size=64, max_iter=7, learning_decay=.5)\n",
    "\n",
    "lda = lda_model.fit_transform(transformed_vector)\n",
    "lda.shape"
   ]
  },
  {
   "cell_type": "code",
   "execution_count": 31,
   "id": "0eae26f9-2689-44d2-8c0d-5cfc47a6a555",
   "metadata": {},
   "outputs": [
    {
     "name": "stdout",
     "output_type": "stream",
     "text": [
      "Topic 0: \n",
      "heart, bag, holder, tlight, hanging, tlight holder, polkadot, lunch, retrospot, decoration, lunch bag, charlotte, hanging heart, charlotte bag, party,\n",
      "Topic 1: \n",
      "tin, cake, design, box, wicker, christmas, heart, ribbon, ceramic, pantry, tissue, drawer, rose, drawer knob, knob,\n",
      "Topic 2: \n",
      "sign, metal, metal sign, bag, retrospot, design, dolly, girl, spaceboy, dolly girl, gift, christmas, tea, french, wrap,\n",
      "Topic 3: \n",
      "vintage, bag, cake, retrospot, bottle, case, design, water, hot, hot water, water bottle, cake case, box, skull, paisley,\n",
      "Topic 4: \n",
      "christmas, home, wooden, paper, card, decoration, box, clock, heart, alarm clock, alarm, garden, bakelike, clock bakelike, birthday,\n"
     ]
    }
   ],
   "source": [
    "#print top 15 words in each topic\n",
    "for i in range(5):\n",
    "    print_topic(i, top_words=15)"
   ]
  },
  {
   "cell_type": "markdown",
   "id": "620b5ba1-be41-48fd-8eab-1f97c061fd02",
   "metadata": {},
   "source": [
    "As expected, the grouping seems somewhat arbitrary. There seem to be some loose similarities. Holder, hanging, and decoration in topic 0. Tin, box, ribbon, drawer, knob in top 1. Christmas and birthday in topic 4.\n",
    "\n",
    "However there are a number of overlapping terms and seemingly unrelated items. Given how brief the descriptions were, this is not unexpected."
   ]
  },
  {
   "cell_type": "code",
   "execution_count": 32,
   "id": "d9208e24-2f25-41b7-82f5-df0be1645c9e",
   "metadata": {},
   "outputs": [],
   "source": [
    "topics = []\n",
    "\n",
    "for i in range(len(X)):\n",
    "    topics.append(lda[i].argmax())"
   ]
  },
  {
   "cell_type": "code",
   "execution_count": 33,
   "id": "f36955e5-cc67-49f3-bd6f-300b9613f6b6",
   "metadata": {},
   "outputs": [
    {
     "name": "stderr",
     "output_type": "stream",
     "text": [
      "C:\\Users\\SReed\\Anaconda3\\lib\\site-packages\\sklearn\\manifold\\_t_sne.py:790: FutureWarning: The default learning rate in TSNE will change from 200.0 to 'auto' in 1.2.\n",
      "  warnings.warn(\n",
      "C:\\Users\\SReed\\Anaconda3\\lib\\site-packages\\sklearn\\manifold\\_t_sne.py:982: FutureWarning: The PCA initialization in TSNE will change to have the standard deviation of PC1 equal to 1e-4 in 1.2. This will ensure better convergence.\n",
      "  warnings.warn(\n"
     ]
    },
    {
     "data": {
      "text/plain": [
       "(523695, 3)"
      ]
     },
     "execution_count": 33,
     "metadata": {},
     "output_type": "execute_result"
    }
   ],
   "source": [
    "#reduce dimensionality of the model\n",
    "tsne = TSNE(n_components = 3, init = 'pca', random_state = 7)\n",
    "lda_3d_tsne = tsne.fit_transform(lda)\n",
    "lda_df_tsne = pd.DataFrame(lda_3d_tsne)\n",
    "lda_df_tsne.shape"
   ]
  },
  {
   "cell_type": "code",
   "execution_count": 70,
   "id": "c68f0421-1eda-48a6-a2e3-d91dfc9229a1",
   "metadata": {},
   "outputs": [],
   "source": [
    "df['segment'] = topics"
   ]
  },
  {
   "cell_type": "code",
   "execution_count": 36,
   "id": "08ed3366-fa67-4305-bb0e-8fdaf718e9f3",
   "metadata": {},
   "outputs": [
    {
     "data": {
      "text/plain": [
       "<mpl_toolkits.mplot3d.art3d.Path3DCollection at 0x26ed6bc7820>"
      ]
     },
     "execution_count": 36,
     "metadata": {},
     "output_type": "execute_result"
    },
    {
     "data": {
      "image/png": "[encoded data removed]",
      "text/plain": [
       "<Figure size 864x720 with 1 Axes>"
      ]
     },
     "metadata": {
      "needs_background": "light"
     },
     "output_type": "display_data"
    }
   ],
   "source": [
    "# Create Figure\n",
    "\n",
    "fig = plt.figure(figsize = (12, 10))\n",
    "ax = plt.axes(projection =\"3d\")\n",
    "\n",
    "#change view\n",
    "ax.view_init(40, 20)\n",
    " \n",
    "# Create Plot\n",
    "\n",
    "ax.scatter3D(lda_df_tsne[0], lda_df_tsne[1], lda_df_tsne[2], c=topics, cmap = plt.cm.Accent)"
   ]
  },
  {
   "cell_type": "code",
   "execution_count": 53,
   "id": "12119967-a519-4385-87f0-f2d0f0ee58ed",
   "metadata": {},
   "outputs": [
    {
     "data": {
      "text/plain": [
       "<mpl_toolkits.mplot3d.art3d.Path3DCollection at 0x26ec5aad7f0>"
      ]
     },
     "execution_count": 53,
     "metadata": {},
     "output_type": "execute_result"
    },
    {
     "data": {
      "image/png": "[encoded data removed]",
      "text/plain": [
       "<Figure size 864x720 with 1 Axes>"
      ]
     },
     "metadata": {
      "needs_background": "light"
     },
     "output_type": "display_data"
    }
   ],
   "source": [
    "# Create Figure\n",
    "\n",
    "fig = plt.figure(figsize = (12, 10))\n",
    "ax = plt.axes(projection =\"3d\")\n",
    "\n",
    "#change view\n",
    "ax.view_init(200, 180)\n",
    " \n",
    "# Create Plot\n",
    "\n",
    "ax.scatter3D(lda_df_tsne[0], lda_df_tsne[1], lda_df_tsne[2], c=topics, cmap = plt.cm.Accent)"
   ]
  },
  {
   "cell_type": "code",
   "execution_count": 45,
   "id": "4f960bd7-9edf-4b52-a7aa-e78a24ed365d",
   "metadata": {},
   "outputs": [
    {
     "data": {
      "image/png": "[encoded data removed]",
      "text/plain": [
       "<Figure size 864x720 with 1 Axes>"
      ]
     },
     "metadata": {
      "needs_background": "light"
     },
     "output_type": "display_data"
    },
    {
     "data": {
      "text/plain": [
       "<Figure size 432x288 with 0 Axes>"
      ]
     },
     "metadata": {},
     "output_type": "display_data"
    },
    {
     "data": {
      "text/plain": [
       "<Figure size 432x288 with 0 Axes>"
      ]
     },
     "metadata": {},
     "output_type": "display_data"
    },
    {
     "data": {
      "text/plain": [
       "<Figure size 432x288 with 0 Axes>"
      ]
     },
     "metadata": {},
     "output_type": "display_data"
    },
    {
     "data": {
      "text/plain": [
       "<Figure size 432x288 with 0 Axes>"
      ]
     },
     "metadata": {},
     "output_type": "display_data"
    },
    {
     "data": {
      "text/plain": [
       "<Figure size 432x288 with 0 Axes>"
      ]
     },
     "metadata": {},
     "output_type": "display_data"
    },
    {
     "data": {
      "text/plain": [
       "<Figure size 432x288 with 0 Axes>"
      ]
     },
     "metadata": {},
     "output_type": "display_data"
    },
    {
     "data": {
      "text/plain": [
       "<Figure size 432x288 with 0 Axes>"
      ]
     },
     "metadata": {},
     "output_type": "display_data"
    },
    {
     "data": {
      "text/plain": [
       "<Figure size 432x288 with 0 Axes>"
      ]
     },
     "metadata": {},
     "output_type": "display_data"
    },
    {
     "data": {
      "text/plain": [
       "<Figure size 432x288 with 0 Axes>"
      ]
     },
     "metadata": {},
     "output_type": "display_data"
    },
    {
     "data": {
      "text/plain": [
       "<Figure size 432x288 with 0 Axes>"
      ]
     },
     "metadata": {},
     "output_type": "display_data"
    },
    {
     "data": {
      "text/plain": [
       "<Figure size 432x288 with 0 Axes>"
      ]
     },
     "metadata": {},
     "output_type": "display_data"
    },
    {
     "data": {
      "text/plain": [
       "<Figure size 432x288 with 0 Axes>"
      ]
     },
     "metadata": {},
     "output_type": "display_data"
    },
    {
     "data": {
      "text/plain": [
       "<Figure size 432x288 with 0 Axes>"
      ]
     },
     "metadata": {},
     "output_type": "display_data"
    },
    {
     "data": {
      "text/plain": [
       "<Figure size 432x288 with 0 Axes>"
      ]
     },
     "metadata": {},
     "output_type": "display_data"
    },
    {
     "data": {
      "text/plain": [
       "<Figure size 432x288 with 0 Axes>"
      ]
     },
     "metadata": {},
     "output_type": "display_data"
    },
    {
     "data": {
      "text/plain": [
       "<Figure size 432x288 with 0 Axes>"
      ]
     },
     "metadata": {},
     "output_type": "display_data"
    },
    {
     "data": {
      "text/plain": [
       "<Figure size 432x288 with 0 Axes>"
      ]
     },
     "metadata": {},
     "output_type": "display_data"
    },
    {
     "data": {
      "text/plain": [
       "<Figure size 432x288 with 0 Axes>"
      ]
     },
     "metadata": {},
     "output_type": "display_data"
    },
    {
     "data": {
      "text/plain": [
       "<Figure size 432x288 with 0 Axes>"
      ]
     },
     "metadata": {},
     "output_type": "display_data"
    },
    {
     "data": {
      "text/plain": [
       "<Figure size 432x288 with 0 Axes>"
      ]
     },
     "metadata": {},
     "output_type": "display_data"
    },
    {
     "data": {
      "text/plain": [
       "<Figure size 432x288 with 0 Axes>"
      ]
     },
     "metadata": {},
     "output_type": "display_data"
    },
    {
     "data": {
      "text/plain": [
       "<Figure size 432x288 with 0 Axes>"
      ]
     },
     "metadata": {},
     "output_type": "display_data"
    },
    {
     "data": {
      "text/plain": [
       "<Figure size 432x288 with 0 Axes>"
      ]
     },
     "metadata": {},
     "output_type": "display_data"
    },
    {
     "data": {
      "text/plain": [
       "<Figure size 432x288 with 0 Axes>"
      ]
     },
     "metadata": {},
     "output_type": "display_data"
    },
    {
     "data": {
      "text/plain": [
       "<Figure size 432x288 with 0 Axes>"
      ]
     },
     "metadata": {},
     "output_type": "display_data"
    },
    {
     "data": {
      "text/plain": [
       "<Figure size 432x288 with 0 Axes>"
      ]
     },
     "metadata": {},
     "output_type": "display_data"
    },
    {
     "data": {
      "text/plain": [
       "<Figure size 432x288 with 0 Axes>"
      ]
     },
     "metadata": {},
     "output_type": "display_data"
    },
    {
     "data": {
      "text/plain": [
       "<Figure size 432x288 with 0 Axes>"
      ]
     },
     "metadata": {},
     "output_type": "display_data"
    },
    {
     "data": {
      "text/plain": [
       "<Figure size 432x288 with 0 Axes>"
      ]
     },
     "metadata": {},
     "output_type": "display_data"
    },
    {
     "data": {
      "text/plain": [
       "<Figure size 432x288 with 0 Axes>"
      ]
     },
     "metadata": {},
     "output_type": "display_data"
    },
    {
     "data": {
      "text/plain": [
       "<Figure size 432x288 with 0 Axes>"
      ]
     },
     "metadata": {},
     "output_type": "display_data"
    },
    {
     "data": {
      "text/plain": [
       "<Figure size 432x288 with 0 Axes>"
      ]
     },
     "metadata": {},
     "output_type": "display_data"
    },
    {
     "data": {
      "text/plain": [
       "<Figure size 432x288 with 0 Axes>"
      ]
     },
     "metadata": {},
     "output_type": "display_data"
    },
    {
     "data": {
      "text/plain": [
       "<Figure size 432x288 with 0 Axes>"
      ]
     },
     "metadata": {},
     "output_type": "display_data"
    },
    {
     "data": {
      "text/plain": [
       "<Figure size 432x288 with 0 Axes>"
      ]
     },
     "metadata": {},
     "output_type": "display_data"
    },
    {
     "data": {
      "text/plain": [
       "<Figure size 432x288 with 0 Axes>"
      ]
     },
     "metadata": {},
     "output_type": "display_data"
    },
    {
     "data": {
      "text/plain": [
       "<Figure size 432x288 with 0 Axes>"
      ]
     },
     "metadata": {},
     "output_type": "display_data"
    },
    {
     "data": {
      "text/plain": [
       "<Figure size 432x288 with 0 Axes>"
      ]
     },
     "metadata": {},
     "output_type": "display_data"
    },
    {
     "data": {
      "text/plain": [
       "<Figure size 432x288 with 0 Axes>"
      ]
     },
     "metadata": {},
     "output_type": "display_data"
    },
    {
     "data": {
      "text/plain": [
       "<Figure size 432x288 with 0 Axes>"
      ]
     },
     "metadata": {},
     "output_type": "display_data"
    },
    {
     "data": {
      "text/plain": [
       "<Figure size 432x288 with 0 Axes>"
      ]
     },
     "metadata": {},
     "output_type": "display_data"
    },
    {
     "data": {
      "text/plain": [
       "<Figure size 432x288 with 0 Axes>"
      ]
     },
     "metadata": {},
     "output_type": "display_data"
    },
    {
     "data": {
      "text/plain": [
       "<Figure size 432x288 with 0 Axes>"
      ]
     },
     "metadata": {},
     "output_type": "display_data"
    },
    {
     "data": {
      "text/plain": [
       "<Figure size 432x288 with 0 Axes>"
      ]
     },
     "metadata": {},
     "output_type": "display_data"
    },
    {
     "data": {
      "text/plain": [
       "<Figure size 432x288 with 0 Axes>"
      ]
     },
     "metadata": {},
     "output_type": "display_data"
    },
    {
     "data": {
      "text/plain": [
       "<Figure size 432x288 with 0 Axes>"
      ]
     },
     "metadata": {},
     "output_type": "display_data"
    },
    {
     "data": {
      "text/plain": [
       "<Figure size 432x288 with 0 Axes>"
      ]
     },
     "metadata": {},
     "output_type": "display_data"
    },
    {
     "data": {
      "text/plain": [
       "<Figure size 432x288 with 0 Axes>"
      ]
     },
     "metadata": {},
     "output_type": "display_data"
    },
    {
     "data": {
      "text/plain": [
       "<Figure size 432x288 with 0 Axes>"
      ]
     },
     "metadata": {},
     "output_type": "display_data"
    },
    {
     "data": {
      "text/plain": [
       "<Figure size 432x288 with 0 Axes>"
      ]
     },
     "metadata": {},
     "output_type": "display_data"
    },
    {
     "data": {
      "text/plain": [
       "<Figure size 432x288 with 0 Axes>"
      ]
     },
     "metadata": {},
     "output_type": "display_data"
    },
    {
     "data": {
      "text/plain": [
       "<Figure size 432x288 with 0 Axes>"
      ]
     },
     "metadata": {},
     "output_type": "display_data"
    },
    {
     "data": {
      "text/plain": [
       "<Figure size 432x288 with 0 Axes>"
      ]
     },
     "metadata": {},
     "output_type": "display_data"
    },
    {
     "data": {
      "text/plain": [
       "<Figure size 432x288 with 0 Axes>"
      ]
     },
     "metadata": {},
     "output_type": "display_data"
    },
    {
     "data": {
      "text/plain": [
       "<Figure size 432x288 with 0 Axes>"
      ]
     },
     "metadata": {},
     "output_type": "display_data"
    },
    {
     "data": {
      "text/plain": [
       "<Figure size 432x288 with 0 Axes>"
      ]
     },
     "metadata": {},
     "output_type": "display_data"
    },
    {
     "data": {
      "text/plain": [
       "<Figure size 432x288 with 0 Axes>"
      ]
     },
     "metadata": {},
     "output_type": "display_data"
    },
    {
     "data": {
      "text/plain": [
       "<Figure size 432x288 with 0 Axes>"
      ]
     },
     "metadata": {},
     "output_type": "display_data"
    },
    {
     "data": {
      "text/plain": [
       "<Figure size 432x288 with 0 Axes>"
      ]
     },
     "metadata": {},
     "output_type": "display_data"
    },
    {
     "data": {
      "text/plain": [
       "<Figure size 432x288 with 0 Axes>"
      ]
     },
     "metadata": {},
     "output_type": "display_data"
    },
    {
     "data": {
      "text/plain": [
       "<Figure size 432x288 with 0 Axes>"
      ]
     },
     "metadata": {},
     "output_type": "display_data"
    },
    {
     "data": {
      "text/plain": [
       "<Figure size 432x288 with 0 Axes>"
      ]
     },
     "metadata": {},
     "output_type": "display_data"
    },
    {
     "data": {
      "text/plain": [
       "<Figure size 432x288 with 0 Axes>"
      ]
     },
     "metadata": {},
     "output_type": "display_data"
    },
    {
     "data": {
      "text/plain": [
       "<Figure size 432x288 with 0 Axes>"
      ]
     },
     "metadata": {},
     "output_type": "display_data"
    },
    {
     "data": {
      "text/plain": [
       "<Figure size 432x288 with 0 Axes>"
      ]
     },
     "metadata": {},
     "output_type": "display_data"
    },
    {
     "data": {
      "text/plain": [
       "<Figure size 432x288 with 0 Axes>"
      ]
     },
     "metadata": {},
     "output_type": "display_data"
    },
    {
     "data": {
      "text/plain": [
       "<Figure size 432x288 with 0 Axes>"
      ]
     },
     "metadata": {},
     "output_type": "display_data"
    },
    {
     "data": {
      "text/plain": [
       "<Figure size 432x288 with 0 Axes>"
      ]
     },
     "metadata": {},
     "output_type": "display_data"
    },
    {
     "data": {
      "text/plain": [
       "<Figure size 432x288 with 0 Axes>"
      ]
     },
     "metadata": {},
     "output_type": "display_data"
    },
    {
     "data": {
      "text/plain": [
       "<Figure size 432x288 with 0 Axes>"
      ]
     },
     "metadata": {},
     "output_type": "display_data"
    },
    {
     "data": {
      "text/plain": [
       "<Figure size 432x288 with 0 Axes>"
      ]
     },
     "metadata": {},
     "output_type": "display_data"
    },
    {
     "data": {
      "text/plain": [
       "<Figure size 432x288 with 0 Axes>"
      ]
     },
     "metadata": {},
     "output_type": "display_data"
    },
    {
     "data": {
      "text/plain": [
       "<Figure size 432x288 with 0 Axes>"
      ]
     },
     "metadata": {},
     "output_type": "display_data"
    },
    {
     "data": {
      "text/plain": [
       "<Figure size 432x288 with 0 Axes>"
      ]
     },
     "metadata": {},
     "output_type": "display_data"
    },
    {
     "data": {
      "text/plain": [
       "<Figure size 432x288 with 0 Axes>"
      ]
     },
     "metadata": {},
     "output_type": "display_data"
    },
    {
     "data": {
      "text/plain": [
       "<Figure size 432x288 with 0 Axes>"
      ]
     },
     "metadata": {},
     "output_type": "display_data"
    },
    {
     "data": {
      "text/plain": [
       "<Figure size 432x288 with 0 Axes>"
      ]
     },
     "metadata": {},
     "output_type": "display_data"
    },
    {
     "data": {
      "text/plain": [
       "<Figure size 432x288 with 0 Axes>"
      ]
     },
     "metadata": {},
     "output_type": "display_data"
    },
    {
     "data": {
      "text/plain": [
       "<Figure size 432x288 with 0 Axes>"
      ]
     },
     "metadata": {},
     "output_type": "display_data"
    },
    {
     "data": {
      "text/plain": [
       "<Figure size 432x288 with 0 Axes>"
      ]
     },
     "metadata": {},
     "output_type": "display_data"
    },
    {
     "data": {
      "text/plain": [
       "<Figure size 432x288 with 0 Axes>"
      ]
     },
     "metadata": {},
     "output_type": "display_data"
    },
    {
     "data": {
      "text/plain": [
       "<Figure size 432x288 with 0 Axes>"
      ]
     },
     "metadata": {},
     "output_type": "display_data"
    },
    {
     "data": {
      "text/plain": [
       "<Figure size 432x288 with 0 Axes>"
      ]
     },
     "metadata": {},
     "output_type": "display_data"
    },
    {
     "data": {
      "text/plain": [
       "<Figure size 432x288 with 0 Axes>"
      ]
     },
     "metadata": {},
     "output_type": "display_data"
    },
    {
     "data": {
      "text/plain": [
       "<Figure size 432x288 with 0 Axes>"
      ]
     },
     "metadata": {},
     "output_type": "display_data"
    },
    {
     "data": {
      "text/plain": [
       "<Figure size 432x288 with 0 Axes>"
      ]
     },
     "metadata": {},
     "output_type": "display_data"
    },
    {
     "data": {
      "text/plain": [
       "<Figure size 432x288 with 0 Axes>"
      ]
     },
     "metadata": {},
     "output_type": "display_data"
    },
    {
     "data": {
      "text/plain": [
       "<Figure size 432x288 with 0 Axes>"
      ]
     },
     "metadata": {},
     "output_type": "display_data"
    },
    {
     "data": {
      "text/plain": [
       "<Figure size 432x288 with 0 Axes>"
      ]
     },
     "metadata": {},
     "output_type": "display_data"
    },
    {
     "data": {
      "text/plain": [
       "<Figure size 432x288 with 0 Axes>"
      ]
     },
     "metadata": {},
     "output_type": "display_data"
    },
    {
     "data": {
      "text/plain": [
       "<Figure size 432x288 with 0 Axes>"
      ]
     },
     "metadata": {},
     "output_type": "display_data"
    },
    {
     "data": {
      "text/plain": [
       "<Figure size 432x288 with 0 Axes>"
      ]
     },
     "metadata": {},
     "output_type": "display_data"
    },
    {
     "data": {
      "text/plain": [
       "<Figure size 432x288 with 0 Axes>"
      ]
     },
     "metadata": {},
     "output_type": "display_data"
    },
    {
     "data": {
      "text/plain": [
       "<Figure size 432x288 with 0 Axes>"
      ]
     },
     "metadata": {},
     "output_type": "display_data"
    },
    {
     "data": {
      "text/plain": [
       "<Figure size 432x288 with 0 Axes>"
      ]
     },
     "metadata": {},
     "output_type": "display_data"
    },
    {
     "data": {
      "text/plain": [
       "<Figure size 432x288 with 0 Axes>"
      ]
     },
     "metadata": {},
     "output_type": "display_data"
    },
    {
     "data": {
      "text/plain": [
       "<Figure size 432x288 with 0 Axes>"
      ]
     },
     "metadata": {},
     "output_type": "display_data"
    },
    {
     "data": {
      "text/plain": [
       "<Figure size 432x288 with 0 Axes>"
      ]
     },
     "metadata": {},
     "output_type": "display_data"
    },
    {
     "data": {
      "text/plain": [
       "<Figure size 432x288 with 0 Axes>"
      ]
     },
     "metadata": {},
     "output_type": "display_data"
    },
    {
     "data": {
      "text/plain": [
       "<Figure size 432x288 with 0 Axes>"
      ]
     },
     "metadata": {},
     "output_type": "display_data"
    },
    {
     "data": {
      "text/plain": [
       "<Figure size 432x288 with 0 Axes>"
      ]
     },
     "metadata": {},
     "output_type": "display_data"
    },
    {
     "data": {
      "text/plain": [
       "<Figure size 432x288 with 0 Axes>"
      ]
     },
     "metadata": {},
     "output_type": "display_data"
    },
    {
     "data": {
      "text/plain": [
       "<Figure size 432x288 with 0 Axes>"
      ]
     },
     "metadata": {},
     "output_type": "display_data"
    },
    {
     "data": {
      "text/plain": [
       "<Figure size 432x288 with 0 Axes>"
      ]
     },
     "metadata": {},
     "output_type": "display_data"
    },
    {
     "data": {
      "text/plain": [
       "<Figure size 432x288 with 0 Axes>"
      ]
     },
     "metadata": {},
     "output_type": "display_data"
    },
    {
     "data": {
      "text/plain": [
       "<Figure size 432x288 with 0 Axes>"
      ]
     },
     "metadata": {},
     "output_type": "display_data"
    },
    {
     "data": {
      "text/plain": [
       "<Figure size 432x288 with 0 Axes>"
      ]
     },
     "metadata": {},
     "output_type": "display_data"
    },
    {
     "data": {
      "text/plain": [
       "<Figure size 432x288 with 0 Axes>"
      ]
     },
     "metadata": {},
     "output_type": "display_data"
    },
    {
     "data": {
      "text/plain": [
       "<Figure size 432x288 with 0 Axes>"
      ]
     },
     "metadata": {},
     "output_type": "display_data"
    },
    {
     "data": {
      "text/plain": [
       "<Figure size 432x288 with 0 Axes>"
      ]
     },
     "metadata": {},
     "output_type": "display_data"
    },
    {
     "data": {
      "text/plain": [
       "<Figure size 432x288 with 0 Axes>"
      ]
     },
     "metadata": {},
     "output_type": "display_data"
    },
    {
     "data": {
      "text/plain": [
       "<Figure size 432x288 with 0 Axes>"
      ]
     },
     "metadata": {},
     "output_type": "display_data"
    },
    {
     "data": {
      "text/plain": [
       "<Figure size 432x288 with 0 Axes>"
      ]
     },
     "metadata": {},
     "output_type": "display_data"
    },
    {
     "data": {
      "text/plain": [
       "<Figure size 432x288 with 0 Axes>"
      ]
     },
     "metadata": {},
     "output_type": "display_data"
    },
    {
     "data": {
      "text/plain": [
       "<Figure size 432x288 with 0 Axes>"
      ]
     },
     "metadata": {},
     "output_type": "display_data"
    },
    {
     "data": {
      "text/plain": [
       "<Figure size 432x288 with 0 Axes>"
      ]
     },
     "metadata": {},
     "output_type": "display_data"
    },
    {
     "data": {
      "text/plain": [
       "<Figure size 432x288 with 0 Axes>"
      ]
     },
     "metadata": {},
     "output_type": "display_data"
    },
    {
     "data": {
      "text/plain": [
       "<Figure size 432x288 with 0 Axes>"
      ]
     },
     "metadata": {},
     "output_type": "display_data"
    },
    {
     "data": {
      "text/plain": [
       "<Figure size 432x288 with 0 Axes>"
      ]
     },
     "metadata": {},
     "output_type": "display_data"
    },
    {
     "data": {
      "text/plain": [
       "<Figure size 432x288 with 0 Axes>"
      ]
     },
     "metadata": {},
     "output_type": "display_data"
    },
    {
     "data": {
      "text/plain": [
       "<Figure size 432x288 with 0 Axes>"
      ]
     },
     "metadata": {},
     "output_type": "display_data"
    },
    {
     "data": {
      "text/plain": [
       "<Figure size 432x288 with 0 Axes>"
      ]
     },
     "metadata": {},
     "output_type": "display_data"
    },
    {
     "data": {
      "text/plain": [
       "<Figure size 432x288 with 0 Axes>"
      ]
     },
     "metadata": {},
     "output_type": "display_data"
    },
    {
     "data": {
      "text/plain": [
       "<Figure size 432x288 with 0 Axes>"
      ]
     },
     "metadata": {},
     "output_type": "display_data"
    },
    {
     "data": {
      "text/plain": [
       "<Figure size 432x288 with 0 Axes>"
      ]
     },
     "metadata": {},
     "output_type": "display_data"
    },
    {
     "data": {
      "text/plain": [
       "<Figure size 432x288 with 0 Axes>"
      ]
     },
     "metadata": {},
     "output_type": "display_data"
    },
    {
     "data": {
      "text/plain": [
       "<Figure size 432x288 with 0 Axes>"
      ]
     },
     "metadata": {},
     "output_type": "display_data"
    },
    {
     "data": {
      "text/plain": [
       "<Figure size 432x288 with 0 Axes>"
      ]
     },
     "metadata": {},
     "output_type": "display_data"
    },
    {
     "data": {
      "text/plain": [
       "<Figure size 432x288 with 0 Axes>"
      ]
     },
     "metadata": {},
     "output_type": "display_data"
    },
    {
     "data": {
      "text/plain": [
       "<Figure size 432x288 with 0 Axes>"
      ]
     },
     "metadata": {},
     "output_type": "display_data"
    },
    {
     "data": {
      "text/plain": [
       "<Figure size 432x288 with 0 Axes>"
      ]
     },
     "metadata": {},
     "output_type": "display_data"
    },
    {
     "data": {
      "text/plain": [
       "<Figure size 432x288 with 0 Axes>"
      ]
     },
     "metadata": {},
     "output_type": "display_data"
    },
    {
     "data": {
      "text/plain": [
       "<Figure size 432x288 with 0 Axes>"
      ]
     },
     "metadata": {},
     "output_type": "display_data"
    },
    {
     "data": {
      "text/plain": [
       "<Figure size 432x288 with 0 Axes>"
      ]
     },
     "metadata": {},
     "output_type": "display_data"
    },
    {
     "data": {
      "text/plain": [
       "<Figure size 432x288 with 0 Axes>"
      ]
     },
     "metadata": {},
     "output_type": "display_data"
    },
    {
     "data": {
      "text/plain": [
       "<Figure size 432x288 with 0 Axes>"
      ]
     },
     "metadata": {},
     "output_type": "display_data"
    },
    {
     "data": {
      "text/plain": [
       "<Figure size 432x288 with 0 Axes>"
      ]
     },
     "metadata": {},
     "output_type": "display_data"
    },
    {
     "data": {
      "text/plain": [
       "<Figure size 432x288 with 0 Axes>"
      ]
     },
     "metadata": {},
     "output_type": "display_data"
    },
    {
     "data": {
      "text/plain": [
       "<Figure size 432x288 with 0 Axes>"
      ]
     },
     "metadata": {},
     "output_type": "display_data"
    },
    {
     "data": {
      "text/plain": [
       "<Figure size 432x288 with 0 Axes>"
      ]
     },
     "metadata": {},
     "output_type": "display_data"
    },
    {
     "data": {
      "text/plain": [
       "<Figure size 432x288 with 0 Axes>"
      ]
     },
     "metadata": {},
     "output_type": "display_data"
    },
    {
     "data": {
      "text/plain": [
       "<Figure size 432x288 with 0 Axes>"
      ]
     },
     "metadata": {},
     "output_type": "display_data"
    },
    {
     "data": {
      "text/plain": [
       "<Figure size 432x288 with 0 Axes>"
      ]
     },
     "metadata": {},
     "output_type": "display_data"
    },
    {
     "data": {
      "text/plain": [
       "<Figure size 432x288 with 0 Axes>"
      ]
     },
     "metadata": {},
     "output_type": "display_data"
    },
    {
     "data": {
      "text/plain": [
       "<Figure size 432x288 with 0 Axes>"
      ]
     },
     "metadata": {},
     "output_type": "display_data"
    },
    {
     "data": {
      "text/plain": [
       "<Figure size 432x288 with 0 Axes>"
      ]
     },
     "metadata": {},
     "output_type": "display_data"
    },
    {
     "data": {
      "text/plain": [
       "<Figure size 432x288 with 0 Axes>"
      ]
     },
     "metadata": {},
     "output_type": "display_data"
    },
    {
     "data": {
      "text/plain": [
       "<Figure size 432x288 with 0 Axes>"
      ]
     },
     "metadata": {},
     "output_type": "display_data"
    },
    {
     "data": {
      "text/plain": [
       "<Figure size 432x288 with 0 Axes>"
      ]
     },
     "metadata": {},
     "output_type": "display_data"
    },
    {
     "data": {
      "text/plain": [
       "<Figure size 432x288 with 0 Axes>"
      ]
     },
     "metadata": {},
     "output_type": "display_data"
    },
    {
     "data": {
      "text/plain": [
       "<Figure size 432x288 with 0 Axes>"
      ]
     },
     "metadata": {},
     "output_type": "display_data"
    },
    {
     "data": {
      "text/plain": [
       "<Figure size 432x288 with 0 Axes>"
      ]
     },
     "metadata": {},
     "output_type": "display_data"
    },
    {
     "data": {
      "text/plain": [
       "<Figure size 432x288 with 0 Axes>"
      ]
     },
     "metadata": {},
     "output_type": "display_data"
    },
    {
     "data": {
      "text/plain": [
       "<Figure size 432x288 with 0 Axes>"
      ]
     },
     "metadata": {},
     "output_type": "display_data"
    },
    {
     "data": {
      "text/plain": [
       "<Figure size 432x288 with 0 Axes>"
      ]
     },
     "metadata": {},
     "output_type": "display_data"
    },
    {
     "data": {
      "text/plain": [
       "<Figure size 432x288 with 0 Axes>"
      ]
     },
     "metadata": {},
     "output_type": "display_data"
    },
    {
     "data": {
      "text/plain": [
       "<Figure size 432x288 with 0 Axes>"
      ]
     },
     "metadata": {},
     "output_type": "display_data"
    },
    {
     "data": {
      "text/plain": [
       "<Figure size 432x288 with 0 Axes>"
      ]
     },
     "metadata": {},
     "output_type": "display_data"
    },
    {
     "data": {
      "text/plain": [
       "<Figure size 432x288 with 0 Axes>"
      ]
     },
     "metadata": {},
     "output_type": "display_data"
    },
    {
     "data": {
      "text/plain": [
       "<Figure size 432x288 with 0 Axes>"
      ]
     },
     "metadata": {},
     "output_type": "display_data"
    },
    {
     "data": {
      "text/plain": [
       "<Figure size 432x288 with 0 Axes>"
      ]
     },
     "metadata": {},
     "output_type": "display_data"
    },
    {
     "data": {
      "text/plain": [
       "<Figure size 432x288 with 0 Axes>"
      ]
     },
     "metadata": {},
     "output_type": "display_data"
    },
    {
     "data": {
      "text/plain": [
       "<Figure size 432x288 with 0 Axes>"
      ]
     },
     "metadata": {},
     "output_type": "display_data"
    },
    {
     "data": {
      "text/plain": [
       "<Figure size 432x288 with 0 Axes>"
      ]
     },
     "metadata": {},
     "output_type": "display_data"
    },
    {
     "data": {
      "text/plain": [
       "<Figure size 432x288 with 0 Axes>"
      ]
     },
     "metadata": {},
     "output_type": "display_data"
    },
    {
     "data": {
      "text/plain": [
       "<Figure size 432x288 with 0 Axes>"
      ]
     },
     "metadata": {},
     "output_type": "display_data"
    },
    {
     "data": {
      "text/plain": [
       "<Figure size 432x288 with 0 Axes>"
      ]
     },
     "metadata": {},
     "output_type": "display_data"
    },
    {
     "data": {
      "text/plain": [
       "<Figure size 432x288 with 0 Axes>"
      ]
     },
     "metadata": {},
     "output_type": "display_data"
    },
    {
     "data": {
      "text/plain": [
       "<Figure size 432x288 with 0 Axes>"
      ]
     },
     "metadata": {},
     "output_type": "display_data"
    },
    {
     "data": {
      "text/plain": [
       "<Figure size 432x288 with 0 Axes>"
      ]
     },
     "metadata": {},
     "output_type": "display_data"
    },
    {
     "data": {
      "text/plain": [
       "<Figure size 432x288 with 0 Axes>"
      ]
     },
     "metadata": {},
     "output_type": "display_data"
    },
    {
     "data": {
      "text/plain": [
       "<Figure size 432x288 with 0 Axes>"
      ]
     },
     "metadata": {},
     "output_type": "display_data"
    },
    {
     "data": {
      "text/plain": [
       "<Figure size 432x288 with 0 Axes>"
      ]
     },
     "metadata": {},
     "output_type": "display_data"
    },
    {
     "data": {
      "text/plain": [
       "<Figure size 432x288 with 0 Axes>"
      ]
     },
     "metadata": {},
     "output_type": "display_data"
    },
    {
     "data": {
      "text/plain": [
       "<Figure size 432x288 with 0 Axes>"
      ]
     },
     "metadata": {},
     "output_type": "display_data"
    },
    {
     "data": {
      "text/plain": [
       "<Figure size 432x288 with 0 Axes>"
      ]
     },
     "metadata": {},
     "output_type": "display_data"
    },
    {
     "data": {
      "text/plain": [
       "<Figure size 432x288 with 0 Axes>"
      ]
     },
     "metadata": {},
     "output_type": "display_data"
    },
    {
     "data": {
      "text/plain": [
       "<Figure size 432x288 with 0 Axes>"
      ]
     },
     "metadata": {},
     "output_type": "display_data"
    },
    {
     "data": {
      "text/plain": [
       "<Figure size 432x288 with 0 Axes>"
      ]
     },
     "metadata": {},
     "output_type": "display_data"
    },
    {
     "data": {
      "text/plain": [
       "<Figure size 432x288 with 0 Axes>"
      ]
     },
     "metadata": {},
     "output_type": "display_data"
    },
    {
     "data": {
      "text/plain": [
       "<Figure size 432x288 with 0 Axes>"
      ]
     },
     "metadata": {},
     "output_type": "display_data"
    },
    {
     "data": {
      "text/plain": [
       "<Figure size 432x288 with 0 Axes>"
      ]
     },
     "metadata": {},
     "output_type": "display_data"
    },
    {
     "data": {
      "text/plain": [
       "<Figure size 432x288 with 0 Axes>"
      ]
     },
     "metadata": {},
     "output_type": "display_data"
    },
    {
     "data": {
      "text/plain": [
       "<Figure size 432x288 with 0 Axes>"
      ]
     },
     "metadata": {},
     "output_type": "display_data"
    },
    {
     "data": {
      "text/plain": [
       "<Figure size 432x288 with 0 Axes>"
      ]
     },
     "metadata": {},
     "output_type": "display_data"
    },
    {
     "data": {
      "text/plain": [
       "<Figure size 432x288 with 0 Axes>"
      ]
     },
     "metadata": {},
     "output_type": "display_data"
    },
    {
     "data": {
      "text/plain": [
       "<Figure size 432x288 with 0 Axes>"
      ]
     },
     "metadata": {},
     "output_type": "display_data"
    },
    {
     "data": {
      "text/plain": [
       "<Figure size 432x288 with 0 Axes>"
      ]
     },
     "metadata": {},
     "output_type": "display_data"
    },
    {
     "data": {
      "text/plain": [
       "<Figure size 432x288 with 0 Axes>"
      ]
     },
     "metadata": {},
     "output_type": "display_data"
    },
    {
     "data": {
      "text/plain": [
       "<Figure size 432x288 with 0 Axes>"
      ]
     },
     "metadata": {},
     "output_type": "display_data"
    },
    {
     "data": {
      "text/plain": [
       "<Figure size 432x288 with 0 Axes>"
      ]
     },
     "metadata": {},
     "output_type": "display_data"
    },
    {
     "data": {
      "text/plain": [
       "<Figure size 432x288 with 0 Axes>"
      ]
     },
     "metadata": {},
     "output_type": "display_data"
    },
    {
     "data": {
      "text/plain": [
       "<Figure size 432x288 with 0 Axes>"
      ]
     },
     "metadata": {},
     "output_type": "display_data"
    },
    {
     "data": {
      "text/plain": [
       "<Figure size 432x288 with 0 Axes>"
      ]
     },
     "metadata": {},
     "output_type": "display_data"
    },
    {
     "data": {
      "text/plain": [
       "<Figure size 432x288 with 0 Axes>"
      ]
     },
     "metadata": {},
     "output_type": "display_data"
    },
    {
     "data": {
      "text/plain": [
       "<Figure size 432x288 with 0 Axes>"
      ]
     },
     "metadata": {},
     "output_type": "display_data"
    },
    {
     "data": {
      "text/plain": [
       "<Figure size 432x288 with 0 Axes>"
      ]
     },
     "metadata": {},
     "output_type": "display_data"
    },
    {
     "data": {
      "text/plain": [
       "<Figure size 432x288 with 0 Axes>"
      ]
     },
     "metadata": {},
     "output_type": "display_data"
    },
    {
     "data": {
      "text/plain": [
       "<Figure size 432x288 with 0 Axes>"
      ]
     },
     "metadata": {},
     "output_type": "display_data"
    },
    {
     "data": {
      "text/plain": [
       "<Figure size 432x288 with 0 Axes>"
      ]
     },
     "metadata": {},
     "output_type": "display_data"
    },
    {
     "data": {
      "text/plain": [
       "<Figure size 432x288 with 0 Axes>"
      ]
     },
     "metadata": {},
     "output_type": "display_data"
    },
    {
     "data": {
      "text/plain": [
       "<Figure size 432x288 with 0 Axes>"
      ]
     },
     "metadata": {},
     "output_type": "display_data"
    },
    {
     "data": {
      "text/plain": [
       "<Figure size 432x288 with 0 Axes>"
      ]
     },
     "metadata": {},
     "output_type": "display_data"
    },
    {
     "data": {
      "text/plain": [
       "<Figure size 432x288 with 0 Axes>"
      ]
     },
     "metadata": {},
     "output_type": "display_data"
    },
    {
     "data": {
      "text/plain": [
       "<Figure size 432x288 with 0 Axes>"
      ]
     },
     "metadata": {},
     "output_type": "display_data"
    },
    {
     "data": {
      "text/plain": [
       "<Figure size 432x288 with 0 Axes>"
      ]
     },
     "metadata": {},
     "output_type": "display_data"
    },
    {
     "data": {
      "text/plain": [
       "<Figure size 432x288 with 0 Axes>"
      ]
     },
     "metadata": {},
     "output_type": "display_data"
    },
    {
     "data": {
      "text/plain": [
       "<Figure size 432x288 with 0 Axes>"
      ]
     },
     "metadata": {},
     "output_type": "display_data"
    },
    {
     "data": {
      "text/plain": [
       "<Figure size 432x288 with 0 Axes>"
      ]
     },
     "metadata": {},
     "output_type": "display_data"
    },
    {
     "data": {
      "text/plain": [
       "<Figure size 432x288 with 0 Axes>"
      ]
     },
     "metadata": {},
     "output_type": "display_data"
    },
    {
     "data": {
      "text/plain": [
       "<Figure size 432x288 with 0 Axes>"
      ]
     },
     "metadata": {},
     "output_type": "display_data"
    },
    {
     "data": {
      "text/plain": [
       "<Figure size 432x288 with 0 Axes>"
      ]
     },
     "metadata": {},
     "output_type": "display_data"
    },
    {
     "data": {
      "text/plain": [
       "<Figure size 432x288 with 0 Axes>"
      ]
     },
     "metadata": {},
     "output_type": "display_data"
    },
    {
     "data": {
      "text/plain": [
       "<Figure size 432x288 with 0 Axes>"
      ]
     },
     "metadata": {},
     "output_type": "display_data"
    },
    {
     "data": {
      "text/plain": [
       "<Figure size 432x288 with 0 Axes>"
      ]
     },
     "metadata": {},
     "output_type": "display_data"
    },
    {
     "data": {
      "text/plain": [
       "<Figure size 432x288 with 0 Axes>"
      ]
     },
     "metadata": {},
     "output_type": "display_data"
    },
    {
     "data": {
      "text/plain": [
       "<Figure size 432x288 with 0 Axes>"
      ]
     },
     "metadata": {},
     "output_type": "display_data"
    },
    {
     "data": {
      "text/plain": [
       "<Figure size 432x288 with 0 Axes>"
      ]
     },
     "metadata": {},
     "output_type": "display_data"
    },
    {
     "data": {
      "text/plain": [
       "<Figure size 432x288 with 0 Axes>"
      ]
     },
     "metadata": {},
     "output_type": "display_data"
    },
    {
     "data": {
      "text/plain": [
       "<Figure size 432x288 with 0 Axes>"
      ]
     },
     "metadata": {},
     "output_type": "display_data"
    },
    {
     "data": {
      "text/plain": [
       "<Figure size 432x288 with 0 Axes>"
      ]
     },
     "metadata": {},
     "output_type": "display_data"
    },
    {
     "data": {
      "text/plain": [
       "<Figure size 432x288 with 0 Axes>"
      ]
     },
     "metadata": {},
     "output_type": "display_data"
    },
    {
     "data": {
      "text/plain": [
       "<Figure size 432x288 with 0 Axes>"
      ]
     },
     "metadata": {},
     "output_type": "display_data"
    },
    {
     "data": {
      "text/plain": [
       "<Figure size 432x288 with 0 Axes>"
      ]
     },
     "metadata": {},
     "output_type": "display_data"
    },
    {
     "data": {
      "text/plain": [
       "<Figure size 432x288 with 0 Axes>"
      ]
     },
     "metadata": {},
     "output_type": "display_data"
    },
    {
     "data": {
      "text/plain": [
       "<Figure size 432x288 with 0 Axes>"
      ]
     },
     "metadata": {},
     "output_type": "display_data"
    },
    {
     "data": {
      "text/plain": [
       "<Figure size 432x288 with 0 Axes>"
      ]
     },
     "metadata": {},
     "output_type": "display_data"
    },
    {
     "data": {
      "text/plain": [
       "<Figure size 432x288 with 0 Axes>"
      ]
     },
     "metadata": {},
     "output_type": "display_data"
    },
    {
     "data": {
      "text/plain": [
       "<Figure size 432x288 with 0 Axes>"
      ]
     },
     "metadata": {},
     "output_type": "display_data"
    },
    {
     "data": {
      "text/plain": [
       "<Figure size 432x288 with 0 Axes>"
      ]
     },
     "metadata": {},
     "output_type": "display_data"
    },
    {
     "data": {
      "text/plain": [
       "<Figure size 432x288 with 0 Axes>"
      ]
     },
     "metadata": {},
     "output_type": "display_data"
    },
    {
     "data": {
      "text/plain": [
       "<Figure size 432x288 with 0 Axes>"
      ]
     },
     "metadata": {},
     "output_type": "display_data"
    },
    {
     "data": {
      "text/plain": [
       "<Figure size 432x288 with 0 Axes>"
      ]
     },
     "metadata": {},
     "output_type": "display_data"
    },
    {
     "data": {
      "text/plain": [
       "<Figure size 432x288 with 0 Axes>"
      ]
     },
     "metadata": {},
     "output_type": "display_data"
    },
    {
     "data": {
      "text/plain": [
       "<Figure size 432x288 with 0 Axes>"
      ]
     },
     "metadata": {},
     "output_type": "display_data"
    },
    {
     "data": {
      "text/plain": [
       "<Figure size 432x288 with 0 Axes>"
      ]
     },
     "metadata": {},
     "output_type": "display_data"
    },
    {
     "data": {
      "text/plain": [
       "<Figure size 432x288 with 0 Axes>"
      ]
     },
     "metadata": {},
     "output_type": "display_data"
    },
    {
     "data": {
      "text/plain": [
       "<Figure size 432x288 with 0 Axes>"
      ]
     },
     "metadata": {},
     "output_type": "display_data"
    },
    {
     "data": {
      "text/plain": [
       "<Figure size 432x288 with 0 Axes>"
      ]
     },
     "metadata": {},
     "output_type": "display_data"
    },
    {
     "data": {
      "text/plain": [
       "<Figure size 432x288 with 0 Axes>"
      ]
     },
     "metadata": {},
     "output_type": "display_data"
    },
    {
     "data": {
      "text/plain": [
       "<Figure size 432x288 with 0 Axes>"
      ]
     },
     "metadata": {},
     "output_type": "display_data"
    },
    {
     "data": {
      "text/plain": [
       "<Figure size 432x288 with 0 Axes>"
      ]
     },
     "metadata": {},
     "output_type": "display_data"
    },
    {
     "data": {
      "text/plain": [
       "<Figure size 432x288 with 0 Axes>"
      ]
     },
     "metadata": {},
     "output_type": "display_data"
    },
    {
     "data": {
      "text/plain": [
       "<Figure size 432x288 with 0 Axes>"
      ]
     },
     "metadata": {},
     "output_type": "display_data"
    },
    {
     "data": {
      "text/plain": [
       "<Figure size 432x288 with 0 Axes>"
      ]
     },
     "metadata": {},
     "output_type": "display_data"
    },
    {
     "data": {
      "text/plain": [
       "<Figure size 432x288 with 0 Axes>"
      ]
     },
     "metadata": {},
     "output_type": "display_data"
    },
    {
     "data": {
      "text/plain": [
       "<Figure size 432x288 with 0 Axes>"
      ]
     },
     "metadata": {},
     "output_type": "display_data"
    },
    {
     "data": {
      "text/plain": [
       "<Figure size 432x288 with 0 Axes>"
      ]
     },
     "metadata": {},
     "output_type": "display_data"
    },
    {
     "data": {
      "text/plain": [
       "<Figure size 432x288 with 0 Axes>"
      ]
     },
     "metadata": {},
     "output_type": "display_data"
    },
    {
     "data": {
      "text/plain": [
       "<Figure size 432x288 with 0 Axes>"
      ]
     },
     "metadata": {},
     "output_type": "display_data"
    },
    {
     "data": {
      "text/plain": [
       "<Figure size 432x288 with 0 Axes>"
      ]
     },
     "metadata": {},
     "output_type": "display_data"
    },
    {
     "data": {
      "text/plain": [
       "<Figure size 432x288 with 0 Axes>"
      ]
     },
     "metadata": {},
     "output_type": "display_data"
    },
    {
     "data": {
      "text/plain": [
       "<Figure size 432x288 with 0 Axes>"
      ]
     },
     "metadata": {},
     "output_type": "display_data"
    },
    {
     "data": {
      "text/plain": [
       "<Figure size 432x288 with 0 Axes>"
      ]
     },
     "metadata": {},
     "output_type": "display_data"
    },
    {
     "data": {
      "text/plain": [
       "<Figure size 432x288 with 0 Axes>"
      ]
     },
     "metadata": {},
     "output_type": "display_data"
    },
    {
     "data": {
      "text/plain": [
       "<Figure size 432x288 with 0 Axes>"
      ]
     },
     "metadata": {},
     "output_type": "display_data"
    },
    {
     "data": {
      "text/plain": [
       "<Figure size 432x288 with 0 Axes>"
      ]
     },
     "metadata": {},
     "output_type": "display_data"
    },
    {
     "data": {
      "text/plain": [
       "<Figure size 432x288 with 0 Axes>"
      ]
     },
     "metadata": {},
     "output_type": "display_data"
    },
    {
     "data": {
      "text/plain": [
       "<Figure size 432x288 with 0 Axes>"
      ]
     },
     "metadata": {},
     "output_type": "display_data"
    },
    {
     "data": {
      "text/plain": [
       "<Figure size 432x288 with 0 Axes>"
      ]
     },
     "metadata": {},
     "output_type": "display_data"
    },
    {
     "data": {
      "text/plain": [
       "<Figure size 432x288 with 0 Axes>"
      ]
     },
     "metadata": {},
     "output_type": "display_data"
    },
    {
     "data": {
      "text/plain": [
       "<Figure size 432x288 with 0 Axes>"
      ]
     },
     "metadata": {},
     "output_type": "display_data"
    },
    {
     "data": {
      "text/plain": [
       "<Figure size 432x288 with 0 Axes>"
      ]
     },
     "metadata": {},
     "output_type": "display_data"
    },
    {
     "data": {
      "text/plain": [
       "<Figure size 432x288 with 0 Axes>"
      ]
     },
     "metadata": {},
     "output_type": "display_data"
    },
    {
     "data": {
      "text/plain": [
       "<Figure size 432x288 with 0 Axes>"
      ]
     },
     "metadata": {},
     "output_type": "display_data"
    },
    {
     "data": {
      "text/plain": [
       "<Figure size 432x288 with 0 Axes>"
      ]
     },
     "metadata": {},
     "output_type": "display_data"
    },
    {
     "data": {
      "text/plain": [
       "<Figure size 432x288 with 0 Axes>"
      ]
     },
     "metadata": {},
     "output_type": "display_data"
    },
    {
     "data": {
      "text/plain": [
       "<Figure size 432x288 with 0 Axes>"
      ]
     },
     "metadata": {},
     "output_type": "display_data"
    },
    {
     "data": {
      "text/plain": [
       "<Figure size 432x288 with 0 Axes>"
      ]
     },
     "metadata": {},
     "output_type": "display_data"
    },
    {
     "data": {
      "text/plain": [
       "<Figure size 432x288 with 0 Axes>"
      ]
     },
     "metadata": {},
     "output_type": "display_data"
    },
    {
     "data": {
      "text/plain": [
       "<Figure size 432x288 with 0 Axes>"
      ]
     },
     "metadata": {},
     "output_type": "display_data"
    },
    {
     "data": {
      "text/plain": [
       "<Figure size 432x288 with 0 Axes>"
      ]
     },
     "metadata": {},
     "output_type": "display_data"
    },
    {
     "data": {
      "text/plain": [
       "<Figure size 432x288 with 0 Axes>"
      ]
     },
     "metadata": {},
     "output_type": "display_data"
    },
    {
     "data": {
      "text/plain": [
       "<Figure size 432x288 with 0 Axes>"
      ]
     },
     "metadata": {},
     "output_type": "display_data"
    },
    {
     "data": {
      "text/plain": [
       "<Figure size 432x288 with 0 Axes>"
      ]
     },
     "metadata": {},
     "output_type": "display_data"
    },
    {
     "data": {
      "text/plain": [
       "<Figure size 432x288 with 0 Axes>"
      ]
     },
     "metadata": {},
     "output_type": "display_data"
    },
    {
     "data": {
      "text/plain": [
       "<Figure size 432x288 with 0 Axes>"
      ]
     },
     "metadata": {},
     "output_type": "display_data"
    },
    {
     "data": {
      "text/plain": [
       "<Figure size 432x288 with 0 Axes>"
      ]
     },
     "metadata": {},
     "output_type": "display_data"
    },
    {
     "data": {
      "text/plain": [
       "<Figure size 432x288 with 0 Axes>"
      ]
     },
     "metadata": {},
     "output_type": "display_data"
    },
    {
     "data": {
      "text/plain": [
       "<Figure size 432x288 with 0 Axes>"
      ]
     },
     "metadata": {},
     "output_type": "display_data"
    },
    {
     "data": {
      "text/plain": [
       "<Figure size 432x288 with 0 Axes>"
      ]
     },
     "metadata": {},
     "output_type": "display_data"
    },
    {
     "data": {
      "text/plain": [
       "<Figure size 432x288 with 0 Axes>"
      ]
     },
     "metadata": {},
     "output_type": "display_data"
    },
    {
     "data": {
      "text/plain": [
       "<Figure size 432x288 with 0 Axes>"
      ]
     },
     "metadata": {},
     "output_type": "display_data"
    },
    {
     "data": {
      "text/plain": [
       "<Figure size 432x288 with 0 Axes>"
      ]
     },
     "metadata": {},
     "output_type": "display_data"
    },
    {
     "data": {
      "text/plain": [
       "<Figure size 432x288 with 0 Axes>"
      ]
     },
     "metadata": {},
     "output_type": "display_data"
    },
    {
     "data": {
      "text/plain": [
       "<Figure size 432x288 with 0 Axes>"
      ]
     },
     "metadata": {},
     "output_type": "display_data"
    },
    {
     "data": {
      "text/plain": [
       "<Figure size 432x288 with 0 Axes>"
      ]
     },
     "metadata": {},
     "output_type": "display_data"
    },
    {
     "data": {
      "text/plain": [
       "<Figure size 432x288 with 0 Axes>"
      ]
     },
     "metadata": {},
     "output_type": "display_data"
    },
    {
     "data": {
      "text/plain": [
       "<Figure size 432x288 with 0 Axes>"
      ]
     },
     "metadata": {},
     "output_type": "display_data"
    },
    {
     "data": {
      "text/plain": [
       "<Figure size 432x288 with 0 Axes>"
      ]
     },
     "metadata": {},
     "output_type": "display_data"
    },
    {
     "data": {
      "text/plain": [
       "<Figure size 432x288 with 0 Axes>"
      ]
     },
     "metadata": {},
     "output_type": "display_data"
    },
    {
     "data": {
      "text/plain": [
       "<Figure size 432x288 with 0 Axes>"
      ]
     },
     "metadata": {},
     "output_type": "display_data"
    },
    {
     "data": {
      "text/plain": [
       "<Figure size 432x288 with 0 Axes>"
      ]
     },
     "metadata": {},
     "output_type": "display_data"
    },
    {
     "data": {
      "text/plain": [
       "<Figure size 432x288 with 0 Axes>"
      ]
     },
     "metadata": {},
     "output_type": "display_data"
    },
    {
     "data": {
      "text/plain": [
       "<Figure size 432x288 with 0 Axes>"
      ]
     },
     "metadata": {},
     "output_type": "display_data"
    },
    {
     "data": {
      "text/plain": [
       "<Figure size 432x288 with 0 Axes>"
      ]
     },
     "metadata": {},
     "output_type": "display_data"
    },
    {
     "data": {
      "text/plain": [
       "<Figure size 432x288 with 0 Axes>"
      ]
     },
     "metadata": {},
     "output_type": "display_data"
    },
    {
     "data": {
      "text/plain": [
       "<Figure size 432x288 with 0 Axes>"
      ]
     },
     "metadata": {},
     "output_type": "display_data"
    },
    {
     "data": {
      "text/plain": [
       "<Figure size 432x288 with 0 Axes>"
      ]
     },
     "metadata": {},
     "output_type": "display_data"
    },
    {
     "data": {
      "text/plain": [
       "<Figure size 432x288 with 0 Axes>"
      ]
     },
     "metadata": {},
     "output_type": "display_data"
    },
    {
     "data": {
      "text/plain": [
       "<Figure size 432x288 with 0 Axes>"
      ]
     },
     "metadata": {},
     "output_type": "display_data"
    },
    {
     "data": {
      "text/plain": [
       "<Figure size 432x288 with 0 Axes>"
      ]
     },
     "metadata": {},
     "output_type": "display_data"
    },
    {
     "data": {
      "text/plain": [
       "<Figure size 432x288 with 0 Axes>"
      ]
     },
     "metadata": {},
     "output_type": "display_data"
    },
    {
     "data": {
      "text/plain": [
       "<Figure size 432x288 with 0 Axes>"
      ]
     },
     "metadata": {},
     "output_type": "display_data"
    },
    {
     "data": {
      "text/plain": [
       "<Figure size 432x288 with 0 Axes>"
      ]
     },
     "metadata": {},
     "output_type": "display_data"
    },
    {
     "data": {
      "text/plain": [
       "<Figure size 432x288 with 0 Axes>"
      ]
     },
     "metadata": {},
     "output_type": "display_data"
    },
    {
     "data": {
      "text/plain": [
       "<Figure size 432x288 with 0 Axes>"
      ]
     },
     "metadata": {},
     "output_type": "display_data"
    },
    {
     "data": {
      "text/plain": [
       "<Figure size 432x288 with 0 Axes>"
      ]
     },
     "metadata": {},
     "output_type": "display_data"
    },
    {
     "data": {
      "text/plain": [
       "<Figure size 432x288 with 0 Axes>"
      ]
     },
     "metadata": {},
     "output_type": "display_data"
    },
    {
     "data": {
      "text/plain": [
       "<Figure size 432x288 with 0 Axes>"
      ]
     },
     "metadata": {},
     "output_type": "display_data"
    },
    {
     "data": {
      "text/plain": [
       "<Figure size 432x288 with 0 Axes>"
      ]
     },
     "metadata": {},
     "output_type": "display_data"
    },
    {
     "data": {
      "text/plain": [
       "<Figure size 432x288 with 0 Axes>"
      ]
     },
     "metadata": {},
     "output_type": "display_data"
    },
    {
     "data": {
      "text/plain": [
       "<Figure size 432x288 with 0 Axes>"
      ]
     },
     "metadata": {},
     "output_type": "display_data"
    },
    {
     "data": {
      "text/plain": [
       "<Figure size 432x288 with 0 Axes>"
      ]
     },
     "metadata": {},
     "output_type": "display_data"
    },
    {
     "data": {
      "text/plain": [
       "<Figure size 432x288 with 0 Axes>"
      ]
     },
     "metadata": {},
     "output_type": "display_data"
    },
    {
     "data": {
      "text/plain": [
       "<Figure size 432x288 with 0 Axes>"
      ]
     },
     "metadata": {},
     "output_type": "display_data"
    },
    {
     "data": {
      "text/plain": [
       "<Figure size 432x288 with 0 Axes>"
      ]
     },
     "metadata": {},
     "output_type": "display_data"
    },
    {
     "data": {
      "text/plain": [
       "<Figure size 432x288 with 0 Axes>"
      ]
     },
     "metadata": {},
     "output_type": "display_data"
    },
    {
     "data": {
      "text/plain": [
       "<Figure size 432x288 with 0 Axes>"
      ]
     },
     "metadata": {},
     "output_type": "display_data"
    },
    {
     "data": {
      "text/plain": [
       "<Figure size 432x288 with 0 Axes>"
      ]
     },
     "metadata": {},
     "output_type": "display_data"
    },
    {
     "data": {
      "text/plain": [
       "<Figure size 432x288 with 0 Axes>"
      ]
     },
     "metadata": {},
     "output_type": "display_data"
    },
    {
     "data": {
      "text/plain": [
       "<Figure size 432x288 with 0 Axes>"
      ]
     },
     "metadata": {},
     "output_type": "display_data"
    },
    {
     "data": {
      "text/plain": [
       "<Figure size 432x288 with 0 Axes>"
      ]
     },
     "metadata": {},
     "output_type": "display_data"
    },
    {
     "data": {
      "text/plain": [
       "<Figure size 432x288 with 0 Axes>"
      ]
     },
     "metadata": {},
     "output_type": "display_data"
    },
    {
     "data": {
      "text/plain": [
       "<Figure size 432x288 with 0 Axes>"
      ]
     },
     "metadata": {},
     "output_type": "display_data"
    },
    {
     "data": {
      "text/plain": [
       "<Figure size 432x288 with 0 Axes>"
      ]
     },
     "metadata": {},
     "output_type": "display_data"
    },
    {
     "data": {
      "text/plain": [
       "<Figure size 432x288 with 0 Axes>"
      ]
     },
     "metadata": {},
     "output_type": "display_data"
    },
    {
     "data": {
      "text/plain": [
       "<Figure size 432x288 with 0 Axes>"
      ]
     },
     "metadata": {},
     "output_type": "display_data"
    },
    {
     "data": {
      "text/plain": [
       "<Figure size 432x288 with 0 Axes>"
      ]
     },
     "metadata": {},
     "output_type": "display_data"
    },
    {
     "data": {
      "text/plain": [
       "<Figure size 432x288 with 0 Axes>"
      ]
     },
     "metadata": {},
     "output_type": "display_data"
    },
    {
     "data": {
      "text/plain": [
       "<Figure size 432x288 with 0 Axes>"
      ]
     },
     "metadata": {},
     "output_type": "display_data"
    },
    {
     "data": {
      "text/plain": [
       "<Figure size 432x288 with 0 Axes>"
      ]
     },
     "metadata": {},
     "output_type": "display_data"
    },
    {
     "data": {
      "text/plain": [
       "<Figure size 432x288 with 0 Axes>"
      ]
     },
     "metadata": {},
     "output_type": "display_data"
    },
    {
     "data": {
      "text/plain": [
       "<Figure size 432x288 with 0 Axes>"
      ]
     },
     "metadata": {},
     "output_type": "display_data"
    },
    {
     "data": {
      "text/plain": [
       "<Figure size 432x288 with 0 Axes>"
      ]
     },
     "metadata": {},
     "output_type": "display_data"
    },
    {
     "data": {
      "text/plain": [
       "<Figure size 432x288 with 0 Axes>"
      ]
     },
     "metadata": {},
     "output_type": "display_data"
    },
    {
     "data": {
      "text/plain": [
       "<Figure size 432x288 with 0 Axes>"
      ]
     },
     "metadata": {},
     "output_type": "display_data"
    },
    {
     "data": {
      "text/plain": [
       "<Figure size 432x288 with 0 Axes>"
      ]
     },
     "metadata": {},
     "output_type": "display_data"
    },
    {
     "data": {
      "text/plain": [
       "<Figure size 432x288 with 0 Axes>"
      ]
     },
     "metadata": {},
     "output_type": "display_data"
    },
    {
     "data": {
      "text/plain": [
       "<Figure size 432x288 with 0 Axes>"
      ]
     },
     "metadata": {},
     "output_type": "display_data"
    },
    {
     "data": {
      "text/plain": [
       "<Figure size 432x288 with 0 Axes>"
      ]
     },
     "metadata": {},
     "output_type": "display_data"
    },
    {
     "data": {
      "text/plain": [
       "<Figure size 432x288 with 0 Axes>"
      ]
     },
     "metadata": {},
     "output_type": "display_data"
    },
    {
     "data": {
      "text/plain": [
       "<Figure size 432x288 with 0 Axes>"
      ]
     },
     "metadata": {},
     "output_type": "display_data"
    },
    {
     "data": {
      "text/plain": [
       "<Figure size 432x288 with 0 Axes>"
      ]
     },
     "metadata": {},
     "output_type": "display_data"
    },
    {
     "data": {
      "text/plain": [
       "<Figure size 432x288 with 0 Axes>"
      ]
     },
     "metadata": {},
     "output_type": "display_data"
    },
    {
     "data": {
      "text/plain": [
       "<Figure size 432x288 with 0 Axes>"
      ]
     },
     "metadata": {},
     "output_type": "display_data"
    },
    {
     "data": {
      "text/plain": [
       "<Figure size 432x288 with 0 Axes>"
      ]
     },
     "metadata": {},
     "output_type": "display_data"
    },
    {
     "data": {
      "text/plain": [
       "<Figure size 432x288 with 0 Axes>"
      ]
     },
     "metadata": {},
     "output_type": "display_data"
    },
    {
     "data": {
      "text/plain": [
       "<Figure size 432x288 with 0 Axes>"
      ]
     },
     "metadata": {},
     "output_type": "display_data"
    },
    {
     "data": {
      "text/plain": [
       "<Figure size 432x288 with 0 Axes>"
      ]
     },
     "metadata": {},
     "output_type": "display_data"
    },
    {
     "data": {
      "text/plain": [
       "<Figure size 432x288 with 0 Axes>"
      ]
     },
     "metadata": {},
     "output_type": "display_data"
    },
    {
     "data": {
      "text/plain": [
       "<Figure size 432x288 with 0 Axes>"
      ]
     },
     "metadata": {},
     "output_type": "display_data"
    },
    {
     "data": {
      "text/plain": [
       "<Figure size 432x288 with 0 Axes>"
      ]
     },
     "metadata": {},
     "output_type": "display_data"
    },
    {
     "data": {
      "text/plain": [
       "<Figure size 432x288 with 0 Axes>"
      ]
     },
     "metadata": {},
     "output_type": "display_data"
    },
    {
     "data": {
      "text/plain": [
       "<Figure size 432x288 with 0 Axes>"
      ]
     },
     "metadata": {},
     "output_type": "display_data"
    },
    {
     "data": {
      "text/plain": [
       "<Figure size 432x288 with 0 Axes>"
      ]
     },
     "metadata": {},
     "output_type": "display_data"
    },
    {
     "data": {
      "text/plain": [
       "<Figure size 432x288 with 0 Axes>"
      ]
     },
     "metadata": {},
     "output_type": "display_data"
    },
    {
     "data": {
      "text/plain": [
       "<Figure size 432x288 with 0 Axes>"
      ]
     },
     "metadata": {},
     "output_type": "display_data"
    },
    {
     "data": {
      "text/plain": [
       "<Figure size 432x288 with 0 Axes>"
      ]
     },
     "metadata": {},
     "output_type": "display_data"
    }
   ],
   "source": [
    "# Create Figure\n",
    "\n",
    "fig = plt.figure(figsize = (12, 10))\n",
    "ax = plt.axes(projection =\"3d\")\n",
    " \n",
    "# Create Plot\n",
    "\n",
    "ax.scatter3D(lda_df_tsne[0], lda_df_tsne[1], lda_df_tsne[2], c=topics, cmap = plt.cm.Accent)\n",
    "\n",
    "# 360 Degree view\n",
    "for angle in range(0, 360):\n",
    "    ax.view_init(angle, 30)\n",
    "    plt.draw()\n",
    "    plt.pause(.001)\n",
    "\n",
    "plt.show()"
   ]
  },
  {
   "cell_type": "markdown",
   "id": "797fd823-d9a3-4d25-a5f3-5b8cdceff0d0",
   "metadata": {},
   "source": [
    "It's a little difficult to discern the gray cluster in relation to the other four, but we seem to be avoiding the kind of obvious errors that could be seen the 2D, untuned model."
   ]
  },
  {
   "cell_type": "code",
   "execution_count": 73,
   "id": "4e624c3b-39ab-459c-85be-eecb6ae12db5",
   "metadata": {},
   "outputs": [
    {
     "data": {
      "text/html": [
       "<div>\n",
       "<style scoped>\n",
       "    .dataframe tbody tr th:only-of-type {\n",
       "        vertical-align: middle;\n",
       "    }\n",
       "\n",
       "    .dataframe tbody tr th {\n",
       "        vertical-align: top;\n",
       "    }\n",
       "\n",
       "    .dataframe thead th {\n",
       "        text-align: right;\n",
       "    }\n",
       "</style>\n",
       "<table border=\"1\" class=\"dataframe\">\n",
       "  <thead>\n",
       "    <tr style=\"text-align: right;\">\n",
       "      <th></th>\n",
       "      <th>InvoiceNo</th>\n",
       "      <th>StockCode</th>\n",
       "      <th>Quantity</th>\n",
       "      <th>UnitPrice</th>\n",
       "      <th>CustomerID</th>\n",
       "      <th>Country</th>\n",
       "      <th>Sale_Total</th>\n",
       "      <th>cleaned_description</th>\n",
       "      <th>segment</th>\n",
       "    </tr>\n",
       "  </thead>\n",
       "  <tbody>\n",
       "    <tr>\n",
       "      <th>0</th>\n",
       "      <td>536365.0</td>\n",
       "      <td>85123A</td>\n",
       "      <td>6.0</td>\n",
       "      <td>2.55</td>\n",
       "      <td>17850.0</td>\n",
       "      <td>United Kingdom</td>\n",
       "      <td>15.30</td>\n",
       "      <td>hanging heart tlight holder</td>\n",
       "      <td>0</td>\n",
       "    </tr>\n",
       "    <tr>\n",
       "      <th>1</th>\n",
       "      <td>536365.0</td>\n",
       "      <td>71053.0</td>\n",
       "      <td>6.0</td>\n",
       "      <td>3.39</td>\n",
       "      <td>17850.0</td>\n",
       "      <td>United Kingdom</td>\n",
       "      <td>20.34</td>\n",
       "      <td>metal lantern</td>\n",
       "      <td>0</td>\n",
       "    </tr>\n",
       "    <tr>\n",
       "      <th>2</th>\n",
       "      <td>536365.0</td>\n",
       "      <td>84406B</td>\n",
       "      <td>8.0</td>\n",
       "      <td>2.75</td>\n",
       "      <td>17850.0</td>\n",
       "      <td>United Kingdom</td>\n",
       "      <td>22.00</td>\n",
       "      <td>cream cupid heart coat hanger</td>\n",
       "      <td>0</td>\n",
       "    </tr>\n",
       "    <tr>\n",
       "      <th>3</th>\n",
       "      <td>536365.0</td>\n",
       "      <td>84029G</td>\n",
       "      <td>6.0</td>\n",
       "      <td>3.39</td>\n",
       "      <td>17850.0</td>\n",
       "      <td>United Kingdom</td>\n",
       "      <td>20.34</td>\n",
       "      <td>knitted union flag hot water bottle</td>\n",
       "      <td>3</td>\n",
       "    </tr>\n",
       "    <tr>\n",
       "      <th>4</th>\n",
       "      <td>536365.0</td>\n",
       "      <td>84029E</td>\n",
       "      <td>6.0</td>\n",
       "      <td>3.39</td>\n",
       "      <td>17850.0</td>\n",
       "      <td>United Kingdom</td>\n",
       "      <td>20.34</td>\n",
       "      <td>woolly hottie heart</td>\n",
       "      <td>4</td>\n",
       "    </tr>\n",
       "    <tr>\n",
       "      <th>5</th>\n",
       "      <td>536365.0</td>\n",
       "      <td>22752.0</td>\n",
       "      <td>2.0</td>\n",
       "      <td>7.65</td>\n",
       "      <td>17850.0</td>\n",
       "      <td>United Kingdom</td>\n",
       "      <td>15.30</td>\n",
       "      <td>babushka nesting box</td>\n",
       "      <td>1</td>\n",
       "    </tr>\n",
       "    <tr>\n",
       "      <th>6</th>\n",
       "      <td>536365.0</td>\n",
       "      <td>21730.0</td>\n",
       "      <td>6.0</td>\n",
       "      <td>4.25</td>\n",
       "      <td>17850.0</td>\n",
       "      <td>United Kingdom</td>\n",
       "      <td>25.50</td>\n",
       "      <td>glass star frosted tlight holder</td>\n",
       "      <td>0</td>\n",
       "    </tr>\n",
       "    <tr>\n",
       "      <th>7</th>\n",
       "      <td>536366.0</td>\n",
       "      <td>22633.0</td>\n",
       "      <td>6.0</td>\n",
       "      <td>1.85</td>\n",
       "      <td>17850.0</td>\n",
       "      <td>United Kingdom</td>\n",
       "      <td>11.10</td>\n",
       "      <td>hand warmer union jack</td>\n",
       "      <td>3</td>\n",
       "    </tr>\n",
       "    <tr>\n",
       "      <th>8</th>\n",
       "      <td>536367.0</td>\n",
       "      <td>84879.0</td>\n",
       "      <td>32.0</td>\n",
       "      <td>1.69</td>\n",
       "      <td>13047.0</td>\n",
       "      <td>United Kingdom</td>\n",
       "      <td>54.08</td>\n",
       "      <td>assorted colour bird ornament</td>\n",
       "      <td>2</td>\n",
       "    </tr>\n",
       "    <tr>\n",
       "      <th>9</th>\n",
       "      <td>536367.0</td>\n",
       "      <td>22745.0</td>\n",
       "      <td>6.0</td>\n",
       "      <td>2.10</td>\n",
       "      <td>13047.0</td>\n",
       "      <td>United Kingdom</td>\n",
       "      <td>12.60</td>\n",
       "      <td>poppy playhouse bedroom</td>\n",
       "      <td>1</td>\n",
       "    </tr>\n",
       "    <tr>\n",
       "      <th>10</th>\n",
       "      <td>536367.0</td>\n",
       "      <td>22748.0</td>\n",
       "      <td>6.0</td>\n",
       "      <td>2.10</td>\n",
       "      <td>13047.0</td>\n",
       "      <td>United Kingdom</td>\n",
       "      <td>12.60</td>\n",
       "      <td>poppy playhouse kitchen</td>\n",
       "      <td>2</td>\n",
       "    </tr>\n",
       "    <tr>\n",
       "      <th>11</th>\n",
       "      <td>536367.0</td>\n",
       "      <td>22749.0</td>\n",
       "      <td>8.0</td>\n",
       "      <td>3.75</td>\n",
       "      <td>13047.0</td>\n",
       "      <td>United Kingdom</td>\n",
       "      <td>30.00</td>\n",
       "      <td>feltcraft princess charlotte doll</td>\n",
       "      <td>3</td>\n",
       "    </tr>\n",
       "    <tr>\n",
       "      <th>12</th>\n",
       "      <td>536367.0</td>\n",
       "      <td>22310.0</td>\n",
       "      <td>6.0</td>\n",
       "      <td>1.65</td>\n",
       "      <td>13047.0</td>\n",
       "      <td>United Kingdom</td>\n",
       "      <td>9.90</td>\n",
       "      <td>ivory knitted mug cosy</td>\n",
       "      <td>4</td>\n",
       "    </tr>\n",
       "    <tr>\n",
       "      <th>13</th>\n",
       "      <td>536367.0</td>\n",
       "      <td>84969.0</td>\n",
       "      <td>6.0</td>\n",
       "      <td>4.25</td>\n",
       "      <td>13047.0</td>\n",
       "      <td>United Kingdom</td>\n",
       "      <td>25.50</td>\n",
       "      <td>box assorted colour teaspoon</td>\n",
       "      <td>0</td>\n",
       "    </tr>\n",
       "    <tr>\n",
       "      <th>14</th>\n",
       "      <td>536367.0</td>\n",
       "      <td>22623.0</td>\n",
       "      <td>3.0</td>\n",
       "      <td>4.95</td>\n",
       "      <td>13047.0</td>\n",
       "      <td>United Kingdom</td>\n",
       "      <td>14.85</td>\n",
       "      <td>box vintage jigsaw block</td>\n",
       "      <td>3</td>\n",
       "    </tr>\n",
       "    <tr>\n",
       "      <th>15</th>\n",
       "      <td>536367.0</td>\n",
       "      <td>22622.0</td>\n",
       "      <td>2.0</td>\n",
       "      <td>9.95</td>\n",
       "      <td>13047.0</td>\n",
       "      <td>United Kingdom</td>\n",
       "      <td>19.90</td>\n",
       "      <td>box vintage alphabet block</td>\n",
       "      <td>3</td>\n",
       "    </tr>\n",
       "    <tr>\n",
       "      <th>16</th>\n",
       "      <td>536367.0</td>\n",
       "      <td>21754.0</td>\n",
       "      <td>3.0</td>\n",
       "      <td>5.95</td>\n",
       "      <td>13047.0</td>\n",
       "      <td>United Kingdom</td>\n",
       "      <td>17.85</td>\n",
       "      <td>home building block word</td>\n",
       "      <td>3</td>\n",
       "    </tr>\n",
       "    <tr>\n",
       "      <th>17</th>\n",
       "      <td>536367.0</td>\n",
       "      <td>21755.0</td>\n",
       "      <td>3.0</td>\n",
       "      <td>5.95</td>\n",
       "      <td>13047.0</td>\n",
       "      <td>United Kingdom</td>\n",
       "      <td>17.85</td>\n",
       "      <td>love building block word</td>\n",
       "      <td>3</td>\n",
       "    </tr>\n",
       "    <tr>\n",
       "      <th>18</th>\n",
       "      <td>536367.0</td>\n",
       "      <td>21777.0</td>\n",
       "      <td>4.0</td>\n",
       "      <td>7.95</td>\n",
       "      <td>13047.0</td>\n",
       "      <td>United Kingdom</td>\n",
       "      <td>31.80</td>\n",
       "      <td>recipe box metal heart</td>\n",
       "      <td>0</td>\n",
       "    </tr>\n",
       "    <tr>\n",
       "      <th>19</th>\n",
       "      <td>536367.0</td>\n",
       "      <td>48187.0</td>\n",
       "      <td>4.0</td>\n",
       "      <td>7.95</td>\n",
       "      <td>13047.0</td>\n",
       "      <td>United Kingdom</td>\n",
       "      <td>31.80</td>\n",
       "      <td>doormat new england</td>\n",
       "      <td>3</td>\n",
       "    </tr>\n",
       "  </tbody>\n",
       "</table>\n",
       "</div>"
      ],
      "text/plain": [
       "    InvoiceNo StockCode  Quantity  UnitPrice  CustomerID         Country  \\\n",
       "0    536365.0    85123A       6.0       2.55     17850.0  United Kingdom   \n",
       "1    536365.0   71053.0       6.0       3.39     17850.0  United Kingdom   \n",
       "2    536365.0    84406B       8.0       2.75     17850.0  United Kingdom   \n",
       "3    536365.0    84029G       6.0       3.39     17850.0  United Kingdom   \n",
       "4    536365.0    84029E       6.0       3.39     17850.0  United Kingdom   \n",
       "5    536365.0   22752.0       2.0       7.65     17850.0  United Kingdom   \n",
       "6    536365.0   21730.0       6.0       4.25     17850.0  United Kingdom   \n",
       "7    536366.0   22633.0       6.0       1.85     17850.0  United Kingdom   \n",
       "8    536367.0   84879.0      32.0       1.69     13047.0  United Kingdom   \n",
       "9    536367.0   22745.0       6.0       2.10     13047.0  United Kingdom   \n",
       "10   536367.0   22748.0       6.0       2.10     13047.0  United Kingdom   \n",
       "11   536367.0   22749.0       8.0       3.75     13047.0  United Kingdom   \n",
       "12   536367.0   22310.0       6.0       1.65     13047.0  United Kingdom   \n",
       "13   536367.0   84969.0       6.0       4.25     13047.0  United Kingdom   \n",
       "14   536367.0   22623.0       3.0       4.95     13047.0  United Kingdom   \n",
       "15   536367.0   22622.0       2.0       9.95     13047.0  United Kingdom   \n",
       "16   536367.0   21754.0       3.0       5.95     13047.0  United Kingdom   \n",
       "17   536367.0   21755.0       3.0       5.95     13047.0  United Kingdom   \n",
       "18   536367.0   21777.0       4.0       7.95     13047.0  United Kingdom   \n",
       "19   536367.0   48187.0       4.0       7.95     13047.0  United Kingdom   \n",
       "\n",
       "    Sale_Total                  cleaned_description  segment  \n",
       "0        15.30          hanging heart tlight holder        0  \n",
       "1        20.34                        metal lantern        0  \n",
       "2        22.00        cream cupid heart coat hanger        0  \n",
       "3        20.34  knitted union flag hot water bottle        3  \n",
       "4        20.34                  woolly hottie heart        4  \n",
       "5        15.30                 babushka nesting box        1  \n",
       "6        25.50     glass star frosted tlight holder        0  \n",
       "7        11.10               hand warmer union jack        3  \n",
       "8        54.08        assorted colour bird ornament        2  \n",
       "9        12.60              poppy playhouse bedroom        1  \n",
       "10       12.60              poppy playhouse kitchen        2  \n",
       "11       30.00    feltcraft princess charlotte doll        3  \n",
       "12        9.90               ivory knitted mug cosy        4  \n",
       "13       25.50         box assorted colour teaspoon        0  \n",
       "14       14.85             box vintage jigsaw block        3  \n",
       "15       19.90           box vintage alphabet block        3  \n",
       "16       17.85             home building block word        3  \n",
       "17       17.85             love building block word        3  \n",
       "18       31.80               recipe box metal heart        0  \n",
       "19       31.80                  doormat new england        3  "
      ]
     },
     "execution_count": 73,
     "metadata": {},
     "output_type": "execute_result"
    }
   ],
   "source": [
    "df.head(20)"
   ]
  },
  {
   "cell_type": "code",
   "execution_count": 72,
   "id": "91bff787-cb7a-45f8-80bd-a8f8a0f0364c",
   "metadata": {},
   "outputs": [],
   "source": [
    "df= df.drop(columns = 'topic')"
   ]
  },
  {
   "cell_type": "code",
   "execution_count": 74,
   "id": "8b099701-6c85-4181-9a03-51b681a0c377",
   "metadata": {},
   "outputs": [],
   "source": [
    "#export tidy dataframe\n",
    "df.to_csv('./segments_df.csv', index= False)"
   ]
  },
  {
   "cell_type": "markdown",
   "id": "6b963474-f02f-43a7-9718-fb39fdc6c44e",
   "metadata": {},
   "source": [
    "### Conclusion:\n",
    "\n",
    "The clustering analyses I have attempted did not yield any obvious answers about how to segment the business. This is not that suprising given how short the descriptions are and how many items that could fall into multiple categories (e.g. does a Christmas card fall count as a holiday item? Stationary? Something else?). HDBSCAN offered the least insight, as the two outcomes it gave based on different parameters were either lumping almost everything into a single category, or creating hundreds of clusters. Modeling with Gensim suggested either 3 or 8 clusters based on coherence scores. However, when I examined the groups that came out of the gensim model, they seemed slightly more arbitrary than those produced by an LDA model.\n",
    "\n",
    "Having set realistic expectations for my segments, the best option was a 5 cluster LDA model. Five segments was in the sweet spot in terms of finding various potential aspects of the business, while not breaking it into so many sections that it would be cumbersome to model and monitor all of them. While the nature of the data meant that grouping was inherently going to be blurry, after tuning the batch size and maximum iterations the groupings made some sense (though a little imagination and leeway is needed). I then used 3D graphing to verify that, insofar as the descriptions could be represented numerically, the model was clustering well. "
   ]
  },
  {
   "cell_type": "markdown",
   "id": "c5ddb0c7-94e3-4eb8-a3d3-a5e31f709907",
   "metadata": {},
   "source": [
    "### Citations"
   ]
  },
  {
   "cell_type": "markdown",
   "id": "ab524f3b-8a98-4d05-ba10-1c3b821ea632",
   "metadata": {},
   "source": [
    "A great deal of this work was adopted from a project by David Borelli. I have linked his write up and github below.\n",
    "\n",
    "https://towardsdatascience.com/clustering-sentence-embeddings-to-identify-intents-in-short-text-48d22d3bf02e\n",
    "https://github.com/dborrelli/chat-intents"
   ]
  }
 ],
 "metadata": {
  "kernelspec": {
   "display_name": "Python 3 (ipykernel)",
   "language": "python",
   "name": "python3"
  },
  "language_info": {
   "codemirror_mode": {
    "name": "ipython",
    "version": 3
   },
   "file_extension": ".py",
   "mimetype": "text/x-python",
   "name": "python",
   "nbconvert_exporter": "python",
   "pygments_lexer": "ipython3",
   "version": "3.9.12"
  }
 },
 "nbformat": 4,
 "nbformat_minor": 5
}
