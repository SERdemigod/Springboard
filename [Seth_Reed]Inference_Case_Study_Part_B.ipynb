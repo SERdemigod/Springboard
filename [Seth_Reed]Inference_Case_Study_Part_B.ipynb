{
 "cells": [
  {
   "cell_type": "markdown",
   "metadata": {},
   "source": [
    "# Frequentist Inference Case Study - Part B"
   ]
  },
  {
   "cell_type": "markdown",
   "metadata": {},
   "source": [
    "## Learning objectives"
   ]
  },
  {
   "cell_type": "markdown",
   "metadata": {},
   "source": [
    "Welcome to Part B of the Frequentist inference case study! The purpose of this case study is to help you apply the concepts associated with Frequentist inference in Python. In particular, you'll practice writing Python code to apply the following statistical concepts: \n",
    "* the _z_-statistic\n",
    "* the _t_-statistic\n",
    "* the difference and relationship between the two\n",
    "* the Central Limit Theorem, including its assumptions and consequences\n",
    "* how to estimate the population mean and standard deviation from a sample\n",
    "* the concept of a sampling distribution of a test statistic, particularly for the mean\n",
    "* how to combine these concepts to calculate a confidence interval"
   ]
  },
  {
   "cell_type": "markdown",
   "metadata": {},
   "source": [
    "In the previous notebook, we used only data from a known normal distribution. **You'll now tackle real data, rather than simulated data, and answer some relevant real-world business problems using the data.**"
   ]
  },
  {
   "cell_type": "markdown",
   "metadata": {},
   "source": [
    "## Hospital medical charges"
   ]
  },
  {
   "cell_type": "markdown",
   "metadata": {},
   "source": [
    "Imagine that a hospital has hired you as their data scientist. An administrator is working on the hospital's business operations plan and needs you to help them answer some business questions. \n",
    "\n",
    "In this assignment notebook, you're going to use frequentist statistical inference on a data sample to answer the questions:\n",
    "* has the hospital's revenue stream fallen below a key threshold?\n",
    "* are patients with insurance really charged different amounts than those without?\n",
    "\n",
    "Answering that last question with a frequentist approach makes some assumptions, and requires some knowledge, about the two groups."
   ]
  },
  {
   "cell_type": "markdown",
   "metadata": {},
   "source": [
    "We are going to use some data on medical charges obtained from [Kaggle](https://www.kaggle.com/easonlai/sample-insurance-claim-prediction-dataset). \n",
    "\n",
    "For the purposes of this exercise, assume the observations are the result of random sampling from our single hospital. Recall that in the previous assignment, we introduced the Central Limit Theorem (CLT), and its consequence that the distributions of sample statistics approach a normal distribution as $n$ increases. The amazing thing about this is that it applies to the sampling distributions of statistics that have been calculated from even highly non-normal distributions of data! Recall, also, that hypothesis testing is very much based on making inferences about such sample statistics. You're going to rely heavily on the CLT to apply frequentist (parametric) tests to answer the questions in this notebook."
   ]
  },
  {
   "cell_type": "code",
   "execution_count": 4,
   "metadata": {},
   "outputs": [],
   "source": [
    "import pandas as pd\n",
    "import numpy as np\n",
    "import matplotlib.pyplot as plt\n",
    "from scipy.stats import t\n",
    "from numpy.random import seed\n",
    "medical = pd.read_csv('../Frequentist Case Study/insurance2.csv')"
   ]
  },
  {
   "cell_type": "code",
   "execution_count": 5,
   "metadata": {},
   "outputs": [
    {
     "data": {
      "text/plain": [
       "(1338, 8)"
      ]
     },
     "execution_count": 5,
     "metadata": {},
     "output_type": "execute_result"
    }
   ],
   "source": [
    "medical.shape"
   ]
  },
  {
   "cell_type": "code",
   "execution_count": 6,
   "metadata": {},
   "outputs": [
    {
     "data": {
      "text/html": [
       "<div>\n",
       "<style scoped>\n",
       "    .dataframe tbody tr th:only-of-type {\n",
       "        vertical-align: middle;\n",
       "    }\n",
       "\n",
       "    .dataframe tbody tr th {\n",
       "        vertical-align: top;\n",
       "    }\n",
       "\n",
       "    .dataframe thead th {\n",
       "        text-align: right;\n",
       "    }\n",
       "</style>\n",
       "<table border=\"1\" class=\"dataframe\">\n",
       "  <thead>\n",
       "    <tr style=\"text-align: right;\">\n",
       "      <th></th>\n",
       "      <th>age</th>\n",
       "      <th>sex</th>\n",
       "      <th>bmi</th>\n",
       "      <th>children</th>\n",
       "      <th>smoker</th>\n",
       "      <th>region</th>\n",
       "      <th>charges</th>\n",
       "      <th>insuranceclaim</th>\n",
       "    </tr>\n",
       "  </thead>\n",
       "  <tbody>\n",
       "    <tr>\n",
       "      <th>0</th>\n",
       "      <td>19</td>\n",
       "      <td>0</td>\n",
       "      <td>27.900</td>\n",
       "      <td>0</td>\n",
       "      <td>1</td>\n",
       "      <td>3</td>\n",
       "      <td>16884.92400</td>\n",
       "      <td>1</td>\n",
       "    </tr>\n",
       "    <tr>\n",
       "      <th>1</th>\n",
       "      <td>18</td>\n",
       "      <td>1</td>\n",
       "      <td>33.770</td>\n",
       "      <td>1</td>\n",
       "      <td>0</td>\n",
       "      <td>2</td>\n",
       "      <td>1725.55230</td>\n",
       "      <td>1</td>\n",
       "    </tr>\n",
       "    <tr>\n",
       "      <th>2</th>\n",
       "      <td>28</td>\n",
       "      <td>1</td>\n",
       "      <td>33.000</td>\n",
       "      <td>3</td>\n",
       "      <td>0</td>\n",
       "      <td>2</td>\n",
       "      <td>4449.46200</td>\n",
       "      <td>0</td>\n",
       "    </tr>\n",
       "    <tr>\n",
       "      <th>3</th>\n",
       "      <td>33</td>\n",
       "      <td>1</td>\n",
       "      <td>22.705</td>\n",
       "      <td>0</td>\n",
       "      <td>0</td>\n",
       "      <td>1</td>\n",
       "      <td>21984.47061</td>\n",
       "      <td>0</td>\n",
       "    </tr>\n",
       "    <tr>\n",
       "      <th>4</th>\n",
       "      <td>32</td>\n",
       "      <td>1</td>\n",
       "      <td>28.880</td>\n",
       "      <td>0</td>\n",
       "      <td>0</td>\n",
       "      <td>1</td>\n",
       "      <td>3866.85520</td>\n",
       "      <td>1</td>\n",
       "    </tr>\n",
       "  </tbody>\n",
       "</table>\n",
       "</div>"
      ],
      "text/plain": [
       "   age  sex     bmi  children  smoker  region      charges  insuranceclaim\n",
       "0   19    0  27.900         0       1       3  16884.92400               1\n",
       "1   18    1  33.770         1       0       2   1725.55230               1\n",
       "2   28    1  33.000         3       0       2   4449.46200               0\n",
       "3   33    1  22.705         0       0       1  21984.47061               0\n",
       "4   32    1  28.880         0       0       1   3866.85520               1"
      ]
     },
     "execution_count": 6,
     "metadata": {},
     "output_type": "execute_result"
    }
   ],
   "source": [
    "medical.head()"
   ]
  },
  {
   "cell_type": "markdown",
   "metadata": {},
   "source": [
    "__Q1:__ Plot the histogram of charges and calculate the mean and standard deviation. Comment on the appropriateness of these statistics for the data."
   ]
  },
  {
   "cell_type": "markdown",
   "metadata": {},
   "source": [
    "__A:__  A majority of the data are stacked on the low end of the distribution with a couple relatively 'extreme' points on the high end. The mean may be pulled up disproporionally by these high data points. The median value may be more representative of the center of the data."
   ]
  },
  {
   "cell_type": "code",
   "execution_count": 11,
   "metadata": {},
   "outputs": [
    {
     "data": {
      "text/plain": [
       "<function matplotlib.pyplot.show(close=None, block=None)>"
      ]
     },
     "execution_count": 11,
     "metadata": {},
     "output_type": "execute_result"
    },
    {
     "data": {
      "image/png": "[encoded data removed]",
      "text/plain": [
       "<Figure size 432x288 with 1 Axes>"
      ]
     },
     "metadata": {
      "needs_background": "light"
     },
     "output_type": "display_data"
    }
   ],
   "source": [
    "plt.hist(medical['charges'])\n",
    "plt.xlabel('Charges')\n",
    "plt.ylabel('Number of charges')\n",
    "plt.show"
   ]
  },
  {
   "cell_type": "code",
   "execution_count": 12,
   "metadata": {},
   "outputs": [
    {
     "name": "stdout",
     "output_type": "stream",
     "text": [
      "13270.422265141257\n",
      "12105.484975561605\n"
     ]
    }
   ],
   "source": [
    "mean = np.mean(medical['charges'])\n",
    "print(mean)\n",
    "std = np.std(medical['charges'])\n",
    "print(std)"
   ]
  },
  {
   "cell_type": "markdown",
   "metadata": {},
   "source": [
    "__Q2:__ The administrator is concerned that the actual average charge has fallen below 12,000, threatening the hospital's operational model. On the assumption that these data represent a random sample of charges, how would you justify that these data allow you to answer that question? And what would be the most appropriate frequentist test, of the ones discussed so far, to apply?"
   ]
  },
  {
   "cell_type": "markdown",
   "metadata": {},
   "source": [
    "__A:__  Even though the distribution is not normal, if we draw many random samples the distribution of the mean will be normally distributed. Therefore, we can make estimations of the mean with a fairly high degree of confidence given a large random sample. We will use the bootstrap to create a normal distribution of the mean."
   ]
  },
  {
   "cell_type": "markdown",
   "metadata": {},
   "source": [
    "__Q3:__ Given the nature of the administrator's concern, what is the appropriate confidence interval in this case? A ***one-sided*** or ***two-sided*** interval? (Refresh your understanding of this concept on p. 399 of the *AoS*). Calculate the critical value and the relevant 95% confidence interval for the mean, and comment on whether the administrator should be concerned."
   ]
  },
  {
   "cell_type": "markdown",
   "metadata": {},
   "source": [
    "__A:__"
   ]
  },
  {
   "cell_type": "code",
   "execution_count": 15,
   "metadata": {},
   "outputs": [],
   "source": [
    "def medical_sampler(n):\n",
    "    return np.random.choice(medical['charges'], n)"
   ]
  },
  {
   "cell_type": "code",
   "execution_count": 18,
   "metadata": {},
   "outputs": [
    {
     "data": {
      "text/plain": [
       "array([15543.0439912 , 14200.3148674 , 16737.1019418 , 13513.844976  ,\n",
       "       17150.6382466 , 12594.9937572 , 13730.6466716 , 15662.9111664 ,\n",
       "       12939.7188162 , 15249.3151886 , 14892.6167088 , 12357.6514346 ,\n",
       "       13079.0076916 , 12986.7295844 , 11519.4102086 , 11690.1381598 ,\n",
       "       12370.0490548 , 10279.74296958, 14855.7035686 , 13351.7265296 ,\n",
       "        8953.2128596 , 13559.250476  , 16102.3293778 , 12839.1447038 ,\n",
       "       13738.5002374 , 11429.5329108 , 11077.1363366 , 12151.7929588 ,\n",
       "       13049.2955786 , 15703.1736488 , 13185.6696476 , 13716.8189444 ,\n",
       "       15056.1480134 , 13080.8647964 , 14270.2800078 , 14766.6278482 ,\n",
       "       12414.5103058 , 12822.753469  , 15187.0440562 , 11930.7660676 ,\n",
       "       14082.5561576 , 12875.0182248 , 14912.2388634 , 11919.90774696,\n",
       "       14576.304905  , 15606.5656176 , 15816.1064992 , 14361.2223004 ,\n",
       "       11671.6052696 , 13616.8235452 , 12407.0593086 , 10162.3291998 ,\n",
       "       14756.6983516 , 12851.8616606 , 12899.5654568 , 14198.210306  ,\n",
       "       15214.12062   , 12055.112857  , 11069.5742842 , 14617.4847114 ,\n",
       "       15320.0326314 , 11450.2160228 , 14786.1772098 , 14339.5504558 ,\n",
       "       14760.267972  , 13066.6541068 , 11062.951475  , 11011.93156758,\n",
       "       10123.2365894 , 13654.484683  , 11643.6113788 , 13699.2341598 ,\n",
       "       15437.6417072 , 12451.9545572 , 14039.6107668 , 12773.236526  ,\n",
       "       10434.1613802 , 12084.1989588 , 11513.264016  , 12481.8825526 ,\n",
       "       11703.770406  , 12397.7824372 , 11427.6625374 , 14620.223427  ,\n",
       "       13402.4162946 , 15171.96553778, 15113.4925004 , 12161.6441912 ,\n",
       "       13093.2183246 ,  9672.9329894 , 10479.3265556 , 11676.7573074 ,\n",
       "       14304.5547094 , 15300.639507  , 14512.5529894 , 18345.1842686 ,\n",
       "       12003.6974582 , 12122.44513   , 11849.3137482 , 15171.3176968 ,\n",
       "       16053.775758  , 12602.353848  , 14317.2352928 , 12725.713665  ,\n",
       "       11051.74555458, 10373.8311994 , 13968.154405  , 14399.3139732 ,\n",
       "       12862.106955  , 12476.2731844 , 14773.3115732 , 13427.332374  ,\n",
       "       13437.9185798 , 10185.5961022 , 13726.9451322 , 13058.8558538 ,\n",
       "       11598.346328  , 11880.717034  , 13038.136572  , 12514.6121082 ,\n",
       "       14866.686834  , 14692.8984556 , 14918.6168182 , 12255.2554122 ,\n",
       "       12687.3166058 , 17665.0000798 , 13519.5324926 , 15821.539561  ,\n",
       "       11846.9587994 , 12634.9147008 , 11987.481074  , 12943.3299192 ,\n",
       "       14010.0408954 , 11086.640561  ,  9318.7105706 , 15382.570848  ,\n",
       "       12512.29981898, 11715.8094452 , 11798.9964998 , 15024.1388858 ,\n",
       "       12524.4972622 , 12854.6613658 , 12005.6596048 , 12360.0616886 ,\n",
       "       14920.7020932 , 11487.514365  , 14208.9487722 , 14266.3335698 ,\n",
       "       15086.6368862 , 16009.0481658 , 13894.4242714 , 10890.3446108 ,\n",
       "       12100.98931   , 12364.9300262 , 14600.312868  , 10623.1203478 ,\n",
       "       11905.7861108 , 12810.8486206 , 14103.8958352 , 10500.2603986 ,\n",
       "       11405.4935334 , 12990.0774074 , 13499.3645874 , 14647.6460742 ,\n",
       "       11905.808583  , 10603.6987062 , 14771.5888676 , 14445.7961772 ,\n",
       "       13524.7093678 , 13254.7331946 , 15584.2210418 , 13067.0540904 ,\n",
       "       14910.1513194 , 11132.8627976 , 14222.2560336 , 13642.5966518 ,\n",
       "       14873.6596386 , 11891.9846412 , 16163.8054652 , 14771.417806  ,\n",
       "       17261.7954746 , 14281.4325058 , 11419.2566532 , 13947.0319378 ,\n",
       "       14754.973389  , 17062.7333352 , 13647.6632692 , 12283.7271776 ,\n",
       "       14651.4037958 , 11424.4968684 , 12359.737829  , 13175.0860868 ,\n",
       "       11251.7727476 , 10463.1279806 , 13768.7077606 , 11606.060279  ,\n",
       "       12012.1307254 , 12509.54822418, 12644.2214198 , 13749.0647358 ,\n",
       "       12856.9995084 , 12351.5028976 , 12421.0309412 , 13978.8483392 ,\n",
       "       12791.8075506 , 12960.08575   , 13736.5351998 , 12763.6515998 ,\n",
       "       11155.2880662 , 12861.4888734 , 14883.59292498, 15305.0500668 ,\n",
       "       13856.567648  , 13792.1563624 , 13058.0142836 ,  9441.9952666 ,\n",
       "       15156.9086212 , 14184.352118  , 12428.0068172 , 10842.4010786 ,\n",
       "        9259.1684544 , 11899.1912008 , 19848.5710088 , 12302.8442474 ,\n",
       "       11151.0060144 , 13583.1202528 , 12532.1739954 , 14939.4741446 ,\n",
       "       14027.3300318 , 10513.6630174 , 14187.3134144 , 12252.8853776 ,\n",
       "       11573.4240428 , 13298.0052082 , 18821.5678092 , 13858.18041358,\n",
       "       12679.1260166 ,  9429.92218   , 12064.413929  , 10079.930711  ,\n",
       "       13391.558048  , 10912.3805146 , 11458.8414262 , 17083.660982  ,\n",
       "       14576.4038128 , 12724.3243688 , 12114.565454  , 11533.0234714 ,\n",
       "       15674.3161382 , 13522.5271646 , 10783.1201472 , 15423.7504806 ,\n",
       "       14347.5056004 , 15141.9625164 , 15098.189464  , 11687.3039924 ,\n",
       "       14484.935998  , 11199.0725844 , 12759.984029  , 13668.2187552 ,\n",
       "       12993.9187104 , 14955.0542922 , 12436.931816  , 13322.7344652 ,\n",
       "       14454.4409314 , 11162.7974642 , 14111.9609752 , 13227.8450882 ,\n",
       "       15626.0745198 , 15803.870983  , 15006.3847862 , 12256.1700384 ,\n",
       "       11691.8341076 , 14908.64731258, 15417.12079   , 11804.8353366 ,\n",
       "       11721.551207  , 13392.2506842 , 14478.5337982 , 11692.0222722 ,\n",
       "       18154.5577456 , 12675.3357924 , 15767.9494588 , 11836.6567222 ,\n",
       "       14565.5491202 , 17409.5448586 , 13516.5704286 , 13375.8820602 ,\n",
       "       13941.3926554 , 10592.8528066 , 11136.4670544 , 13462.256085  ,\n",
       "       11073.004533  , 17079.7274348 , 12617.4933162 , 12063.3040402 ,\n",
       "       13487.5114792 , 15090.3450158 , 12373.9119836 , 13241.9814834 ,\n",
       "       13774.61721858,  9103.7764072 , 11624.3973074 , 15931.3619192 ,\n",
       "       15038.7112584 , 12494.6182704 , 11056.17682118, 15880.4620976 ,\n",
       "       13384.6608034 , 11287.0211714 , 14649.273539  , 15561.7016244 ,\n",
       "       13863.013273  , 13753.3811166 , 15030.6650634 , 13827.9536778 ,\n",
       "       13203.988424  , 14371.1262104 , 12658.9635542 , 15213.9577168 ,\n",
       "        8597.058409  , 15153.9432314 , 11936.7442372 , 10877.1787922 ,\n",
       "       12286.0407492 , 11266.5975432 , 14414.9954158 , 15783.7818358 ,\n",
       "       12092.645096  , 13450.5613332 , 10456.3811866 , 13545.2873662 ,\n",
       "       14358.4428478 , 13745.0373956 , 12881.2437412 , 12559.5924762 ,\n",
       "       13441.2403814 , 14007.19592498, 15278.3071544 , 11156.0765654 ,\n",
       "       14366.6251074 , 13706.9164598 , 13021.6718666 , 10607.2422446 ,\n",
       "       15815.9601028 , 13096.8277972 ,  9341.3756448 , 12370.539732  ,\n",
       "       12226.3110264 , 14209.1306748 , 13703.9301878 , 12834.4825584 ,\n",
       "       12798.1090218 , 15058.4443958 , 13211.2405866 , 11025.4487618 ,\n",
       "       13925.6115702 , 11400.1570842 , 12372.1020498 , 12124.8564638 ,\n",
       "       13609.4504356 , 13900.3020644 , 12110.6815874 , 13010.4968152 ,\n",
       "       10997.2053664 , 12224.315877  , 12954.3204842 , 15936.6953236 ,\n",
       "       11622.6429946 , 13391.9213982 , 15163.650646  , 10952.8198908 ,\n",
       "       14031.0560074 , 15734.6980244 , 14698.8729124 , 14744.7445038 ,\n",
       "       11411.0819958 , 13844.971114  , 12510.3088518 , 15521.9028236 ,\n",
       "       16311.711586  , 13110.3933624 , 14180.8980588 , 14036.0513892 ,\n",
       "       14776.66459   , 13800.7935714 , 13497.0594202 , 13979.8413282 ,\n",
       "       13825.71207098, 11444.864293  , 13141.3294664 , 14540.3497968 ,\n",
       "       13507.6276176 , 14991.9999144 , 14623.7232142 , 12785.6293436 ,\n",
       "       15542.3758388 , 10857.267752  , 14490.05331   , 13557.4657576 ,\n",
       "       14101.5679376 , 13767.902338  , 16258.1993902 , 15627.2757274 ,\n",
       "       11951.2071714 , 13684.087847  , 14335.7651752 , 17043.7718436 ,\n",
       "        9391.1978688 , 12755.6138942 , 14109.5577264 , 11681.7311128 ,\n",
       "       13233.987555  , 18357.491438  , 10810.8088848 , 13407.5126862 ,\n",
       "       13316.6825996 , 14790.3193328 , 12548.979247  , 13882.8172298 ,\n",
       "       14357.0682896 , 12761.4905872 , 13068.7645628 , 13537.2761416 ,\n",
       "       13857.5820026 , 13709.0027148 , 14766.2988102 , 16094.9810316 ,\n",
       "       10322.8279074 , 12816.1942958 , 14591.7489128 , 12029.4573068 ,\n",
       "       12647.5539788 , 18067.3024046 , 16804.0849582 , 15878.27043798,\n",
       "       15493.9238736 , 13994.433651  , 15316.145326  , 14863.8034676 ,\n",
       "       13546.3068624 , 13949.9337158 , 13766.7057504 , 13790.9852142 ,\n",
       "       13651.4536664 , 13337.9357128 , 13724.7575516 , 12279.7393768 ,\n",
       "       13111.836786  , 14900.1467712 , 15659.2740516 , 13500.350437  ,\n",
       "       14269.7552206 , 12024.7789556 , 11367.8747066 , 13829.3247218 ,\n",
       "       14113.838154  , 11100.8046786 , 14882.4698244 , 13779.896206  ,\n",
       "       11727.5723404 , 10112.7833234 , 12818.75735538, 14621.5379012 ,\n",
       "        9392.688868  , 13248.1616174 , 12059.4045312 , 11133.7946144 ,\n",
       "       10521.8276844 , 11284.8958934 , 11644.847151  , 15299.12823   ,\n",
       "       14957.6472832 , 12356.7333398 , 13668.8569548 , 10268.1094076 ,\n",
       "       19978.4033032 , 13086.0612102 , 13044.8409784 , 13130.6243696 ,\n",
       "       12651.2767454 , 15688.390097  , 12699.0274566 , 13382.10362178,\n",
       "       15355.459304  , 10109.2675718 , 14876.640923  , 14913.1436154 ,\n",
       "        9311.66029   , 11102.2644292 , 14007.8077942 , 12567.9882136 ,\n",
       "       13115.2116822 ,  9564.2810886 , 15762.6982946 , 14705.5909954 ,\n",
       "       13499.9970486 , 10406.92463   , 12606.7869226 , 13066.1525368 ,\n",
       "       13960.2899514 , 15962.7724068 , 11815.096115  , 13762.0116454 ,\n",
       "       11321.9630384 , 11118.2988438 , 16025.4701604 , 10005.8863442 ,\n",
       "       17844.042595  , 15358.804943  , 10918.2704306 , 15720.1179034 ,\n",
       "       12991.535518  , 13788.148834  , 14518.8988244 , 13330.1472072 ,\n",
       "       12277.5436312 , 14003.5119858 , 11208.283044  , 16599.3557514 ,\n",
       "       12922.1795232 , 10961.7060554 , 10832.8706778 , 16707.570216  ,\n",
       "       17919.8399716 , 11439.5582478 , 12130.1808402 , 17142.8569378 ,\n",
       "       12607.1172902 , 12447.0052256 , 13711.8082684 , 12988.612174  ,\n",
       "       12702.2181378 , 16410.779456  , 13544.443848  , 10299.081398  ,\n",
       "       14391.8598626 , 12053.716998  , 12894.3967348 , 11555.8721016 ,\n",
       "       14357.5446732 , 10771.8153776 , 12268.4359776 , 11204.7764772 ,\n",
       "       16813.9868556 , 12165.9264084 , 12143.35877938, 13234.4260072 ,\n",
       "       12969.7210468 , 13373.4994022 , 11367.8207244 , 12502.49493478,\n",
       "       16772.7322584 , 11438.9328354 , 12289.99735078, 13354.3501496 ,\n",
       "       12533.398414  , 13267.4378822 , 14329.8149906 , 12789.6338786 ,\n",
       "       13710.5387164 , 15114.8445086 , 14470.0981132 , 15770.3310488 ,\n",
       "       13340.5304366 , 13426.868227  , 11119.844946  , 12831.0345874 ,\n",
       "       10090.7263194 , 14705.8591222 , 10928.1990126 , 15136.087103  ,\n",
       "       11476.861962  , 12686.940473  , 13882.736591  , 15575.3683696 ,\n",
       "       13946.2527516 , 15387.2301746 , 14151.3963636 , 16943.2320544 ,\n",
       "       13129.056408  ,  9848.6398324 , 11733.8250756 , 11713.8198874 ,\n",
       "       11616.99862658, 14253.429764  , 12344.1557844 , 13680.669794  ,\n",
       "       13897.8420494 , 12155.8665366 , 10538.2757954 , 14958.682732  ,\n",
       "       14388.7111354 , 10795.1664256 , 14363.7021524 , 12694.203425  ,\n",
       "        8736.6238432 , 10379.0850446 , 13239.0995792 , 16263.6977288 ,\n",
       "       19308.6959756 , 11503.9796436 , 14135.5380812 , 12902.04811   ,\n",
       "       11914.997819  , 16472.3683606 , 11095.3209812 , 15645.7562248 ,\n",
       "       15329.563063  , 11721.9717548 , 13202.2758526 , 10608.2125992 ,\n",
       "       10677.396052  , 14435.4651322 , 13069.9553854 , 12566.0951888 ,\n",
       "       15908.656034  , 12931.8949866 , 12712.464077  , 13695.095604  ,\n",
       "       13085.401388  , 10149.0403372 , 17952.715048  , 12513.2851366 ,\n",
       "       15485.071276  , 11925.2128804 , 12175.9498436 , 11253.8794248 ,\n",
       "       14316.7495568 ,  9582.7763826 , 15396.6780082 , 10909.3204412 ,\n",
       "       13186.5648116 , 14784.8039206 , 12100.5155368 , 12685.176036  ,\n",
       "       12708.36259978, 13270.413219  , 12321.425926  , 10656.5350508 ,\n",
       "        9113.2991944 , 13667.8159206 , 13275.8969832 , 11652.20623918,\n",
       "       12537.2386872 , 12378.888855  , 11453.6346828 , 13655.20335078,\n",
       "       12813.0886702 , 12533.3468522 , 11051.0514626 , 11871.2566998 ,\n",
       "       13734.5141018 , 12719.730356  , 14426.9213022 , 15482.9810716 ,\n",
       "       12286.2049558 , 13693.1742538 , 12106.3050344 , 14095.817083  ,\n",
       "       11080.0345808 , 12927.2496236 , 15343.414912  , 10804.6207464 ,\n",
       "       13766.2154674 , 12793.8347464 , 12582.5947718 , 14106.7709978 ,\n",
       "       12156.5027862 , 13541.6963692 , 12664.696489  , 10991.587614  ,\n",
       "        9968.7230114 , 11307.3795472 , 10613.8250994 , 11957.9786302 ,\n",
       "       13527.376743  , 16957.5359676 , 11842.0043926 , 13844.9838592 ,\n",
       "       13752.7544762 , 13019.5495928 , 11885.009401  , 15358.4841192 ,\n",
       "       11692.4850348 , 14970.3508718 , 12682.272138  , 12193.996594  ,\n",
       "       12683.0294818 , 11218.592651  , 10786.4673082 , 12191.7454114 ,\n",
       "       11774.0496626 , 14519.2961578 , 13428.7292134 , 15711.8318786 ,\n",
       "       11440.9871118 , 13863.6489684 , 11779.9084976 , 12565.9562196 ,\n",
       "       14332.65707   , 13766.738123  , 10886.3039034 , 10363.2846358 ,\n",
       "       15021.11061   , 11342.907082  , 12623.267726  , 12588.8129586 ,\n",
       "       11209.5858106 , 13759.066063  , 13010.1780452 , 13657.7994658 ,\n",
       "       14868.0644182 , 12376.9705492 , 12814.2667998 , 13257.301427  ,\n",
       "       15468.0412782 , 10379.7920552 , 15820.0448672 , 11144.5258324 ,\n",
       "       13320.5712448 , 14337.7155808 , 12725.8190378 , 13482.4716888 ,\n",
       "       13891.4703832 ,  9469.1535146 , 11684.7141386 , 13668.5072754 ,\n",
       "       13728.631762  , 14791.854365  , 15166.7686508 , 13364.74208538,\n",
       "       17525.4838778 , 10358.0912996 , 11108.7049046 ,  9583.9105204 ,\n",
       "       12414.612781  , 17204.4976884 , 11002.8893518 , 11910.6945682 ,\n",
       "       13618.1289264 , 14679.424824  , 13426.4315838 , 13960.5243074 ,\n",
       "       11405.5979262 , 14487.314966  , 12338.6762178 , 13310.3756842 ,\n",
       "       13312.7611896 , 13815.711777  , 14001.6551688 , 13965.7989662 ,\n",
       "       10920.4141258 , 12607.5243222 , 11899.80116358, 13772.0934344 ,\n",
       "       10780.1669538 , 14510.857084  , 14911.543784  , 13712.3894348 ,\n",
       "       12671.7293394 , 13827.8143062 , 13578.7184286 , 14016.5171504 ,\n",
       "       15404.8525464 , 13778.8148556 , 11031.4935542 , 16479.8704128 ,\n",
       "       13512.28685   , 12804.646596  , 14419.3634222 , 10703.3324868 ,\n",
       "       17099.692664  , 12738.3858346 , 11568.6960694 , 13362.6481694 ,\n",
       "       16883.3329242 , 15283.4045572 , 10164.4937548 , 12921.1197538 ,\n",
       "       13748.65573238, 12072.2067196 , 13261.4837252 , 12703.356203  ,\n",
       "       14023.8795264 , 12689.5522854 , 15041.0315392 , 16001.6666504 ,\n",
       "       13486.744378  , 14770.232491  , 13737.7812932 , 11861.6053968 ,\n",
       "       12050.2318846 , 12298.5678044 , 13445.4007276 , 13564.5439074 ,\n",
       "       14467.111597  , 11245.1998558 , 17305.664337  , 14122.8494062 ,\n",
       "       15473.2303366 , 12239.9933482 , 12703.218831  , 11095.1784394 ,\n",
       "       12116.1862576 , 13281.6646536 , 13247.6075878 , 11630.6797858 ,\n",
       "       11643.6430222 , 10211.089219  , 13067.8318028 , 11638.1803878 ,\n",
       "       12334.4970598 , 15024.8167912 , 13882.4168498 , 15270.1539032 ,\n",
       "       12910.354343  , 13382.3788458 , 10634.3688214 , 17445.8653738 ,\n",
       "        9422.7324088 , 13422.969669  , 12351.1667916 , 14691.877253  ,\n",
       "       11917.2431692 , 12458.165855  , 15330.9859558 , 13559.778034  ,\n",
       "       11107.20257358, 15203.1439836 , 15916.6130702 , 12505.3959984 ,\n",
       "       11760.1199692 , 15002.6855596 , 13991.333645  , 14698.8292314 ,\n",
       "       15195.9817466 , 11806.1357978 , 12401.2563728 , 12959.1569942 ,\n",
       "       12152.8310254 , 14628.0365284 , 14350.9646768 , 12033.8887958 ,\n",
       "       15010.627     , 13923.0106738 , 14078.0496326 , 14922.856556  ,\n",
       "       14929.8750372 , 14069.9221246 , 13790.5340024 , 17443.2918216 ,\n",
       "       13539.4741184 , 15469.183017  , 13673.3664412 , 12978.0254338 ,\n",
       "       13426.8432084 , 12618.2532448 , 12747.309273  , 16219.61517238,\n",
       "       13078.6146774 , 11658.0323116 , 13319.4159602 , 12678.031342  ,\n",
       "       12288.357604  , 14676.2355816 , 12431.2596152 , 13290.6145362 ,\n",
       "       15073.8316542 , 11376.3375118 , 16154.1546722 , 13235.2978426 ,\n",
       "       13613.983756  , 16812.4907938 , 14327.845075  , 14249.93118538,\n",
       "       14837.4601884 , 13407.5929524 , 13290.3731506 , 15374.5472394 ,\n",
       "       11909.0264872 , 16718.3496458 , 14022.4700316 , 13909.7720296 ,\n",
       "       10992.64466018, 13799.19845   , 12415.54497918, 15533.6116678 ,\n",
       "       14464.72362698, 15709.5966158 ,  9785.2903786 , 12994.114275  ,\n",
       "       14287.923779  , 11586.9446104 , 12501.1060132 , 10417.6143632 ,\n",
       "       13975.9760454 , 14929.5179016 , 15169.8083168 , 14069.3162766 ,\n",
       "       12537.7518464 , 14643.6114484 , 12855.0466028 , 10345.3165052 ,\n",
       "       16042.8961476 , 13115.3844534 , 10914.457006  , 11382.8419362 ,\n",
       "       16480.6946004 , 11799.8011428 , 11707.06098   , 12938.8746068 ,\n",
       "       12963.8520776 , 17272.8880772 , 15903.3342664 , 13284.4506288 ,\n",
       "       15374.62119458, 14969.341965  , 11397.050597  , 14354.8062572 ,\n",
       "       13703.6823316 , 14083.9440784 , 13230.3407754 , 14630.7166866 ,\n",
       "       11321.7003262 , 14708.980953  , 12446.9164862 , 17376.4187492 ,\n",
       "       13331.2985548 , 11429.2173592 , 13728.6824532 , 10243.9323706 ,\n",
       "       13829.2810022 , 12989.6267384 , 13494.2086806 , 11597.4345318 ,\n",
       "       11966.7563058 , 13680.2150366 , 13311.5802188 , 13122.7726776 ,\n",
       "       12830.1955054 , 13686.3787888 , 11760.1055328 , 14799.1309074 ,\n",
       "       11648.8008874 , 12428.96517398, 15797.9096164 , 12361.169354  ,\n",
       "       14843.5508528 , 10840.5705276 , 16980.1254808 , 14148.7261234 ,\n",
       "       15228.0846216 , 14683.45572718, 16351.102787  , 14499.93504   ,\n",
       "       14095.2849198 , 13955.3889594 , 10930.5435376 , 12015.5985822 ,\n",
       "       12074.7003476 , 11814.4083484 , 10041.3173282 , 16156.2652634 ,\n",
       "       13362.341873  , 13393.5728624 , 13722.5856276 , 14611.2379068 ,\n",
       "       14413.02256   , 11865.95696   , 12160.24998058, 10183.5092704 ,\n",
       "       11402.9482138 , 15583.9358576 , 12966.2771272 , 17768.03852758,\n",
       "       12220.4319676 , 13847.8362728 , 11017.8470956 , 13991.095187  ,\n",
       "       11007.9302216 , 10939.7233386 , 15683.7703488 , 13228.7968416 ,\n",
       "       13127.3872208 , 12602.8385222 , 10142.749657  , 16222.4748898 ,\n",
       "       10138.90182   , 14590.092608  , 12602.255455  , 14621.8544158 ,\n",
       "       13668.2364604 , 13671.7328338 , 12574.5618412 , 13137.752181  ,\n",
       "       11433.0648418 , 11638.5369002 , 14144.546984  , 10035.8883808 ])"
      ]
     },
     "execution_count": 18,
     "metadata": {},
     "output_type": "execute_result"
    }
   ],
   "source": [
    "means = np.empty(1000)\n",
    "\n",
    "for i in range(1000):\n",
    "    means[i] = np.mean(medical_sampler(50))\n",
    "\n",
    "means"
   ]
  },
  {
   "cell_type": "code",
   "execution_count": 19,
   "metadata": {},
   "outputs": [
    {
     "data": {
      "text/plain": [
       "(array([ 19.,  61., 165., 235., 241., 171.,  67.,  29.,   9.,   3.]),\n",
       " array([ 8597.058409  ,  9735.19289842, 10873.32738784, 12011.46187726,\n",
       "        13149.59636668, 14287.7308561 , 15425.86534552, 16563.99983494,\n",
       "        17702.13432436, 18840.26881378, 19978.4033032 ]),\n",
       " <BarContainer object of 10 artists>)"
      ]
     },
     "execution_count": 19,
     "metadata": {},
     "output_type": "execute_result"
    },
    {
     "data": {
      "image/png": "[encoded data removed]",
      "text/plain": [
       "<Figure size 432x288 with 1 Axes>"
      ]
     },
     "metadata": {
      "needs_background": "light"
     },
     "output_type": "display_data"
    }
   ],
   "source": [
    "plt.hist(means)"
   ]
  },
  {
   "cell_type": "code",
   "execution_count": 20,
   "metadata": {},
   "outputs": [],
   "source": [
    "mean_of_means = np.mean(means)\n",
    "std_of_means = np.std(means)"
   ]
  },
  {
   "cell_type": "code",
   "execution_count": 29,
   "metadata": {},
   "outputs": [
    {
     "data": {
      "text/plain": [
       "-0.7147068823342306"
      ]
     },
     "execution_count": 29,
     "metadata": {},
     "output_type": "execute_result"
    }
   ],
   "source": [
    "z = (12000-mean_of_means)/std_of_means\n",
    "z"
   ]
  },
  {
   "cell_type": "markdown",
   "metadata": {},
   "source": [
    "23.89% chance that mean is less than 12,000"
   ]
  },
  {
   "cell_type": "code",
   "execution_count": 27,
   "metadata": {},
   "outputs": [],
   "source": [
    "import scipy.stats\n",
    "\n",
    "def mean_confidence_interval(data, confidence=0.95):\n",
    "    a = 1.0 * np.array(data)\n",
    "    n = len(a)\n",
    "    m, se = np.mean(a), scipy.stats.sem(a)\n",
    "    h = se * scipy.stats.t.ppf((1 + confidence) / 2., n-1)\n",
    "    return m, m-h, m+h"
   ]
  },
  {
   "cell_type": "code",
   "execution_count": 28,
   "metadata": {},
   "outputs": [
    {
     "data": {
      "text/plain": [
       "(13278.19030182302, 13167.155431516083, 13389.225172129958)"
      ]
     },
     "execution_count": 28,
     "metadata": {},
     "output_type": "execute_result"
    }
   ],
   "source": [
    "mean_confidence_interval(means)"
   ]
  },
  {
   "cell_type": "markdown",
   "metadata": {},
   "source": [
    "As long as the sample is representative, it is reasonable to suppose that the administrators have little to be concerned about. Our bootstrap revealed a 95% confidence interval that the mean is between $13,278 and $13,389"
   ]
  },
  {
   "cell_type": "markdown",
   "metadata": {},
   "source": [
    "The administrator then wants to know whether people with insurance really are charged a different amount to those without.\n",
    "\n",
    "__Q4:__ State the null and alternative hypothesis here. Use the _t_-test for the difference between means, where the pooled standard deviation of the two groups is given by:\n",
    "\\begin{equation}\n",
    "s_p = \\sqrt{\\frac{(n_0 - 1)s^2_0 + (n_1 - 1)s^2_1}{n_0 + n_1 - 2}}\n",
    "\\end{equation}\n",
    "\n",
    "and the *t*-test statistic is then given by:\n",
    "\n",
    "\\begin{equation}\n",
    "t = \\frac{\\bar{x}_0 - \\bar{x}_1}{s_p \\sqrt{1/n_0 + 1/n_1}}.\n",
    "\\end{equation}\n",
    "\n",
    "(If you need some reminding of the general definition of ***t-statistic***, check out the definition on p. 404 of *AoS*). \n",
    "\n",
    "What assumption about the variances of the two groups are we making here?"
   ]
  },
  {
   "cell_type": "markdown",
   "metadata": {},
   "source": [
    "The null hypothesis is that there is no difference between the amount paid by those who are insured and those who are not.\n",
    "The alternative hypothesis is that charges are different according to insurance status."
   ]
  },
  {
   "cell_type": "markdown",
   "metadata": {},
   "source": [
    "We are assuming that the variance of the two groups is equal"
   ]
  },
  {
   "cell_type": "markdown",
   "metadata": {},
   "source": [
    "__A:__"
   ]
  },
  {
   "cell_type": "markdown",
   "metadata": {},
   "source": [
    "__Q5:__ Perform this hypothesis test both manually, using the above formulae, and then using the appropriate function from [scipy.stats](https://docs.scipy.org/doc/scipy/reference/stats.html#statistical-tests) (hint, you're looking for a function to perform a _t_-test on two independent samples). For the manual approach, calculate the value of the test statistic and then its probability (the p-value). Verify you get the same results from both."
   ]
  },
  {
   "cell_type": "markdown",
   "metadata": {},
   "source": [
    "__A:__ "
   ]
  },
  {
   "cell_type": "code",
   "execution_count": 57,
   "metadata": {
    "scrolled": true
   },
   "outputs": [
    {
     "data": {
      "text/plain": [
       "16423.928276537663"
      ]
     },
     "execution_count": 57,
     "metadata": {},
     "output_type": "execute_result"
    }
   ],
   "source": [
    "med_df = pd.DataFrame(medical)\n",
    "\n",
    "insured = med_df.loc[med_df['insuranceclaim']==1]\n",
    "insured['charges'].mean()"
   ]
  },
  {
   "cell_type": "code",
   "execution_count": 58,
   "metadata": {},
   "outputs": [
    {
     "data": {
      "text/plain": [
       "8821.421892306294"
      ]
     },
     "execution_count": 58,
     "metadata": {},
     "output_type": "execute_result"
    }
   ],
   "source": [
    "uninsured = med_df.loc[med_df['insuranceclaim']==0]\n",
    "uninsured['charges'].mean()"
   ]
  },
  {
   "cell_type": "code",
   "execution_count": 69,
   "metadata": {},
   "outputs": [
    {
     "data": {
      "text/plain": [
       "11527.791037268882"
      ]
     },
     "execution_count": 69,
     "metadata": {},
     "output_type": "execute_result"
    }
   ],
   "source": [
    "# a =(n0-1)s02, b = (n1-1)s12, c = n0+n1-2\n",
    "a = len(insured-1)*(insured['charges'].std() **2)\n",
    "b = len(uninsured-1)* (uninsured['charges'].std()**2)\n",
    "c = len(insured) + len(uninsured) - 2\n",
    "\n",
    "sp = np.sqrt((a+b)/c)\n",
    "sp"
   ]
  },
  {
   "cell_type": "code",
   "execution_count": 68,
   "metadata": {},
   "outputs": [
    {
     "data": {
      "text/plain": [
       "11.885296320998494"
      ]
     },
     "execution_count": 68,
     "metadata": {},
     "output_type": "execute_result"
    }
   ],
   "source": [
    "m = insured['charges'].mean() - uninsured['charges'].mean()\n",
    "denom = sp* np.sqrt((1/len(insured))+ (1/len(uninsured)))\n",
    "\n",
    "t = m/denom\n",
    "t"
   ]
  },
  {
   "cell_type": "code",
   "execution_count": 67,
   "metadata": {},
   "outputs": [
    {
     "data": {
      "text/plain": [
       "Ttest_indResult(statistic=11.893299030876712, pvalue=4.461230231620717e-31)"
      ]
     },
     "execution_count": 67,
     "metadata": {},
     "output_type": "execute_result"
    }
   ],
   "source": [
    "scipy.stats.ttest_ind(insured['charges'], uninsured['charges'])"
   ]
  },
  {
   "cell_type": "code",
   "execution_count": null,
   "metadata": {},
   "outputs": [],
   "source": []
  },
  {
   "cell_type": "code",
   "execution_count": null,
   "metadata": {},
   "outputs": [],
   "source": []
  },
  {
   "cell_type": "markdown",
   "metadata": {},
   "source": [
    "Congratulations! Hopefully you got the exact same numerical results. This shows that you correctly calculated the numbers by hand. Secondly, you used the correct function and saw that it's much easier to use. All you need to do is pass your data to it."
   ]
  },
  {
   "cell_type": "markdown",
   "metadata": {},
   "source": [
    "__Q6:__ Conceptual question: look through the documentation for statistical test functions in scipy.stats. You'll see the above _t_-test for a sample, but can you see an equivalent one for performing a *z*-test from a sample? Comment on your answer."
   ]
  },
  {
   "cell_type": "markdown",
   "metadata": {},
   "source": [
    "__A:__ ttest_1samp(a, popmean[, axis, nan_policy, …])\n",
    "\n",
    "This will give you the pvalue for a single sample"
   ]
  },
  {
   "cell_type": "markdown",
   "metadata": {},
   "source": [
    "## Learning outcomes"
   ]
  },
  {
   "cell_type": "markdown",
   "metadata": {},
   "source": [
    "Having completed this project notebook, you now have good hands-on experience:\n",
    "* using the central limit theorem to help you apply frequentist techniques to answer questions that pertain to very non-normally distributed data from the real world\n",
    "* performing inference using such data to answer business questions\n",
    "* forming a hypothesis and framing the null and alternative hypotheses\n",
    "* testing this using a _t_-test"
   ]
  }
 ],
 "metadata": {
  "kernelspec": {
   "display_name": "Python 3",
   "language": "python",
   "name": "python3"
  },
  "language_info": {
   "codemirror_mode": {
    "name": "ipython",
    "version": 3
   },
   "file_extension": ".py",
   "mimetype": "text/x-python",
   "name": "python",
   "nbconvert_exporter": "python",
   "pygments_lexer": "ipython3",
   "version": "3.7.6"
  }
 },
 "nbformat": 4,
 "nbformat_minor": 2
}
